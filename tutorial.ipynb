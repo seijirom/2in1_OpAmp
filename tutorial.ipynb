{
 "cells": [
  {
   "cell_type": "code",
   "execution_count": 1,
   "metadata": {},
   "outputs": [
    {
     "name": "stdout",
     "output_type": "stream",
     "text": [
      "Hello Jupyter Notebook and LTspice\n"
     ]
    }
   ],
   "source": [
    "puts 'Hello Jupyter Notebook and LTspice'\n"
   ]
  },
  {
   "cell_type": "code",
   "execution_count": 2,
   "metadata": {},
   "outputs": [
    {
     "data": {
      "text/plain": [
       "true"
      ]
     },
     "execution_count": 2,
     "metadata": {},
     "output_type": "execute_result"
    }
   ],
   "source": [
    "load 'j_pack.rb'"
   ]
  },
  {
   "cell_type": "code",
   "execution_count": 3,
   "metadata": {
    "scrolled": true
   },
   "outputs": [
    {
     "name": "stdout",
     "output_type": "stream",
     "text": [
      "elements updated from amp2_tb.asc!\n"
     ]
    },
    {
     "data": {
      "text/plain": [
       "#<LTspiceControl:0x0000000002bdc4f8 @default=[0, 0], @file=\"amp2_tb.asc\", @elements={nil=>[{:control=>\";tran 0 40u 0\", :lineno=>61}], \"V3\"=>{:value=>\"2.5\", :type=>\"voltage\", :lineno=>33}, \"X1\"=>{:value=>nil, :type=>\"Opamp3ureiauto\", :lineno=>0}, \"V1_1\"=>{:value=>\"\\\"\\\"\", :type=>\"voltage\", :lineno=>40}, \"V1_2\"=>{:value=>\"AC 1 0\", :type=>\"voltage\", :lineno=>41}, \"V2\"=>{:value=>\"2.5\", :type=>\"voltage\", :lineno=>49}, \"R1\"=>{:value=>\"100k\", :type=>\"res\", :lineno=>54}, \"R2\"=>{:value=>\"1k\", :type=>\"res\", :lineno=>59}, \"include\"=>[{:control=>\".include models/OR1_mos\", :lineno=>60}], \"ac\"=>[{:control=>\".ac oct 10 1 100Meg\", :lineno=>62}]}, @mtime=2021-09-24 12:15:17 +0900>"
      ]
     },
     "execution_count": 3,
     "metadata": {},
     "output_type": "execute_result"
    }
   ],
   "source": [
    "ckt = LTspiceControl.new 'amp2_tb.asc'"
   ]
  },
  {
   "cell_type": "code",
   "execution_count": 4,
   "metadata": {},
   "outputs": [
    {
     "name": "stdout",
     "output_type": "stream",
     "text": [
      "elements updated from Opamp3ureiauto.asc!\n"
     ]
    },
    {
     "data": {
      "text/plain": [
       "#<LTspiceControl:0x0000000002c34bd0 @default=[0, 0], @file=\"Opamp3ureiauto.asc\", @elements={nil=>{:value=>nil, :type=>nil, :lineno=>0}, \"M1\"=>{:value=>\"l=1u w=16u ad=3.5e-10 as=3.5e-10 pd=64e-6 ps=64e-6\", :type=>\"OR1LIB\\\\\\\\NMOS\", :lineno=>186}, \"M2\"=>{:value=>\"l=1u w=16u ad=3.5e-10 as=3.5e-10 pd=64e-6 ps=64e-6\", :type=>\"OR1LIB\\\\\\\\NMOS\", :lineno=>189}, \"M3\"=>{:value=>\"l=1u w=16u ad=3.5e-10 as=3.5e-10 pd=64e-6 ps=64e-6\", :type=>\"OR1LIB\\\\\\\\NMOS\", :lineno=>192}, \"M4\"=>{:value=>\"l=1u w=16u ad=3.5e-10 as=3.5e-10 pd=64e-6 ps=64e-6\", :type=>\"OR1LIB\\\\\\\\NMOS\", :lineno=>195}, \"M5\"=>{:value=>\"l=1u w=34u ad=7e-10 as=7e-10 pd=114e-6 ps=114e-6\", :type=>\"OR1LIB\\\\\\\\NMOS\", :lineno=>198}, \"M6\"=>{:value=>\"l=1u w=16u ad=3.5e-10 as=3.5e-10 pd=64e-6 ps=64e-6\", :type=>\"OR1LIB\\\\\\\\NMOS\", :lineno=>201}, \"M10\"=>{:value=>\"l=1u w=100u ad=2.1e-9 as=2.1e-9 pd=314e-6 ps=314e-6\", :type=>\"OR1LIB\\\\\\\\NMOS\", :lineno=>204}, \"M11\"=>{:value=>\"l=1u w=16u ad=3.5e-10 as=3.5e-10 pd=64e-6 ps=64e-6\", :type=>\"OR1LIB\\\\\\\\NMOS\", :lineno=>207}, \"M12\"=>{:value=>\"l=1u w=16u ad=3.5e-10 as=3.5e-10 pd=64e-6 ps=64e-6\", :type=>\"OR1LIB\\\\\\\\NMOS\", :lineno=>210}, \"M13\"=>{:value=>\"l=1u w=50u ad=1.05e-9 as=1.05e-9 pd=164e-6 ps=164e-6\", :type=>\"OR1LIB\\\\\\\\PMOS\", :lineno=>213}, \"M14\"=>{:value=>\"l=1u w=38u ad=5.25e-10 as=5.25e-10 pd=89e-6 ps=89e-6\", :type=>\"OR1LIB\\\\\\\\PMOS\", :lineno=>216}, \"M15\"=>{:value=>\"l=1u w=38u ad=5.25e-10 as=5.25e-10 pd=89e-6 ps=89e-6\", :type=>\"OR1LIB\\\\\\\\PMOS\", :lineno=>219}, \"M16\"=>{:value=>\"l=1u w=19u ad=5.25e-10 as=5.25e-10 pd=89e-6 ps=89e-6\", :type=>\"OR1LIB\\\\\\\\PMOS\", :lineno=>222}, \"M17\"=>{:value=>\"l=1u w=19u ad=5.25e-10 as=5.25e-10 pd=89e-6 ps=89e-6\", :type=>\"OR1LIB\\\\\\\\PMOS\", :lineno=>225}, \"M18\"=>{:value=>\"l=1u w=25u ad=5.25e-10 as=5.25e-10 pd=89e-6 ps=89e-6\", :type=>\"OR1LIB\\\\\\\\PMOS\", :lineno=>228}, \"M20\"=>{:value=>\"l=1u w=50u ad=1.05e-9 as=1.05e-9 pd=164e-6 ps=164e-6\", :type=>\"OR1LIB\\\\\\\\PMOS\", :lineno=>231}, \"M21\"=>{:value=>\"l=1u w=25u ad=5.25e-10 as=5.25e-10 pd=89e-6 ps=89e-6\", :type=>\"OR1LIB\\\\\\\\PMOS\", :lineno=>234}, \"M24\"=>{:value=>\"l=1u w=50u ad=1.05e-9 as=1.05e-9 pd=164e-6 ps=164e-6\", :type=>\"OR1LIB\\\\\\\\PMOS\", :lineno=>237}, \"M7\"=>{:value=>\"l=1u w=34u ad=7e-10 as=7e-10 pd=114e-6 ps=114e-6\", :type=>\"OR1LIB\\\\\\\\NMOS\", :lineno=>240}, \"R1\"=>{:value=>\"40k\", :type=>\"res\", :lineno=>243}, \"C1\"=>{:value=>\"1.0e-12\", :type=>\"cap\", :lineno=>248}, \"inc\"=>[{:control=>\".inc ./models/OR1_mos\", :lineno=>250}]}, @mtime=2021-09-24 12:15:18 +0900>"
      ]
     },
     "execution_count": 4,
     "metadata": {},
     "output_type": "execute_result"
    }
   ],
   "source": [
    "dut = LTspiceControl.new 'Opamp3ureiauto.asc'"
   ]
  },
  {
   "cell_type": "code",
   "execution_count": 5,
   "metadata": {},
   "outputs": [
    {
     "data": {
      "text/plain": [
       "[\"Opamp3ureiauto.asc\", \"amp_tb.asc\", \"PSRR_tb.asc\", \"2in1_tb1.asc\", \"2in1.asc\", \"opamp_k_niioka_20200903.asc\", \"Ishibe_test.asc\", \"CMRR_tb.asc\", \"Niioka_test.asc\", \"amp2_tb.asc\"]"
      ]
     },
     "execution_count": 5,
     "metadata": {},
     "output_type": "execute_result"
    }
   ],
   "source": [
    "Dir.glob('*.asc')"
   ]
  },
  {
   "cell_type": "code",
   "execution_count": 7,
   "metadata": {},
   "outputs": [
    {
     "name": "stdout",
     "output_type": "stream",
     "text": [
      "wine '/home/anagix/.wine/drive_c/Program Files/LTC/LTspiceXVII/XVIIx86.exe' 'amp2_tb.asc'\n",
      "elements updated from amp2_tb.asc!\n"
     ]
    },
    {
     "data": {
      "text/plain": [
       "{nil=>[{:control=>\";tran 0 40u 0\", :lineno=>61}], \"V3\"=>{:value=>\"2.5\", :type=>\"voltage\", :lineno=>33}, \"X1\"=>{:value=>nil, :type=>\"Opamp3ureiauto\", :lineno=>0}, \"V1_1\"=>{:value=>\"\\\"\\\"\", :type=>\"voltage\", :lineno=>40}, \"V1_2\"=>{:value=>\"AC 1 0\", :type=>\"voltage\", :lineno=>41}, \"V2\"=>{:value=>\"2.5\", :type=>\"voltage\", :lineno=>49}, \"R1\"=>{:value=>\"100k\", :type=>\"res\", :lineno=>54}, \"R2\"=>{:value=>\"1k\", :type=>\"res\", :lineno=>59}, \"include\"=>[{:control=>\".include models/OR1_mos\", :lineno=>60}], \"ac\"=>[{:control=>\".ac oct 10 1 100Meg\", :lineno=>62}]}"
      ]
     },
     "execution_count": 7,
     "metadata": {},
     "output_type": "execute_result"
    }
   ],
   "source": [
    "ckt.open"
   ]
  },
  {
   "attachments": {
    "image.png": {
     "image/png": "[encoded data removed]"
    }
   },
   "cell_type": "markdown",
   "metadata": {},
   "source": [
    "![image.png](attachment:image.png)"
   ]
  },
  {
   "cell_type": "code",
   "execution_count": 18,
   "metadata": {},
   "outputs": [
    {
     "data": {
      "text/plain": [
       "{nil=>[{:control=>\";tran 0 40u 0\", :lineno=>59}], \"V3\"=>{:value=>\"2.5\", :type=>\"voltage\", :lineno=>31}, \"X1\"=>{:value=>nil, :type=>\"Opamp3ureiauto\", :lineno=>0}, \"V1_1\"=>{:value=>\"\\\"\\\"\", :type=>\"voltage\", :lineno=>38}, \"V1_2\"=>{:value=>\"AC 1 0\", :type=>\"voltage\", :lineno=>39}, \"V2\"=>{:value=>\"2.5\", :type=>\"voltage\", :lineno=>47}, \"R1\"=>{:value=>\"100k\", :type=>\"res\", :lineno=>52}, \"R2\"=>{:value=>\"1k\", :type=>\"res\", :lineno=>57}, \"include\"=>[{:control=>\".include models/OR1_mos\", :lineno=>58}], \"ac\"=>[{:control=>\".ac oct 10 1 100Meg\", :lineno=>60}]}"
      ]
     },
     "execution_count": 18,
     "metadata": {},
     "output_type": "execute_result"
    }
   ],
   "source": [
    "ckt.elements"
   ]
  },
  {
   "cell_type": "code",
   "execution_count": 8,
   "metadata": {},
   "outputs": [],
   "source": [
    "ckt.get 'C3'"
   ]
  },
  {
   "cell_type": "code",
   "execution_count": 5,
   "metadata": {},
   "outputs": [
    {
     "name": "stdout",
     "output_type": "stream",
     "text": [
      "wine '/home/anagix/.wine/drive_c/Program Files/LTC/LTspiceXVII/XVIIx86.exe' -netlist 'amp2_tb.tmp'\n",
      "* Z:\\home\\anagix\\work\\2in1_OpAmp\\amp2_tb.tmp\n",
      "V3 N001 0 2.5\n",
      "XX1 Vin 0 OUT1 N001 NC_01 N003 opamp3ureiauto\n",
      "V1 N002 0 AC 1 0\n",
      "V2 0 N003 2.5\n",
      "R1 OUT1 Vin 100k\n",
      "R2 Vin N002 1k\n",
      "\n",
      "* block symbol definitions\n",
      ".subckt opamp3ureiauto Vinm Vinp Vout VDD Vbias gnd\n",
      "M1 N010 N010 gnd gnd nch l=1u w=16u ad=3.5e-10 as=3.5e-10 pd=64e-6 ps=64e-6\n",
      "M2 N008 N008 N010 gnd nch l=1u w=16u ad=3.5e-10 as=3.5e-10 pd=64e-6 ps=64e-6\n",
      "M3 N011 N010 gnd gnd nch l=1u w=16u ad=3.5e-10 as=3.5e-10 pd=64e-6 ps=64e-6\n",
      "M4 N007 N008 N011 gnd nch l=1u w=16u ad=3.5e-10 as=3.5e-10 pd=64e-6 ps=64e-6\n",
      "M5 N001 Vbias gnd gnd nch l=1u w=34u ad=7e-10 as=7e-10 pd=114e-6 ps=114e-6\n",
      "M6 N006 Vbias gnd gnd nch l=1u w=16u ad=3.5e-10 as=3.5e-10 pd=64e-6 ps=64e-6\n",
      "M10 Vout N009 gnd gnd nch l=1u w=100u ad=2.1e-9 as=2.1e-9 pd=314e-6 ps=314e-6\n",
      "M11 N009 N010 gnd gnd nch l=1u w=16u ad=3.5e-10 as=3.5e-10 pd=64e-6 ps=64e-6\n",
      "M12 VDD N007 N009 gnd nch l=1u w=16u ad=3.5e-10 as=3.5e-10 pd=64e-6 ps=64e-6\n",
      "M13 N002 N001 VDD VDD pch l=1u w=50u ad=1.05e-9 as=1.05e-9 pd=164e-6 ps=164e-6\n",
      "M14 N003 N003 N002 N002 pch l=1u w=38u ad=5.25e-10 as=5.25e-10 pd=89e-6 ps=89e-6\n",
      "M15 N006 N006 N003 N003 pch l=1u w=38u ad=5.25e-10 as=5.25e-10 pd=89e-6 ps=89e-6\n",
      "M16 N007 N006 N005 N005 pch l=1u w=19u ad=5.25e-10 as=5.25e-10 pd=89e-6 ps=89e-6\n",
      "M17 N008 N006 N004 N004 pch l=1u w=19u ad=5.25e-10 as=5.25e-10 pd=89e-6 ps=89e-6\n",
      "M18 N004 Vinm N002 N002 pch l=1u w=25u ad=5.25e-10 as=5.25e-10 pd=89e-6 ps=89e-6\n",
      "M20 Vout N001 VDD VDD pch l=1u w=50u ad=1.05e-9 as=1.05e-9 pd=164e-6 ps=164e-6\n",
      "M21 N005 Vinp N002 N002 pch l=1u w=25u ad=5.25e-10 as=5.25e-10 pd=89e-6 ps=89e-6\n",
      "M24 N001 N001 VDD VDD pch l=1u w=50u ad=1.05e-9 as=1.05e-9 pd=164e-6 ps=164e-6\n",
      "M7 Vbias Vbias gnd gnd nch l=1u w=34u ad=7e-10 as=7e-10 pd=114e-6 ps=114e-6\n",
      "R1 VDD Vbias 40k\n",
      "C1 Vout N007 1.0e-12\n",
      ".inc ./models/OR1_mos\n",
      ".ends opamp3ureiauto\n",
      "\n",
      ".model NMOS NMOS\n",
      ".model PMOS PMOS\n",
      ".lib C:\\users\\anagix\\My Documents\\LTspiceXVII\\lib\\cmp\\standard.mos\n",
      ".include models/OR1_mos\n",
      ";tran 0 40u 0\n",
      ".backanno\n",
      ".end\n",
      "\n",
      "analysis directives in netlist: {:ac=>\"oct 10 1 100Meg\"}\n",
      "CWD: /home/anagix/work/2in1_OpAmp\n",
      "wine '/home/anagix/.wine/drive_c/Program Files/LTC/LTspiceXVII/XVIIx86.exe' -b -Run 'amp2_tb.net'\n",
      "execute sim_log() to show simulation log\n"
     ]
    }
   ],
   "source": [
    "ckt.simulate"
   ]
  },
  {
   "cell_type": "code",
   "execution_count": 6,
   "metadata": {},
   "outputs": [
    {
     "name": "stdout",
     "output_type": "stream",
     "text": [
      "Circuit: * Z:\\home\\anagix\\work\\2in1_OpAmp\\amp2_tb.tmp\n",
      "\n",
      "Direct Newton iteration failed to find .op point.  (Use \".option noopiter\" to skip.)\n",
      "Starting Gmin stepping\n",
      "Gmin = 10\n",
      "Gmin = 1.07374\n",
      "vernier = 0.5\n",
      "vernier = 0.25\n",
      "vernier = 0.125\n",
      "vernier = 0.0625\n",
      "vernier = 0.03125\n",
      "Gmin = 1.0412\n",
      "vernier = 0.015625\n",
      "vernier = 0.0078125\n",
      "Gmin = 1.0132\n",
      "vernier = 0.00390625\n",
      "vernier = 0.00195313\n",
      "Gmin = 1.00827\n",
      "vernier = 0.00260417\n",
      "vernier = 0.00130208\n",
      "Gmin = 1.00515\n",
      "vernier = 0.000651042\n",
      "vernier = 0.000868055\n",
      "vernier = 0.000434028\n",
      "Gmin = 1.00434\n",
      "vernier = 0.000578703\n",
      "vernier = 0.000434027\n",
      "Gmin = 1.00339\n",
      "Gmin = 0\n",
      "Gmin stepping failed\n",
      "\n",
      "Starting source stepping with srcstepmethod=0\n",
      "Source Step = 3.0303%\n",
      "Source Step = 33.3333%\n",
      "Source Step = 36.3755%\n",
      "Source Step = 36.4051%\n",
      "Source Step = 36.4347%\n",
      "Source Step = 36.4643%\n",
      "Source Step = 36.4938%\n",
      "vernier = 0.00146484\n",
      "Source Step = 36.5264%\n",
      "Source Step = 36.5708%\n",
      "Source Step = 36.6152%\n",
      "Source Step = 36.6596%\n",
      "Source Step = 36.704%\n",
      "vernier = 0.00219727\n",
      "Source Step = 36.7506%\n",
      "Source Step = 36.8171%\n",
      "Source Step = 36.8837%\n",
      "Source Step = 36.9503%\n",
      "Source Step = 37.0169%\n",
      "Source Step = 37.0835%\n",
      "vernier = 0.0032959\n",
      "Source Step = 37.1834%\n",
      "Source Step = 37.2832%\n",
      "Source Step = 37.3831%\n",
      "Source Step = 37.483%\n",
      "Source Step = 37.5829%\n",
      "vernier = 0.00494385\n",
      "Source Step = 37.7277%\n",
      "Source Step = 37.8775%\n",
      "Source Step = 38.0273%\n",
      "Source Step = 38.1771%\n",
      "Source Step = 38.3269%\n",
      "vernier = 0.00741577\n",
      "Source Step = 38.5367%\n",
      "Source Step = 38.7614%\n",
      "Source Step = 38.9861%\n",
      "Source Step = 39.2108%\n",
      "Source Step = 39.4356%\n",
      "vernier = 0.0111237\n",
      "Source Step = 39.7389%\n",
      "Source Step = 40.076%\n",
      "Source Step = 40.4131%\n",
      "Source Step = 40.7502%\n",
      "Source Step = 41.0872%\n",
      "vernier = 0.0166855\n",
      "Source Step = 41.5255%\n",
      "Source Step = 42.0311%\n",
      "Source Step = 42.5367%\n",
      "Source Step = 43.0423%\n",
      "Source Step = 43.5479%\n",
      "vernier = 0.0250282\n",
      "Source Step = 44.18%\n",
      "Source Step = 44.9384%\n",
      "Source Step = 45.6968%\n",
      "Source Step = 46.4553%\n",
      "Source Step = 47.2137%\n",
      "vernier = 0.0375423\n",
      "Source Step = 48.1238%\n",
      "Source Step = 49.2615%\n",
      "Source Step = 50.3991%\n",
      "Source Step = 51.5367%\n",
      "Source Step = 52.6744%\n",
      "vernier = 0.0563135\n",
      "Source Step = 53.9827%\n",
      "Source Step = 55.6892%\n",
      "Source Step = 57.3956%\n",
      "Source Step = 59.1021%\n",
      "Source Step = 60.8086%\n",
      "vernier = 0.0844703\n",
      "Source Step = 62.6857%\n",
      "Source Step = 65.2454%\n",
      "Source Step = 67.8051%\n",
      "Source Step = 70.3648%\n",
      "Source Step = 72.9245%\n",
      "vernier = 0.126705\n",
      "Source Step = 75.6122%\n",
      "Source Step = 79.4518%\n",
      "Source Step = 83.2913%\n",
      "Source Step = 87.1309%\n",
      "Source Step = 90.9704%\n",
      "Source Step = 94.81%\n",
      "vernier = 0.190058\n",
      "Source Step = 100%\n",
      "Source stepping succeeded in finding the operating point.\n",
      "\n",
      "\n",
      "Date: Fri Sep 24 12:15:30 2021\n",
      "Total elapsed time: 0.093 seconds.\n",
      "\n",
      "tnom = 27\n",
      "temp = 27\n",
      "method = trap\n",
      "totiter = 7455\n",
      "traniter = 0\n",
      "tranpoints = 0\n",
      "accept = 0\n",
      "rejected = 0\n",
      "matrix size = 20\n",
      "fillins = 23\n",
      "solver = Normal\n",
      "Matrix Compiler1:     189 opcodes\n",
      "Matrix Compiler2:     192 opcodes  0.9/[1.0]/1.2\n",
      "\n",
      "\n"
     ]
    }
   ],
   "source": [
    "puts ckt.sim_log"
   ]
  },
  {
   "cell_type": "code",
   "execution_count": 21,
   "metadata": {},
   "outputs": [
    {
     "name": "stdout",
     "output_type": "stream",
     "text": [
      "elements updated from amp2_tb.asc!\n"
     ]
    },
    {
     "data": {
      "text/plain": [
       "{nil=>[{:control=>\";tran 0 40u 0\", :lineno=>59}], \"V3\"=>{:value=>\"2.5\", :type=>\"voltage\", :lineno=>31}, \"X1\"=>{:value=>nil, :type=>\"Opamp3ureiauto\", :lineno=>0}, \"V1_1\"=>{:value=>\"\\\"\\\"\", :type=>\"voltage\", :lineno=>38}, \"V1_2\"=>{:value=>\"AC 1 0\", :type=>\"voltage\", :lineno=>39}, \"V2\"=>{:value=>\"2.5\", :type=>\"voltage\", :lineno=>47}, \"R1\"=>{:value=>\"100k\", :type=>\"res\", :lineno=>52}, \"R2\"=>{:value=>\"1k\", :type=>\"res\", :lineno=>57}, \"include\"=>[{:control=>\".include models/OR1_mos\", :lineno=>58}], \"ac\"=>[{:control=>\".ac oct 10 1 100Meg\", :lineno=>60}]}"
      ]
     },
     "execution_count": 21,
     "metadata": {},
     "output_type": "execute_result"
    }
   ],
   "source": [
    "ckt.read"
   ]
  },
  {
   "cell_type": "code",
   "execution_count": 16,
   "metadata": {},
   "outputs": [
    {
     "data": {
      "text/plain": [
       "{nil=>[{:control=>\";tran 0 40u 0\", :lineno=>59}], \"V3\"=>{:value=>\"2.5\", :type=>\"voltage\", :lineno=>31}, \"X1\"=>{:value=>nil, :type=>\"Opamp3ureiauto\", :lineno=>0}, \"V1_1\"=>{:value=>\"\\\"\\\"\", :type=>\"voltage\", :lineno=>38}, \"V1_2\"=>{:value=>\"AC 1 0\", :type=>\"voltage\", :lineno=>39}, \"V2\"=>{:value=>\"2.5\", :type=>\"voltage\", :lineno=>47}, \"R1\"=>{:value=>\"100k\", :type=>\"res\", :lineno=>52}, \"R2\"=>{:value=>\"1k\", :type=>\"res\", :lineno=>57}, \"include\"=>[{:control=>\".include models/OR1_mos\", :lineno=>58}], \"ac\"=>[{:control=>\".ac oct 10 1 100Meg\", :lineno=>60}]}"
      ]
     },
     "execution_count": 16,
     "metadata": {},
     "output_type": "execute_result"
    }
   ],
   "source": [
    "ckt.elements"
   ]
  },
  {
   "cell_type": "markdown",
   "metadata": {},
   "source": [
    "# ckt.set V2_1 PULSE(0 1 5u 1n 1n 10u 20u)"
   ]
  },
  {
   "cell_type": "code",
   "execution_count": 22,
   "metadata": {},
   "outputs": [
    {
     "data": {
      "text/plain": [
       "[true]"
      ]
     },
     "execution_count": 22,
     "metadata": {},
     "output_type": "execute_result"
    }
   ],
   "source": [
    "ckt.set V1: `PULSE(0 5 5u 1n 1n 10u 20u)`"
   ]
  },
  {
   "cell_type": "markdown",
   "metadata": {},
   "source": [
    "ckt.elements"
   ]
  },
  {
   "cell_type": "code",
   "execution_count": 17,
   "metadata": {},
   "outputs": [
    {
     "data": {
      "text/plain": [
       "{nil=>{:value=>nil, :type=>nil, :lineno=>0}, \"V3\"=>{:value=>\"5\", :type=>\"voltage\", :lineno=>27}, \"X1\"=>{:value=>nil, :type=>\"Opamp3ureiauto\", :lineno=>0}, \"V1\"=>{:value=>\"PULSE(0 1 5u 1n 1n 10u 20u)\", :type=>\"voltage\", :lineno=>34}, \"include\"=>[{:control=>\".include models/OR1_mos\", :lineno=>36}], \"tran\"=>[{:control=>\".tran 0 100u 0\", :lineno=>37}]}"
      ]
     },
     "execution_count": 17,
     "metadata": {},
     "output_type": "execute_result"
    }
   ],
   "source": [
    "ckt.elements"
   ]
  },
  {
   "cell_type": "code",
   "execution_count": 18,
   "metadata": {},
   "outputs": [
    {
     "data": {
      "text/plain": [
       "{nil=>{:value=>nil, :type=>nil, :lineno=>0}, \"V3\"=>{:value=>\"5\", :type=>\"voltage\", :lineno=>27}, \"X1\"=>{:value=>nil, :type=>\"Opamp3ureiauto\", :lineno=>0}, \"V1\"=>{:value=>\"PULSE(0 1 5u 1n 1n 10u 20u)\", :type=>\"voltage\", :lineno=>34}, \"include\"=>[{:control=>\".include models/OR1_mos\", :lineno=>36}], \"tran\"=>[{:control=>\".tran 0 100u 0\", :lineno=>37}]}"
      ]
     },
     "execution_count": 18,
     "metadata": {},
     "output_type": "execute_result"
    }
   ],
   "source": [
    "ckt.elements"
   ]
  },
  {
   "cell_type": "code",
   "execution_count": 78,
   "metadata": {},
   "outputs": [
    {
     "name": "stdout",
     "output_type": "stream",
     "text": [
      "elements updated from amp2_tb.asc!\n"
     ]
    },
    {
     "data": {
      "text/plain": [
       "{nil=>{:value=>nil, :type=>nil, :lineno=>0}, \"V3\"=>{:value=>\"7\", :type=>\"voltage\", :lineno=>27}, \"X1\"=>{:value=>nil, :type=>\"Opamp3ureiauto\", :lineno=>0}, \"V1\"=>{:value=>\"PULSE(0 5 5u 1n 1n 10u 20u)\", :type=>\"voltage\", :lineno=>34}, \"include\"=>[{:control=>\".include models/OR1_mos\", :lineno=>36}], \"tran\"=>[{:control=>\".tran 0 20u 0\", :lineno=>37}]}"
      ]
     },
     "execution_count": 78,
     "metadata": {},
     "output_type": "execute_result"
    }
   ],
   "source": [
    "ckt.read"
   ]
  },
  {
   "cell_type": "code",
   "execution_count": 26,
   "metadata": {},
   "outputs": [
    {
     "name": "stdout",
     "output_type": "stream",
     "text": [
      "wine '/home/yuuki/.wine/drive_c/Program Files/LTC/LTspiceXVII/XVIIx86.exe' -netlist 'amp2_tb.tmp'\n",
      "* Z:\\home\\yuuki\\work\\2in1_OpAmp\\amp2_tb.tmp\n",
      "V3 N001 0 2.5\n",
      "XX1 Vin 0 OUT1 N001 NC_01 N003 opamp3ureiauto\n",
      "V1 N002 0 AC 1 0\n",
      "V2 0 N003 2.5\n",
      "R1 OUT1 Vin 100k\n",
      "R2 Vin N002 1k\n",
      "\n",
      "* block symbol definitions\n",
      ".subckt opamp3ureiauto Vinm Vinp Vout VDD Vbias gnd\n",
      "M1 N010 N010 gnd gnd NCH l=1u w=16u ad=3.5e-10 as=3.5e-10 pd=64e-6 ps=64e-6\n",
      "M2 N008 N008 N010 gnd NCH l=1u w=16u ad=3.5e-10 as=3.5e-10 pd=64e-6 ps=64e-6\n",
      "M3 N011 N010 gnd gnd NCH l=1u w=16u ad=3.5e-10 as=3.5e-10 pd=64e-6 ps=64e-6\n",
      "M4 N007 N008 N011 gnd NCH l=1u w=16u ad=3.5e-10 as=3.5e-10 pd=64e-6 ps=64e-6\n",
      "M5 N001 Vbias gnd gnd NCH l=1u w=34u ad=7e-10 as=7e-10 pd=114e-6 ps=114e-6\n",
      "M6 N006 Vbias gnd gnd NCH l=1u w=16u ad=3.5e-10 as=3.5e-10 pd=64e-6 ps=64e-6\n",
      "M10 Vout N009 gnd gnd NCH l=1u w=100u ad=2.1e-9 as=2.1e-9 pd=314e-6 ps=314e-6\n",
      "M11 N009 N010 gnd gnd NCH l=1u w=16u ad=3.5e-10 as=3.5e-10 pd=64e-6 ps=64e-6\n",
      "M12 VDD N007 N009 gnd NCH l=1u w=16u ad=3.5e-10 as=3.5e-10 pd=64e-6 ps=64e-6\n",
      "M13 N002 N001 VDD VDD PCH l=1u w=50u ad=1.05e-9 as=1.05e-9 pd=164e-6 ps=164e-6\n",
      "M14 N003 N003 N002 N002 PCH l=1u w=38u ad=5.25e-10 as=5.25e-10 pd=89e-6 ps=89e-6\n",
      "M15 N006 N006 N003 N003 PCH l=1u w=38u ad=5.25e-10 as=5.25e-10 pd=89e-6 ps=89e-6\n",
      "M16 N007 N006 N005 N005 PCH l=1u w=19u ad=5.25e-10 as=5.25e-10 pd=89e-6 ps=89e-6\n",
      "M17 N008 N006 N004 N004 PCH l=1u w=19u ad=5.25e-10 as=5.25e-10 pd=89e-6 ps=89e-6\n",
      "M18 N004 Vinm N002 N002 PCH l=1u w=25u ad=5.25e-10 as=5.25e-10 pd=89e-6 ps=89e-6\n",
      "M20 Vout N001 VDD VDD PCH l=1u w=50u ad=1.05e-9 as=1.05e-9 pd=164e-6 ps=164e-6\n",
      "M21 N005 Vinp N002 N002 PCH l=1u w=25u ad=5.25e-10 as=5.25e-10 pd=89e-6 ps=89e-6\n",
      "M24 N001 N001 VDD VDD PCH l=1u w=50u ad=1.05e-9 as=1.05e-9 pd=164e-6 ps=164e-6\n",
      "M7 Vbias Vbias gnd gnd NCH l=1u w=34u ad=7e-10 as=7e-10 pd=114e-6 ps=114e-6\n",
      "R1 VDD Vbias 40k\n",
      "C1 Vout N007 1.0e-12\n",
      ".inc ./models/OR1_mos\n",
      ".ends opamp3ureiauto\n",
      "\n",
      ".model NMOS NMOS\n",
      ".model PMOS PMOS\n",
      ".lib C:\\users\\1159\\My Documents\\LTspiceXVII\\lib\\cmp\\standard.mos\n",
      ".include models/OR1_mos\n",
      ";tran 0 40u 0\n",
      ".backanno\n",
      ".end\n",
      "analysis directives in netlist: {:ac=>\"oct 10 1 100Meg\"}\n",
      "CWD: /home/yuuki/work/2in1_OpAmp\n",
      "wine '/home/yuuki/.wine/drive_c/Program Files/LTC/LTspiceXVII/XVIIx86.exe' -b -Run 'amp2_tb.net'\n",
      "execute sim_log() to show simulation log\n"
     ]
    }
   ],
   "source": [
    "ckt.simulate"
   ]
  },
  {
   "cell_type": "code",
   "execution_count": 10,
   "metadata": {},
   "outputs": [
    {
     "data": {
      "text/plain": [
       "[[\"frequency\", \"V(n002)\", \"V(vin)\", \"V(nc_01)\", \"(V(out1))\"], [{:x=>[1.0, 1.0717734625362931, 1.1486983549970349, 1.231144413344916, 1.319507910772894, 1.4142135623730947, 1.5157165665103978, 1.6245047927124707, 1.7411011265922478, 1.8660659830736144, 1.9999999999999996, 2.143546925072586, 2.2973967099940693, 2.4622888266898317, 2.6390158215457875, 2.828427124746189, 3.0314331330207946, 3.2490095854249406, 3.4822022531844947, 3.7321319661472274, 3.9999999999999973, 4.28709385014517, 4.594793419988137, 4.924577653379662, 5.278031643091573, 5.656854249492376, 6.0628662660415875, 6.4980191708498785, 6.964404506368987, 7.464263932294452, 7.999999999999992, 8.574187700290336, 9.18958683997627, 9.84915530675932, 10.556063286183143, 11.313708498984749, 12.125732532083171, 12.996038341699753, 13.92880901273797, 14.9285278645889, 15.99999999999998, 17.14837540058067, 18.379173679952537, 19.698310613518636, 21.112126572366282, 22.627416997969494, 24.25146506416634, 25.992076683399503, 27.857618025475936, 29.857055729177798, 31.999999999999957, 34.29675080116134, 36.75834735990507, 39.39662122703727, 42.224253144732565, 45.25483399593899, 48.50293012833268, 51.984153366799006, 55.71523605095187, 59.714111458355596, 63.999999999999915, 68.59350160232268, 73.51669471981015, 78.79324245407454, 84.44850628946513, 90.50966799187798, 97.00586025666536, 103.96830673359801, 111.43047210190375, 119.42822291671119, 127.99999999999983, 137.18700320464535, 147.0333894396203, 157.5864849081491, 168.89701257893026, 181.01933598375595, 194.01172051333072, 207.93661346719603, 222.8609442038075, 238.85644583342238, 255.99999999999966, 274.3740064092907, 294.0667788792406, 315.1729698162982, 337.7940251578605, 362.0386719675119, 388.02344102666143, 415.87322693439205, 445.721888407615, 477.71289166684477, 511.9999999999993, 548.7480128185814, 588.1335577584812, 630.3459396325964, 675.588050315721, 724.0773439350238, 776.0468820533229, 831.7464538687841, 891.44377681523, 955.4257833336895, 1023.9999999999986, 1097.4960256371628, 1176.2671155169623, 1260.6918792651927, 1351.176100631442, 1448.1546878700476, 1552.0937641066457, 1663.4929077375682, 1782.88755363046, 1910.851566667379, 2047.9999999999973, 2194.9920512743256, 2352.5342310339247, 2521.3837585303854, 2702.352201262884, 2896.309375740095, 3104.1875282132914, 3326.9858154751364, 3565.77510726092, 3821.703133334758, 4095.9999999999945, 4389.984102548651, 4705.068462067849, 5042.767517060771, 5404.704402525768, 5792.61875148019, 6208.375056426583, 6653.971630950273, 7131.55021452184, 7643.406266669516, 8191.999999999989, 8779.968205097302, 9410.136924135699, 10085.535034121542, 10809.408805051537, 11585.23750296038, 12416.750112853166, 13307.943261900546, 14263.10042904368, 15286.812533339033, 16383.999999999978, 17559.936410194605, 18820.273848271398, 20171.070068243083, 21618.817610103073, 23170.47500592076, 24833.50022570633, 26615.88652380109, 28526.20085808736, 30573.625066678065, 32767.999999999956, 35119.87282038921, 37640.547696542795, 40342.14013648617, 43237.635220206146, 46340.95001184152, 49667.00045141266, 53231.77304760218, 57052.40171617472, 61147.25013335613, 65535.99999999991, 70239.74564077842, 75281.09539308559, 80684.28027297233, 86475.27044041229, 92681.90002368305, 99334.00090282533, 106463.54609520436, 114104.80343234944, 122294.50026671226, 131071.99999999983, 140479.49128155684, 150562.19078617118, 161368.56054594467, 172950.54088082458, 185363.8000473661, 198668.00180565065, 212927.09219040873, 228209.60686469887, 244589.00053342452, 262143.99999999965, 280958.9825631137, 301124.38157234236, 322737.12109188933, 345901.08176164917, 370727.6000947322, 397336.0036113013, 425854.18438081746, 456419.21372939774, 489178.00106684904, 524287.9999999993, 561917.9651262274, 602248.7631446847, 645474.2421837787, 691802.1635232983, 741455.2001894644, 794672.0072226026, 851708.3687616349, 912838.4274587955, 978356.0021336981, 1048575.9999999986, 1123835.9302524547, 1204497.5262893694, 1290948.4843675573, 1383604.3270465967, 1482910.4003789288, 1589344.0144452052, 1703416.7375232698, 1825676.854917591, 1956712.0042673962, 2097151.9999999972, 2247671.8605049094, 2408995.052578739, 2581896.9687351147, 2767208.6540931934, 2965820.8007578575, 3178688.0288904104, 3406833.4750465397, 3651353.709835182, 3913424.0085347923, 4194303.9999999944, 4495343.721009819, 4817990.105157478, 5163793.937470229, 5534417.308186387, 5931641.601515715, 6357376.057780821, 6813666.950093079, 7302707.419670364, 7826848.017069585, 8388607.999999989, 8990687.442019638, 9635980.210314956, 10327587.874940459, 11068834.616372773, 11863283.20303143, 12714752.115561642, 13627333.900186159, 14605414.839340728, 15653696.03413917, 16777215.999999978, 17981374.884039275, 19271960.42062991, 20655175.749880917, 22137669.232745547, 23726566.40606286, 25429504.231123284, 27254667.800372317, 29210829.678681456, 31307392.06827834, 33554431.999999955, 35962749.76807855, 38543920.84125982, 41310351.499761835, 44275338.46549109, 47453132.81212572, 50859008.46224657, 54509335.600744635, 58421659.35736291, 62614784.13655668, 67108863.99999991, 71925499.5361571, 77087841.68251964, 82620702.99952367, 88550676.93098219, 94906265.62425144, 100000000.0], :y=>[(1.0+0.0i), (1.0+0.0i), (1.0+0.0i), (1.0+0.0i), (1.0+0.0i), (1.0+0.0i), (1.0+0.0i), (1.0+0.0i), (1.0+0.0i), (1.0+0.0i), (1.0+0.0i), (1.0+0.0i), (1.0+0.0i), (1.0+0.0i), (1.0+0.0i), (1.0+0.0i), (1.0+0.0i), (1.0+0.0i), (1.0+0.0i), (1.0+0.0i), (1.0+0.0i), (1.0+0.0i), (1.0+0.0i), (1.0+0.0i), (1.0+0.0i), (1.0+0.0i), (1.0+0.0i), (1.0+0.0i), (1.0+0.0i), (1.0+0.0i), (1.0+0.0i), (1.0+0.0i), (1.0+0.0i), (1.0+0.0i), (1.0+0.0i), (1.0+0.0i), (1.0+0.0i), (1.0+0.0i), (1.0+0.0i), (1.0+0.0i), (1.0+0.0i), (1.0+0.0i), (1.0+0.0i), (1.0+0.0i), (1.0+0.0i), (1.0+0.0i), (1.0+0.0i), (1.0+0.0i), (1.0+0.0i), (1.0+0.0i), (1.0+0.0i), (1.0+0.0i), (1.0+0.0i), (1.0+0.0i), (1.0+0.0i), (1.0+0.0i), (1.0+0.0i), (1.0+0.0i), (1.0+0.0i), (1.0+0.0i), (1.0+0.0i), (1.0+0.0i), (1.0+0.0i), (1.0+0.0i), (1.0+0.0i), (1.0+0.0i), (1.0+0.0i), (1.0+0.0i), (1.0+0.0i), (1.0+0.0i), (1.0+0.0i), (1.0+0.0i), (1.0+0.0i), (1.0+0.0i), (1.0+0.0i), (1.0+0.0i), (1.0+0.0i), (1.0+0.0i), (1.0+0.0i), (1.0+0.0i), (1.0+0.0i), (1.0+0.0i), (1.0+0.0i), (1.0+0.0i), (1.0+0.0i), (1.0+0.0i), (1.0+0.0i), (1.0+0.0i), (1.0+0.0i), (1.0+0.0i), (1.0+0.0i), (1.0+0.0i), (1.0+0.0i), (1.0+0.0i), (1.0+0.0i), (1.0+0.0i), (1.0+0.0i), (1.0+0.0i), (1.0+0.0i), (1.0+0.0i), (1.0+0.0i), (1.0+0.0i), (1.0+0.0i), (1.0+0.0i), (1.0+0.0i), (1.0+0.0i), (1.0+0.0i), (1.0+0.0i), (1.0+0.0i), (1.0+0.0i), (1.0+0.0i), (1.0+0.0i), (1.0+0.0i), (1.0+0.0i), (1.0+0.0i), (1.0+0.0i), (1.0+0.0i), (1.0+0.0i), (1.0+0.0i), (1.0+0.0i), (1.0+0.0i), (1.0+0.0i), (1.0+0.0i), (1.0+0.0i), (1.0+0.0i), (1.0+0.0i), (1.0+0.0i), (1.0+0.0i), (1.0+0.0i), (1.0+0.0i), (1.0+0.0i), (1.0+0.0i), (1.0+0.0i), (1.0+0.0i), (1.0+0.0i), (1.0+0.0i), (1.0+0.0i), (1.0+0.0i), (1.0+0.0i), (1.0+0.0i), (1.0+0.0i), (1.0+0.0i), (1.0+0.0i), (1.0+0.0i), (1.0+0.0i), (1.0+0.0i), (1.0+0.0i), (1.0+0.0i), (1.0+0.0i), (1.0+0.0i), (1.0+0.0i), (1.0+0.0i), (1.0+0.0i), (1.0+0.0i), (1.0+0.0i), (1.0+0.0i), (1.0+0.0i), (1.0+0.0i), (1.0+0.0i), (1.0+0.0i), (1.0+0.0i), (1.0+0.0i), (1.0+0.0i), (1.0+0.0i), (1.0+0.0i), (1.0+0.0i), (1.0+0.0i), (1.0+0.0i), (1.0+0.0i), (1.0+0.0i), (1.0+0.0i), (1.0+0.0i), (1.0+0.0i), (1.0+0.0i), (1.0+0.0i), (1.0+0.0i), (1.0+0.0i), (1.0+0.0i), (1.0+0.0i), (1.0+0.0i), (1.0+0.0i), (1.0+0.0i), (1.0+0.0i), (1.0+0.0i), (1.0+0.0i), (1.0+0.0i), (1.0+0.0i), (1.0+0.0i), (1.0+0.0i), (1.0+0.0i), (1.0+0.0i), (1.0+0.0i), (1.0+0.0i), (1.0+0.0i), (1.0+0.0i), (1.0+0.0i), (1.0+0.0i), (1.0+0.0i), (1.0+0.0i), (1.0+0.0i), (1.0+0.0i), (1.0+0.0i), (1.0+0.0i), (1.0+0.0i), (1.0+0.0i), (1.0+0.0i), (1.0+0.0i), (1.0+0.0i), (1.0+0.0i), (1.0+0.0i), (1.0+0.0i), (1.0+0.0i), (1.0+0.0i), (1.0+0.0i), (1.0+0.0i), (1.0+0.0i), (1.0+0.0i), (1.0+0.0i), (1.0+0.0i), (1.0+0.0i), (1.0+0.0i), (1.0+0.0i), (1.0+0.0i), (1.0+0.0i), (1.0+0.0i), (1.0+0.0i), (1.0+0.0i), (1.0+0.0i), (1.0+0.0i), (1.0+0.0i), (1.0+0.0i), (1.0+0.0i), (1.0+0.0i), (1.0+0.0i), (1.0+0.0i), (1.0+0.0i), (1.0+0.0i), (1.0+0.0i), (1.0+0.0i), (1.0+0.0i), (1.0+0.0i), (1.0+0.0i), (1.0+0.0i), (1.0+0.0i), (1.0+0.0i), (1.0+0.0i), (1.0+0.0i), (1.0+0.0i), (1.0+0.0i), (1.0+0.0i), (1.0+0.0i), (1.0+0.0i), (1.0+0.0i), (1.0+0.0i), (1.0+0.0i), (1.0+0.0i), (1.0+0.0i), (1.0+0.0i), (1.0+0.0i), (1.0+0.0i), (1.0+0.0i), (1.0+0.0i), (1.0+0.0i), (1.0+0.0i), (1.0+0.0i), (1.0+0.0i), (1.0+0.0i)], :name=>\"V(n002)\"}, {:x=>[1.0, 1.0717734625362931, 1.1486983549970349, 1.231144413344916, 1.319507910772894, 1.4142135623730947, 1.5157165665103978, 1.6245047927124707, 1.7411011265922478, 1.8660659830736144, 1.9999999999999996, 2.143546925072586, 2.2973967099940693, 2.4622888266898317, 2.6390158215457875, 2.828427124746189, 3.0314331330207946, 3.2490095854249406, 3.4822022531844947, 3.7321319661472274, 3.9999999999999973, 4.28709385014517, 4.594793419988137, 4.924577653379662, 5.278031643091573, 5.656854249492376, 6.0628662660415875, 6.4980191708498785, 6.964404506368987, 7.464263932294452, 7.999999999999992, 8.574187700290336, 9.18958683997627, 9.84915530675932, 10.556063286183143, 11.313708498984749, 12.125732532083171, 12.996038341699753, 13.92880901273797, 14.9285278645889, 15.99999999999998, 17.14837540058067, 18.379173679952537, 19.698310613518636, 21.112126572366282, 22.627416997969494, 24.25146506416634, 25.992076683399503, 27.857618025475936, 29.857055729177798, 31.999999999999957, 34.29675080116134, 36.75834735990507, 39.39662122703727, 42.224253144732565, 45.25483399593899, 48.50293012833268, 51.984153366799006, 55.71523605095187, 59.714111458355596, 63.999999999999915, 68.59350160232268, 73.51669471981015, 78.79324245407454, 84.44850628946513, 90.50966799187798, 97.00586025666536, 103.96830673359801, 111.43047210190375, 119.42822291671119, 127.99999999999983, 137.18700320464535, 147.0333894396203, 157.5864849081491, 168.89701257893026, 181.01933598375595, 194.01172051333072, 207.93661346719603, 222.8609442038075, 238.85644583342238, 255.99999999999966, 274.3740064092907, 294.0667788792406, 315.1729698162982, 337.7940251578605, 362.0386719675119, 388.02344102666143, 415.87322693439205, 445.721888407615, 477.71289166684477, 511.9999999999993, 548.7480128185814, 588.1335577584812, 630.3459396325964, 675.588050315721, 724.0773439350238, 776.0468820533229, 831.7464538687841, 891.44377681523, 955.4257833336895, 1023.9999999999986, 1097.4960256371628, 1176.2671155169623, 1260.6918792651927, 1351.176100631442, 1448.1546878700476, 1552.0937641066457, 1663.4929077375682, 1782.88755363046, 1910.851566667379, 2047.9999999999973, 2194.9920512743256, 2352.5342310339247, 2521.3837585303854, 2702.352201262884, 2896.309375740095, 3104.1875282132914, 3326.9858154751364, 3565.77510726092, 3821.703133334758, 4095.9999999999945, 4389.984102548651, 4705.068462067849, 5042.767517060771, 5404.704402525768, 5792.61875148019, 6208.375056426583, 6653.971630950273, 7131.55021452184, 7643.406266669516, 8191.999999999989, 8779.968205097302, 9410.136924135699, 10085.535034121542, 10809.408805051537, 11585.23750296038, 12416.750112853166, 13307.943261900546, 14263.10042904368, 15286.812533339033, 16383.999999999978, 17559.936410194605, 18820.273848271398, 20171.070068243083, 21618.817610103073, 23170.47500592076, 24833.50022570633, 26615.88652380109, 28526.20085808736, 30573.625066678065, 32767.999999999956, 35119.87282038921, 37640.547696542795, 40342.14013648617, 43237.635220206146, 46340.95001184152, 49667.00045141266, 53231.77304760218, 57052.40171617472, 61147.25013335613, 65535.99999999991, 70239.74564077842, 75281.09539308559, 80684.28027297233, 86475.27044041229, 92681.90002368305, 99334.00090282533, 106463.54609520436, 114104.80343234944, 122294.50026671226, 131071.99999999983, 140479.49128155684, 150562.19078617118, 161368.56054594467, 172950.54088082458, 185363.8000473661, 198668.00180565065, 212927.09219040873, 228209.60686469887, 244589.00053342452, 262143.99999999965, 280958.9825631137, 301124.38157234236, 322737.12109188933, 345901.08176164917, 370727.6000947322, 397336.0036113013, 425854.18438081746, 456419.21372939774, 489178.00106684904, 524287.9999999993, 561917.9651262274, 602248.7631446847, 645474.2421837787, 691802.1635232983, 741455.2001894644, 794672.0072226026, 851708.3687616349, 912838.4274587955, 978356.0021336981, 1048575.9999999986, 1123835.9302524547, 1204497.5262893694, 1290948.4843675573, 1383604.3270465967, 1482910.4003789288, 1589344.0144452052, 1703416.7375232698, 1825676.854917591, 1956712.0042673962, 2097151.9999999972, 2247671.8605049094, 2408995.052578739, 2581896.9687351147, 2767208.6540931934, 2965820.8007578575, 3178688.0288904104, 3406833.4750465397, 3651353.709835182, 3913424.0085347923, 4194303.9999999944, 4495343.721009819, 4817990.105157478, 5163793.937470229, 5534417.308186387, 5931641.601515715, 6357376.057780821, 6813666.950093079, 7302707.419670364, 7826848.017069585, 8388607.999999989, 8990687.442019638, 9635980.210314956, 10327587.874940459, 11068834.616372773, 11863283.20303143, 12714752.115561642, 13627333.900186159, 14605414.839340728, 15653696.03413917, 16777215.999999978, 17981374.884039275, 19271960.42062991, 20655175.749880917, 22137669.232745547, 23726566.40606286, 25429504.231123284, 27254667.800372317, 29210829.678681456, 31307392.06827834, 33554431.999999955, 35962749.76807855, 38543920.84125982, 41310351.499761835, 44275338.46549109, 47453132.81212572, 50859008.46224657, 54509335.600744635, 58421659.35736291, 62614784.13655668, 67108863.99999991, 71925499.5361571, 77087841.68251964, 82620702.99952367, 88550676.93098219, 94906265.62425144, 100000000.0], :y=>[(0.002357614635446592+3.788296762414802e-06i), (0.002357614637591099+4.060195938159597e-06i), (0.0023576146400542397+4.351610259206335e-06i), (0.002357614642883976+4.663940395104767e-06i), (0.002357614646134376+4.998687546308001e-06i), (0.002357614649867612+5.357460659623474e-06i), (0.0023576146541561815+5.741984161541882e-06i), (0.002357614659082019+6.154106246613834e-06i), (0.002357614664741603+6.595807760712043e-06i), (0.0023576146712414037+7.069211721875927e-06i), (0.0023576146787085417+7.576593524500271e-06i), (0.0023576146872860138+8.120391875913735e-06i), (0.002357614697138577+8.703220517913484e-06i), (0.0023576147084560795+9.32788078959497e-06i), (0.002357614721457124+9.997375091859392e-06i), (0.002357614736390512+1.0714921318315456e-05i), (0.0023576147535460112+1.1483968321936943e-05i), (0.0023576147732508046+1.230821249181579e-05i), (0.0023576147958863647+1.319161551968584e-05i), (0.002357614821887566+1.4138423441611833e-05i), (0.002357614851755452+1.5153187046365872e-05i), (0.00235761488606423+1.62407837485838e-05i), (0.0023576149254745937+1.7406441031833557e-05i), (0.002357614970745936+1.86557615742735e-05i), (0.0023576150227485604+1.999475017766591e-05i), (0.002357615082483555+2.142984262917898e-05i), (0.0023576151511019994+2.2967936634699503e-05i), (0.00235761522992306+2.4616424972336543e-05i), (0.0023576153204655226+2.6383231025465876e-05i), (0.0023576154244709935+2.827684686610363e-05i), (0.002357615543941649+3.0306374071654475e-05i), (0.0023576156811770943+3.2481567471218456e-05i), (0.002357615838820215+3.481288203171995e-05i), (0.002357616019904807+3.7311523109215384e-05i), (0.0023576162279151935+3.998950030690898e-05i), (0.0023576164668567268+4.285968519874237e-05i), (0.0023576167413287274+4.593587319600372e-05i), (0.002357617056614081+4.923284985431283e-05i), (0.002357617418782043+5.276646193968527e-05i), (0.0023576178348034826+5.6553693595246686e-05i), (0.002357618312686771+6.0612747974690806e-05i), (0.0023576188616307725+6.496313473484364e-05i), (0.0023576194922017013+6.962576380786265e-05i), (0.002357620216537515+7.46230459037783e-05i), (0.002357621048580949+7.997900022643522e-05i), (0.002357622004347415+8.571936992056068e-05i), (0.0023576231022346406+9.187174580484494e-05i), (0.002357624363376609+9.846569898574393e-05i), (0.0023576258120479032+0.00010553292298939877i), (0.0023576274761341054+0.00011310738609480976i), (0.0023576293876681476+0.0001212254946004366i), (0.0023576315834429318+0.00012992626780894122i), (0.002357634105726758+0.000139251525571107i), (0.002357637003069568+0.00014924608929033626i), (0.0023576403312423055+0.00015995799735380863i), (0.0023576441543088356+0.00017143873602572902i), (0.00235764854585907+0.0001837434869123907i), (0.0023576535904259455+0.00019693139218843455i), (0.0023576593851115657+0.00021106583885902358i), (0.0023576660414571515+0.00022621476342414947i), (0.0023576736875899895+0.00024245097840931414i), (0.0023576824706892374+0.00025985252233191517i), (0.002357692559822544+0.00027850303478526954i), (0.002357704149192341+0.0002984921584429119i), (0.0023577174618820695+0.00031991596991512645i), (0.0023577327541463022+0.00034287744152832145i), (0.002357750320344354+0.00036748693624639366i), (0.0023577704986066372+0.00039386273811244766i), (0.0023577936773422348+0.00042213162075986464i), (0.0023578203027168065+0.0004524294567245534i), (0.0023578508872383885+0.00048490187048617363i), (0.0023578860196258322+0.000519704938376115i), (0.0023579263761382974+0.0005570059387150202i), (0.0023579727335938383+0.0005969841557837922i), (0.0023580259843217766+0.0006398317414904i), (0.0023580871533385173+0.0006857546388716603i), (0.0023581574180776554+0.0007349735718658359i), (0.0023582381310554013+0.0007877251061097417i), (0.0023583308459045327+0.0008442627858545784i), (0.0023584373472774756+0.0009048583524595779i), (0.002358559685201156+0.000969803050313329i), (0.0023587002145358804+0.0010394090264513897i), (0.0023588616403033003+0.0011140108305871205i), (0.00235904706975143+0.001193967022753071i), (0.0023592600721684676+0.0012796618962644369i), (0.002359504747581842+0.0013715073242669346i), (0.002359785805678194+0.001469944738720983i), (0.0023601086564553064+0.0015754472513052104i), (0.002360479514353364+0.00168852192639779i), (0.002360905517870271+0.0018097122170168281i), (0.0023613948669584106+0.0019396005753741794i), (0.0023619569808575047+0.0020788112505238563i), (0.00236260267938615+0.0022280132864702248i), (0.002363344391188349+0.002387923735045688i), (0.002364196392952378+0.0025593110988766693i), (0.002365175084176885+0.0027429990208340783i), (0.0023662993028013+0.002939870237513836i), (0.0023675906877516084+0.003150870815518805i), (0.0023690740953852263+0.0033770146906193952i), (0.0023707780778362553+0.0036193885312601993i), (0.0023727354324741823+0.003879156949358041i), (0.0023749838330270334+0.004157568082906621i), (0.002377566554507382+0.004455959576567368i), (0.002380533305882171+0.004775764988188253i), (0.0023839411864805538+0.005118520651053712i), (0.002387855784518389+0.00548587302363084i), (0.002392352438844614+0.0058795865606386544i), (0.0023975176881324556+0.006301552141426647i), (0.0024034509353310085+0.006753796093901218i), (0.002410266359330504+0.00723848985457642i), (0.0024180951104799675+0.007757960307736989i), (0.0024270878320604705+0.008314700849171287i), (0.002437417556003907+0.008911383222435907i), (0.0024492830282967226+0.009550870178123408i), (0.002462912527659511+0.010236229009079358i), (0.0024785682504813167+0.010970746016902457i), (0.002496551345696374+0.011757941967295902i), (0.0025172076955863876+0.012601588593832709i), (0.0025409345525461147+0.013505726211344526i), (0.0025681881579273647+0.01447468250130447i), (0.002599492487483035+0.015513092532076639i), (0.00263544928889492+0.01662592007653305i), (0.002676749600874828+0.01781848028802064i), (0.002724186970634701+0.01909646379266085i), (0.0027786726176399767+0.020465962251066734i), (0.0028412528269747828+0.02193349543524609i), (0.002913128895810302+0.023506039856091326i), (0.0029956800020393137+0.025191058962645264i), (0.0030904894156478235+0.026996534915315114i), (0.0031993745314946587+0.02893100191019374i), (0.003324421267533073+0.0310035809991907i), (0.003468023445736601+0.033224016309000064i), (0.0036329278546737287+0.03560271250888313i), (0.0038222857833873913+0.0381507733102031i), (0.004039711916203226+0.04088004069644826i), (0.0042893515875628285+0.04380313447730576i), (0.004575957514535989+0.04693349162961639i), (0.004904977251568798+0.05028540472629491i), (0.005282652745674965+0.05387405855504656i), (0.0057161335079274345+0.05771556378432178i), (0.006213605054716798+0.06182698623550671i), (0.00678443440358667+0.06622636995756645i), (0.007439334524883434+0.0709327518615125i), (0.008190549739671038+0.07596616514407337i), (0.009052064099783985+0.08134762809849051i), (0.01003983476494108+0.08709911416036603i), (0.01117205227494289+0.09324349815280453i), (0.01246942936316664+0.09980447266374932i), (0.013955519520935766+0.10680642729850444i), (0.01565706583750337+0.11427428219693368i), (0.01760437962818917+0.12223326569267998i), (0.019831746926967653+0.13070862434154334i), (0.022377858943646634+0.13972525180190695i), (0.025286259935101696+0.1493072212894981i), (0.028605802464079066+0.1594772046763042i), (0.03239109555797748+0.17025575994660183i), (0.03670292567800315+0.18166046793117172i), (0.041608623536889766+0.1937048993857594i), (0.04718234159341139+0.20639739505599733i), (0.053505197548892824+0.21973964500989562i), (0.060665228602876486+0.23372505999207124i), (0.06875709009383346+0.2483369377520325i), (0.0778814213420711+0.2635464421745246i), (0.08814379241320403+0.2793104334929519i), (0.09965314012815218+0.2955692145540062i), (0.11251960262374983+0.31224429115367563i), (0.1268516724056643+0.3292362831061607i), (0.14275261182864052+0.34642316480000335i), (0.16031611591778105+0.36365905557267253i), (0.17962126817526325+0.38077381514662284i), (0.20072691626727857+0.39757371923962564i), (0.22366569364354016+0.41384348519316166i), (0.24843802284045302+0.4293498765417862i), (0.27500654342630904+0.443847030177686i), (0.30329149371582065+0.4570835163107431i), (0.3331676182850368+0.46881096413357715i), (0.3644631509144046+0.4787938801435913i), (0.39696131866375806+0.48682007809925815i), (0.43040462325672435+0.4927109652031597i), (0.46450189389988683+0.4963308266796022i), (0.49893780279384686+0.4975942524991402i), (0.5333842374907023+0.49647097161801285i), (0.567512685266647+0.4929875936578076i), (0.6010066495051436+0.4872260738206596i), (0.633573113756596+0.4793190634766236i), (0.6649521965335514+0.4694426283437511i), (0.6949243734947466+0.4578070571051105i), (0.7233149386299054+0.4446466125950424i), (0.749995680064949+0.43020908665682556i), (0.7748840118936113+0.4147459231405568i), (0.797939998176873+0.3985035025808817i), (0.8191618146676216+0.38171597512867667i), (0.8385802210269556+0.3645998213147406i), (0.8562525769273628+0.3473501405305501i), (0.8722568513400435+0.3301385306314139i), (0.8866859678310898+0.3131123337738677i), (0.8996427187005674+0.29639498007814236i), (0.9112353806931697+0.28008715347412094i), (0.9215740824965771+0.2642685226716252i), (0.9307679122006077+0.24899981442137406i), (0.9389227107213409+0.23432504759277448i), (0.9461394722232531+0.22027378879444012i), (0.9525132611968015+0.2068633292051372i), (0.9581325543596733+0.19410071572578408i), (0.9630789206233756+0.1819845966589904i), (0.9674269612962774+0.17050686295675396i), (0.9712444434417614+0.15965408128215047i), (0.9745925704524011+0.14940872559800683i), (0.9775263445239948+0.13975022067783444i), (0.9800949852939184+0.13065581472877658i), (0.9823423772042379+0.12210130000293132i), (0.9843075251071595+0.1140616004927049i), (0.9860250033109623+0.10651124506048419i), (0.9875253877950781+0.09942474302197686i), (0.9888356648583649+0.0927768775612887i), (0.9899796121650056+0.08654293059620109i), (0.9909781501695285+0.08069885096208475i), (0.9918496633720045+0.07522137612256966i), (0.9926102918936869+0.07008811609010981i), (0.993274194570266+0.06527760687158495i), (0.9938537852147991+0.06076933954846674i), (0.9943599439696975+0.056543770052932825i), (0.994802205797811+0.05258231379941867i), (0.995188928196276+0.04886732856084915i), (0.9955274401836912+0.04538208832399095i), (0.9958241745342348+0.04211075030246113i), (0.9960847851283373+0.03903831681253232i), (0.996314251170384+0.03615059331011811i), (0.9965169698974006+0.03343414353170902i), (0.9966968392728541+0.03087624236226478i), (0.9968573320268044+0.028464826753619707i), (0.9970015622636642+0.026188444721625882i), (0.9971323457019401+0.024036202141784636i), (0.9972522544186574+0.02199770672309818i), (0.9973636667149102+0.02006300814948098i), (0.997468812350416+0.018222532920451593i), (0.9975698128402513+0.01646701188890435i), (0.9976687156549184+0.014787397894427528i), (0.9977675198543092+0.013174770280441075i), (0.9978681886953913+0.011620222603802782i), (0.997972641804552+0.010114729798963622i), (0.9980827153083753+0.00864899202641727i), (0.9982000727076371+0.007213255442366942i), (0.9983260425491642+0.005797116824429316i), (0.9984613524997675+0.0043893317229347275i), (0.9986057268729688+0.0029776672347038274i), (0.9987573232727466+0.0015488720499474626i), (0.9989120155615085+8.887462714050366e-05i), (0.9990625987039717-0.0014166495742620458i), (0.9991981018944668-0.00298121170939599i), (0.9993035256246665-0.004615913898245093i), (0.9993603875680509-0.006327517774018376i), (0.9993483464940746-0.008116674109684828i), (0.999247791425539-0.00997701421886358i), (0.9990427531099819-0.011895653224535474i), (0.9987231872866834-0.013855063528043565i), (0.9982859637785995-0.015835563584066546i), (0.997734708039333-0.01781742277533018i), (0.9970793768862751-0.01978213202462596i), (0.9963364221091585-0.02171338817106228i), (0.995529451096792-0.02359895322052606i), (0.9946890645311675-0.02543404687491975i), (0.9938501936947477-0.027225358664869123i), (0.9930465706108941-0.028993319862791647i), (0.9923042239337023-0.03077057324269827i), (0.9916370275109243-0.03259681067718658i), (0.9911846134055093-0.03403129141133816i)], :name=>\"V(vin)\"}, {:x=>[1.0, 1.0717734625362931, 1.1486983549970349, 1.231144413344916, 1.319507910772894, 1.4142135623730947, 1.5157165665103978, 1.6245047927124707, 1.7411011265922478, 1.8660659830736144, 1.9999999999999996, 2.143546925072586, 2.2973967099940693, 2.4622888266898317, 2.6390158215457875, 2.828427124746189, 3.0314331330207946, 3.2490095854249406, 3.4822022531844947, 3.7321319661472274, 3.9999999999999973, 4.28709385014517, 4.594793419988137, 4.924577653379662, 5.278031643091573, 5.656854249492376, 6.0628662660415875, 6.4980191708498785, 6.964404506368987, 7.464263932294452, 7.999999999999992, 8.574187700290336, 9.18958683997627, 9.84915530675932, 10.556063286183143, 11.313708498984749, 12.125732532083171, 12.996038341699753, 13.92880901273797, 14.9285278645889, 15.99999999999998, 17.14837540058067, 18.379173679952537, 19.698310613518636, 21.112126572366282, 22.627416997969494, 24.25146506416634, 25.992076683399503, 27.857618025475936, 29.857055729177798, 31.999999999999957, 34.29675080116134, 36.75834735990507, 39.39662122703727, 42.224253144732565, 45.25483399593899, 48.50293012833268, 51.984153366799006, 55.71523605095187, 59.714111458355596, 63.999999999999915, 68.59350160232268, 73.51669471981015, 78.79324245407454, 84.44850628946513, 90.50966799187798, 97.00586025666536, 103.96830673359801, 111.43047210190375, 119.42822291671119, 127.99999999999983, 137.18700320464535, 147.0333894396203, 157.5864849081491, 168.89701257893026, 181.01933598375595, 194.01172051333072, 207.93661346719603, 222.8609442038075, 238.85644583342238, 255.99999999999966, 274.3740064092907, 294.0667788792406, 315.1729698162982, 337.7940251578605, 362.0386719675119, 388.02344102666143, 415.87322693439205, 445.721888407615, 477.71289166684477, 511.9999999999993, 548.7480128185814, 588.1335577584812, 630.3459396325964, 675.588050315721, 724.0773439350238, 776.0468820533229, 831.7464538687841, 891.44377681523, 955.4257833336895, 1023.9999999999986, 1097.4960256371628, 1176.2671155169623, 1260.6918792651927, 1351.176100631442, 1448.1546878700476, 1552.0937641066457, 1663.4929077375682, 1782.88755363046, 1910.851566667379, 2047.9999999999973, 2194.9920512743256, 2352.5342310339247, 2521.3837585303854, 2702.352201262884, 2896.309375740095, 3104.1875282132914, 3326.9858154751364, 3565.77510726092, 3821.703133334758, 4095.9999999999945, 4389.984102548651, 4705.068462067849, 5042.767517060771, 5404.704402525768, 5792.61875148019, 6208.375056426583, 6653.971630950273, 7131.55021452184, 7643.406266669516, 8191.999999999989, 8779.968205097302, 9410.136924135699, 10085.535034121542, 10809.408805051537, 11585.23750296038, 12416.750112853166, 13307.943261900546, 14263.10042904368, 15286.812533339033, 16383.999999999978, 17559.936410194605, 18820.273848271398, 20171.070068243083, 21618.817610103073, 23170.47500592076, 24833.50022570633, 26615.88652380109, 28526.20085808736, 30573.625066678065, 32767.999999999956, 35119.87282038921, 37640.547696542795, 40342.14013648617, 43237.635220206146, 46340.95001184152, 49667.00045141266, 53231.77304760218, 57052.40171617472, 61147.25013335613, 65535.99999999991, 70239.74564077842, 75281.09539308559, 80684.28027297233, 86475.27044041229, 92681.90002368305, 99334.00090282533, 106463.54609520436, 114104.80343234944, 122294.50026671226, 131071.99999999983, 140479.49128155684, 150562.19078617118, 161368.56054594467, 172950.54088082458, 185363.8000473661, 198668.00180565065, 212927.09219040873, 228209.60686469887, 244589.00053342452, 262143.99999999965, 280958.9825631137, 301124.38157234236, 322737.12109188933, 345901.08176164917, 370727.6000947322, 397336.0036113013, 425854.18438081746, 456419.21372939774, 489178.00106684904, 524287.9999999993, 561917.9651262274, 602248.7631446847, 645474.2421837787, 691802.1635232983, 741455.2001894644, 794672.0072226026, 851708.3687616349, 912838.4274587955, 978356.0021336981, 1048575.9999999986, 1123835.9302524547, 1204497.5262893694, 1290948.4843675573, 1383604.3270465967, 1482910.4003789288, 1589344.0144452052, 1703416.7375232698, 1825676.854917591, 1956712.0042673962, 2097151.9999999972, 2247671.8605049094, 2408995.052578739, 2581896.9687351147, 2767208.6540931934, 2965820.8007578575, 3178688.0288904104, 3406833.4750465397, 3651353.709835182, 3913424.0085347923, 4194303.9999999944, 4495343.721009819, 4817990.105157478, 5163793.937470229, 5534417.308186387, 5931641.601515715, 6357376.057780821, 6813666.950093079, 7302707.419670364, 7826848.017069585, 8388607.999999989, 8990687.442019638, 9635980.210314956, 10327587.874940459, 11068834.616372773, 11863283.20303143, 12714752.115561642, 13627333.900186159, 14605414.839340728, 15653696.03413917, 16777215.999999978, 17981374.884039275, 19271960.42062991, 20655175.749880917, 22137669.232745547, 23726566.40606286, 25429504.231123284, 27254667.800372317, 29210829.678681456, 31307392.06827834, 33554431.999999955, 35962749.76807855, 38543920.84125982, 41310351.499761835, 44275338.46549109, 47453132.81212572, 50859008.46224657, 54509335.600744635, 58421659.35736291, 62614784.13655668, 67108863.99999991, 71925499.5361571, 77087841.68251964, 82620702.99952367, 88550676.93098219, 94906265.62425144, 100000000.0], :y=>[(-8.937146013732039e-17+1.1198239193297899e-13i), (-1.026608492431998e-16+1.2001975599983834e-13i), (-1.179263486479676e-16+1.2863398952808698e-13i), (-1.354618027023383e-16+1.3786649643934137e-13i), (-1.5560474992859607e-16+1.477616523586773e-13i), (-1.787429202720263e-16+1.5836701790428765e-13i), (-2.053216984829497e-16+1.6973356728562596e-13i), (-2.358526972913829e-16+1.8191593330892055e-13i), (-2.7092360539867015e-16+1.9497266996768744e-13i), (-3.1120949984926636e-16+2.0896653388007002e-13i), (-3.5748584053359476e-16+2.2396478592649712e-13i), (-4.106433969521007e-16+2.400395145365128e-13i), (-4.717053945645579e-16+2.572679821793695e-13i), (-5.418472107733147e-16+2.7573299672375776e-13i), (-6.224189996668315e-16+2.955233094512028e-13i), (-7.149716810253592e-16+3.1673404163656683e-13i), (-8.212867938490024e-16+3.3946714174644954e-13i), (-9.43410789056283e-16+3.6383187545150894e-13i), (-1.083694421450526e-15+3.8994535081084073e-13i), (-1.2448379992068521e-15+4.179330811494636e-13i), (-1.4299433618833921e-15+4.4792958833720857e-13i), (-1.642573587477221e-15+4.800790493674317e-13i), (-1.8868215778212363e-15+5.145359893440495e-13i), (-2.167388842516643e-15+5.514660242081135e-13i), (-2.489675997906472e-15+5.91046656773088e-13i), (-2.85988672309749e-15+6.33468129897423e-13i), (-3.2851471740712976e-15+6.789343408940306e-13i), (-3.7736431544771585e-15+7.2766382157222e-13i), (-4.334777683495644e-15+7.79890788625696e-13i), (-4.97935199378402e-15+8.358662694134148e-13i), (-5.7197734435177805e-15+8.958593085477568e-13i), (-6.57029434461003e-15+9.601582610898986e-13i), (-7.547286304293066e-15+1.0290721785708367e-12i), (-8.66955536084071e-15+1.102932294500742e-12i), (-9.958703979452318e-15+1.18209361651167e-12i), (-1.1439546876326803e-14+1.2669366327892893e-12i), (-1.314058867508978e-14+1.3578691409980154e-12i), (-1.5094572589941107e-14+1.4553282084981266e-12i), (-1.7339110697079202e-14+1.5597822732833193e-12i), (-1.991740792644175e-14+1.6717333957426471e-12i), (-2.2879093709818622e-14+1.791719672082807e-12i), (-2.6281177293658457e-14+1.920317821021593e-12i), (-3.018914510530217e-14+2.0581459562034787e-12i), (-3.467822129574944e-14+2.205866557677232e-12i), (-3.983481572303214e-14+2.3641896567477513e-12i), (-4.575818724829728e-14+2.5338762495330064e-12i), (-5.2562354361232394e-14+2.7157419556743296e-12i), (-6.037828991228408e-14+2.9106609398255353e-12i), (-6.935644219786302e-14+3.1195701148225235e-12i), (-7.966963092665864e-14+3.343473646812099e-12i), (-9.151637381123472e-14+3.5834477840632612e-12i), (-1.0512470781812704e-13+3.84064603277567e-12i), (-1.2075657863128735e-13+4.1163047048989655e-12i), (-1.3871288282118244e-13+4.411748864760012e-12i), (-1.593392597756945e-13+4.728398703287789e-12i), (-1.830327448810302e-13+5.067776370701089e-12i), (-2.1024941201890314e-13+5.431513300778955e-12i), (-2.415131524894517e-13+5.821358062283204e-12i), (-2.77425759344191e-13+6.239184775690775e-12i), (-3.186785112408993e-13+6.6870021362393534e-12i), (-3.6606547879630265e-13+7.166963087303549e-12i), (-4.2049880956840375e-13+7.681375191407002e-12i), (-4.830262858864116e-13+8.232711749730746e-12i), (-5.548514934956888e-13+8.823623724753806e-12i), (-6.373569892398411e-13+9.45695252490212e-12i), (-7.321309137295802e-13+1.0135743714459768e-11i), (-8.409975612591982e-13+1.0863261716966417e-11i), (-9.660524954028651e-13+1.1643005585579442e-11i), (-1.1097028862206166e-12+1.2478725919679635e-11i), (-1.2747138455118718e-12+1.3374443013305346e-11i), (-1.4642616520070906e-12+1.4334466327903953e-11i), (-1.6819948910080144e-12+1.5363415389502735e-11i), (-1.9321046853259695e-12+1.6466242218686224e-11i), (-2.219405369358301e-12+1.764825541104706e-11i), (-2.549427159152666e-12+1.891514599593986e-11i), (-2.9285226022061578e-12+2.0273015212704474e-11i), (-3.3639888559748865e-12+2.172840435623741e-11i), (-3.8642081487334745e-12+2.3288326857912286e-11i), (-4.438809126385738e-12+2.496030278383718e-11i), (-5.098852190822354e-12+2.6752395950504965e-11i), (-5.857042397182205e-12+2.8673253878338363e-11i), (-6.727974007788238e-12+3.0732150827040606e-11i), (-7.728411409797661e-12+3.2939034183465263e-11i), (-8.877611803455005e-12+3.530457450352812e-11i), (-1.0197695871723327e-11+3.78402195455698e-11i), (-1.1714073565459983e-11+4.0558252673914675e-11i), (-1.3455933198954496e-11+4.347185606013609e-11i), (-1.5456803268954962e-11+4.659517916632092e-11i), (-1.7755197809699816e-11+4.994341306193802e-11i), (-2.03953577038455e-11+5.353287120513256e-11i), (-2.3428102215430153e-11+5.7381077413824115e-11i), (-2.6911807131615082e-11+6.150686186430505e-11i), (-3.0913528335642286e-11+6.593046608948986e-11i), (-3.551029243100426e-11+7.067365811034757e-11i), (-4.0790579249962026e-11+7.575985902829726e-11i), (-4.685602476992453e-11+8.121428263959464e-11i), (-5.382337719960576e-11+8.706408991681161e-11i), (-6.182674386456584e-11+9.333856054397758e-11i), (-7.102017211199105e-11+1.0006928410849575e-10i), (-8.158061387440925e-11+1.0729037405796743e-10i), (-9.371133090429389e-11+1.1503870814594916e-10i), (-1.0764580615712471e-10+1.233541998399904e-10i), (-1.2365223652106648e-10+1.3228010608168745e-10i), (-1.4203869325242372e-10+1.4186337790644348e-10i), (-1.631590492899752e-10+1.521550617985966e-10i), (-1.8741978733186863e-10+1.6321076133204205e-10i), (-2.1528781944518194e-10+1.7509117069567149e-10i), (-2.4729946836035213e-10+1.8786269421675645e-10i), (-2.840707828466963e-10+2.015981690742546e-10i), (-3.263093850902801e-10+2.163777121751315e-10i), (-3.7482807728084145e-10+2.322897168013774e-10i), (-4.3056046820829043e-10+2.494320303300068e-10i), (-4.945789191973367e-10+2.679133513177884e-10i), (-5.681151528852991e-10+2.8785489282692956e-10i), (-6.525839189872537e-10+3.093923694152376e-10i), (-7.496101692215098e-10+3.3267837817127526e-10i), (-8.610602600410722e-10+3.5788526009695376e-10i), (-9.890777779298737e-10+3.8520854770509933e-10i), (-1.136124669131954e-09+4.1487112874276623e-10i), (-1.3050284553201855e-09+4.4712828549856005e-10i), (-1.4990364306064703e-09+4.822738054618453e-10i), (-1.7218778653899972e-09+5.206474037150576e-10i), (-1.9778353910083375e-09+5.626437522592969e-10i), (-2.2718269084215803e-09+6.087234788113151e-10i), (-2.60949955690881e-09+6.594265803199762e-10i), (-2.9973374979458412e-09+7.153887980113939e-10i), (-3.4427855182919665e-09+7.773616254497055e-10i), (-3.954390738327777e-09+8.462367740986655e-10i), (-4.541965030570217e-09+9.23076108553999e-10i), (-5.216771112930007e-09+1.0091482937260328e-09i), (-5.991735685633389e-09+1.1059736782364403e-09i), (-6.881693433703601e-09+1.215379283610691e-09i), (-7.903666222111613e-09+1.3395661913870383e-09i), (-9.077182371208319e-09+1.48119213687315e-09i), (-1.0424641517891224e-08+1.643472749196734e-09i), (-1.1971731243603967e-08+1.8303056469423115e-09i), (-1.3747902381803332e-08+2.0464225361867352e-09i), (-1.5786910699596694e-08+2.297575597931218e-09i), (-1.812743347060704e-08+2.5907658359575735e-09i), (-2.0813770301767058e-08+2.9345227324364844e-09i), (-2.3896638419441917e-08+3.3392465836651145e-09i), (-2.7434073421398083e-08+3.8176273272503595e-09i), (-3.149244720552474e-08+4.38515659898103e-09i), (-3.61476153170745e-08+5.060753255382683e-09i), (-4.148620620856939e-08+5.867526756921081e-09i), (-4.760706473939116e-08+6.833707722387215e-09i), (-5.462286146871007e-08+7.993780733005762e-09i), (-6.266187767205901e-08+9.389861173776257e-09i), (-7.186997322484453e-08+1.107336561894308e-08i), (-8.241274014771058e-08+1.31070340310763e-08i), (-9.447783820294322e-08+1.5567371819424774e-08i), (-1.082774998610582e-07+1.8547590465664525e-08i), (-1.2405117949618713e-07+2.2161136700039408e-08i), (-1.420683049735943e-07+2.654591161384591e-08i), (-1.626310679173426e-07+3.186929184799968e-08i), (-1.8607716088791044e-07+3.8334073931050626e-08i), (-2.1278233448099626e-07+4.6185468270036105e-08i), (-2.431626041681636e-07+5.571926889915956e-08i), (-2.7767588511006996e-07+6.72913157740354e-08i), (-3.168227734603173e-07+8.132834421372784e-08i), (-3.611461262633072e-07+9.834027621499517e-08i), (-4.1122902206807695e-07+1.1893394522100045e-07i), (-4.6769061636666355e-07+1.4382815356394234e-07i), (-5.311793485947491e-07+1.7386983459047907e-07i), (-6.023629231865347e-07+2.100509253141335e-07i), (-6.819144927150807e-07+2.535253495050542e-07i), (-7.704945370416476e-07+3.056252702804369e-07i), (-8.687280817568168e-07+3.6787550887943767e-07i), (-9.77177154718812e-07+4.420047672204887e-07i), (-1.0963087584736875e-06+5.299520745269643e-07i), (-1.2264591435625287e-06+6.338667551857178e-07i), (-1.3677957868132995e-06+7.561002492515444e-07i), (-1.5202791635650535e-06+8.991883744121541e-07i), (-1.6836270718056252e-06+1.065823153196512e-06i), (-1.8572848033394394e-06+1.2588141657571587e-06i), (-2.0404047232277357e-06+1.4810404994799834e-06i), (-2.2318386758999257e-06+1.7353956570532118e-06i), (-2.4301459830218465e-06+2.02472908771815e-06i), (-2.6336186088271673e-06+2.3517890994309767e-06i), (-2.8403234249237377e-06+2.7191725525055505e-06i), (-3.0481596069068336e-06+3.129286727444553e-06i), (-3.2549273308178063e-06+3.584328000843838e-06i), (-3.4584024360370655e-06+4.086280497818406e-06i), (-3.6564108683951738e-06+4.6369359152331056e-06i), (-3.8468966821237075e-06+5.237933543338529e-06i), (-4.027978167093323e-06+5.890817516641527e-06i), (-4.197988118736076e-06+6.597106819563151e-06i), (-4.3554961013764835e-06+7.358372765555386e-06i), (-4.4993124438329965e-06+8.17631861411813e-06i), (-4.628475353061683e-06+9.052856596420946e-06i), (-4.742223731576922e-06+9.990178690988724e-06i), (-4.83995894777231e-06+1.0990818786626673e-05i), (-4.921198954151876e-06+1.2057705164971832e-05i), (-4.985527874184767e-06+1.3194203358516827e-05i), (-5.032543620226606e-06+1.440415029182614e-05i), (-5.061805401965153e-06+1.5691881162487956e-05i), (-5.072782254446736e-06+1.7062250785040402e-05i), (-5.064803040004476e-06+1.8520651158211924e-05i), (-5.037007806677368e-06+2.0073026888178515e-05i), (-4.988299933964993e-06+2.1725889870962836e-05i), (-4.9172981601301886e-06+2.3486334357761396e-05i), (-4.82228734569195e-06+2.5362053235967062e-05i), (-4.701166661227446e-06+2.7361356079957554e-05i), (-4.5513937692555455e-06+2.949318927134487e-05i), (-4.369923477141113e-06+3.176715826111127e-05i), (-4.153139251617148e-06+3.419355184222271e-05i), (-3.8967758906028224e-06+3.6783368113051106e-05i), (-3.5958315330387817e-06+3.954834162880756e-05i), (-3.2444670439642e-06+4.2500971048174666e-05i), (-2.83589063375476e-06+4.5654546372237974e-05i), (-2.3622253526540857e-06+4.902317462832932e-05i), (-1.814356840889138e-06+5.262180255667472e-05i), (-1.1817584079835914e-06+5.6466234494824204e-05i), (-4.5229016029043614e-07+6.0573143202782e-05i), (3.8803150799728333e-07+6.496007080545617e-05i), (1.3552981980557132e-06+6.964541631792164e-05i), (2.468012201774377e-06+7.464840532514208e-05i), (3.7474327895492125e-06+7.998903626391515e-05i), (5.21797184539981e-06+8.568799634137322e-05i), (6.907645193341388e-06+9.17665383462929e-05i), (8.848586533176271e-06+9.824630737172376e-05i), (1.107763141639978e-05+0.00010514910364976662i), (1.3636979070561862e-05+0.00011249656414956982i), (1.6574940010840245e-05+0.00012030974111576385i), (1.9946777090273103e-05+0.0001286085500853829i), (2.3815646678497242e-05+0.00013741105281606927i), (2.8253644639217564e-05+0.00014673253161640146i), (3.334295812787409e-05+0.00015658430034233453i), (3.917711810659401e-05+0.00016697218328568065i), (4.586233762402552e-05+0.00017789457574315828i), (5.351890549705818e-05+0.00018933997861771379i), (6.22825813773589e-05+0.00020128387347019723i), (7.230590239904895e-05+0.00021368477384716824i), (8.375925810674858e-05+0.00022647925407717106i), (9.683151127937643e-05+0.00023957572026002852i), (0.00011172982672956107+0.00025284665509636933i), (0.00012867820371790655+0.0002661190492052125i), (0.0001479139721722398+0.0002791627468514875i), (0.00016968118818162938+0.0002916765196798123i), (0.00019421943295857636+0.00030327189979378086i), (0.00022174598011451206+0.0003134552535803707i), (0.00025242869038663075+0.0003216094133819287i), (0.00028634645875777833+0.0003269776198161732i), (0.00032343390152155275+0.0003286548184083737i), (0.00036340787760769815+0.00032559470034351144i), (0.00040567650380719876+0.0003166451663717097i), (0.0004492381463704646+0.0003006291689375171i), (0.00049259007878988+0.0002764895016993884i), (0.0005336842105605451+0.00024350987886354833i), (0.0005699860111372173+0.00020160328064562118i), (0.0005986995148372455+0.00015161672230088073i), (0.0006171946565530706+9.554582455226014e-05i), (0.0006235953106299195+3.651263476074646e-05i), (0.0006173701280605474-2.161379636315068e-05i), (0.0005996785335122452-7.494864596064558e-05i), (0.0005732508318154349-0.00012048116315075575i), (0.0005417545692513513-0.00015679726152761892i), (0.0005088317211987171-0.00018433783311385947i), (0.0004771406799585905-0.00020507609977494463i), (0.0004477348536178101-0.00022171714857867824i), (0.00041999345477606025-0.0002366868075703782i), (0.00039214312592255674-0.00025126245107961207i), (0.00036218771921217455-0.00026518499229270386i), (0.00032885640532398107-0.0002769184595301648i), (0.00029214421121243165-0.0002844066161056361i), (0.0002532524150949194-0.00028591593895594883i), (0.00022362462479053342-0.00028253046660289247i)], :name=>\"V(nc_01)\"}, {:x=>[1.0, 1.0717734625362931, 1.1486983549970349, 1.231144413344916, 1.319507910772894, 1.4142135623730947, 1.5157165665103978, 1.6245047927124707, 1.7411011265922478, 1.8660659830736144, 1.9999999999999996, 2.143546925072586, 2.2973967099940693, 2.4622888266898317, 2.6390158215457875, 2.828427124746189, 3.0314331330207946, 3.2490095854249406, 3.4822022531844947, 3.7321319661472274, 3.9999999999999973, 4.28709385014517, 4.594793419988137, 4.924577653379662, 5.278031643091573, 5.656854249492376, 6.0628662660415875, 6.4980191708498785, 6.964404506368987, 7.464263932294452, 7.999999999999992, 8.574187700290336, 9.18958683997627, 9.84915530675932, 10.556063286183143, 11.313708498984749, 12.125732532083171, 12.996038341699753, 13.92880901273797, 14.9285278645889, 15.99999999999998, 17.14837540058067, 18.379173679952537, 19.698310613518636, 21.112126572366282, 22.627416997969494, 24.25146506416634, 25.992076683399503, 27.857618025475936, 29.857055729177798, 31.999999999999957, 34.29675080116134, 36.75834735990507, 39.39662122703727, 42.224253144732565, 45.25483399593899, 48.50293012833268, 51.984153366799006, 55.71523605095187, 59.714111458355596, 63.999999999999915, 68.59350160232268, 73.51669471981015, 78.79324245407454, 84.44850628946513, 90.50966799187798, 97.00586025666536, 103.96830673359801, 111.43047210190375, 119.42822291671119, 127.99999999999983, 137.18700320464535, 147.0333894396203, 157.5864849081491, 168.89701257893026, 181.01933598375595, 194.01172051333072, 207.93661346719603, 222.8609442038075, 238.85644583342238, 255.99999999999966, 274.3740064092907, 294.0667788792406, 315.1729698162982, 337.7940251578605, 362.0386719675119, 388.02344102666143, 415.87322693439205, 445.721888407615, 477.71289166684477, 511.9999999999993, 548.7480128185814, 588.1335577584812, 630.3459396325964, 675.588050315721, 724.0773439350238, 776.0468820533229, 831.7464538687841, 891.44377681523, 955.4257833336895, 1023.9999999999986, 1097.4960256371628, 1176.2671155169623, 1260.6918792651927, 1351.176100631442, 1448.1546878700476, 1552.0937641066457, 1663.4929077375682, 1782.88755363046, 1910.851566667379, 2047.9999999999973, 2194.9920512743256, 2352.5342310339247, 2521.3837585303854, 2702.352201262884, 2896.309375740095, 3104.1875282132914, 3326.9858154751364, 3565.77510726092, 3821.703133334758, 4095.9999999999945, 4389.984102548651, 4705.068462067849, 5042.767517060771, 5404.704402525768, 5792.61875148019, 6208.375056426583, 6653.971630950273, 7131.55021452184, 7643.406266669516, 8191.999999999989, 8779.968205097302, 9410.136924135699, 10085.535034121542, 10809.408805051537, 11585.23750296038, 12416.750112853166, 13307.943261900546, 14263.10042904368, 15286.812533339033, 16383.999999999978, 17559.936410194605, 18820.273848271398, 20171.070068243083, 21618.817610103073, 23170.47500592076, 24833.50022570633, 26615.88652380109, 28526.20085808736, 30573.625066678065, 32767.999999999956, 35119.87282038921, 37640.547696542795, 40342.14013648617, 43237.635220206146, 46340.95001184152, 49667.00045141266, 53231.77304760218, 57052.40171617472, 61147.25013335613, 65535.99999999991, 70239.74564077842, 75281.09539308559, 80684.28027297233, 86475.27044041229, 92681.90002368305, 99334.00090282533, 106463.54609520436, 114104.80343234944, 122294.50026671226, 131071.99999999983, 140479.49128155684, 150562.19078617118, 161368.56054594467, 172950.54088082458, 185363.8000473661, 198668.00180565065, 212927.09219040873, 228209.60686469887, 244589.00053342452, 262143.99999999965, 280958.9825631137, 301124.38157234236, 322737.12109188933, 345901.08176164917, 370727.6000947322, 397336.0036113013, 425854.18438081746, 456419.21372939774, 489178.00106684904, 524287.9999999993, 561917.9651262274, 602248.7631446847, 645474.2421837787, 691802.1635232983, 741455.2001894644, 794672.0072226026, 851708.3687616349, 912838.4274587955, 978356.0021336981, 1048575.9999999986, 1123835.9302524547, 1204497.5262893694, 1290948.4843675573, 1383604.3270465967, 1482910.4003789288, 1589344.0144452052, 1703416.7375232698, 1825676.854917591, 1956712.0042673962, 2097151.9999999972, 2247671.8605049094, 2408995.052578739, 2581896.9687351147, 2767208.6540931934, 2965820.8007578575, 3178688.0288904104, 3406833.4750465397, 3651353.709835182, 3913424.0085347923, 4194303.9999999944, 4495343.721009819, 4817990.105157478, 5163793.937470229, 5534417.308186387, 5931641.601515715, 6357376.057780821, 6813666.950093079, 7302707.419670364, 7826848.017069585, 8388607.999999989, 8990687.442019638, 9635980.210314956, 10327587.874940459, 11068834.616372773, 11863283.20303143, 12714752.115561642, 13627333.900186159, 14605414.839340728, 15653696.03413917, 16777215.999999978, 17981374.884039275, 19271960.42062991, 20655175.749880917, 22137669.232745547, 23726566.40606286, 25429504.231123284, 27254667.800372317, 29210829.678681456, 31307392.06827834, 33554431.999999955, 35962749.76807855, 38543920.84125982, 41310351.499761835, 44275338.46549109, 47453132.81212572, 50859008.46224657, 54509335.600744635, 58421659.35736291, 62614784.13655668, 67108863.99999991, 71925499.5361571, 77087841.68251964, 82620702.99952367, 88550676.93098219, 94906265.62425144, 100000000.0], :y=>[(-99.76188092181997+0.00038261798073784074i), (-99.76188092160339+0.00041007979804315715i), (-99.76188092135463+0.0004395126450638107i), (-99.76188092106884+0.0004710579894271858i), (-99.76188092074058+0.000504867452382111i), (-99.76188092036354+0.0005411035375594223i), (-99.76188091993042+0.0005799404120382005i), (-99.76188091943293+0.00062156474347183i), (-99.76188091886135+0.0006661765972974991i), (-99.7618809182049+0.0007139903983415231i), (-99.76188091745077+0.0007652359614424208i), (-99.76188091658449+0.0008201595960453654i), (-99.76188091558944+0.0008790252900772065i), (-99.76188091444642+0.000942115978792304i), (-99.76188091313341+0.0010097349046878088i), (-99.76188091162521+0.0010822070750247693i), (-99.76188090989261+0.0011598808239605787i), (-99.76188090790254+0.0012431294868010686i), (-99.76188090561648+0.0013323531944194455i), (-99.7618809029905+0.0014279807964669164i), (-99.76188089997402+0.001530471922618755i), (-99.76188089650903+0.0016403191917631387i), (-99.76188089252881+0.0017580505797511012i), (-99.76188088795666+0.001884231957088076i), (-99.7618808827047+0.002019469808764312i), (-99.76188087667181+0.0021644141492969363i), (-99.76188086974173+0.002319761646994597i), (-99.76188086178126+0.0024862589724614025i), (-99.76188085263699+0.002664706387434484i), (-99.76188084213305+0.002855961591204807i), (-99.76188083006718+0.0030609438431088262i), (-99.7618808162072+0.0032806383809055616i), (-99.76188080028615+0.003516101156275722i), (-99.76188078199765+0.003768463910203884i), (-99.7618807609898+0.004038939612638194i), (-99.76188073685807+0.0043288282925730386i), (-99.76188070913798+0.00463952328657669i), (-99.76188067729596+0.0049725179357969366i), (-99.76188064071907+0.0053294127636337105i), (-99.7618805987033+0.00571192316857738i), (-99.76188055043983+0.006121887669188185i), (-99.76188049499963+0.0065612767408453915i), (-99.7618804313156+0.007032202286739604i), (-99.76188035816185+0.007536927788629669i), (-99.76188027413023+0.008077879186152949i), (-99.76188017760332+0.008657656536979476i), (-99.76188006672301+0.009279046513853327i), (-99.7618799393549+0.009945035798586955i), (-99.76187979304743+0.010658825437385364i), (-99.76187962498427+0.011423846226496986i), (-99.76187943193031+0.012243775202140645i), (-99.76187921016967+0.013122553313964936i), (-99.76187895543349+0.014064404366984463i), (-99.7618786628185+0.015073855323034489i), (-99.76187832669216+0.01615575805931839i), (-99.7618779405844+0.017315312688626162i), (-99.76187749706305+0.01855809255330632i), (-99.76187698759077+0.019890071013118623i), (-99.7618764023608+0.02131765015571431i), (-99.76187573010813+0.022847691567731667i), (-99.76187495789262+0.024487549314395587i), (-99.76187407085003+0.026245105286123217i), (-99.7618730519055+0.02812880708201115i), (-99.76187188144571+0.03014770861227041i), (-99.7618705369405+0.0323115136147371i), (-99.76186899250963+0.03463062229459021i), (-99.7618672184245+0.03711618131141054i), (-99.76186518053589+0.03978013735379545i), (-99.76186283961668+0.04263529455897815i), (-99.76186015060676+0.04569537605336634i), (-99.76185706174572+0.04897508990970734i), (-99.76185351357634+0.05249019983779548i), (-99.76184943780034+0.056257600948363774i), (-99.76184475596357+0.060295400954157634i), (-99.76183937794583+0.06462300719828416i), (-99.76183320022643+0.06926121992789468i), (-99.7618261038913+0.0742323322612195i), (-99.76181795234406+0.07956023732807861i), (-99.76180858867673+0.08527054309838387i), (-99.76179783264965+0.09139069545000085i), (-99.76178547722192+0.09795011006680651i), (-99.76177128456611+0.10498031380007236i), (-99.76175498149065+0.1125150961715838i), (-99.76173625418126+0.12059067174542533i), (-99.76171474216035+0.12924585414729653i), (-99.7616900313487+0.13852224256585424i), (-99.76166164609499+0.14846442163012344i), (-99.76162904002057+0.15912017562076108i), (-99.76159158550259+0.17054071804118204i), (-99.7615485615938+0.18278093764755116i), (-99.76149914014609+0.19589966211473403i), (-99.76144236987034+0.20995994059880396i), (-99.76137715802703+0.22502934654599097i), (-99.76130224939446+0.24118030219335232i), (-99.76121620210908+0.25849042630836694i), (-99.76111735991577+0.2770429068234679i), (-99.76100382029078+0.2969269001376171i), (-99.76087339782686+0.3182379589808317i), (-99.76072358217468+0.34107849086946634i), (-99.76055148973262+0.36555824932045694i), (-99.76035380815473+0.39179486014201326i), (-99.76012673261083+0.41991438527679614i), (-99.75986589257317+0.45005192684172496i), (-99.75956626772154+0.48235227418653803i), (-99.75922209135163+0.5169705969812296i), (-99.75882673943026+0.5540731875406527i), (-99.75837260316636+0.5938382558028049i), (-99.75785094265089+0.6364567805954169i), (-99.75725171875683+0.6821334210529557i), (-99.75656340007198+0.7310874922822808i), (-99.75577274116425+0.783554009618761i), (-99.75486452792735+0.8397848060640988i), (-99.75382128512982+0.9000497277500324i), (-99.7526229405684+0.9646379125255794i), (-99.75124643940325+1.0338591570154279i), (-99.74966530130479+1.1080453777382593i), (-99.74784911196008+1.187552172099458i), (-99.74576293924498+1.2727604852741363i), (-99.74336666294899+1.364078389162761i), (-99.74061420531557+1.4619429797189385i), (-99.73745264780281+1.5668223989996868i), (-99.7338212173505+1.679217988250972i), (-99.72965012301725+1.7996665781880365i), (-99.72485922109179+1.9287429223270756i), (-99.71935648364105+2.0670622787302415i), (-99.71303624188012+2.2152831447871044i), (-99.70577717169353+2.374110148608637i), (-99.69743998403443+2.5442970991745875i), (-99.6878647777267+2.7266501954545705i), (-99.67686800632657+2.9220313921970553i), (-99.66423900409987+3.131361916802614i), (-99.64973600877467+3.355625927488853i), (-99.63308161048008+3.5958742975969074i), (-99.61395754712031+3.8532285041186953i), (-99.59199875633742+4.128884590020506i), (-99.56678658315937+4.424117159316471i), (-99.53784103045699+4.7402833506425415i), (-99.50461192651689+5.078826718746245i), (-99.46646887053882+5.441280933184094i), (-99.42268980296525+5.829273178836878i), (-99.37244803365208+6.244527112711956i), (-99.31479754762499+6.688865194863078i), (-99.24865639640795+7.164210166937608i), (-99.17278797389874+7.672585398536837i), (-99.08577997118111+8.216113757801912i), (-98.98602080677757+8.797014586892685i), (-98.87167334065319+9.41759827378007i), (-98.74064570571286+10.080257807613041i), (-98.59055913463166+10.787456584747638i), (-98.41871272902236+11.541711595829929i), (-98.22204522017184+12.345570971606795i), (-97.99709391562864+13.201584698477488i), (-97.73995122550609+14.11226713864009i), (-97.44621943006769+15.080049811876581i), (-97.11096470121275+16.107222729130825i), (-96.72867184102647+17.19586243099918i), (-96.29320176633001+18.347744804277436i), (-95.79775446221932+19.564240764351826i), (-95.23484095674118+20.846193050404466i), (-94.59626882860552+22.193772747911677i), (-93.8731468271457+23.606314806656446i), (-93.05591530793303+25.082132852431187i), (-92.13441027907255+26.618315092967418i), (-91.09796977213198+28.210505184266292i), (-89.93559179625866+29.852674618750736i), (-88.63615303525417+31.53689653472781i), (-87.1886963730385+33.25313474920658i), (-85.58279290974833+34.98906606724736i), (-83.80897999210102+36.729958120051826i), (-81.85927064820281+38.458628509894154i), (-79.72772161115799+40.15551304672865i), (-77.41103710148838+41.7988703291706i), (-74.90917445942875+43.36514578977439i), (-72.22590689084268+44.82950971288382i), (-69.36928988793365+46.166570255251145i), (-66.35197355289574+47.35124459426206i), (-63.19130531525222+48.3597505280826i), (-59.909178029358394+49.170659847781884i), (-56.53159757961783+49.76593718962855i), (-53.08797058672899+50.13187773145221i), (-49.61014339623619+50.2598572569913i), (-46.13125353632495+50.146820394637174i), (-42.684478968003305+49.79545652593371i), (-39.301784102538036+49.214044760256066i), (-36.01276199827477+48.415984380886066i), (-32.84365928299909+47.41905943374994i), (-29.81664675631456+46.244510462004236i), (-26.949368837386668+44.915999447012375i), (-24.25477432036379+43.45855492216693i), (-21.7412040568931+41.89757446659945i), (-19.412691517992634+40.2579445229576i), (-17.269421137158133+38.56331658110133i), (-15.308286588638046+36.83555786415984i), (-13.523495131083642+35.09437650543431i), (-11.90717264020423+33.357107420968426i), (-10.449934707190229+31.63863616548046i), (-9.141400288108118+29.95143366398784i), (-7.970634499557988+28.30567398103406i), (-6.926515489197923+26.709409166158803i), (-5.998026575754044+25.168778670846812i), (-5.17447911197793+23.688235009312553i), (-4.44567404598529+22.270771597428276i), (-3.8020113053143585+20.91814263702441i), (-3.234556278483547+19.631068290361018i), (-2.7350721564827953+18.40942112612516i), (-2.2960259948634656+17.252391922472068i), (-1.9105752717100675+16.1586344483088i), (-1.5725405915432535+15.126389901190718i), (-1.2763691124298202+14.153592355131664i), (-1.0170923060797519+13.237956954919353i), (-0.7902808229721955+12.377052763949521i), (-0.5919985320467152+11.568362194842626i), (-0.41875723093682726+10.809328876954691i), (-0.2674730653352121+10.09739568063146i), (-0.13542533922319142+9.430034452486419i), (-0.02021812520033121+8.804768838511558i), (0.08025511929721174+8.219191395385119i), (0.16784387221442337+7.670976023033696i), (0.24416985045901682+7.157886597966697i), (0.3106534147669303+6.677782549345625i), (0.36853723925703585+6.228621998763075i), (0.41890743556779114+5.808462979841913i), (0.4627123341045273+5.415463163958985i), (0.5007791277239815+5.0478784422642855i), (0.5338285792361436+4.704060650188442i), (0.5624879857744918+4.3824546672921265i), (0.5873025821676493+4.081595081158992i), (0.6087455533004428+3.8001025677280778i), (0.6272268131265988+3.5366801107727635i), (0.6431006963161181+3.2901091590347677i), (0.6566726981761202+3.059245799751787i), (0.6682053900887657+2.843017010921502i), (0.677923631850333+2.640417040487194i), (0.6860191995494163+2.450503947361142i), (0.6926549485292363+2.27239632506909i), (0.69796863592133+2.105270211378433i), (0.7020765361541054+1.9483561631068385i), (0.7050769946375043+1.8009364394516407i), (0.7070540762694101+1.662342182724871i), (0.708081469141362+1.5319504031709303i), (0.7082267850380126+1.409180453660611i), (0.7075563296388667+1.293489510254907i), (0.706140249758984+1.1843663532050914i), (0.7040576286626058+1.0813224901720637i), (0.7014004912697027+0.9838794525970669i), (0.698274688204333+0.8915511032282099i), (0.6947942036124485+0.8038203597928438i), (0.6910637605745416+0.7201114098965998i), (0.6871433839389062+0.6397619006990682i), (0.6829893514273323+0.5620050029444833i), (0.6783709755917448+0.4859776145225973i), (0.6727736484944592+0.4107748015393672i), (0.6653140089419116+0.3355662323368237i), (0.6547056792942038+0.2597737351719933i), (0.6393132030263752+0.18328397718785316i), (0.6173135173979648+0.10664999126784826i), (0.5869592904033838+0.031231872388583132i), (0.5469235585489041-0.04076522476877198i), (0.4966988397149833-0.1063994137845074i), (0.4369970635220872-0.16230640857117729i), (0.37002553266024396-0.20526905296803205i), (0.29943895596743353-0.23299030288694442i), (0.229804329764707-0.24483030471463557i), (0.165644339902776-0.24214186392732368i), (0.11042418791790004-0.22796549914043884i), (0.06593483335401469-0.20620218211194927i), (0.03959469880430206-0.18711249785829276i)], :name=>\"(V(out1))\"}]]"
      ]
     },
     "execution_count": 10,
     "metadata": {},
     "output_type": "execute_result"
    }
   ],
   "source": [
    "r=ckt.get_traces \"frequency\", \"V(n002)\", \"V(vin)\", \"V(nc_01)\",\"(V(out1))\""
   ]
  },
  {
   "cell_type": "code",
   "execution_count": 11,
   "metadata": {},
   "outputs": [
    {
     "data": {
      "text/plain": [
       "[\"frequency\", \"V(n002)\", \"V(vin)\", \"V(nc_01)\", \"(V(out1))\"]"
      ]
     },
     "execution_count": 11,
     "metadata": {},
     "output_type": "execute_result"
    }
   ],
   "source": [
    "r[0]"
   ]
  },
  {
   "cell_type": "code",
   "execution_count": 12,
   "metadata": {},
   "outputs": [
    {
     "data": {
      "text/plain": [
       "[{:x=>[1.0, 1.0717734625362931, 1.1486983549970349, 1.231144413344916, 1.319507910772894, 1.4142135623730947, 1.5157165665103978, 1.6245047927124707, 1.7411011265922478, 1.8660659830736144, 1.9999999999999996, 2.143546925072586, 2.2973967099940693, 2.4622888266898317, 2.6390158215457875, 2.828427124746189, 3.0314331330207946, 3.2490095854249406, 3.4822022531844947, 3.7321319661472274, 3.9999999999999973, 4.28709385014517, 4.594793419988137, 4.924577653379662, 5.278031643091573, 5.656854249492376, 6.0628662660415875, 6.4980191708498785, 6.964404506368987, 7.464263932294452, 7.999999999999992, 8.574187700290336, 9.18958683997627, 9.84915530675932, 10.556063286183143, 11.313708498984749, 12.125732532083171, 12.996038341699753, 13.92880901273797, 14.9285278645889, 15.99999999999998, 17.14837540058067, 18.379173679952537, 19.698310613518636, 21.112126572366282, 22.627416997969494, 24.25146506416634, 25.992076683399503, 27.857618025475936, 29.857055729177798, 31.999999999999957, 34.29675080116134, 36.75834735990507, 39.39662122703727, 42.224253144732565, 45.25483399593899, 48.50293012833268, 51.984153366799006, 55.71523605095187, 59.714111458355596, 63.999999999999915, 68.59350160232268, 73.51669471981015, 78.79324245407454, 84.44850628946513, 90.50966799187798, 97.00586025666536, 103.96830673359801, 111.43047210190375, 119.42822291671119, 127.99999999999983, 137.18700320464535, 147.0333894396203, 157.5864849081491, 168.89701257893026, 181.01933598375595, 194.01172051333072, 207.93661346719603, 222.8609442038075, 238.85644583342238, 255.99999999999966, 274.3740064092907, 294.0667788792406, 315.1729698162982, 337.7940251578605, 362.0386719675119, 388.02344102666143, 415.87322693439205, 445.721888407615, 477.71289166684477, 511.9999999999993, 548.7480128185814, 588.1335577584812, 630.3459396325964, 675.588050315721, 724.0773439350238, 776.0468820533229, 831.7464538687841, 891.44377681523, 955.4257833336895, 1023.9999999999986, 1097.4960256371628, 1176.2671155169623, 1260.6918792651927, 1351.176100631442, 1448.1546878700476, 1552.0937641066457, 1663.4929077375682, 1782.88755363046, 1910.851566667379, 2047.9999999999973, 2194.9920512743256, 2352.5342310339247, 2521.3837585303854, 2702.352201262884, 2896.309375740095, 3104.1875282132914, 3326.9858154751364, 3565.77510726092, 3821.703133334758, 4095.9999999999945, 4389.984102548651, 4705.068462067849, 5042.767517060771, 5404.704402525768, 5792.61875148019, 6208.375056426583, 6653.971630950273, 7131.55021452184, 7643.406266669516, 8191.999999999989, 8779.968205097302, 9410.136924135699, 10085.535034121542, 10809.408805051537, 11585.23750296038, 12416.750112853166, 13307.943261900546, 14263.10042904368, 15286.812533339033, 16383.999999999978, 17559.936410194605, 18820.273848271398, 20171.070068243083, 21618.817610103073, 23170.47500592076, 24833.50022570633, 26615.88652380109, 28526.20085808736, 30573.625066678065, 32767.999999999956, 35119.87282038921, 37640.547696542795, 40342.14013648617, 43237.635220206146, 46340.95001184152, 49667.00045141266, 53231.77304760218, 57052.40171617472, 61147.25013335613, 65535.99999999991, 70239.74564077842, 75281.09539308559, 80684.28027297233, 86475.27044041229, 92681.90002368305, 99334.00090282533, 106463.54609520436, 114104.80343234944, 122294.50026671226, 131071.99999999983, 140479.49128155684, 150562.19078617118, 161368.56054594467, 172950.54088082458, 185363.8000473661, 198668.00180565065, 212927.09219040873, 228209.60686469887, 244589.00053342452, 262143.99999999965, 280958.9825631137, 301124.38157234236, 322737.12109188933, 345901.08176164917, 370727.6000947322, 397336.0036113013, 425854.18438081746, 456419.21372939774, 489178.00106684904, 524287.9999999993, 561917.9651262274, 602248.7631446847, 645474.2421837787, 691802.1635232983, 741455.2001894644, 794672.0072226026, 851708.3687616349, 912838.4274587955, 978356.0021336981, 1048575.9999999986, 1123835.9302524547, 1204497.5262893694, 1290948.4843675573, 1383604.3270465967, 1482910.4003789288, 1589344.0144452052, 1703416.7375232698, 1825676.854917591, 1956712.0042673962, 2097151.9999999972, 2247671.8605049094, 2408995.052578739, 2581896.9687351147, 2767208.6540931934, 2965820.8007578575, 3178688.0288904104, 3406833.4750465397, 3651353.709835182, 3913424.0085347923, 4194303.9999999944, 4495343.721009819, 4817990.105157478, 5163793.937470229, 5534417.308186387, 5931641.601515715, 6357376.057780821, 6813666.950093079, 7302707.419670364, 7826848.017069585, 8388607.999999989, 8990687.442019638, 9635980.210314956, 10327587.874940459, 11068834.616372773, 11863283.20303143, 12714752.115561642, 13627333.900186159, 14605414.839340728, 15653696.03413917, 16777215.999999978, 17981374.884039275, 19271960.42062991, 20655175.749880917, 22137669.232745547, 23726566.40606286, 25429504.231123284, 27254667.800372317, 29210829.678681456, 31307392.06827834, 33554431.999999955, 35962749.76807855, 38543920.84125982, 41310351.499761835, 44275338.46549109, 47453132.81212572, 50859008.46224657, 54509335.600744635, 58421659.35736291, 62614784.13655668, 67108863.99999991, 71925499.5361571, 77087841.68251964, 82620702.99952367, 88550676.93098219, 94906265.62425144, 100000000.0], :y=>[(1.0+0.0i), (1.0+0.0i), (1.0+0.0i), (1.0+0.0i), (1.0+0.0i), (1.0+0.0i), (1.0+0.0i), (1.0+0.0i), (1.0+0.0i), (1.0+0.0i), (1.0+0.0i), (1.0+0.0i), (1.0+0.0i), (1.0+0.0i), (1.0+0.0i), (1.0+0.0i), (1.0+0.0i), (1.0+0.0i), (1.0+0.0i), (1.0+0.0i), (1.0+0.0i), (1.0+0.0i), (1.0+0.0i), (1.0+0.0i), (1.0+0.0i), (1.0+0.0i), (1.0+0.0i), (1.0+0.0i), (1.0+0.0i), (1.0+0.0i), (1.0+0.0i), (1.0+0.0i), (1.0+0.0i), (1.0+0.0i), (1.0+0.0i), (1.0+0.0i), (1.0+0.0i), (1.0+0.0i), (1.0+0.0i), (1.0+0.0i), (1.0+0.0i), (1.0+0.0i), (1.0+0.0i), (1.0+0.0i), (1.0+0.0i), (1.0+0.0i), (1.0+0.0i), (1.0+0.0i), (1.0+0.0i), (1.0+0.0i), (1.0+0.0i), (1.0+0.0i), (1.0+0.0i), (1.0+0.0i), (1.0+0.0i), (1.0+0.0i), (1.0+0.0i), (1.0+0.0i), (1.0+0.0i), (1.0+0.0i), (1.0+0.0i), (1.0+0.0i), (1.0+0.0i), (1.0+0.0i), (1.0+0.0i), (1.0+0.0i), (1.0+0.0i), (1.0+0.0i), (1.0+0.0i), (1.0+0.0i), (1.0+0.0i), (1.0+0.0i), (1.0+0.0i), (1.0+0.0i), (1.0+0.0i), (1.0+0.0i), (1.0+0.0i), (1.0+0.0i), (1.0+0.0i), (1.0+0.0i), (1.0+0.0i), (1.0+0.0i), (1.0+0.0i), (1.0+0.0i), (1.0+0.0i), (1.0+0.0i), (1.0+0.0i), (1.0+0.0i), (1.0+0.0i), (1.0+0.0i), (1.0+0.0i), (1.0+0.0i), (1.0+0.0i), (1.0+0.0i), (1.0+0.0i), (1.0+0.0i), (1.0+0.0i), (1.0+0.0i), (1.0+0.0i), (1.0+0.0i), (1.0+0.0i), (1.0+0.0i), (1.0+0.0i), (1.0+0.0i), (1.0+0.0i), (1.0+0.0i), (1.0+0.0i), (1.0+0.0i), (1.0+0.0i), (1.0+0.0i), (1.0+0.0i), (1.0+0.0i), (1.0+0.0i), (1.0+0.0i), (1.0+0.0i), (1.0+0.0i), (1.0+0.0i), (1.0+0.0i), (1.0+0.0i), (1.0+0.0i), (1.0+0.0i), (1.0+0.0i), (1.0+0.0i), (1.0+0.0i), (1.0+0.0i), (1.0+0.0i), (1.0+0.0i), (1.0+0.0i), (1.0+0.0i), (1.0+0.0i), (1.0+0.0i), (1.0+0.0i), (1.0+0.0i), (1.0+0.0i), (1.0+0.0i), (1.0+0.0i), (1.0+0.0i), (1.0+0.0i), (1.0+0.0i), (1.0+0.0i), (1.0+0.0i), (1.0+0.0i), (1.0+0.0i), (1.0+0.0i), (1.0+0.0i), (1.0+0.0i), (1.0+0.0i), (1.0+0.0i), (1.0+0.0i), (1.0+0.0i), (1.0+0.0i), (1.0+0.0i), (1.0+0.0i), (1.0+0.0i), (1.0+0.0i), (1.0+0.0i), (1.0+0.0i), (1.0+0.0i), (1.0+0.0i), (1.0+0.0i), (1.0+0.0i), (1.0+0.0i), (1.0+0.0i), (1.0+0.0i), (1.0+0.0i), (1.0+0.0i), (1.0+0.0i), (1.0+0.0i), (1.0+0.0i), (1.0+0.0i), (1.0+0.0i), (1.0+0.0i), (1.0+0.0i), (1.0+0.0i), (1.0+0.0i), (1.0+0.0i), (1.0+0.0i), (1.0+0.0i), (1.0+0.0i), (1.0+0.0i), (1.0+0.0i), (1.0+0.0i), (1.0+0.0i), (1.0+0.0i), (1.0+0.0i), (1.0+0.0i), (1.0+0.0i), (1.0+0.0i), (1.0+0.0i), (1.0+0.0i), (1.0+0.0i), (1.0+0.0i), (1.0+0.0i), (1.0+0.0i), (1.0+0.0i), (1.0+0.0i), (1.0+0.0i), (1.0+0.0i), (1.0+0.0i), (1.0+0.0i), (1.0+0.0i), (1.0+0.0i), (1.0+0.0i), (1.0+0.0i), (1.0+0.0i), (1.0+0.0i), (1.0+0.0i), (1.0+0.0i), (1.0+0.0i), (1.0+0.0i), (1.0+0.0i), (1.0+0.0i), (1.0+0.0i), (1.0+0.0i), (1.0+0.0i), (1.0+0.0i), (1.0+0.0i), (1.0+0.0i), (1.0+0.0i), (1.0+0.0i), (1.0+0.0i), (1.0+0.0i), (1.0+0.0i), (1.0+0.0i), (1.0+0.0i), (1.0+0.0i), (1.0+0.0i), (1.0+0.0i), (1.0+0.0i), (1.0+0.0i), (1.0+0.0i), (1.0+0.0i), (1.0+0.0i), (1.0+0.0i), (1.0+0.0i), (1.0+0.0i), (1.0+0.0i), (1.0+0.0i), (1.0+0.0i), (1.0+0.0i), (1.0+0.0i), (1.0+0.0i), (1.0+0.0i), (1.0+0.0i), (1.0+0.0i), (1.0+0.0i), (1.0+0.0i), (1.0+0.0i), (1.0+0.0i), (1.0+0.0i), (1.0+0.0i), (1.0+0.0i), (1.0+0.0i), (1.0+0.0i), (1.0+0.0i), (1.0+0.0i), (1.0+0.0i), (1.0+0.0i), (1.0+0.0i), (1.0+0.0i), (1.0+0.0i), (1.0+0.0i), (1.0+0.0i), (1.0+0.0i), (1.0+0.0i), (1.0+0.0i), (1.0+0.0i)], :name=>\"V(n002)\"}, {:x=>[1.0, 1.0717734625362931, 1.1486983549970349, 1.231144413344916, 1.319507910772894, 1.4142135623730947, 1.5157165665103978, 1.6245047927124707, 1.7411011265922478, 1.8660659830736144, 1.9999999999999996, 2.143546925072586, 2.2973967099940693, 2.4622888266898317, 2.6390158215457875, 2.828427124746189, 3.0314331330207946, 3.2490095854249406, 3.4822022531844947, 3.7321319661472274, 3.9999999999999973, 4.28709385014517, 4.594793419988137, 4.924577653379662, 5.278031643091573, 5.656854249492376, 6.0628662660415875, 6.4980191708498785, 6.964404506368987, 7.464263932294452, 7.999999999999992, 8.574187700290336, 9.18958683997627, 9.84915530675932, 10.556063286183143, 11.313708498984749, 12.125732532083171, 12.996038341699753, 13.92880901273797, 14.9285278645889, 15.99999999999998, 17.14837540058067, 18.379173679952537, 19.698310613518636, 21.112126572366282, 22.627416997969494, 24.25146506416634, 25.992076683399503, 27.857618025475936, 29.857055729177798, 31.999999999999957, 34.29675080116134, 36.75834735990507, 39.39662122703727, 42.224253144732565, 45.25483399593899, 48.50293012833268, 51.984153366799006, 55.71523605095187, 59.714111458355596, 63.999999999999915, 68.59350160232268, 73.51669471981015, 78.79324245407454, 84.44850628946513, 90.50966799187798, 97.00586025666536, 103.96830673359801, 111.43047210190375, 119.42822291671119, 127.99999999999983, 137.18700320464535, 147.0333894396203, 157.5864849081491, 168.89701257893026, 181.01933598375595, 194.01172051333072, 207.93661346719603, 222.8609442038075, 238.85644583342238, 255.99999999999966, 274.3740064092907, 294.0667788792406, 315.1729698162982, 337.7940251578605, 362.0386719675119, 388.02344102666143, 415.87322693439205, 445.721888407615, 477.71289166684477, 511.9999999999993, 548.7480128185814, 588.1335577584812, 630.3459396325964, 675.588050315721, 724.0773439350238, 776.0468820533229, 831.7464538687841, 891.44377681523, 955.4257833336895, 1023.9999999999986, 1097.4960256371628, 1176.2671155169623, 1260.6918792651927, 1351.176100631442, 1448.1546878700476, 1552.0937641066457, 1663.4929077375682, 1782.88755363046, 1910.851566667379, 2047.9999999999973, 2194.9920512743256, 2352.5342310339247, 2521.3837585303854, 2702.352201262884, 2896.309375740095, 3104.1875282132914, 3326.9858154751364, 3565.77510726092, 3821.703133334758, 4095.9999999999945, 4389.984102548651, 4705.068462067849, 5042.767517060771, 5404.704402525768, 5792.61875148019, 6208.375056426583, 6653.971630950273, 7131.55021452184, 7643.406266669516, 8191.999999999989, 8779.968205097302, 9410.136924135699, 10085.535034121542, 10809.408805051537, 11585.23750296038, 12416.750112853166, 13307.943261900546, 14263.10042904368, 15286.812533339033, 16383.999999999978, 17559.936410194605, 18820.273848271398, 20171.070068243083, 21618.817610103073, 23170.47500592076, 24833.50022570633, 26615.88652380109, 28526.20085808736, 30573.625066678065, 32767.999999999956, 35119.87282038921, 37640.547696542795, 40342.14013648617, 43237.635220206146, 46340.95001184152, 49667.00045141266, 53231.77304760218, 57052.40171617472, 61147.25013335613, 65535.99999999991, 70239.74564077842, 75281.09539308559, 80684.28027297233, 86475.27044041229, 92681.90002368305, 99334.00090282533, 106463.54609520436, 114104.80343234944, 122294.50026671226, 131071.99999999983, 140479.49128155684, 150562.19078617118, 161368.56054594467, 172950.54088082458, 185363.8000473661, 198668.00180565065, 212927.09219040873, 228209.60686469887, 244589.00053342452, 262143.99999999965, 280958.9825631137, 301124.38157234236, 322737.12109188933, 345901.08176164917, 370727.6000947322, 397336.0036113013, 425854.18438081746, 456419.21372939774, 489178.00106684904, 524287.9999999993, 561917.9651262274, 602248.7631446847, 645474.2421837787, 691802.1635232983, 741455.2001894644, 794672.0072226026, 851708.3687616349, 912838.4274587955, 978356.0021336981, 1048575.9999999986, 1123835.9302524547, 1204497.5262893694, 1290948.4843675573, 1383604.3270465967, 1482910.4003789288, 1589344.0144452052, 1703416.7375232698, 1825676.854917591, 1956712.0042673962, 2097151.9999999972, 2247671.8605049094, 2408995.052578739, 2581896.9687351147, 2767208.6540931934, 2965820.8007578575, 3178688.0288904104, 3406833.4750465397, 3651353.709835182, 3913424.0085347923, 4194303.9999999944, 4495343.721009819, 4817990.105157478, 5163793.937470229, 5534417.308186387, 5931641.601515715, 6357376.057780821, 6813666.950093079, 7302707.419670364, 7826848.017069585, 8388607.999999989, 8990687.442019638, 9635980.210314956, 10327587.874940459, 11068834.616372773, 11863283.20303143, 12714752.115561642, 13627333.900186159, 14605414.839340728, 15653696.03413917, 16777215.999999978, 17981374.884039275, 19271960.42062991, 20655175.749880917, 22137669.232745547, 23726566.40606286, 25429504.231123284, 27254667.800372317, 29210829.678681456, 31307392.06827834, 33554431.999999955, 35962749.76807855, 38543920.84125982, 41310351.499761835, 44275338.46549109, 47453132.81212572, 50859008.46224657, 54509335.600744635, 58421659.35736291, 62614784.13655668, 67108863.99999991, 71925499.5361571, 77087841.68251964, 82620702.99952367, 88550676.93098219, 94906265.62425144, 100000000.0], :y=>[(0.002357614635446592+3.788296762414802e-06i), (0.002357614637591099+4.060195938159597e-06i), (0.0023576146400542397+4.351610259206335e-06i), (0.002357614642883976+4.663940395104767e-06i), (0.002357614646134376+4.998687546308001e-06i), (0.002357614649867612+5.357460659623474e-06i), (0.0023576146541561815+5.741984161541882e-06i), (0.002357614659082019+6.154106246613834e-06i), (0.002357614664741603+6.595807760712043e-06i), (0.0023576146712414037+7.069211721875927e-06i), (0.0023576146787085417+7.576593524500271e-06i), (0.0023576146872860138+8.120391875913735e-06i), (0.002357614697138577+8.703220517913484e-06i), (0.0023576147084560795+9.32788078959497e-06i), (0.002357614721457124+9.997375091859392e-06i), (0.002357614736390512+1.0714921318315456e-05i), (0.0023576147535460112+1.1483968321936943e-05i), (0.0023576147732508046+1.230821249181579e-05i), (0.0023576147958863647+1.319161551968584e-05i), (0.002357614821887566+1.4138423441611833e-05i), (0.002357614851755452+1.5153187046365872e-05i), (0.00235761488606423+1.62407837485838e-05i), (0.0023576149254745937+1.7406441031833557e-05i), (0.002357614970745936+1.86557615742735e-05i), (0.0023576150227485604+1.999475017766591e-05i), (0.002357615082483555+2.142984262917898e-05i), (0.0023576151511019994+2.2967936634699503e-05i), (0.00235761522992306+2.4616424972336543e-05i), (0.0023576153204655226+2.6383231025465876e-05i), (0.0023576154244709935+2.827684686610363e-05i), (0.002357615543941649+3.0306374071654475e-05i), (0.0023576156811770943+3.2481567471218456e-05i), (0.002357615838820215+3.481288203171995e-05i), (0.002357616019904807+3.7311523109215384e-05i), (0.0023576162279151935+3.998950030690898e-05i), (0.0023576164668567268+4.285968519874237e-05i), (0.0023576167413287274+4.593587319600372e-05i), (0.002357617056614081+4.923284985431283e-05i), (0.002357617418782043+5.276646193968527e-05i), (0.0023576178348034826+5.6553693595246686e-05i), (0.002357618312686771+6.0612747974690806e-05i), (0.0023576188616307725+6.496313473484364e-05i), (0.0023576194922017013+6.962576380786265e-05i), (0.002357620216537515+7.46230459037783e-05i), (0.002357621048580949+7.997900022643522e-05i), (0.002357622004347415+8.571936992056068e-05i), (0.0023576231022346406+9.187174580484494e-05i), (0.002357624363376609+9.846569898574393e-05i), (0.0023576258120479032+0.00010553292298939877i), (0.0023576274761341054+0.00011310738609480976i), (0.0023576293876681476+0.0001212254946004366i), (0.0023576315834429318+0.00012992626780894122i), (0.002357634105726758+0.000139251525571107i), (0.002357637003069568+0.00014924608929033626i), (0.0023576403312423055+0.00015995799735380863i), (0.0023576441543088356+0.00017143873602572902i), (0.00235764854585907+0.0001837434869123907i), (0.0023576535904259455+0.00019693139218843455i), (0.0023576593851115657+0.00021106583885902358i), (0.0023576660414571515+0.00022621476342414947i), (0.0023576736875899895+0.00024245097840931414i), (0.0023576824706892374+0.00025985252233191517i), (0.002357692559822544+0.00027850303478526954i), (0.002357704149192341+0.0002984921584429119i), (0.0023577174618820695+0.00031991596991512645i), (0.0023577327541463022+0.00034287744152832145i), (0.002357750320344354+0.00036748693624639366i), (0.0023577704986066372+0.00039386273811244766i), (0.0023577936773422348+0.00042213162075986464i), (0.0023578203027168065+0.0004524294567245534i), (0.0023578508872383885+0.00048490187048617363i), (0.0023578860196258322+0.000519704938376115i), (0.0023579263761382974+0.0005570059387150202i), (0.0023579727335938383+0.0005969841557837922i), (0.0023580259843217766+0.0006398317414904i), (0.0023580871533385173+0.0006857546388716603i), (0.0023581574180776554+0.0007349735718658359i), (0.0023582381310554013+0.0007877251061097417i), (0.0023583308459045327+0.0008442627858545784i), (0.0023584373472774756+0.0009048583524595779i), (0.002358559685201156+0.000969803050313329i), (0.0023587002145358804+0.0010394090264513897i), (0.0023588616403033003+0.0011140108305871205i), (0.00235904706975143+0.001193967022753071i), (0.0023592600721684676+0.0012796618962644369i), (0.002359504747581842+0.0013715073242669346i), (0.002359785805678194+0.001469944738720983i), (0.0023601086564553064+0.0015754472513052104i), (0.002360479514353364+0.00168852192639779i), (0.002360905517870271+0.0018097122170168281i), (0.0023613948669584106+0.0019396005753741794i), (0.0023619569808575047+0.0020788112505238563i), (0.00236260267938615+0.0022280132864702248i), (0.002363344391188349+0.002387923735045688i), (0.002364196392952378+0.0025593110988766693i), (0.002365175084176885+0.0027429990208340783i), (0.0023662993028013+0.002939870237513836i), (0.0023675906877516084+0.003150870815518805i), (0.0023690740953852263+0.0033770146906193952i), (0.0023707780778362553+0.0036193885312601993i), (0.0023727354324741823+0.003879156949358041i), (0.0023749838330270334+0.004157568082906621i), (0.002377566554507382+0.004455959576567368i), (0.002380533305882171+0.004775764988188253i), (0.0023839411864805538+0.005118520651053712i), (0.002387855784518389+0.00548587302363084i), (0.002392352438844614+0.0058795865606386544i), (0.0023975176881324556+0.006301552141426647i), (0.0024034509353310085+0.006753796093901218i), (0.002410266359330504+0.00723848985457642i), (0.0024180951104799675+0.007757960307736989i), (0.0024270878320604705+0.008314700849171287i), (0.002437417556003907+0.008911383222435907i), (0.0024492830282967226+0.009550870178123408i), (0.002462912527659511+0.010236229009079358i), (0.0024785682504813167+0.010970746016902457i), (0.002496551345696374+0.011757941967295902i), (0.0025172076955863876+0.012601588593832709i), (0.0025409345525461147+0.013505726211344526i), (0.0025681881579273647+0.01447468250130447i), (0.002599492487483035+0.015513092532076639i), (0.00263544928889492+0.01662592007653305i), (0.002676749600874828+0.01781848028802064i), (0.002724186970634701+0.01909646379266085i), (0.0027786726176399767+0.020465962251066734i), (0.0028412528269747828+0.02193349543524609i), (0.002913128895810302+0.023506039856091326i), (0.0029956800020393137+0.025191058962645264i), (0.0030904894156478235+0.026996534915315114i), (0.0031993745314946587+0.02893100191019374i), (0.003324421267533073+0.0310035809991907i), (0.003468023445736601+0.033224016309000064i), (0.0036329278546737287+0.03560271250888313i), (0.0038222857833873913+0.0381507733102031i), (0.004039711916203226+0.04088004069644826i), (0.0042893515875628285+0.04380313447730576i), (0.004575957514535989+0.04693349162961639i), (0.004904977251568798+0.05028540472629491i), (0.005282652745674965+0.05387405855504656i), (0.0057161335079274345+0.05771556378432178i), (0.006213605054716798+0.06182698623550671i), (0.00678443440358667+0.06622636995756645i), (0.007439334524883434+0.0709327518615125i), (0.008190549739671038+0.07596616514407337i), (0.009052064099783985+0.08134762809849051i), (0.01003983476494108+0.08709911416036603i), (0.01117205227494289+0.09324349815280453i), (0.01246942936316664+0.09980447266374932i), (0.013955519520935766+0.10680642729850444i), (0.01565706583750337+0.11427428219693368i), (0.01760437962818917+0.12223326569267998i), (0.019831746926967653+0.13070862434154334i), (0.022377858943646634+0.13972525180190695i), (0.025286259935101696+0.1493072212894981i), (0.028605802464079066+0.1594772046763042i), (0.03239109555797748+0.17025575994660183i), (0.03670292567800315+0.18166046793117172i), (0.041608623536889766+0.1937048993857594i), (0.04718234159341139+0.20639739505599733i), (0.053505197548892824+0.21973964500989562i), (0.060665228602876486+0.23372505999207124i), (0.06875709009383346+0.2483369377520325i), (0.0778814213420711+0.2635464421745246i), (0.08814379241320403+0.2793104334929519i), (0.09965314012815218+0.2955692145540062i), (0.11251960262374983+0.31224429115367563i), (0.1268516724056643+0.3292362831061607i), (0.14275261182864052+0.34642316480000335i), (0.16031611591778105+0.36365905557267253i), (0.17962126817526325+0.38077381514662284i), (0.20072691626727857+0.39757371923962564i), (0.22366569364354016+0.41384348519316166i), (0.24843802284045302+0.4293498765417862i), (0.27500654342630904+0.443847030177686i), (0.30329149371582065+0.4570835163107431i), (0.3331676182850368+0.46881096413357715i), (0.3644631509144046+0.4787938801435913i), (0.39696131866375806+0.48682007809925815i), (0.43040462325672435+0.4927109652031597i), (0.46450189389988683+0.4963308266796022i), (0.49893780279384686+0.4975942524991402i), (0.5333842374907023+0.49647097161801285i), (0.567512685266647+0.4929875936578076i), (0.6010066495051436+0.4872260738206596i), (0.633573113756596+0.4793190634766236i), (0.6649521965335514+0.4694426283437511i), (0.6949243734947466+0.4578070571051105i), (0.7233149386299054+0.4446466125950424i), (0.749995680064949+0.43020908665682556i), (0.7748840118936113+0.4147459231405568i), (0.797939998176873+0.3985035025808817i), (0.8191618146676216+0.38171597512867667i), (0.8385802210269556+0.3645998213147406i), (0.8562525769273628+0.3473501405305501i), (0.8722568513400435+0.3301385306314139i), (0.8866859678310898+0.3131123337738677i), (0.8996427187005674+0.29639498007814236i), (0.9112353806931697+0.28008715347412094i), (0.9215740824965771+0.2642685226716252i), (0.9307679122006077+0.24899981442137406i), (0.9389227107213409+0.23432504759277448i), (0.9461394722232531+0.22027378879444012i), (0.9525132611968015+0.2068633292051372i), (0.9581325543596733+0.19410071572578408i), (0.9630789206233756+0.1819845966589904i), (0.9674269612962774+0.17050686295675396i), (0.9712444434417614+0.15965408128215047i), (0.9745925704524011+0.14940872559800683i), (0.9775263445239948+0.13975022067783444i), (0.9800949852939184+0.13065581472877658i), (0.9823423772042379+0.12210130000293132i), (0.9843075251071595+0.1140616004927049i), (0.9860250033109623+0.10651124506048419i), (0.9875253877950781+0.09942474302197686i), (0.9888356648583649+0.0927768775612887i), (0.9899796121650056+0.08654293059620109i), (0.9909781501695285+0.08069885096208475i), (0.9918496633720045+0.07522137612256966i), (0.9926102918936869+0.07008811609010981i), (0.993274194570266+0.06527760687158495i), (0.9938537852147991+0.06076933954846674i), (0.9943599439696975+0.056543770052932825i), (0.994802205797811+0.05258231379941867i), (0.995188928196276+0.04886732856084915i), (0.9955274401836912+0.04538208832399095i), (0.9958241745342348+0.04211075030246113i), (0.9960847851283373+0.03903831681253232i), (0.996314251170384+0.03615059331011811i), (0.9965169698974006+0.03343414353170902i), (0.9966968392728541+0.03087624236226478i), (0.9968573320268044+0.028464826753619707i), (0.9970015622636642+0.026188444721625882i), (0.9971323457019401+0.024036202141784636i), (0.9972522544186574+0.02199770672309818i), (0.9973636667149102+0.02006300814948098i), (0.997468812350416+0.018222532920451593i), (0.9975698128402513+0.01646701188890435i), (0.9976687156549184+0.014787397894427528i), (0.9977675198543092+0.013174770280441075i), (0.9978681886953913+0.011620222603802782i), (0.997972641804552+0.010114729798963622i), (0.9980827153083753+0.00864899202641727i), (0.9982000727076371+0.007213255442366942i), (0.9983260425491642+0.005797116824429316i), (0.9984613524997675+0.0043893317229347275i), (0.9986057268729688+0.0029776672347038274i), (0.9987573232727466+0.0015488720499474626i), (0.9989120155615085+8.887462714050366e-05i), (0.9990625987039717-0.0014166495742620458i), (0.9991981018944668-0.00298121170939599i), (0.9993035256246665-0.004615913898245093i), (0.9993603875680509-0.006327517774018376i), (0.9993483464940746-0.008116674109684828i), (0.999247791425539-0.00997701421886358i), (0.9990427531099819-0.011895653224535474i), (0.9987231872866834-0.013855063528043565i), (0.9982859637785995-0.015835563584066546i), (0.997734708039333-0.01781742277533018i), (0.9970793768862751-0.01978213202462596i), (0.9963364221091585-0.02171338817106228i), (0.995529451096792-0.02359895322052606i), (0.9946890645311675-0.02543404687491975i), (0.9938501936947477-0.027225358664869123i), (0.9930465706108941-0.028993319862791647i), (0.9923042239337023-0.03077057324269827i), (0.9916370275109243-0.03259681067718658i), (0.9911846134055093-0.03403129141133816i)], :name=>\"V(vin)\"}, {:x=>[1.0, 1.0717734625362931, 1.1486983549970349, 1.231144413344916, 1.319507910772894, 1.4142135623730947, 1.5157165665103978, 1.6245047927124707, 1.7411011265922478, 1.8660659830736144, 1.9999999999999996, 2.143546925072586, 2.2973967099940693, 2.4622888266898317, 2.6390158215457875, 2.828427124746189, 3.0314331330207946, 3.2490095854249406, 3.4822022531844947, 3.7321319661472274, 3.9999999999999973, 4.28709385014517, 4.594793419988137, 4.924577653379662, 5.278031643091573, 5.656854249492376, 6.0628662660415875, 6.4980191708498785, 6.964404506368987, 7.464263932294452, 7.999999999999992, 8.574187700290336, 9.18958683997627, 9.84915530675932, 10.556063286183143, 11.313708498984749, 12.125732532083171, 12.996038341699753, 13.92880901273797, 14.9285278645889, 15.99999999999998, 17.14837540058067, 18.379173679952537, 19.698310613518636, 21.112126572366282, 22.627416997969494, 24.25146506416634, 25.992076683399503, 27.857618025475936, 29.857055729177798, 31.999999999999957, 34.29675080116134, 36.75834735990507, 39.39662122703727, 42.224253144732565, 45.25483399593899, 48.50293012833268, 51.984153366799006, 55.71523605095187, 59.714111458355596, 63.999999999999915, 68.59350160232268, 73.51669471981015, 78.79324245407454, 84.44850628946513, 90.50966799187798, 97.00586025666536, 103.96830673359801, 111.43047210190375, 119.42822291671119, 127.99999999999983, 137.18700320464535, 147.0333894396203, 157.5864849081491, 168.89701257893026, 181.01933598375595, 194.01172051333072, 207.93661346719603, 222.8609442038075, 238.85644583342238, 255.99999999999966, 274.3740064092907, 294.0667788792406, 315.1729698162982, 337.7940251578605, 362.0386719675119, 388.02344102666143, 415.87322693439205, 445.721888407615, 477.71289166684477, 511.9999999999993, 548.7480128185814, 588.1335577584812, 630.3459396325964, 675.588050315721, 724.0773439350238, 776.0468820533229, 831.7464538687841, 891.44377681523, 955.4257833336895, 1023.9999999999986, 1097.4960256371628, 1176.2671155169623, 1260.6918792651927, 1351.176100631442, 1448.1546878700476, 1552.0937641066457, 1663.4929077375682, 1782.88755363046, 1910.851566667379, 2047.9999999999973, 2194.9920512743256, 2352.5342310339247, 2521.3837585303854, 2702.352201262884, 2896.309375740095, 3104.1875282132914, 3326.9858154751364, 3565.77510726092, 3821.703133334758, 4095.9999999999945, 4389.984102548651, 4705.068462067849, 5042.767517060771, 5404.704402525768, 5792.61875148019, 6208.375056426583, 6653.971630950273, 7131.55021452184, 7643.406266669516, 8191.999999999989, 8779.968205097302, 9410.136924135699, 10085.535034121542, 10809.408805051537, 11585.23750296038, 12416.750112853166, 13307.943261900546, 14263.10042904368, 15286.812533339033, 16383.999999999978, 17559.936410194605, 18820.273848271398, 20171.070068243083, 21618.817610103073, 23170.47500592076, 24833.50022570633, 26615.88652380109, 28526.20085808736, 30573.625066678065, 32767.999999999956, 35119.87282038921, 37640.547696542795, 40342.14013648617, 43237.635220206146, 46340.95001184152, 49667.00045141266, 53231.77304760218, 57052.40171617472, 61147.25013335613, 65535.99999999991, 70239.74564077842, 75281.09539308559, 80684.28027297233, 86475.27044041229, 92681.90002368305, 99334.00090282533, 106463.54609520436, 114104.80343234944, 122294.50026671226, 131071.99999999983, 140479.49128155684, 150562.19078617118, 161368.56054594467, 172950.54088082458, 185363.8000473661, 198668.00180565065, 212927.09219040873, 228209.60686469887, 244589.00053342452, 262143.99999999965, 280958.9825631137, 301124.38157234236, 322737.12109188933, 345901.08176164917, 370727.6000947322, 397336.0036113013, 425854.18438081746, 456419.21372939774, 489178.00106684904, 524287.9999999993, 561917.9651262274, 602248.7631446847, 645474.2421837787, 691802.1635232983, 741455.2001894644, 794672.0072226026, 851708.3687616349, 912838.4274587955, 978356.0021336981, 1048575.9999999986, 1123835.9302524547, 1204497.5262893694, 1290948.4843675573, 1383604.3270465967, 1482910.4003789288, 1589344.0144452052, 1703416.7375232698, 1825676.854917591, 1956712.0042673962, 2097151.9999999972, 2247671.8605049094, 2408995.052578739, 2581896.9687351147, 2767208.6540931934, 2965820.8007578575, 3178688.0288904104, 3406833.4750465397, 3651353.709835182, 3913424.0085347923, 4194303.9999999944, 4495343.721009819, 4817990.105157478, 5163793.937470229, 5534417.308186387, 5931641.601515715, 6357376.057780821, 6813666.950093079, 7302707.419670364, 7826848.017069585, 8388607.999999989, 8990687.442019638, 9635980.210314956, 10327587.874940459, 11068834.616372773, 11863283.20303143, 12714752.115561642, 13627333.900186159, 14605414.839340728, 15653696.03413917, 16777215.999999978, 17981374.884039275, 19271960.42062991, 20655175.749880917, 22137669.232745547, 23726566.40606286, 25429504.231123284, 27254667.800372317, 29210829.678681456, 31307392.06827834, 33554431.999999955, 35962749.76807855, 38543920.84125982, 41310351.499761835, 44275338.46549109, 47453132.81212572, 50859008.46224657, 54509335.600744635, 58421659.35736291, 62614784.13655668, 67108863.99999991, 71925499.5361571, 77087841.68251964, 82620702.99952367, 88550676.93098219, 94906265.62425144, 100000000.0], :y=>[(-8.937146013732039e-17+1.1198239193297899e-13i), (-1.026608492431998e-16+1.2001975599983834e-13i), (-1.179263486479676e-16+1.2863398952808698e-13i), (-1.354618027023383e-16+1.3786649643934137e-13i), (-1.5560474992859607e-16+1.477616523586773e-13i), (-1.787429202720263e-16+1.5836701790428765e-13i), (-2.053216984829497e-16+1.6973356728562596e-13i), (-2.358526972913829e-16+1.8191593330892055e-13i), (-2.7092360539867015e-16+1.9497266996768744e-13i), (-3.1120949984926636e-16+2.0896653388007002e-13i), (-3.5748584053359476e-16+2.2396478592649712e-13i), (-4.106433969521007e-16+2.400395145365128e-13i), (-4.717053945645579e-16+2.572679821793695e-13i), (-5.418472107733147e-16+2.7573299672375776e-13i), (-6.224189996668315e-16+2.955233094512028e-13i), (-7.149716810253592e-16+3.1673404163656683e-13i), (-8.212867938490024e-16+3.3946714174644954e-13i), (-9.43410789056283e-16+3.6383187545150894e-13i), (-1.083694421450526e-15+3.8994535081084073e-13i), (-1.2448379992068521e-15+4.179330811494636e-13i), (-1.4299433618833921e-15+4.4792958833720857e-13i), (-1.642573587477221e-15+4.800790493674317e-13i), (-1.8868215778212363e-15+5.145359893440495e-13i), (-2.167388842516643e-15+5.514660242081135e-13i), (-2.489675997906472e-15+5.91046656773088e-13i), (-2.85988672309749e-15+6.33468129897423e-13i), (-3.2851471740712976e-15+6.789343408940306e-13i), (-3.7736431544771585e-15+7.2766382157222e-13i), (-4.334777683495644e-15+7.79890788625696e-13i), (-4.97935199378402e-15+8.358662694134148e-13i), (-5.7197734435177805e-15+8.958593085477568e-13i), (-6.57029434461003e-15+9.601582610898986e-13i), (-7.547286304293066e-15+1.0290721785708367e-12i), (-8.66955536084071e-15+1.102932294500742e-12i), (-9.958703979452318e-15+1.18209361651167e-12i), (-1.1439546876326803e-14+1.2669366327892893e-12i), (-1.314058867508978e-14+1.3578691409980154e-12i), (-1.5094572589941107e-14+1.4553282084981266e-12i), (-1.7339110697079202e-14+1.5597822732833193e-12i), (-1.991740792644175e-14+1.6717333957426471e-12i), (-2.2879093709818622e-14+1.791719672082807e-12i), (-2.6281177293658457e-14+1.920317821021593e-12i), (-3.018914510530217e-14+2.0581459562034787e-12i), (-3.467822129574944e-14+2.205866557677232e-12i), (-3.983481572303214e-14+2.3641896567477513e-12i), (-4.575818724829728e-14+2.5338762495330064e-12i), (-5.2562354361232394e-14+2.7157419556743296e-12i), (-6.037828991228408e-14+2.9106609398255353e-12i), (-6.935644219786302e-14+3.1195701148225235e-12i), (-7.966963092665864e-14+3.343473646812099e-12i), (-9.151637381123472e-14+3.5834477840632612e-12i), (-1.0512470781812704e-13+3.84064603277567e-12i), (-1.2075657863128735e-13+4.1163047048989655e-12i), (-1.3871288282118244e-13+4.411748864760012e-12i), (-1.593392597756945e-13+4.728398703287789e-12i), (-1.830327448810302e-13+5.067776370701089e-12i), (-2.1024941201890314e-13+5.431513300778955e-12i), (-2.415131524894517e-13+5.821358062283204e-12i), (-2.77425759344191e-13+6.239184775690775e-12i), (-3.186785112408993e-13+6.6870021362393534e-12i), (-3.6606547879630265e-13+7.166963087303549e-12i), (-4.2049880956840375e-13+7.681375191407002e-12i), (-4.830262858864116e-13+8.232711749730746e-12i), (-5.548514934956888e-13+8.823623724753806e-12i), (-6.373569892398411e-13+9.45695252490212e-12i), (-7.321309137295802e-13+1.0135743714459768e-11i), (-8.409975612591982e-13+1.0863261716966417e-11i), (-9.660524954028651e-13+1.1643005585579442e-11i), (-1.1097028862206166e-12+1.2478725919679635e-11i), (-1.2747138455118718e-12+1.3374443013305346e-11i), (-1.4642616520070906e-12+1.4334466327903953e-11i), (-1.6819948910080144e-12+1.5363415389502735e-11i), (-1.9321046853259695e-12+1.6466242218686224e-11i), (-2.219405369358301e-12+1.764825541104706e-11i), (-2.549427159152666e-12+1.891514599593986e-11i), (-2.9285226022061578e-12+2.0273015212704474e-11i), (-3.3639888559748865e-12+2.172840435623741e-11i), (-3.8642081487334745e-12+2.3288326857912286e-11i), (-4.438809126385738e-12+2.496030278383718e-11i), (-5.098852190822354e-12+2.6752395950504965e-11i), (-5.857042397182205e-12+2.8673253878338363e-11i), (-6.727974007788238e-12+3.0732150827040606e-11i), (-7.728411409797661e-12+3.2939034183465263e-11i), (-8.877611803455005e-12+3.530457450352812e-11i), (-1.0197695871723327e-11+3.78402195455698e-11i), (-1.1714073565459983e-11+4.0558252673914675e-11i), (-1.3455933198954496e-11+4.347185606013609e-11i), (-1.5456803268954962e-11+4.659517916632092e-11i), (-1.7755197809699816e-11+4.994341306193802e-11i), (-2.03953577038455e-11+5.353287120513256e-11i), (-2.3428102215430153e-11+5.7381077413824115e-11i), (-2.6911807131615082e-11+6.150686186430505e-11i), (-3.0913528335642286e-11+6.593046608948986e-11i), (-3.551029243100426e-11+7.067365811034757e-11i), (-4.0790579249962026e-11+7.575985902829726e-11i), (-4.685602476992453e-11+8.121428263959464e-11i), (-5.382337719960576e-11+8.706408991681161e-11i), (-6.182674386456584e-11+9.333856054397758e-11i), (-7.102017211199105e-11+1.0006928410849575e-10i), (-8.158061387440925e-11+1.0729037405796743e-10i), (-9.371133090429389e-11+1.1503870814594916e-10i), (-1.0764580615712471e-10+1.233541998399904e-10i), (-1.2365223652106648e-10+1.3228010608168745e-10i), (-1.4203869325242372e-10+1.4186337790644348e-10i), (-1.631590492899752e-10+1.521550617985966e-10i), (-1.8741978733186863e-10+1.6321076133204205e-10i), (-2.1528781944518194e-10+1.7509117069567149e-10i), (-2.4729946836035213e-10+1.8786269421675645e-10i), (-2.840707828466963e-10+2.015981690742546e-10i), (-3.263093850902801e-10+2.163777121751315e-10i), (-3.7482807728084145e-10+2.322897168013774e-10i), (-4.3056046820829043e-10+2.494320303300068e-10i), (-4.945789191973367e-10+2.679133513177884e-10i), (-5.681151528852991e-10+2.8785489282692956e-10i), (-6.525839189872537e-10+3.093923694152376e-10i), (-7.496101692215098e-10+3.3267837817127526e-10i), (-8.610602600410722e-10+3.5788526009695376e-10i), (-9.890777779298737e-10+3.8520854770509933e-10i), (-1.136124669131954e-09+4.1487112874276623e-10i), (-1.3050284553201855e-09+4.4712828549856005e-10i), (-1.4990364306064703e-09+4.822738054618453e-10i), (-1.7218778653899972e-09+5.206474037150576e-10i), (-1.9778353910083375e-09+5.626437522592969e-10i), (-2.2718269084215803e-09+6.087234788113151e-10i), (-2.60949955690881e-09+6.594265803199762e-10i), (-2.9973374979458412e-09+7.153887980113939e-10i), (-3.4427855182919665e-09+7.773616254497055e-10i), (-3.954390738327777e-09+8.462367740986655e-10i), (-4.541965030570217e-09+9.23076108553999e-10i), (-5.216771112930007e-09+1.0091482937260328e-09i), (-5.991735685633389e-09+1.1059736782364403e-09i), (-6.881693433703601e-09+1.215379283610691e-09i), (-7.903666222111613e-09+1.3395661913870383e-09i), (-9.077182371208319e-09+1.48119213687315e-09i), (-1.0424641517891224e-08+1.643472749196734e-09i), (-1.1971731243603967e-08+1.8303056469423115e-09i), (-1.3747902381803332e-08+2.0464225361867352e-09i), (-1.5786910699596694e-08+2.297575597931218e-09i), (-1.812743347060704e-08+2.5907658359575735e-09i), (-2.0813770301767058e-08+2.9345227324364844e-09i), (-2.3896638419441917e-08+3.3392465836651145e-09i), (-2.7434073421398083e-08+3.8176273272503595e-09i), (-3.149244720552474e-08+4.38515659898103e-09i), (-3.61476153170745e-08+5.060753255382683e-09i), (-4.148620620856939e-08+5.867526756921081e-09i), (-4.760706473939116e-08+6.833707722387215e-09i), (-5.462286146871007e-08+7.993780733005762e-09i), (-6.266187767205901e-08+9.389861173776257e-09i), (-7.186997322484453e-08+1.107336561894308e-08i), (-8.241274014771058e-08+1.31070340310763e-08i), (-9.447783820294322e-08+1.5567371819424774e-08i), (-1.082774998610582e-07+1.8547590465664525e-08i), (-1.2405117949618713e-07+2.2161136700039408e-08i), (-1.420683049735943e-07+2.654591161384591e-08i), (-1.626310679173426e-07+3.186929184799968e-08i), (-1.8607716088791044e-07+3.8334073931050626e-08i), (-2.1278233448099626e-07+4.6185468270036105e-08i), (-2.431626041681636e-07+5.571926889915956e-08i), (-2.7767588511006996e-07+6.72913157740354e-08i), (-3.168227734603173e-07+8.132834421372784e-08i), (-3.611461262633072e-07+9.834027621499517e-08i), (-4.1122902206807695e-07+1.1893394522100045e-07i), (-4.6769061636666355e-07+1.4382815356394234e-07i), (-5.311793485947491e-07+1.7386983459047907e-07i), (-6.023629231865347e-07+2.100509253141335e-07i), (-6.819144927150807e-07+2.535253495050542e-07i), (-7.704945370416476e-07+3.056252702804369e-07i), (-8.687280817568168e-07+3.6787550887943767e-07i), (-9.77177154718812e-07+4.420047672204887e-07i), (-1.0963087584736875e-06+5.299520745269643e-07i), (-1.2264591435625287e-06+6.338667551857178e-07i), (-1.3677957868132995e-06+7.561002492515444e-07i), (-1.5202791635650535e-06+8.991883744121541e-07i), (-1.6836270718056252e-06+1.065823153196512e-06i), (-1.8572848033394394e-06+1.2588141657571587e-06i), (-2.0404047232277357e-06+1.4810404994799834e-06i), (-2.2318386758999257e-06+1.7353956570532118e-06i), (-2.4301459830218465e-06+2.02472908771815e-06i), (-2.6336186088271673e-06+2.3517890994309767e-06i), (-2.8403234249237377e-06+2.7191725525055505e-06i), (-3.0481596069068336e-06+3.129286727444553e-06i), (-3.2549273308178063e-06+3.584328000843838e-06i), (-3.4584024360370655e-06+4.086280497818406e-06i), (-3.6564108683951738e-06+4.6369359152331056e-06i), (-3.8468966821237075e-06+5.237933543338529e-06i), (-4.027978167093323e-06+5.890817516641527e-06i), (-4.197988118736076e-06+6.597106819563151e-06i), (-4.3554961013764835e-06+7.358372765555386e-06i), (-4.4993124438329965e-06+8.17631861411813e-06i), (-4.628475353061683e-06+9.052856596420946e-06i), (-4.742223731576922e-06+9.990178690988724e-06i), (-4.83995894777231e-06+1.0990818786626673e-05i), (-4.921198954151876e-06+1.2057705164971832e-05i), (-4.985527874184767e-06+1.3194203358516827e-05i), (-5.032543620226606e-06+1.440415029182614e-05i), (-5.061805401965153e-06+1.5691881162487956e-05i), (-5.072782254446736e-06+1.7062250785040402e-05i), (-5.064803040004476e-06+1.8520651158211924e-05i), (-5.037007806677368e-06+2.0073026888178515e-05i), (-4.988299933964993e-06+2.1725889870962836e-05i), (-4.9172981601301886e-06+2.3486334357761396e-05i), (-4.82228734569195e-06+2.5362053235967062e-05i), (-4.701166661227446e-06+2.7361356079957554e-05i), (-4.5513937692555455e-06+2.949318927134487e-05i), (-4.369923477141113e-06+3.176715826111127e-05i), (-4.153139251617148e-06+3.419355184222271e-05i), (-3.8967758906028224e-06+3.6783368113051106e-05i), (-3.5958315330387817e-06+3.954834162880756e-05i), (-3.2444670439642e-06+4.2500971048174666e-05i), (-2.83589063375476e-06+4.5654546372237974e-05i), (-2.3622253526540857e-06+4.902317462832932e-05i), (-1.814356840889138e-06+5.262180255667472e-05i), (-1.1817584079835914e-06+5.6466234494824204e-05i), (-4.5229016029043614e-07+6.0573143202782e-05i), (3.8803150799728333e-07+6.496007080545617e-05i), (1.3552981980557132e-06+6.964541631792164e-05i), (2.468012201774377e-06+7.464840532514208e-05i), (3.7474327895492125e-06+7.998903626391515e-05i), (5.21797184539981e-06+8.568799634137322e-05i), (6.907645193341388e-06+9.17665383462929e-05i), (8.848586533176271e-06+9.824630737172376e-05i), (1.107763141639978e-05+0.00010514910364976662i), (1.3636979070561862e-05+0.00011249656414956982i), (1.6574940010840245e-05+0.00012030974111576385i), (1.9946777090273103e-05+0.0001286085500853829i), (2.3815646678497242e-05+0.00013741105281606927i), (2.8253644639217564e-05+0.00014673253161640146i), (3.334295812787409e-05+0.00015658430034233453i), (3.917711810659401e-05+0.00016697218328568065i), (4.586233762402552e-05+0.00017789457574315828i), (5.351890549705818e-05+0.00018933997861771379i), (6.22825813773589e-05+0.00020128387347019723i), (7.230590239904895e-05+0.00021368477384716824i), (8.375925810674858e-05+0.00022647925407717106i), (9.683151127937643e-05+0.00023957572026002852i), (0.00011172982672956107+0.00025284665509636933i), (0.00012867820371790655+0.0002661190492052125i), (0.0001479139721722398+0.0002791627468514875i), (0.00016968118818162938+0.0002916765196798123i), (0.00019421943295857636+0.00030327189979378086i), (0.00022174598011451206+0.0003134552535803707i), (0.00025242869038663075+0.0003216094133819287i), (0.00028634645875777833+0.0003269776198161732i), (0.00032343390152155275+0.0003286548184083737i), (0.00036340787760769815+0.00032559470034351144i), (0.00040567650380719876+0.0003166451663717097i), (0.0004492381463704646+0.0003006291689375171i), (0.00049259007878988+0.0002764895016993884i), (0.0005336842105605451+0.00024350987886354833i), (0.0005699860111372173+0.00020160328064562118i), (0.0005986995148372455+0.00015161672230088073i), (0.0006171946565530706+9.554582455226014e-05i), (0.0006235953106299195+3.651263476074646e-05i), (0.0006173701280605474-2.161379636315068e-05i), (0.0005996785335122452-7.494864596064558e-05i), (0.0005732508318154349-0.00012048116315075575i), (0.0005417545692513513-0.00015679726152761892i), (0.0005088317211987171-0.00018433783311385947i), (0.0004771406799585905-0.00020507609977494463i), (0.0004477348536178101-0.00022171714857867824i), (0.00041999345477606025-0.0002366868075703782i), (0.00039214312592255674-0.00025126245107961207i), (0.00036218771921217455-0.00026518499229270386i), (0.00032885640532398107-0.0002769184595301648i), (0.00029214421121243165-0.0002844066161056361i), (0.0002532524150949194-0.00028591593895594883i), (0.00022362462479053342-0.00028253046660289247i)], :name=>\"V(nc_01)\"}, {:x=>[1.0, 1.0717734625362931, 1.1486983549970349, 1.231144413344916, 1.319507910772894, 1.4142135623730947, 1.5157165665103978, 1.6245047927124707, 1.7411011265922478, 1.8660659830736144, 1.9999999999999996, 2.143546925072586, 2.2973967099940693, 2.4622888266898317, 2.6390158215457875, 2.828427124746189, 3.0314331330207946, 3.2490095854249406, 3.4822022531844947, 3.7321319661472274, 3.9999999999999973, 4.28709385014517, 4.594793419988137, 4.924577653379662, 5.278031643091573, 5.656854249492376, 6.0628662660415875, 6.4980191708498785, 6.964404506368987, 7.464263932294452, 7.999999999999992, 8.574187700290336, 9.18958683997627, 9.84915530675932, 10.556063286183143, 11.313708498984749, 12.125732532083171, 12.996038341699753, 13.92880901273797, 14.9285278645889, 15.99999999999998, 17.14837540058067, 18.379173679952537, 19.698310613518636, 21.112126572366282, 22.627416997969494, 24.25146506416634, 25.992076683399503, 27.857618025475936, 29.857055729177798, 31.999999999999957, 34.29675080116134, 36.75834735990507, 39.39662122703727, 42.224253144732565, 45.25483399593899, 48.50293012833268, 51.984153366799006, 55.71523605095187, 59.714111458355596, 63.999999999999915, 68.59350160232268, 73.51669471981015, 78.79324245407454, 84.44850628946513, 90.50966799187798, 97.00586025666536, 103.96830673359801, 111.43047210190375, 119.42822291671119, 127.99999999999983, 137.18700320464535, 147.0333894396203, 157.5864849081491, 168.89701257893026, 181.01933598375595, 194.01172051333072, 207.93661346719603, 222.8609442038075, 238.85644583342238, 255.99999999999966, 274.3740064092907, 294.0667788792406, 315.1729698162982, 337.7940251578605, 362.0386719675119, 388.02344102666143, 415.87322693439205, 445.721888407615, 477.71289166684477, 511.9999999999993, 548.7480128185814, 588.1335577584812, 630.3459396325964, 675.588050315721, 724.0773439350238, 776.0468820533229, 831.7464538687841, 891.44377681523, 955.4257833336895, 1023.9999999999986, 1097.4960256371628, 1176.2671155169623, 1260.6918792651927, 1351.176100631442, 1448.1546878700476, 1552.0937641066457, 1663.4929077375682, 1782.88755363046, 1910.851566667379, 2047.9999999999973, 2194.9920512743256, 2352.5342310339247, 2521.3837585303854, 2702.352201262884, 2896.309375740095, 3104.1875282132914, 3326.9858154751364, 3565.77510726092, 3821.703133334758, 4095.9999999999945, 4389.984102548651, 4705.068462067849, 5042.767517060771, 5404.704402525768, 5792.61875148019, 6208.375056426583, 6653.971630950273, 7131.55021452184, 7643.406266669516, 8191.999999999989, 8779.968205097302, 9410.136924135699, 10085.535034121542, 10809.408805051537, 11585.23750296038, 12416.750112853166, 13307.943261900546, 14263.10042904368, 15286.812533339033, 16383.999999999978, 17559.936410194605, 18820.273848271398, 20171.070068243083, 21618.817610103073, 23170.47500592076, 24833.50022570633, 26615.88652380109, 28526.20085808736, 30573.625066678065, 32767.999999999956, 35119.87282038921, 37640.547696542795, 40342.14013648617, 43237.635220206146, 46340.95001184152, 49667.00045141266, 53231.77304760218, 57052.40171617472, 61147.25013335613, 65535.99999999991, 70239.74564077842, 75281.09539308559, 80684.28027297233, 86475.27044041229, 92681.90002368305, 99334.00090282533, 106463.54609520436, 114104.80343234944, 122294.50026671226, 131071.99999999983, 140479.49128155684, 150562.19078617118, 161368.56054594467, 172950.54088082458, 185363.8000473661, 198668.00180565065, 212927.09219040873, 228209.60686469887, 244589.00053342452, 262143.99999999965, 280958.9825631137, 301124.38157234236, 322737.12109188933, 345901.08176164917, 370727.6000947322, 397336.0036113013, 425854.18438081746, 456419.21372939774, 489178.00106684904, 524287.9999999993, 561917.9651262274, 602248.7631446847, 645474.2421837787, 691802.1635232983, 741455.2001894644, 794672.0072226026, 851708.3687616349, 912838.4274587955, 978356.0021336981, 1048575.9999999986, 1123835.9302524547, 1204497.5262893694, 1290948.4843675573, 1383604.3270465967, 1482910.4003789288, 1589344.0144452052, 1703416.7375232698, 1825676.854917591, 1956712.0042673962, 2097151.9999999972, 2247671.8605049094, 2408995.052578739, 2581896.9687351147, 2767208.6540931934, 2965820.8007578575, 3178688.0288904104, 3406833.4750465397, 3651353.709835182, 3913424.0085347923, 4194303.9999999944, 4495343.721009819, 4817990.105157478, 5163793.937470229, 5534417.308186387, 5931641.601515715, 6357376.057780821, 6813666.950093079, 7302707.419670364, 7826848.017069585, 8388607.999999989, 8990687.442019638, 9635980.210314956, 10327587.874940459, 11068834.616372773, 11863283.20303143, 12714752.115561642, 13627333.900186159, 14605414.839340728, 15653696.03413917, 16777215.999999978, 17981374.884039275, 19271960.42062991, 20655175.749880917, 22137669.232745547, 23726566.40606286, 25429504.231123284, 27254667.800372317, 29210829.678681456, 31307392.06827834, 33554431.999999955, 35962749.76807855, 38543920.84125982, 41310351.499761835, 44275338.46549109, 47453132.81212572, 50859008.46224657, 54509335.600744635, 58421659.35736291, 62614784.13655668, 67108863.99999991, 71925499.5361571, 77087841.68251964, 82620702.99952367, 88550676.93098219, 94906265.62425144, 100000000.0], :y=>[(-99.76188092181997+0.00038261798073784074i), (-99.76188092160339+0.00041007979804315715i), (-99.76188092135463+0.0004395126450638107i), (-99.76188092106884+0.0004710579894271858i), (-99.76188092074058+0.000504867452382111i), (-99.76188092036354+0.0005411035375594223i), (-99.76188091993042+0.0005799404120382005i), (-99.76188091943293+0.00062156474347183i), (-99.76188091886135+0.0006661765972974991i), (-99.7618809182049+0.0007139903983415231i), (-99.76188091745077+0.0007652359614424208i), (-99.76188091658449+0.0008201595960453654i), (-99.76188091558944+0.0008790252900772065i), (-99.76188091444642+0.000942115978792304i), (-99.76188091313341+0.0010097349046878088i), (-99.76188091162521+0.0010822070750247693i), (-99.76188090989261+0.0011598808239605787i), (-99.76188090790254+0.0012431294868010686i), (-99.76188090561648+0.0013323531944194455i), (-99.7618809029905+0.0014279807964669164i), (-99.76188089997402+0.001530471922618755i), (-99.76188089650903+0.0016403191917631387i), (-99.76188089252881+0.0017580505797511012i), (-99.76188088795666+0.001884231957088076i), (-99.7618808827047+0.002019469808764312i), (-99.76188087667181+0.0021644141492969363i), (-99.76188086974173+0.002319761646994597i), (-99.76188086178126+0.0024862589724614025i), (-99.76188085263699+0.002664706387434484i), (-99.76188084213305+0.002855961591204807i), (-99.76188083006718+0.0030609438431088262i), (-99.7618808162072+0.0032806383809055616i), (-99.76188080028615+0.003516101156275722i), (-99.76188078199765+0.003768463910203884i), (-99.7618807609898+0.004038939612638194i), (-99.76188073685807+0.0043288282925730386i), (-99.76188070913798+0.00463952328657669i), (-99.76188067729596+0.0049725179357969366i), (-99.76188064071907+0.0053294127636337105i), (-99.7618805987033+0.00571192316857738i), (-99.76188055043983+0.006121887669188185i), (-99.76188049499963+0.0065612767408453915i), (-99.7618804313156+0.007032202286739604i), (-99.76188035816185+0.007536927788629669i), (-99.76188027413023+0.008077879186152949i), (-99.76188017760332+0.008657656536979476i), (-99.76188006672301+0.009279046513853327i), (-99.7618799393549+0.009945035798586955i), (-99.76187979304743+0.010658825437385364i), (-99.76187962498427+0.011423846226496986i), (-99.76187943193031+0.012243775202140645i), (-99.76187921016967+0.013122553313964936i), (-99.76187895543349+0.014064404366984463i), (-99.7618786628185+0.015073855323034489i), (-99.76187832669216+0.01615575805931839i), (-99.7618779405844+0.017315312688626162i), (-99.76187749706305+0.01855809255330632i), (-99.76187698759077+0.019890071013118623i), (-99.7618764023608+0.02131765015571431i), (-99.76187573010813+0.022847691567731667i), (-99.76187495789262+0.024487549314395587i), (-99.76187407085003+0.026245105286123217i), (-99.7618730519055+0.02812880708201115i), (-99.76187188144571+0.03014770861227041i), (-99.7618705369405+0.0323115136147371i), (-99.76186899250963+0.03463062229459021i), (-99.7618672184245+0.03711618131141054i), (-99.76186518053589+0.03978013735379545i), (-99.76186283961668+0.04263529455897815i), (-99.76186015060676+0.04569537605336634i), (-99.76185706174572+0.04897508990970734i), (-99.76185351357634+0.05249019983779548i), (-99.76184943780034+0.056257600948363774i), (-99.76184475596357+0.060295400954157634i), (-99.76183937794583+0.06462300719828416i), (-99.76183320022643+0.06926121992789468i), (-99.7618261038913+0.0742323322612195i), (-99.76181795234406+0.07956023732807861i), (-99.76180858867673+0.08527054309838387i), (-99.76179783264965+0.09139069545000085i), (-99.76178547722192+0.09795011006680651i), (-99.76177128456611+0.10498031380007236i), (-99.76175498149065+0.1125150961715838i), (-99.76173625418126+0.12059067174542533i), (-99.76171474216035+0.12924585414729653i), (-99.7616900313487+0.13852224256585424i), (-99.76166164609499+0.14846442163012344i), (-99.76162904002057+0.15912017562076108i), (-99.76159158550259+0.17054071804118204i), (-99.7615485615938+0.18278093764755116i), (-99.76149914014609+0.19589966211473403i), (-99.76144236987034+0.20995994059880396i), (-99.76137715802703+0.22502934654599097i), (-99.76130224939446+0.24118030219335232i), (-99.76121620210908+0.25849042630836694i), (-99.76111735991577+0.2770429068234679i), (-99.76100382029078+0.2969269001376171i), (-99.76087339782686+0.3182379589808317i), (-99.76072358217468+0.34107849086946634i), (-99.76055148973262+0.36555824932045694i), (-99.76035380815473+0.39179486014201326i), (-99.76012673261083+0.41991438527679614i), (-99.75986589257317+0.45005192684172496i), (-99.75956626772154+0.48235227418653803i), (-99.75922209135163+0.5169705969812296i), (-99.75882673943026+0.5540731875406527i), (-99.75837260316636+0.5938382558028049i), (-99.75785094265089+0.6364567805954169i), (-99.75725171875683+0.6821334210529557i), (-99.75656340007198+0.7310874922822808i), (-99.75577274116425+0.783554009618761i), (-99.75486452792735+0.8397848060640988i), (-99.75382128512982+0.9000497277500324i), (-99.7526229405684+0.9646379125255794i), (-99.75124643940325+1.0338591570154279i), (-99.74966530130479+1.1080453777382593i), (-99.74784911196008+1.187552172099458i), (-99.74576293924498+1.2727604852741363i), (-99.74336666294899+1.364078389162761i), (-99.74061420531557+1.4619429797189385i), (-99.73745264780281+1.5668223989996868i), (-99.7338212173505+1.679217988250972i), (-99.72965012301725+1.7996665781880365i), (-99.72485922109179+1.9287429223270756i), (-99.71935648364105+2.0670622787302415i), (-99.71303624188012+2.2152831447871044i), (-99.70577717169353+2.374110148608637i), (-99.69743998403443+2.5442970991745875i), (-99.6878647777267+2.7266501954545705i), (-99.67686800632657+2.9220313921970553i), (-99.66423900409987+3.131361916802614i), (-99.64973600877467+3.355625927488853i), (-99.63308161048008+3.5958742975969074i), (-99.61395754712031+3.8532285041186953i), (-99.59199875633742+4.128884590020506i), (-99.56678658315937+4.424117159316471i), (-99.53784103045699+4.7402833506425415i), (-99.50461192651689+5.078826718746245i), (-99.46646887053882+5.441280933184094i), (-99.42268980296525+5.829273178836878i), (-99.37244803365208+6.244527112711956i), (-99.31479754762499+6.688865194863078i), (-99.24865639640795+7.164210166937608i), (-99.17278797389874+7.672585398536837i), (-99.08577997118111+8.216113757801912i), (-98.98602080677757+8.797014586892685i), (-98.87167334065319+9.41759827378007i), (-98.74064570571286+10.080257807613041i), (-98.59055913463166+10.787456584747638i), (-98.41871272902236+11.541711595829929i), (-98.22204522017184+12.345570971606795i), (-97.99709391562864+13.201584698477488i), (-97.73995122550609+14.11226713864009i), (-97.44621943006769+15.080049811876581i), (-97.11096470121275+16.107222729130825i), (-96.72867184102647+17.19586243099918i), (-96.29320176633001+18.347744804277436i), (-95.79775446221932+19.564240764351826i), (-95.23484095674118+20.846193050404466i), (-94.59626882860552+22.193772747911677i), (-93.8731468271457+23.606314806656446i), (-93.05591530793303+25.082132852431187i), (-92.13441027907255+26.618315092967418i), (-91.09796977213198+28.210505184266292i), (-89.93559179625866+29.852674618750736i), (-88.63615303525417+31.53689653472781i), (-87.1886963730385+33.25313474920658i), (-85.58279290974833+34.98906606724736i), (-83.80897999210102+36.729958120051826i), (-81.85927064820281+38.458628509894154i), (-79.72772161115799+40.15551304672865i), (-77.41103710148838+41.7988703291706i), (-74.90917445942875+43.36514578977439i), (-72.22590689084268+44.82950971288382i), (-69.36928988793365+46.166570255251145i), (-66.35197355289574+47.35124459426206i), (-63.19130531525222+48.3597505280826i), (-59.909178029358394+49.170659847781884i), (-56.53159757961783+49.76593718962855i), (-53.08797058672899+50.13187773145221i), (-49.61014339623619+50.2598572569913i), (-46.13125353632495+50.146820394637174i), (-42.684478968003305+49.79545652593371i), (-39.301784102538036+49.214044760256066i), (-36.01276199827477+48.415984380886066i), (-32.84365928299909+47.41905943374994i), (-29.81664675631456+46.244510462004236i), (-26.949368837386668+44.915999447012375i), (-24.25477432036379+43.45855492216693i), (-21.7412040568931+41.89757446659945i), (-19.412691517992634+40.2579445229576i), (-17.269421137158133+38.56331658110133i), (-15.308286588638046+36.83555786415984i), (-13.523495131083642+35.09437650543431i), (-11.90717264020423+33.357107420968426i), (-10.449934707190229+31.63863616548046i), (-9.141400288108118+29.95143366398784i), (-7.970634499557988+28.30567398103406i), (-6.926515489197923+26.709409166158803i), (-5.998026575754044+25.168778670846812i), (-5.17447911197793+23.688235009312553i), (-4.44567404598529+22.270771597428276i), (-3.8020113053143585+20.91814263702441i), (-3.234556278483547+19.631068290361018i), (-2.7350721564827953+18.40942112612516i), (-2.2960259948634656+17.252391922472068i), (-1.9105752717100675+16.1586344483088i), (-1.5725405915432535+15.126389901190718i), (-1.2763691124298202+14.153592355131664i), (-1.0170923060797519+13.237956954919353i), (-0.7902808229721955+12.377052763949521i), (-0.5919985320467152+11.568362194842626i), (-0.41875723093682726+10.809328876954691i), (-0.2674730653352121+10.09739568063146i), (-0.13542533922319142+9.430034452486419i), (-0.02021812520033121+8.804768838511558i), (0.08025511929721174+8.219191395385119i), (0.16784387221442337+7.670976023033696i), (0.24416985045901682+7.157886597966697i), (0.3106534147669303+6.677782549345625i), (0.36853723925703585+6.228621998763075i), (0.41890743556779114+5.808462979841913i), (0.4627123341045273+5.415463163958985i), (0.5007791277239815+5.0478784422642855i), (0.5338285792361436+4.704060650188442i), (0.5624879857744918+4.3824546672921265i), (0.5873025821676493+4.081595081158992i), (0.6087455533004428+3.8001025677280778i), (0.6272268131265988+3.5366801107727635i), (0.6431006963161181+3.2901091590347677i), (0.6566726981761202+3.059245799751787i), (0.6682053900887657+2.843017010921502i), (0.677923631850333+2.640417040487194i), (0.6860191995494163+2.450503947361142i), (0.6926549485292363+2.27239632506909i), (0.69796863592133+2.105270211378433i), (0.7020765361541054+1.9483561631068385i), (0.7050769946375043+1.8009364394516407i), (0.7070540762694101+1.662342182724871i), (0.708081469141362+1.5319504031709303i), (0.7082267850380126+1.409180453660611i), (0.7075563296388667+1.293489510254907i), (0.706140249758984+1.1843663532050914i), (0.7040576286626058+1.0813224901720637i), (0.7014004912697027+0.9838794525970669i), (0.698274688204333+0.8915511032282099i), (0.6947942036124485+0.8038203597928438i), (0.6910637605745416+0.7201114098965998i), (0.6871433839389062+0.6397619006990682i), (0.6829893514273323+0.5620050029444833i), (0.6783709755917448+0.4859776145225973i), (0.6727736484944592+0.4107748015393672i), (0.6653140089419116+0.3355662323368237i), (0.6547056792942038+0.2597737351719933i), (0.6393132030263752+0.18328397718785316i), (0.6173135173979648+0.10664999126784826i), (0.5869592904033838+0.031231872388583132i), (0.5469235585489041-0.04076522476877198i), (0.4966988397149833-0.1063994137845074i), (0.4369970635220872-0.16230640857117729i), (0.37002553266024396-0.20526905296803205i), (0.29943895596743353-0.23299030288694442i), (0.229804329764707-0.24483030471463557i), (0.165644339902776-0.24214186392732368i), (0.11042418791790004-0.22796549914043884i), (0.06593483335401469-0.20620218211194927i), (0.03959469880430206-0.18711249785829276i)], :name=>\"(V(out1))\"}]"
      ]
     },
     "execution_count": 12,
     "metadata": {},
     "output_type": "execute_result"
    }
   ],
   "source": [
    "r[1]"
   ]
  },
  {
   "cell_type": "code",
   "execution_count": 64,
   "metadata": {},
   "outputs": [
    {
     "data": {
      "text/plain": [
       "[1.0, 1.2589254117941673, 1.5848931924611136, 1.99526231496888, 2.5118864315095806, 3.16227766016838, 3.9810717055349736, 5.011872336272725, 6.309573444801935, 7.9432823472428185, 10.000000000000005, 12.58925411794168, 15.848931924611145, 19.95262314968881, 25.118864315095824, 31.622776601683825, 39.81071705534977, 50.11872336272729, 63.0957344480194, 79.43282347242825, 100.00000000000014, 125.89254117941691, 158.4893192461116, 199.52623149688827, 251.18864315095843, 316.2277660168385, 398.10717055349795, 501.1872336272732, 630.9573444801945, 794.3282347242831, 1000.000000000002, 1258.9254117941698, 1584.8931924611168, 1995.2623149688839, 2511.8864315095857, 3162.2776601683863, 3981.0717055349814, 5011.872336272734, 6309.5734448019475, 7943.2823472428345, 10000.000000000025, 12589.254117941706, 15848.931924611177, 19952.62314968885, 25118.86431509587, 31622.776601683883, 39810.71705534984, 50118.72336272738, 63095.734448019524, 79432.82347242841, 100000.00000000033, 125892.54117941715, 158489.3192461119, 199526.23149688868, 251188.64315095893, 316227.76601683913, 398107.1705534988, 501187.2336272742, 630957.3444801958, 794328.2347242847, 1000000.0000000041, 1258925.4117941724, 1584893.19246112, 1995262.314968888, 2511886.4315095907, 3162277.660168393, 3981071.70553499, 5011872.336272745, 6309573.444801961, 7943282.347242852, 10000000.000000047, 12589254.117941732, 15848931.92461121, 19952623.149688892, 25118864.315095924, 31622776.60168395, 39810717.05534992, 50118723.36272748, 63095734.448019646, 79432823.47242856, 100000000.00000052, 125892541.17941739, 158489319.2461122, 199526231.49688905, 251188643.1509594, 316227766.0168397, 398107170.55349946, 501187233.6272751, 630957344.4801968, 794328234.7242861, 1000000000.0]"
      ]
     },
     "execution_count": 64,
     "metadata": {},
     "output_type": "execute_result"
    }
   ],
   "source": [
    "x=r[1][0][:x]"
   ]
  },
  {
   "cell_type": "code",
   "execution_count": 63,
   "metadata": {},
   "outputs": [
    {
     "data": {
      "text/plain": [
       "[(-99.76188092181997+0.00038261798073784074i), (-99.76188092096808+0.0004816874989561573i), (-99.76188091961801+0.0006064086329713383i), (-99.76188091747832+0.0007634232379627302i), (-99.76188091408712+0.0009610929141930432i), (-99.76188090871241+0.0012099442927082401i), (-99.76188090019404+0.001523229616816645i), (-99.76188088669338+0.0019176324723504195i), (-99.76188086529632+0.0024141562494097465i), (-99.76188083138415+0.0030392426493983135i), (-99.76188077763703+0.0038261798018903973i), (-99.76188069245366+0.0048168749786115525i), (-99.76188055744706+0.006064086307865221i), (-99.76188034347597+0.007634232336034479i), (-99.76188000435475+0.009610929054951317i), (-99.76187946688374+0.012099442753536251i), (-99.7618786150497+0.015232295821896369i), (-99.76187726498365+0.019176324032604528i), (-99.76187512527335+0.024141561115571416i), (-99.76187173406113+0.030392423743462176i), (-99.7618663593525+0.038261792530893464i), (-99.7618578410145+0.04816873883609577i), (-99.76184434036168+0.06064084123049347i), (-99.76182294327627+0.0763422797675465i), (-99.76178903119997+0.09610920357047502i), (-99.76173528422792+0.12099425398945912i), (-99.76165010113553+0.15232261194965888i), (-99.76151509532802+0.19176254942888768i), (-99.76130112628552+0.2414142326376153i), (-99.76096201007252+0.30392148693878007i), (-99.76042455178175+0.38261243737786876i), (-99.75957274956762+0.4816764385926287i), (-99.75822276360665+0.606386564941168i), (-99.75608325431953+0.7633792073909352i), (-99.7526925471654+0.9610050646158605i), (-99.74731910702197+1.2097690191278625i), (-99.7388039550424+1.5228799296744986i), (-99.7253113036285+1.9169348484438227i), (-99.70393431165304+2.412764602827175i), (-99.6700726865376+3.0364668852782453i), (-99.61645235795513+3.820644381224591i), (-99.5315870446755+4.805839699936317i), (-99.39737813221585+6.042097495756327i), (-99.1854055254767+7.590451738267224i), (-98.85128326419802+9.52386729593556i), (-98.32628693787068+11.926647210665616i), (-97.50546519142608+14.890379351619535i), (-96.23204495141188+18.502951461956766i), (-94.28005296202244+22.82504466441885i), (-91.34231341317037+27.846820833343198i), (-87.04094034095998+33.41984501044411i), (-80.98995379472706+39.17356253314528i), (-72.9399257396183+44.460368747718846i), (-62.99048572121821+48.416147519266254i), (-51.75433013584132+50.209477086692125i), (-40.2876910934264+49.4081265369731i), (-29.734196698160623+46.209326354537986i), (-20.905321182913653+41.331568137991766i), (-14.09021914434487+35.666145837316314i), (-9.149129824635367+29.961846759183068i), (-5.727203377292478+24.694733167346087i), (-3.4319243992710198+20.089904485857762i), (-1.9252100275728146+16.201678828536277i), (-0.9501475006256123+12.990211310520962i), (-0.325027029331314+10.374276640537314i), (0.07321900506698635+8.2615996218485i), (0.32572120247009634+6.563922923550307i), (0.4850343087475123+5.203232227033869i), (0.5847720306116412+4.113391902563242i), (0.6461755018175572+3.239647069638998i), (0.68244534035576+2.5372992370436926i), (0.7015587000106656+1.970213038315734i), (0.7081703179301836+1.5094528461535188i), (0.7051752739737629+1.132037106832065i), (0.6954322719672139+0.8190660512754723i), (0.6823587960352642+0.5509252290457837i), (0.6608493442777679+0.3002992609807739i), (0.5941525864717332+0.04698690070984948i), (0.42990593004199923-0.16773736315166907i), (0.20115795672244055-0.24530390447197103i), (0.03959469880429968-0.18711249785829076i), (-0.018016188309324183-0.10573612421844385i), (-0.025354971133913037-0.05354204292445355i), (-0.019367835973449477-0.026516710251546304i), (-0.012303863422015603-0.013319919618227094i), (-0.006860999061620151-0.006943898107970228i), (-0.0031354072878831828-0.0038659164565798933i), (-0.0007097219169245004-0.002395213008159388i), (0.0008208854324169305-0.0017241127164119353i), (0.0017515489731849845-0.001463646434529505i), (0.002276089683935345-0.0014223851196905318i)]"
      ]
     },
     "execution_count": 63,
     "metadata": {},
     "output_type": "execute_result"
    }
   ],
   "source": [
    "y=r[1][3][:y]"
   ]
  },
  {
   "cell_type": "code",
   "execution_count": null,
   "metadata": {},
   "outputs": [
    {
     "ename": "NoMethodError",
     "evalue": "undefined method `downcase' for nil:NilClass",
     "output_type": "error",
     "traceback": [
      "\u001b[31mNoMethodError\u001b[0m: undefined method `downcase' for nil:NilClass",
      "/home/anagix/work/2in1_OpAmp/ltspctl.rb:794:in `get_traces0'",
      "/home/anagix/work/2in1_OpAmp/ltspctl.rb:773:in `get_traces'",
      "(pry):13:in `<main>'",
      "/opt/chefdk/embedded/lib/ruby/gems/2.6.0/gems/pry-0.12.2/lib/pry/pry_instance.rb:387:in `eval'",
      "/opt/chefdk/embedded/lib/ruby/gems/2.6.0/gems/pry-0.12.2/lib/pry/pry_instance.rb:387:in `evaluate_ruby'",
      "/opt/chefdk/embedded/lib/ruby/gems/2.6.0/gems/pry-0.12.2/lib/pry/pry_instance.rb:355:in `handle_line'",
      "/opt/chefdk/embedded/lib/ruby/gems/2.6.0/gems/pry-0.12.2/lib/pry/pry_instance.rb:274:in `block (2 levels) in eval'",
      "/opt/chefdk/embedded/lib/ruby/gems/2.6.0/gems/pry-0.12.2/lib/pry/pry_instance.rb:273:in `catch'",
      "/opt/chefdk/embedded/lib/ruby/gems/2.6.0/gems/pry-0.12.2/lib/pry/pry_instance.rb:273:in `block in eval'",
      "/opt/chefdk/embedded/lib/ruby/gems/2.6.0/gems/pry-0.12.2/lib/pry/pry_instance.rb:272:in `catch'",
      "/opt/chefdk/embedded/lib/ruby/gems/2.6.0/gems/pry-0.12.2/lib/pry/pry_instance.rb:272:in `eval'",
      "/opt/chefdk/embedded/lib/ruby/gems/2.6.0/gems/iruby-0.4.0/lib/iruby/backend.rb:66:in `eval'",
      "/opt/chefdk/embedded/lib/ruby/gems/2.6.0/gems/iruby-0.4.0/lib/iruby/backend.rb:12:in `eval'",
      "/opt/chefdk/embedded/lib/ruby/gems/2.6.0/gems/iruby-0.4.0/lib/iruby/kernel.rb:90:in `execute_request'",
      "/opt/chefdk/embedded/lib/ruby/gems/2.6.0/gems/iruby-0.4.0/lib/iruby/kernel.rb:49:in `dispatch'",
      "/opt/chefdk/embedded/lib/ruby/gems/2.6.0/gems/iruby-0.4.0/lib/iruby/kernel.rb:38:in `run'",
      "/opt/chefdk/embedded/lib/ruby/gems/2.6.0/gems/iruby-0.4.0/lib/iruby/command.rb:110:in `run_kernel'",
      "/opt/chefdk/embedded/lib/ruby/gems/2.6.0/gems/iruby-0.4.0/lib/iruby/command.rb:40:in `run'",
      "/opt/chefdk/embedded/lib/ruby/gems/2.6.0/gems/iruby-0.4.0/bin/iruby:5:in `<top (required)>'",
      "/opt/chefdk/embedded/bin/iruby:23:in `load'",
      "/opt/chefdk/embedded/bin/iruby:23:in `<main>'"
     ]
    }
   ],
   "source": [
    "db = ckt.get_traces.map{|trace| {name: trace[:name], x: trace[:x], y: trace[:y].map{|a| 20.0*Math.log10(a.abs)}}}\n",
    "phase = ckt.get_tracess.map{|trace| {name: trace[:name], x: trace[:x], y: trace[:y].map{|a| shift360(a.phase*(180.0/Math::PI))}}}\n"
   ]
  },
  {
   "cell_type": "code",
   "execution_count": 19,
   "metadata": {},
   "outputs": [
    {
     "name": "stdout",
     "output_type": "stream",
     "text": [
      "wine '/home/anagix/.wine/drive_c/Program Files/LTC/LTspiceXVII/XVIIx86.exe' -netlist 'amp2_tb.tmp'\n",
      "* Z:\\home\\anagix\\work\\2in1_OpAmp\\amp2_tb.tmp\n",
      "V3 N001 0 2.5\n",
      "XX1 Vin 0 OUT1 N001 NC_01 N003 opamp3ureiauto\n",
      "V1 N002 0 AC 1 0\n",
      "V2 0 N003 2.5\n",
      "R1 OUT1 Vin 100k\n",
      "R2 Vin N002 1k\n",
      "\n",
      "* block symbol definitions\n",
      ".subckt opamp3ureiauto Vinm Vinp Vout VDD Vbias gnd\n",
      "M1 N010 N010 gnd gnd nch l=1u w=16u ad=3.5e-10 as=3.5e-10 pd=64e-6 ps=64e-6\n",
      "M2 N008 N008 N010 gnd nch l=1u w=16u ad=3.5e-10 as=3.5e-10 pd=64e-6 ps=64e-6\n",
      "M3 N011 N010 gnd gnd nch l=1u w=16u ad=3.5e-10 as=3.5e-10 pd=64e-6 ps=64e-6\n",
      "M4 N007 N008 N011 gnd nch l=1u w=16u ad=3.5e-10 as=3.5e-10 pd=64e-6 ps=64e-6\n",
      "M5 N001 Vbias gnd gnd nch l=1u w=34u ad=7e-10 as=7e-10 pd=114e-6 ps=114e-6\n",
      "M6 N006 Vbias gnd gnd nch l=1u w=16u ad=3.5e-10 as=3.5e-10 pd=64e-6 ps=64e-6\n",
      "M10 Vout N009 gnd gnd nch l=1u w=100u ad=2.1e-9 as=2.1e-9 pd=314e-6 ps=314e-6\n",
      "M11 N009 N010 gnd gnd nch l=1u w=16u ad=3.5e-10 as=3.5e-10 pd=64e-6 ps=64e-6\n",
      "M12 VDD N007 N009 gnd nch l=1u w=16u ad=3.5e-10 as=3.5e-10 pd=64e-6 ps=64e-6\n",
      "M13 N002 N001 VDD VDD pch l=1u w=50u ad=1.05e-9 as=1.05e-9 pd=164e-6 ps=164e-6\n",
      "M14 N003 N003 N002 N002 pch l=1u w=38u ad=5.25e-10 as=5.25e-10 pd=89e-6 ps=89e-6\n",
      "M15 N006 N006 N003 N003 pch l=1u w=38u ad=5.25e-10 as=5.25e-10 pd=89e-6 ps=89e-6\n",
      "M16 N007 N006 N005 N005 pch l=1u w=19u ad=5.25e-10 as=5.25e-10 pd=89e-6 ps=89e-6\n",
      "M17 N008 N006 N004 N004 pch l=1u w=19u ad=5.25e-10 as=5.25e-10 pd=89e-6 ps=89e-6\n",
      "M18 N004 Vinm N002 N002 pch l=1u w=25u ad=5.25e-10 as=5.25e-10 pd=89e-6 ps=89e-6\n",
      "M20 Vout N001 VDD VDD pch l=1u w=50u ad=1.05e-9 as=1.05e-9 pd=164e-6 ps=164e-6\n",
      "M21 N005 Vinp N002 N002 pch l=1u w=25u ad=5.25e-10 as=5.25e-10 pd=89e-6 ps=89e-6\n",
      "M24 N001 N001 VDD VDD pch l=1u w=50u ad=1.05e-9 as=1.05e-9 pd=164e-6 ps=164e-6\n",
      "M7 Vbias Vbias gnd gnd nch l=1u w=34u ad=7e-10 as=7e-10 pd=114e-6 ps=114e-6\n",
      "R1 VDD Vbias 40k\n",
      "C1 Vout N007 1.0e-12\n",
      ".inc ./models/OR1_mos\n",
      ".ends opamp3ureiauto\n",
      "\n",
      ".model NMOS NMOS\n",
      ".model PMOS PMOS\n",
      ".lib C:\\users\\anagix\\My Documents\\LTspiceXVII\\lib\\cmp\\standard.mos\n",
      ".include models/OR1_mos\n",
      ";tran 0 40u 0\n",
      ".backanno\n",
      ".end\n",
      "\n",
      "analysis directives in netlist: {:ac=>\"oct 10 1 100Meg\"}\n",
      "analysis set: {:ac=>\"dec 10 1 1G\"}\n",
      "CWD: /home/anagix/work/2in1_OpAmp\n",
      "wine '/home/anagix/.wine/drive_c/Program Files/LTC/LTspiceXVII/XVIIx86.exe' -b -Run 'amp2_tb.net'\n",
      "execute sim_log() to show simulation log\n"
     ]
    }
   ],
   "source": [
    "ckt.simulate ac: 'dec 10 1 1G'"
   ]
  },
  {
   "cell_type": "code",
   "execution_count": 20,
   "metadata": {},
   "outputs": [
    {
     "name": "stdout",
     "output_type": "stream",
     "text": [
      "Circuit: * Z:\\home\\anagix\\work\\2in1_OpAmp\\amp2_tb.tmp\n",
      "\n",
      "Direct Newton iteration failed to find .op point.  (Use \".option noopiter\" to skip.)\n",
      "Starting Gmin stepping\n",
      "Gmin = 10\n",
      "Gmin = 1.07374\n",
      "vernier = 0.5\n",
      "vernier = 0.25\n",
      "vernier = 0.125\n",
      "vernier = 0.0625\n",
      "vernier = 0.03125\n",
      "Gmin = 1.0412\n",
      "vernier = 0.015625\n",
      "vernier = 0.0078125\n",
      "Gmin = 1.0132\n",
      "vernier = 0.00390625\n",
      "vernier = 0.00195313\n",
      "Gmin = 1.00827\n",
      "vernier = 0.00260417\n",
      "vernier = 0.00130208\n",
      "Gmin = 1.00515\n",
      "vernier = 0.000651042\n",
      "vernier = 0.000868055\n",
      "vernier = 0.000434028\n",
      "Gmin = 1.00434\n",
      "vernier = 0.000578703\n",
      "vernier = 0.000434027\n",
      "Gmin = 1.00339\n",
      "Gmin = 0\n",
      "Gmin stepping failed\n",
      "\n",
      "Starting source stepping with srcstepmethod=0\n",
      "Source Step = 3.0303%\n",
      "Source Step = 33.3333%\n",
      "Source Step = 36.3755%\n",
      "Source Step = 36.4051%\n",
      "Source Step = 36.4347%\n",
      "Source Step = 36.4643%\n",
      "Source Step = 36.4938%\n",
      "vernier = 0.00146484\n",
      "Source Step = 36.5264%\n",
      "Source Step = 36.5708%\n",
      "Source Step = 36.6152%\n",
      "Source Step = 36.6596%\n",
      "Source Step = 36.704%\n",
      "vernier = 0.00219727\n",
      "Source Step = 36.7506%\n",
      "Source Step = 36.8171%\n",
      "Source Step = 36.8837%\n",
      "Source Step = 36.9503%\n",
      "Source Step = 37.0169%\n",
      "Source Step = 37.0835%\n",
      "vernier = 0.0032959\n",
      "Source Step = 37.1834%\n",
      "Source Step = 37.2832%\n",
      "Source Step = 37.3831%\n",
      "Source Step = 37.483%\n",
      "Source Step = 37.5829%\n",
      "vernier = 0.00494385\n",
      "Source Step = 37.7277%\n",
      "Source Step = 37.8775%\n",
      "Source Step = 38.0273%\n",
      "Source Step = 38.1771%\n",
      "Source Step = 38.3269%\n",
      "vernier = 0.00741577\n",
      "Source Step = 38.5367%\n",
      "Source Step = 38.7614%\n",
      "Source Step = 38.9861%\n",
      "Source Step = 39.2108%\n",
      "Source Step = 39.4356%\n",
      "vernier = 0.0111237\n",
      "Source Step = 39.7389%\n",
      "Source Step = 40.076%\n",
      "Source Step = 40.4131%\n",
      "Source Step = 40.7502%\n",
      "Source Step = 41.0872%\n",
      "vernier = 0.0166855\n",
      "Source Step = 41.5255%\n",
      "Source Step = 42.0311%\n",
      "Source Step = 42.5367%\n",
      "Source Step = 43.0423%\n",
      "Source Step = 43.5479%\n",
      "vernier = 0.0250282\n",
      "Source Step = 44.18%\n",
      "Source Step = 44.9384%\n",
      "Source Step = 45.6968%\n",
      "Source Step = 46.4553%\n",
      "Source Step = 47.2137%\n",
      "vernier = 0.0375423\n",
      "Source Step = 48.1238%\n",
      "Source Step = 49.2615%\n",
      "Source Step = 50.3991%\n",
      "Source Step = 51.5367%\n",
      "Source Step = 52.6744%\n",
      "vernier = 0.0563135\n",
      "Source Step = 53.9827%\n",
      "Source Step = 55.6892%\n",
      "Source Step = 57.3956%\n",
      "Source Step = 59.1021%\n",
      "Source Step = 60.8086%\n",
      "vernier = 0.0844703\n",
      "Source Step = 62.6857%\n",
      "Source Step = 65.2454%\n",
      "Source Step = 67.8051%\n",
      "Source Step = 70.3648%\n",
      "Source Step = 72.9245%\n",
      "vernier = 0.126705\n",
      "Source Step = 75.6122%\n",
      "Source Step = 79.4518%\n",
      "Source Step = 83.2913%\n",
      "Source Step = 87.1309%\n",
      "Source Step = 90.9704%\n",
      "Source Step = 94.81%\n",
      "vernier = 0.190058\n",
      "Source Step = 100%\n",
      "Source stepping succeeded in finding the operating point.\n",
      "\n",
      "\n",
      "Date: Wed Sep 22 21:37:44 2021\n",
      "Total elapsed time: 0.092 seconds.\n",
      "\n",
      "tnom = 27\n",
      "temp = 27\n",
      "method = trap\n",
      "totiter = 7455\n",
      "traniter = 0\n",
      "tranpoints = 0\n",
      "accept = 0\n",
      "rejected = 0\n",
      "matrix size = 20\n",
      "fillins = 23\n",
      "solver = Normal\n",
      "Matrix Compiler1:     189 opcodes\n",
      "Matrix Compiler2:     192 opcodes  0.9/[1.0]/1.0\n",
      "\n",
      "\n"
     ]
    }
   ],
   "source": [
    "puts ckt.sim_log"
   ]
  },
  {
   "cell_type": "code",
   "execution_count": 37,
   "metadata": {},
   "outputs": [
    {
     "data": {
      "text/plain": [
       "[[\"frequency\", \"V(out1)/(V(n001) - V(vin))\", \"V(out1)/(V(n001) - V(vin))\"], [{:x=>[1.0, 1.0717734625362931, 1.1486983549970349, 1.231144413344916, 1.319507910772894, 1.4142135623730947, 1.5157165665103978, 1.6245047927124707, 1.7411011265922478, 1.8660659830736144, 1.9999999999999996, 2.143546925072586, 2.2973967099940693, 2.4622888266898317, 2.6390158215457875, 2.828427124746189, 3.0314331330207946, 3.2490095854249406, 3.4822022531844947, 3.7321319661472274, 3.9999999999999973, 4.28709385014517, 4.594793419988137, 4.924577653379662, 5.278031643091573, 5.656854249492376, 6.0628662660415875, 6.4980191708498785, 6.964404506368987, 7.464263932294452, 7.999999999999992, 8.574187700290336, 9.18958683997627, 9.84915530675932, 10.556063286183143, 11.313708498984749, 12.125732532083171, 12.996038341699753, 13.92880901273797, 14.9285278645889, 15.99999999999998, 17.14837540058067, 18.379173679952537, 19.698310613518636, 21.112126572366282, 22.627416997969494, 24.25146506416634, 25.992076683399503, 27.857618025475936, 29.857055729177798, 31.999999999999957, 34.29675080116134, 36.75834735990507, 39.39662122703727, 42.224253144732565, 45.25483399593899, 48.50293012833268, 51.984153366799006, 55.71523605095187, 59.714111458355596, 63.999999999999915, 68.59350160232268, 73.51669471981015, 78.79324245407454, 84.44850628946513, 90.50966799187798, 97.00586025666536, 103.96830673359801, 111.43047210190375, 119.42822291671119, 127.99999999999983, 137.18700320464535, 147.0333894396203, 157.5864849081491, 168.89701257893026, 181.01933598375595, 194.01172051333072, 207.93661346719603, 222.8609442038075, 238.85644583342238, 255.99999999999966, 274.3740064092907, 294.0667788792406, 315.1729698162982, 337.7940251578605, 362.0386719675119, 388.02344102666143, 415.87322693439205, 445.721888407615, 477.71289166684477, 511.9999999999993, 548.7480128185814, 588.1335577584812, 630.3459396325964, 675.588050315721, 724.0773439350238, 776.0468820533229, 831.7464538687841, 891.44377681523, 955.4257833336895, 1023.9999999999986, 1097.4960256371628, 1176.2671155169623, 1260.6918792651927, 1351.176100631442, 1448.1546878700476, 1552.0937641066457, 1663.4929077375682, 1782.88755363046, 1910.851566667379, 2047.9999999999973, 2194.9920512743256, 2352.5342310339247, 2521.3837585303854, 2702.352201262884, 2896.309375740095, 3104.1875282132914, 3326.9858154751364, 3565.77510726092, 3821.703133334758, 4095.9999999999945, 4389.984102548651, 4705.068462067849, 5042.767517060771, 5404.704402525768, 5792.61875148019, 6208.375056426583, 6653.971630950273, 7131.55021452184, 7643.406266669516, 8191.999999999989, 8779.968205097302, 9410.136924135699, 10085.535034121542, 10809.408805051537, 11585.23750296038, 12416.750112853166, 13307.943261900546, 14263.10042904368, 15286.812533339033, 16383.999999999978, 17559.936410194605, 18820.273848271398, 20171.070068243083, 21618.817610103073, 23170.47500592076, 24833.50022570633, 26615.88652380109, 28526.20085808736, 30573.625066678065, 32767.999999999956, 35119.87282038921, 37640.547696542795, 40342.14013648617, 43237.635220206146, 46340.95001184152, 49667.00045141266, 53231.77304760218, 57052.40171617472, 61147.25013335613, 65535.99999999991, 70239.74564077842, 75281.09539308559, 80684.28027297233, 86475.27044041229, 92681.90002368305, 99334.00090282533, 106463.54609520436, 114104.80343234944, 122294.50026671226, 131071.99999999983, 140479.49128155684, 150562.19078617118, 161368.56054594467, 172950.54088082458, 185363.8000473661, 198668.00180565065, 212927.09219040873, 228209.60686469887, 244589.00053342452, 262143.99999999965, 280958.9825631137, 301124.38157234236, 322737.12109188933, 345901.08176164917, 370727.6000947322, 397336.0036113013, 425854.18438081746, 456419.21372939774, 489178.00106684904, 524287.9999999993, 561917.9651262274, 602248.7631446847, 645474.2421837787, 691802.1635232983, 741455.2001894644, 794672.0072226026, 851708.3687616349, 912838.4274587955, 978356.0021336981, 1048575.9999999986, 1123835.9302524547, 1204497.5262893694, 1290948.4843675573, 1383604.3270465967, 1482910.4003789288, 1589344.0144452052, 1703416.7375232698, 1825676.854917591, 1956712.0042673962, 2097151.9999999972, 2247671.8605049094, 2408995.052578739, 2581896.9687351147, 2767208.6540931934, 2965820.8007578575, 3178688.0288904104, 3406833.4750465397, 3651353.709835182, 3913424.0085347923, 4194303.9999999944, 4495343.721009819, 4817990.105157478, 5163793.937470229, 5534417.308186387, 5931641.601515715, 6357376.057780821, 6813666.950093079, 7302707.419670364, 7826848.017069585, 8388607.999999989, 8990687.442019638, 9635980.210314956, 10327587.874940459, 11068834.616372773, 11863283.20303143, 12714752.115561642, 13627333.900186159, 14605414.839340728, 15653696.03413917, 16777215.999999978, 17981374.884039275, 19271960.42062991, 20655175.749880917, 22137669.232745547, 23726566.40606286, 25429504.231123284, 27254667.800372317, 29210829.678681456, 31307392.06827834, 33554431.999999955, 35962749.76807855, 38543920.84125982, 41310351.499761835, 44275338.46549109, 47453132.81212572, 50859008.46224657, 54509335.600744635, 58421659.35736291, 62614784.13655668, 67108863.99999991, 71925499.5361571, 77087841.68251964, 82620702.99952367, 88550676.93098219, 94906265.62425144, 100000000.0], :y=>[(42314.643466677924-68.15492337569961i), (42314.62714363946-73.0466100377405i), (42314.60839341207-78.28938347612562i), (42314.58685507126-83.90844089896444i), (42314.562114043736-89.93078765733303i), (42314.53369411067-96.38536694146754i), (42314.50104822369-103.30319876708397i), (42314.463548017-110.71752891461628i), (42314.42047165023-118.66398852965357i), (42314.37099003117-127.18076514471036i), (42314.31415070469-136.30878593162598i), (42314.24885965262-146.0919140556644i), (42314.17386018371-156.57715905682977i), (42314.08770874741-167.8149022515841i), (42313.98874715553-179.8591382143398i), (42313.87507072499-192.76773347059483i), (42313.744491522266-206.6027036073305i), (42313.59449643206-221.43051009202264i), (42313.422198618486-237.32237816669289i), (42313.22428213919-254.3546372842751i), (42312.9969380836-272.6090856354904i), (42312.73579136317-292.1733804201506i), (42312.43581653432-313.14145561106966i), (42312.0912411778-335.6139690659754i), (42311.695434967245-359.6987809467584i), (42311.24078216868-385.51146550989677i), (42310.7185352875-413.17585844269973i), (42310.11864707894-442.8246420231211i), (42309.429577457646-474.5999704753537i), (42308.63807202422-508.6541379989135i), (42307.728907585115-545.1502920148473i), (42306.68460011395-584.2631942519711i), (42305.48506944261-626.1800323297068i), (42304.107254470946-671.1012845145185i), (42302.52467145053-719.2416402919457i), (42300.70690705074-770.8309793220807i), (42298.619036849996-826.1154112061931i), (42296.22095812457-885.3583782472864i), (42293.46662457541-948.8418230563846i), (42290.303168826315-1016.8674223777675i), (42286.66989637334-1089.757887848725i), (42282.49713262508-1167.858333551292i), (42277.70490194938-1251.5377090697834i), (42272.201414847405-1341.1902952997243i), (42265.88133622864-1437.2372583738088i), (42258.623804112816-1540.1282546735488i), (42250.29016413155-1650.3430768751646i), (42240.721380941366-1768.3933271981734i), (42229.73508286081-1894.8240992998085i), (42217.12219075703-2030.2156443802617i), (42202.643077035886-2175.184989840035i), (42186.0231946897-2330.3874699023413i), (42166.94811022342-2496.5181166561633i), (42145.05786918823-2674.312846721232i), (42119.940616653235-2864.5493624559213i), (42091.125391037276-3068.0476671633473i), (42058.07400584716-3285.6700702115977i), (42020.17193270671-3518.3205299553024i), (41976.71810085419-3766.9431491016676i), (41926.913534427156-4032.51959806273i), (41869.84876141394-4316.065196355045i), (41804.48994901868-4618.623329779644i), (41729.66375237462-4941.257821827312i), (41644.040911016586-5285.04281196394i), (41546.11869308477-5651.049621902637i), (41434.20237882051-6040.330016481395i), (41306.386094984206-6453.895191304806i), (41160.53346983211-6892.68975142192i), (40994.258779400574-7357.559892395384i), (40804.909507005905-7849.21496972344i), (40589.55154430672-8368.181661838955i), (40344.95862523406-8914.750018021474i), (40067.60800106219-9488.910864252179i), (39753.68482237608-10090.284351029135i), (39399.09816801571-10718.03990678255i), (38999.5121087433-11370.808548898824i), (38550.395549828136-12046.589438255962i), (38047.09476991758-12742.653766131833i), (37484.93244325763-13455.45053202357i), (36859.33635297321-14180.520461636i), (36165.999815962656-14912.426117475577i), (35401.073896454465-15644.707979605848i), (34561.38868334925-16369.8776349548i), (33644.697244406765-17079.459833043373i), (32649.931504142984-17764.09460323805i), (31577.45459370181-18413.708446258348i), (30429.289804845528-19017.759478547727i), (29209.30298575895-19565.555234405892i), (27923.31400460001-20046.63390839113i), (26579.114677829963-20451.19091896707i), (25186.37589900123-20770.52403801626i), (23756.435616481285-20997.46353317592i), (22301.971039526205-21126.75041495052i), (20836.57147004774-21155.327196031834i), (19374.24037691936-21082.512012895448i), (17928.864543806194-20910.03796125395i), (16513.69254313711-20641.953476188013i), (15140.86352813308-20284.394266280757i), (13821.020647423136-19845.25023854371i), (12563.032602084852-19333.759998737492i), (11373.8340202433-18760.06972011957i), (10258.382637027817-18134.792338494568i), (9219.720623374924-17468.59798860614i), (8259.120010872395-16771.85879176778i), (7376.288420760365-16054.362172950248i), (6569.610934475678-15325.09828524326i), (5836.4061846809645-14592.119896239396i), (5173.178644678993-13862.467798034766i), (4575.853724967513-13142.151549955279i), (4039.986900243458-12436.173938320311i), (3560.9421804612653-11748.587547552968i), (3134.0385342559107-11082.572831878908i), (2754.665292298983-10440.528638306443i), (2418.36915491727-9824.167920132822i), (2120.9163301479643-9234.613152550595i), (1858.3336924069738-8672.487565195548i), (1626.9328330663786-8137.9996622161025i), (1423.3206078543321-7631.019584223697i), (1244.3993799883458-7151.146689175682i), (1087.3596921115543-6697.768321473725i), (949.6676290605999-6270.110139505059i), (829.048691435433-5867.278621815033i), (723.4696057687278-5488.2965081077655i), (631.1191587004478-5132.1319850698i), (550.3888608098152-4797.7224243114615i), (479.854017125635-4483.993440513977i), (418.2556000094339-4189.87397708975i), (364.4831793987131-3914.3080550384148i), (317.5590585282289-3656.2637456300376i), (276.6236839298189-3414.739853940015i), (240.9223411684439-3188.77073109317i), (209.79310762715787-2977.429570005739i), (182.65600674004793-2779.8304831711093i), (159.00329116605354-2595.129611732041i), (138.39077290433318-2422.525472450114i), (120.43011425869895-2261.2587127227393i), (104.78199327918018-2110.611412904434i), (91.15005965089287-1969.9060492129563i), (79.27560105832562-1838.5042088065386i), (68.9328451535891-1715.8051306065006i), (59.92482791700611-1601.2441305629907i), (52.079765064092484-1494.2909578344932i), (45.24786898594613-1394.4481183473192i), (39.298559343958445-1301.249194051316i), (34.118020773695164-1214.257179577345i), (29.607066122356798-1133.0628526638013i), (25.679268222847284-1057.2831904282227i), (22.25932738392578-986.5598401281957i), (19.2816455583761-920.5576503261871i), (16.689081555726972-858.9632662157358i), (14.431864714332406-801.4837911744097i), (12.466647166534472-747.8455152934092i), (10.755677246528151-697.7927106223276i), (9.266078731275655-651.0864921007487i), (7.969222496806324-607.5037425776507i), (6.840178841007301-566.8360999053526i), (5.8572401932170095-528.8890038048492i), (5.001505222256569-493.48080000776747i), (4.256516488453528-460.4418990656421i), (3.607944779230152-429.6139871628355i), (3.043314138881854-400.8492862612948i), (2.5517623654098998-374.00986093264453i), (2.1238324141510248-348.96696928681274i), (1.7512907307271632-325.60045547959254i), (1.4269690450932302-303.79818136858927i), (1.1446266031209689-283.45549498343973i), (0.8988302002877475-264.47473357863913i), (0.6848497207385549-246.76475914292544i), (0.49856718041117176-230.2405243459729i), (0.3363975305909861-214.82266700941378i), (0.19521970287232193-200.4371312938216i), (0.07231657234153488-187.0148138952812i), (-0.03467731353924819-174.49123364392196i), (-0.1278212441440303-162.80622299183298i), (-0.20890796720114224-151.90363996883275i), (-0.27949818392701786-141.73109927142758i), (-0.34095058074230167-132.239721232918i), (-0.39444797486442695-123.38389750095305i), (-0.44102007646259267-115.12107232297622i), (-0.4815633050694572-107.41153841000664i), (-0.5168580413577857-100.218246415203i), (-0.5475836461007617-93.50662712578715i), (-0.5743315352189882-87.24442552532696i), (-0.5976165624480316-81.4015459382461i), (-0.617886928617402-75.94990751992869i), (-0.6355328082000256-70.86330940406523i), (-0.6508938591176125-66.11730486414024i), (-0.6642657603112738-61.689083888336356i), (-0.6759059028794461-57.55736360679427i), (-0.6860383443047056-53.70228604728819i), (-0.6948581211114266-50.10532273008785i), (-0.7025350029521107-46.74918564523892i), (-0.7092167603727191-43.617744185834766i), (-0.715032009148656-40.69594763920778i), (-0.7200926859355903-37.969752864462i), (-0.7244962028828912-35.42605680951671i), (-0.7283273226810092-33.05263354394854i), (-0.7316597901323973-30.83807550550593i), (-0.734557751650815-28.77173867832979i), (-0.7370769900120449-26.843691439735082i), (-0.7392659981237975-25.044666829980855i), (-0.7411669124847506-23.366018015861457i), (-0.7428163243024808-21.799676734265507i), (-0.7442459838863629-20.33811451614403i), (-0.7454834118782734-18.974306504673994i), (-0.7465524290923256-17.701697693858442i), (-0.7474736151701378-16.51417142543264i), (-0.7482647048907201-15.406019992798965i), (-0.7489409297772902-14.371917210846869i), (-0.7495153115952895-13.406892819975655i), (-0.7499989134158113-12.506308601472867i), (-0.7504010531103124-11.665836089654347i), (-0.7507294834304361-10.88143577388289i), (-0.7509905421984224-10.149337690790858i), (-0.7511892755785047-9.466023313774226i), (-0.7513295369085697-8.828208653136688i), (-0.7514140631376234-8.232828486175464i), (-0.7514445305333104-7.6770216420503194i), (-0.7514215909921611-7.158117271491706i), (-0.7513448900040893-6.673622036318829i), (-0.7512130670951607-6.221208158380374i), (-0.7510237394077535-5.798702271933292i), (-0.7507734689892018-5.40407502766732i), (-0.7504577143720274-5.035431400596038i), (-0.7500707671754514-4.691001657896589i), (-0.7496056747895996-4.369132946517134i), (-0.7490541507927206-4.068281464000568i), (-0.7484064756998361-3.7870051795024957i), (-0.7476513920897291-3.5239570753918112i), (-0.7467760002996092-3.27787888305404i), (-0.7457656639728361-3.0475952894393847i), (-0.7446039391341869-2.8320085932576324i), (-0.7432725465772987-2.6300937910755007i), (-0.7417514156878814-2.4408940731614512i), (-0.740018838934944-2.263516705504848i), (-0.738051790587004-2.0971292660252074i), (-0.7358264808185497-1.9409561865010987i), (-0.7333192363774884-1.794275522556187i), (-0.7305078184598739-1.65641582547197i), (-0.7273733004716483-1.5267529126218584i), (-0.7239026187760863-1.4047062169320226i), (-0.7200918517879699-1.2897342292645382i), (-0.7159501309244549-1.181328327123969i), (-0.7115037680923669-1.0790040265371141i), (-0.706799596646471-0.9822884704052453i), (-0.7019055532308157-0.8907029452412153i), (-0.696905121393597-0.8037397315880654i), (-0.6918805797471905-0.7208341756338715i), (-0.6868787163447795-0.6413361564844261i), (-0.6818532628300082-0.56449041567064i), (-0.6765829782606799-0.4894415467908303i), (-0.6705748427966037-0.41528349626296535i), (-0.6629768766818748-0.34116972403388945i), (-0.6525378035201677-0.2664845660916357i), (-0.637650902420731-0.19105213526367476i), (-0.6165026474634487-0.11533894083966595i), (-0.587323026891113-0.040602056921530655i), (-0.5487199573444592+0.031058806568331758i), (-0.5000740716264195+0.09678956832792732i), (-0.44194421120895633+0.15327182563492833i), (-0.3763634297276909+0.197269171474142i), (-0.3068264749334502+0.22638880025001493i), (-0.23779621904981169+0.23983113237191125i), (-0.17377522804080775+0.2387637701730822i), (-0.11829068775216062+0.22606537537425558i), (-0.07324713139305783+0.2055334296550735i), (-0.04637362872078491+0.18718444664716508i)], :name=>\"V(out1)/(V(n001) - V(vin))\"}, {:x=>[1.0, 1.0717734625362931, 1.1486983549970349, 1.231144413344916, 1.319507910772894, 1.4142135623730947, 1.5157165665103978, 1.6245047927124707, 1.7411011265922478, 1.8660659830736144, 1.9999999999999996, 2.143546925072586, 2.2973967099940693, 2.4622888266898317, 2.6390158215457875, 2.828427124746189, 3.0314331330207946, 3.2490095854249406, 3.4822022531844947, 3.7321319661472274, 3.9999999999999973, 4.28709385014517, 4.594793419988137, 4.924577653379662, 5.278031643091573, 5.656854249492376, 6.0628662660415875, 6.4980191708498785, 6.964404506368987, 7.464263932294452, 7.999999999999992, 8.574187700290336, 9.18958683997627, 9.84915530675932, 10.556063286183143, 11.313708498984749, 12.125732532083171, 12.996038341699753, 13.92880901273797, 14.9285278645889, 15.99999999999998, 17.14837540058067, 18.379173679952537, 19.698310613518636, 21.112126572366282, 22.627416997969494, 24.25146506416634, 25.992076683399503, 27.857618025475936, 29.857055729177798, 31.999999999999957, 34.29675080116134, 36.75834735990507, 39.39662122703727, 42.224253144732565, 45.25483399593899, 48.50293012833268, 51.984153366799006, 55.71523605095187, 59.714111458355596, 63.999999999999915, 68.59350160232268, 73.51669471981015, 78.79324245407454, 84.44850628946513, 90.50966799187798, 97.00586025666536, 103.96830673359801, 111.43047210190375, 119.42822291671119, 127.99999999999983, 137.18700320464535, 147.0333894396203, 157.5864849081491, 168.89701257893026, 181.01933598375595, 194.01172051333072, 207.93661346719603, 222.8609442038075, 238.85644583342238, 255.99999999999966, 274.3740064092907, 294.0667788792406, 315.1729698162982, 337.7940251578605, 362.0386719675119, 388.02344102666143, 415.87322693439205, 445.721888407615, 477.71289166684477, 511.9999999999993, 548.7480128185814, 588.1335577584812, 630.3459396325964, 675.588050315721, 724.0773439350238, 776.0468820533229, 831.7464538687841, 891.44377681523, 955.4257833336895, 1023.9999999999986, 1097.4960256371628, 1176.2671155169623, 1260.6918792651927, 1351.176100631442, 1448.1546878700476, 1552.0937641066457, 1663.4929077375682, 1782.88755363046, 1910.851566667379, 2047.9999999999973, 2194.9920512743256, 2352.5342310339247, 2521.3837585303854, 2702.352201262884, 2896.309375740095, 3104.1875282132914, 3326.9858154751364, 3565.77510726092, 3821.703133334758, 4095.9999999999945, 4389.984102548651, 4705.068462067849, 5042.767517060771, 5404.704402525768, 5792.61875148019, 6208.375056426583, 6653.971630950273, 7131.55021452184, 7643.406266669516, 8191.999999999989, 8779.968205097302, 9410.136924135699, 10085.535034121542, 10809.408805051537, 11585.23750296038, 12416.750112853166, 13307.943261900546, 14263.10042904368, 15286.812533339033, 16383.999999999978, 17559.936410194605, 18820.273848271398, 20171.070068243083, 21618.817610103073, 23170.47500592076, 24833.50022570633, 26615.88652380109, 28526.20085808736, 30573.625066678065, 32767.999999999956, 35119.87282038921, 37640.547696542795, 40342.14013648617, 43237.635220206146, 46340.95001184152, 49667.00045141266, 53231.77304760218, 57052.40171617472, 61147.25013335613, 65535.99999999991, 70239.74564077842, 75281.09539308559, 80684.28027297233, 86475.27044041229, 92681.90002368305, 99334.00090282533, 106463.54609520436, 114104.80343234944, 122294.50026671226, 131071.99999999983, 140479.49128155684, 150562.19078617118, 161368.56054594467, 172950.54088082458, 185363.8000473661, 198668.00180565065, 212927.09219040873, 228209.60686469887, 244589.00053342452, 262143.99999999965, 280958.9825631137, 301124.38157234236, 322737.12109188933, 345901.08176164917, 370727.6000947322, 397336.0036113013, 425854.18438081746, 456419.21372939774, 489178.00106684904, 524287.9999999993, 561917.9651262274, 602248.7631446847, 645474.2421837787, 691802.1635232983, 741455.2001894644, 794672.0072226026, 851708.3687616349, 912838.4274587955, 978356.0021336981, 1048575.9999999986, 1123835.9302524547, 1204497.5262893694, 1290948.4843675573, 1383604.3270465967, 1482910.4003789288, 1589344.0144452052, 1703416.7375232698, 1825676.854917591, 1956712.0042673962, 2097151.9999999972, 2247671.8605049094, 2408995.052578739, 2581896.9687351147, 2767208.6540931934, 2965820.8007578575, 3178688.0288904104, 3406833.4750465397, 3651353.709835182, 3913424.0085347923, 4194303.9999999944, 4495343.721009819, 4817990.105157478, 5163793.937470229, 5534417.308186387, 5931641.601515715, 6357376.057780821, 6813666.950093079, 7302707.419670364, 7826848.017069585, 8388607.999999989, 8990687.442019638, 9635980.210314956, 10327587.874940459, 11068834.616372773, 11863283.20303143, 12714752.115561642, 13627333.900186159, 14605414.839340728, 15653696.03413917, 16777215.999999978, 17981374.884039275, 19271960.42062991, 20655175.749880917, 22137669.232745547, 23726566.40606286, 25429504.231123284, 27254667.800372317, 29210829.678681456, 31307392.06827834, 33554431.999999955, 35962749.76807855, 38543920.84125982, 41310351.499761835, 44275338.46549109, 47453132.81212572, 50859008.46224657, 54509335.600744635, 58421659.35736291, 62614784.13655668, 67108863.99999991, 71925499.5361571, 77087841.68251964, 82620702.99952367, 88550676.93098219, 94906265.62425144, 100000000.0], :y=>[(42314.643466677924-68.15492337569961i), (42314.62714363946-73.0466100377405i), (42314.60839341207-78.28938347612562i), (42314.58685507126-83.90844089896444i), (42314.562114043736-89.93078765733303i), (42314.53369411067-96.38536694146754i), (42314.50104822369-103.30319876708397i), (42314.463548017-110.71752891461628i), (42314.42047165023-118.66398852965357i), (42314.37099003117-127.18076514471036i), (42314.31415070469-136.30878593162598i), (42314.24885965262-146.0919140556644i), (42314.17386018371-156.57715905682977i), (42314.08770874741-167.8149022515841i), (42313.98874715553-179.8591382143398i), (42313.87507072499-192.76773347059483i), (42313.744491522266-206.6027036073305i), (42313.59449643206-221.43051009202264i), (42313.422198618486-237.32237816669289i), (42313.22428213919-254.3546372842751i), (42312.9969380836-272.6090856354904i), (42312.73579136317-292.1733804201506i), (42312.43581653432-313.14145561106966i), (42312.0912411778-335.6139690659754i), (42311.695434967245-359.6987809467584i), (42311.24078216868-385.51146550989677i), (42310.7185352875-413.17585844269973i), (42310.11864707894-442.8246420231211i), (42309.429577457646-474.5999704753537i), (42308.63807202422-508.6541379989135i), (42307.728907585115-545.1502920148473i), (42306.68460011395-584.2631942519711i), (42305.48506944261-626.1800323297068i), (42304.107254470946-671.1012845145185i), (42302.52467145053-719.2416402919457i), (42300.70690705074-770.8309793220807i), (42298.619036849996-826.1154112061931i), (42296.22095812457-885.3583782472864i), (42293.46662457541-948.8418230563846i), (42290.303168826315-1016.8674223777675i), (42286.66989637334-1089.757887848725i), (42282.49713262508-1167.858333551292i), (42277.70490194938-1251.5377090697834i), (42272.201414847405-1341.1902952997243i), (42265.88133622864-1437.2372583738088i), (42258.623804112816-1540.1282546735488i), (42250.29016413155-1650.3430768751646i), (42240.721380941366-1768.3933271981734i), (42229.73508286081-1894.8240992998085i), (42217.12219075703-2030.2156443802617i), (42202.643077035886-2175.184989840035i), (42186.0231946897-2330.3874699023413i), (42166.94811022342-2496.5181166561633i), (42145.05786918823-2674.312846721232i), (42119.940616653235-2864.5493624559213i), (42091.125391037276-3068.0476671633473i), (42058.07400584716-3285.6700702115977i), (42020.17193270671-3518.3205299553024i), (41976.71810085419-3766.9431491016676i), (41926.913534427156-4032.51959806273i), (41869.84876141394-4316.065196355045i), (41804.48994901868-4618.623329779644i), (41729.66375237462-4941.257821827312i), (41644.040911016586-5285.04281196394i), (41546.11869308477-5651.049621902637i), (41434.20237882051-6040.330016481395i), (41306.386094984206-6453.895191304806i), (41160.53346983211-6892.68975142192i), (40994.258779400574-7357.559892395384i), (40804.909507005905-7849.21496972344i), (40589.55154430672-8368.181661838955i), (40344.95862523406-8914.750018021474i), (40067.60800106219-9488.910864252179i), (39753.68482237608-10090.284351029135i), (39399.09816801571-10718.03990678255i), (38999.5121087433-11370.808548898824i), (38550.395549828136-12046.589438255962i), (38047.09476991758-12742.653766131833i), (37484.93244325763-13455.45053202357i), (36859.33635297321-14180.520461636i), (36165.999815962656-14912.426117475577i), (35401.073896454465-15644.707979605848i), (34561.38868334925-16369.8776349548i), (33644.697244406765-17079.459833043373i), (32649.931504142984-17764.09460323805i), (31577.45459370181-18413.708446258348i), (30429.289804845528-19017.759478547727i), (29209.30298575895-19565.555234405892i), (27923.31400460001-20046.63390839113i), (26579.114677829963-20451.19091896707i), (25186.37589900123-20770.52403801626i), (23756.435616481285-20997.46353317592i), (22301.971039526205-21126.75041495052i), (20836.57147004774-21155.327196031834i), (19374.24037691936-21082.512012895448i), (17928.864543806194-20910.03796125395i), (16513.69254313711-20641.953476188013i), (15140.86352813308-20284.394266280757i), (13821.020647423136-19845.25023854371i), (12563.032602084852-19333.759998737492i), (11373.8340202433-18760.06972011957i), (10258.382637027817-18134.792338494568i), (9219.720623374924-17468.59798860614i), (8259.120010872395-16771.85879176778i), (7376.288420760365-16054.362172950248i), (6569.610934475678-15325.09828524326i), (5836.4061846809645-14592.119896239396i), (5173.178644678993-13862.467798034766i), (4575.853724967513-13142.151549955279i), (4039.986900243458-12436.173938320311i), (3560.9421804612653-11748.587547552968i), (3134.0385342559107-11082.572831878908i), (2754.665292298983-10440.528638306443i), (2418.36915491727-9824.167920132822i), (2120.9163301479643-9234.613152550595i), (1858.3336924069738-8672.487565195548i), (1626.9328330663786-8137.9996622161025i), (1423.3206078543321-7631.019584223697i), (1244.3993799883458-7151.146689175682i), (1087.3596921115543-6697.768321473725i), (949.6676290605999-6270.110139505059i), (829.048691435433-5867.278621815033i), (723.4696057687278-5488.2965081077655i), (631.1191587004478-5132.1319850698i), (550.3888608098152-4797.7224243114615i), (479.854017125635-4483.993440513977i), (418.2556000094339-4189.87397708975i), (364.4831793987131-3914.3080550384148i), (317.5590585282289-3656.2637456300376i), (276.6236839298189-3414.739853940015i), (240.9223411684439-3188.77073109317i), (209.79310762715787-2977.429570005739i), (182.65600674004793-2779.8304831711093i), (159.00329116605354-2595.129611732041i), (138.39077290433318-2422.525472450114i), (120.43011425869895-2261.2587127227393i), (104.78199327918018-2110.611412904434i), (91.15005965089287-1969.9060492129563i), (79.27560105832562-1838.5042088065386i), (68.9328451535891-1715.8051306065006i), (59.92482791700611-1601.2441305629907i), (52.079765064092484-1494.2909578344932i), (45.24786898594613-1394.4481183473192i), (39.298559343958445-1301.249194051316i), (34.118020773695164-1214.257179577345i), (29.607066122356798-1133.0628526638013i), (25.679268222847284-1057.2831904282227i), (22.25932738392578-986.5598401281957i), (19.2816455583761-920.5576503261871i), (16.689081555726972-858.9632662157358i), (14.431864714332406-801.4837911744097i), (12.466647166534472-747.8455152934092i), (10.755677246528151-697.7927106223276i), (9.266078731275655-651.0864921007487i), (7.969222496806324-607.5037425776507i), (6.840178841007301-566.8360999053526i), (5.8572401932170095-528.8890038048492i), (5.001505222256569-493.48080000776747i), (4.256516488453528-460.4418990656421i), (3.607944779230152-429.6139871628355i), (3.043314138881854-400.8492862612948i), (2.5517623654098998-374.00986093264453i), (2.1238324141510248-348.96696928681274i), (1.7512907307271632-325.60045547959254i), (1.4269690450932302-303.79818136858927i), (1.1446266031209689-283.45549498343973i), (0.8988302002877475-264.47473357863913i), (0.6848497207385549-246.76475914292544i), (0.49856718041117176-230.2405243459729i), (0.3363975305909861-214.82266700941378i), (0.19521970287232193-200.4371312938216i), (0.07231657234153488-187.0148138952812i), (-0.03467731353924819-174.49123364392196i), (-0.1278212441440303-162.80622299183298i), (-0.20890796720114224-151.90363996883275i), (-0.27949818392701786-141.73109927142758i), (-0.34095058074230167-132.239721232918i), (-0.39444797486442695-123.38389750095305i), (-0.44102007646259267-115.12107232297622i), (-0.4815633050694572-107.41153841000664i), (-0.5168580413577857-100.218246415203i), (-0.5475836461007617-93.50662712578715i), (-0.5743315352189882-87.24442552532696i), (-0.5976165624480316-81.4015459382461i), (-0.617886928617402-75.94990751992869i), (-0.6355328082000256-70.86330940406523i), (-0.6508938591176125-66.11730486414024i), (-0.6642657603112738-61.689083888336356i), (-0.6759059028794461-57.55736360679427i), (-0.6860383443047056-53.70228604728819i), (-0.6948581211114266-50.10532273008785i), (-0.7025350029521107-46.74918564523892i), (-0.7092167603727191-43.617744185834766i), (-0.715032009148656-40.69594763920778i), (-0.7200926859355903-37.969752864462i), (-0.7244962028828912-35.42605680951671i), (-0.7283273226810092-33.05263354394854i), (-0.7316597901323973-30.83807550550593i), (-0.734557751650815-28.77173867832979i), (-0.7370769900120449-26.843691439735082i), (-0.7392659981237975-25.044666829980855i), (-0.7411669124847506-23.366018015861457i), (-0.7428163243024808-21.799676734265507i), (-0.7442459838863629-20.33811451614403i), (-0.7454834118782734-18.974306504673994i), (-0.7465524290923256-17.701697693858442i), (-0.7474736151701378-16.51417142543264i), (-0.7482647048907201-15.406019992798965i), (-0.7489409297772902-14.371917210846869i), (-0.7495153115952895-13.406892819975655i), (-0.7499989134158113-12.506308601472867i), (-0.7504010531103124-11.665836089654347i), (-0.7507294834304361-10.88143577388289i), (-0.7509905421984224-10.149337690790858i), (-0.7511892755785047-9.466023313774226i), (-0.7513295369085697-8.828208653136688i), (-0.7514140631376234-8.232828486175464i), (-0.7514445305333104-7.6770216420503194i), (-0.7514215909921611-7.158117271491706i), (-0.7513448900040893-6.673622036318829i), (-0.7512130670951607-6.221208158380374i), (-0.7510237394077535-5.798702271933292i), (-0.7507734689892018-5.40407502766732i), (-0.7504577143720274-5.035431400596038i), (-0.7500707671754514-4.691001657896589i), (-0.7496056747895996-4.369132946517134i), (-0.7490541507927206-4.068281464000568i), (-0.7484064756998361-3.7870051795024957i), (-0.7476513920897291-3.5239570753918112i), (-0.7467760002996092-3.27787888305404i), (-0.7457656639728361-3.0475952894393847i), (-0.7446039391341869-2.8320085932576324i), (-0.7432725465772987-2.6300937910755007i), (-0.7417514156878814-2.4408940731614512i), (-0.740018838934944-2.263516705504848i), (-0.738051790587004-2.0971292660252074i), (-0.7358264808185497-1.9409561865010987i), (-0.7333192363774884-1.794275522556187i), (-0.7305078184598739-1.65641582547197i), (-0.7273733004716483-1.5267529126218584i), (-0.7239026187760863-1.4047062169320226i), (-0.7200918517879699-1.2897342292645382i), (-0.7159501309244549-1.181328327123969i), (-0.7115037680923669-1.0790040265371141i), (-0.706799596646471-0.9822884704052453i), (-0.7019055532308157-0.8907029452412153i), (-0.696905121393597-0.8037397315880654i), (-0.6918805797471905-0.7208341756338715i), (-0.6868787163447795-0.6413361564844261i), (-0.6818532628300082-0.56449041567064i), (-0.6765829782606799-0.4894415467908303i), (-0.6705748427966037-0.41528349626296535i), (-0.6629768766818748-0.34116972403388945i), (-0.6525378035201677-0.2664845660916357i), (-0.637650902420731-0.19105213526367476i), (-0.6165026474634487-0.11533894083966595i), (-0.587323026891113-0.040602056921530655i), (-0.5487199573444592+0.031058806568331758i), (-0.5000740716264195+0.09678956832792732i), (-0.44194421120895633+0.15327182563492833i), (-0.3763634297276909+0.197269171474142i), (-0.3068264749334502+0.22638880025001493i), (-0.23779621904981169+0.23983113237191125i), (-0.17377522804080775+0.2387637701730822i), (-0.11829068775216062+0.22606537537425558i), (-0.07324713139305783+0.2055334296550735i), (-0.04637362872078491+0.18718444664716508i)], :name=>\"V(out1)/(V(n001) - V(vin))\"}]]"
      ]
     },
     "execution_count": 37,
     "metadata": {},
     "output_type": "execute_result"
    }
   ],
   "source": [
    "v, r = ckt.get_traces 'frequency',   'V(out1)/(V(n001) - V(vin))', 'V(out1)/(V(n001) - V(vin))'"
   ]
  },
  {
   "cell_type": "code",
   "execution_count": 26,
   "metadata": {},
   "outputs": [
    {
     "data": {
      "text/plain": [
       "[0.0, 2.0000000000000004, 4.000000000000001, 6.000000000000001, 8.000000000000002, 10.000000000000002, 12.000000000000002, 14.000000000000004, 16.000000000000004, 18.000000000000004, 20.000000000000004, 22.000000000000007, 24.000000000000004, 26.000000000000007, 28.000000000000007, 30.000000000000007, 32.000000000000014, 34.000000000000014, 36.00000000000001, 38.000000000000014, 40.00000000000001, 42.000000000000014, 44.000000000000014, 46.000000000000014, 48.000000000000014, 50.000000000000014, 52.000000000000014, 54.000000000000014, 56.000000000000014, 58.000000000000014, 60.000000000000014, 62.00000000000002, 64.00000000000003, 66.00000000000001, 68.00000000000001, 70.00000000000001, 72.00000000000001, 74.00000000000003, 76.00000000000003, 78.00000000000003, 80.00000000000001, 82.00000000000003, 84.00000000000003, 86.00000000000003, 88.00000000000003, 90.00000000000001, 92.00000000000003, 94.00000000000003, 96.00000000000003, 98.00000000000003, 100.00000000000003, 102.00000000000003, 104.00000000000004, 106.00000000000003, 108.00000000000003, 110.00000000000003, 112.00000000000003, 114.00000000000004, 116.00000000000003, 118.00000000000004, 120.00000000000003, 122.00000000000003, 124.00000000000004, 126.00000000000003, 128.00000000000006, 130.00000000000003, 132.00000000000006, 134.00000000000003, 136.00000000000003, 138.00000000000006, 140.00000000000003, 142.00000000000006, 144.00000000000003, 146.00000000000006, 148.00000000000006, 150.00000000000003, 152.00000000000006, 154.00000000000003, 156.00000000000006, 158.00000000000006, 160.00000000000003, 162.00000000000003, 164.00000000000006, 166.00000000000006, 168.00000000000006, 170.00000000000003, 172.00000000000006, 174.00000000000006, 176.00000000000006, 178.00000000000006, 180.0]"
      ]
     },
     "execution_count": 26,
     "metadata": {},
     "output_type": "execute_result"
    }
   ],
   "source": [
    "x = r[0][:x].map{|a| 20.0*Math.log10(a.abs)}"
   ]
  },
  {
   "cell_type": "code",
   "execution_count": 28,
   "metadata": {},
   "outputs": [
    {
     "data": {
      "text/plain": [
       "[(2424630.482241468-3904.9894624651056i), (2424626.803548676-4916.083007883311i), (2424620.973237278-6188.966942111185i), (2424611.7328739474-7791.418060868625i), (2424597.0880291895-9808.754941391118i), (2424573.8778770133-12348.372637634482i), (2424537.093174484-15545.444241432568i), (2424478.795636731-19570.084196314936i), (2424386.406009188-24636.33739989321i), (2424239.9927397897-31013.438027404693i), (2424007.9795694835-39039.86834006622i), (2423640.354435886-49140.828075584475i), (2423057.9362338474-61849.769864773334i), (2422135.438785998-77834.6011413521i), (2420674.816904685-97928.86421605793i), (2418363.4924272704-123167.41314215994i), (2414709.318086402-154824.27779510737i), (2408940.409641931-194446.53245986145i), (2399853.559250664-243870.2335024483i), (2385591.4699078198-305189.774102322i), (2363331.596515249-380625.8950938042i), (2328890.647711261-472196.0992305982i), (2276315.3297215113-581038.7972663065i), (2197683.840125078-706215.0850102257i), (2083611.9828711217-842921.5201201942i), (1925234.6106898822-980509.0584867452i), (1718242.1225701643-1101662.5691522553i), (1468085.1753056184-1184976.1073458912i), (1192852.6383860882-1212092.5963657382i), (919619.8952636613-1176366.268031618i), (674702.3417576368-1086483.0834797889i), (474461.74371028855-961777.8782049023i), (322704.6334232647-823417.1024042445i), (214172.33787418256-687835.7174517874i), (139731.98809067492-564766.9822174667i), (90127.55781685926-458349.52288182295i), (57705.69447254987-369136.34024083766i), (36781.420704272365-295807.51544733415i), (23387.67663980747-236286.22311350025i), (14859.210352818021-188355.42725112525i), (9446.87115204561-149952.06817630422i), (6019.38885384267-119280.19380467925i), (3851.7838049064703-94832.53676391435i), (2482.1172432459402-75370.77747326395i), (1617.118309652368-59890.511647844694i), (1071.0229230617165-47583.4394218053i), (726.3333574020628-37802.23647977958i), (508.79849566266506-30030.067782101887i), (371.5231917081211-23855.06792727098i), (284.9003401075446-18949.413931228173i), (230.24184569851877-15052.37230421477i), (195.7534231792104-11956.667252376603i), (173.9922330237775-9497.569451446829i), (160.26170983169868-7544.187261908269i), (151.59835134362933-5992.528179643151i), (146.13226194368042-4759.9768495999915i), (142.68362110026922-3780.9035134810642i), (140.50805286785837-3003.1730041137207i), (139.13596561837892-2385.3703723030485i), (138.27119584413515-1894.5964007346763i), (137.7270831635668-1504.716109868079i), (137.38618015740178-1194.967235149195i), (137.17490090636193-948.8547010497895i), (137.0476357519006-753.2722883438952i), (136.97690186870025-597.8047650696891i), (136.94739931578846-474.173359534766i), (136.95267814538028-375.7951061382612i), (136.99366675627778-297.43270898018613i), (137.0786610565493-234.9164946182878i), (137.22454084565703-184.92407307795622i), (137.45881535196446-144.80676942961824i), (137.82104293219254-112.45483111516081i), (138.35871090191736-86.19491586613114i), (139.10460623963968-64.70749297304006i), (140.01925114514924-46.91647989799421i), (140.97501493671388-31.715957225832405i), (142.2678148708929-17.556630587455533i), (145.9523590201962-3.2222180455426943i), (155.07526548666652+9.098313232706683i), (168.00999522978768+13.80907257704439i), (177.3429867935925+10.724878783374182i), (180.78616577089906+6.154819041310049i), (181.30720422211317+3.1715446037517308i), (181.02254390062194+1.6053091077212873i), (180.65056450764703+0.8273058827981116i), (180.35702554207424+0.44136617858010485i), (180.15353609134135+0.24640143275540632i), (180.01935453324984+0.14508145909486003i), (179.93282861456805+0.09044996949017814i), (179.8776236021595+0.05963207111855677i), (179.84258626924318+0.04131828591519413i)]"
      ]
     },
     "execution_count": 28,
     "metadata": {},
     "output_type": "execute_result"
    }
   ],
   "source": [
    "z = r[1][:y].map{|a| 180 + 180.0*a/Math::PI}"
   ]
  },
  {
   "cell_type": "code",
   "execution_count": null,
   "metadata": {},
   "outputs": [
    {
     "ename": "NoMethodError",
     "evalue": "undefined method `where' for #<Array:0x0000000003328888>\nDid you mean?  when",
     "output_type": "error",
     "traceback": [
      "\u001b[31mNoMethodError\u001b[0m: undefined method `where' for #<Array:0x0000000003328888>\nDid you mean?  when",
      "(pry):41:in `<main>'",
      "/opt/chefdk/embedded/lib/ruby/gems/2.6.0/gems/pry-0.12.2/lib/pry/pry_instance.rb:387:in `eval'",
      "/opt/chefdk/embedded/lib/ruby/gems/2.6.0/gems/pry-0.12.2/lib/pry/pry_instance.rb:387:in `evaluate_ruby'",
      "/opt/chefdk/embedded/lib/ruby/gems/2.6.0/gems/pry-0.12.2/lib/pry/pry_instance.rb:355:in `handle_line'",
      "/opt/chefdk/embedded/lib/ruby/gems/2.6.0/gems/pry-0.12.2/lib/pry/pry_instance.rb:274:in `block (2 levels) in eval'",
      "/opt/chefdk/embedded/lib/ruby/gems/2.6.0/gems/pry-0.12.2/lib/pry/pry_instance.rb:273:in `catch'",
      "/opt/chefdk/embedded/lib/ruby/gems/2.6.0/gems/pry-0.12.2/lib/pry/pry_instance.rb:273:in `block in eval'",
      "/opt/chefdk/embedded/lib/ruby/gems/2.6.0/gems/pry-0.12.2/lib/pry/pry_instance.rb:272:in `catch'",
      "/opt/chefdk/embedded/lib/ruby/gems/2.6.0/gems/pry-0.12.2/lib/pry/pry_instance.rb:272:in `eval'",
      "/opt/chefdk/embedded/lib/ruby/gems/2.6.0/gems/iruby-0.4.0/lib/iruby/backend.rb:66:in `eval'",
      "/opt/chefdk/embedded/lib/ruby/gems/2.6.0/gems/iruby-0.4.0/lib/iruby/backend.rb:12:in `eval'",
      "/opt/chefdk/embedded/lib/ruby/gems/2.6.0/gems/iruby-0.4.0/lib/iruby/kernel.rb:90:in `execute_request'",
      "/opt/chefdk/embedded/lib/ruby/gems/2.6.0/gems/iruby-0.4.0/lib/iruby/kernel.rb:49:in `dispatch'",
      "/opt/chefdk/embedded/lib/ruby/gems/2.6.0/gems/iruby-0.4.0/lib/iruby/kernel.rb:38:in `run'",
      "/opt/chefdk/embedded/lib/ruby/gems/2.6.0/gems/iruby-0.4.0/lib/iruby/command.rb:110:in `run_kernel'",
      "/opt/chefdk/embedded/lib/ruby/gems/2.6.0/gems/iruby-0.4.0/lib/iruby/command.rb:40:in `run'",
      "/opt/chefdk/embedded/lib/ruby/gems/2.6.0/gems/iruby-0.4.0/bin/iruby:5:in `<top (required)>'",
      "/opt/chefdk/embedded/bin/iruby:23:in `load'",
      "/opt/chefdk/embedded/bin/iruby:23:in `<main>'"
     ]
    }
   ],
   "source": [
    "x.where(z, 0)"
   ]
  },
  {
   "cell_type": "code",
   "execution_count": null,
   "metadata": {},
   "outputs": [
    {
     "ename": "NoMethodError",
     "evalue": "undefined method `end_line=' for nil:NilClass",
     "output_type": "error",
     "traceback": [
      "\u001b[31mNoMethodError\u001b[0m: undefined method `end_line=' for nil:NilClass",
      "/opt/chefdk/embedded/lib/ruby/2.6.0/psych/tree_builder.rb:133:in `set_end_location'",
      "/opt/chefdk/embedded/lib/ruby/2.6.0/psych/tree_builder.rb:92:in `end_stream'",
      "/opt/chefdk/embedded/lib/ruby/2.6.0/psych/visitors/yaml_tree.rb:93:in `finish'",
      "/opt/chefdk/embedded/lib/ruby/2.6.0/psych/visitors/yaml_tree.rb:99:in `tree'",
      "/opt/chefdk/embedded/lib/ruby/2.6.0/psych.rb:528:in `dump_stream'",
      "/opt/chefdk/embedded/lib/ruby/2.6.0/psych/y.rb:6:in `y'",
      "(pry):46:in `<main>'",
      "/opt/chefdk/embedded/lib/ruby/gems/2.6.0/gems/pry-0.12.2/lib/pry/pry_instance.rb:387:in `eval'",
      "/opt/chefdk/embedded/lib/ruby/gems/2.6.0/gems/pry-0.12.2/lib/pry/pry_instance.rb:387:in `evaluate_ruby'",
      "/opt/chefdk/embedded/lib/ruby/gems/2.6.0/gems/pry-0.12.2/lib/pry/pry_instance.rb:355:in `handle_line'",
      "/opt/chefdk/embedded/lib/ruby/gems/2.6.0/gems/pry-0.12.2/lib/pry/pry_instance.rb:274:in `block (2 levels) in eval'",
      "/opt/chefdk/embedded/lib/ruby/gems/2.6.0/gems/pry-0.12.2/lib/pry/pry_instance.rb:273:in `catch'",
      "/opt/chefdk/embedded/lib/ruby/gems/2.6.0/gems/pry-0.12.2/lib/pry/pry_instance.rb:273:in `block in eval'",
      "/opt/chefdk/embedded/lib/ruby/gems/2.6.0/gems/pry-0.12.2/lib/pry/pry_instance.rb:272:in `catch'",
      "/opt/chefdk/embedded/lib/ruby/gems/2.6.0/gems/pry-0.12.2/lib/pry/pry_instance.rb:272:in `eval'",
      "/opt/chefdk/embedded/lib/ruby/gems/2.6.0/gems/iruby-0.4.0/lib/iruby/backend.rb:66:in `eval'",
      "/opt/chefdk/embedded/lib/ruby/gems/2.6.0/gems/iruby-0.4.0/lib/iruby/backend.rb:12:in `eval'",
      "/opt/chefdk/embedded/lib/ruby/gems/2.6.0/gems/iruby-0.4.0/lib/iruby/kernel.rb:90:in `execute_request'",
      "/opt/chefdk/embedded/lib/ruby/gems/2.6.0/gems/iruby-0.4.0/lib/iruby/kernel.rb:49:in `dispatch'",
      "/opt/chefdk/embedded/lib/ruby/gems/2.6.0/gems/iruby-0.4.0/lib/iruby/kernel.rb:38:in `run'",
      "/opt/chefdk/embedded/lib/ruby/gems/2.6.0/gems/iruby-0.4.0/lib/iruby/command.rb:110:in `run_kernel'",
      "/opt/chefdk/embedded/lib/ruby/gems/2.6.0/gems/iruby-0.4.0/lib/iruby/command.rb:40:in `run'",
      "/opt/chefdk/embedded/lib/ruby/gems/2.6.0/gems/iruby-0.4.0/bin/iruby:5:in `<top (required)>'",
      "/opt/chefdk/embedded/bin/iruby:23:in `load'",
      "/opt/chefdk/embedded/bin/iruby:23:in `<main>'"
     ]
    }
   ],
   "source": [
    "y.class"
   ]
  },
  {
   "cell_type": "code",
   "execution_count": 35,
   "metadata": {},
   "outputs": [
    {
     "data": {
      "text/plain": [
       "{:x=>[1.0, 1.2589254117941673, 1.5848931924611136, 1.99526231496888, 2.5118864315095806, 3.16227766016838, 3.9810717055349736, 5.011872336272725, 6.309573444801935, 7.9432823472428185, 10.000000000000005, 12.58925411794168, 15.848931924611145, 19.95262314968881, 25.118864315095824, 31.622776601683825, 39.81071705534977, 50.11872336272729, 63.0957344480194, 79.43282347242825, 100.00000000000014, 125.89254117941691, 158.4893192461116, 199.52623149688827, 251.18864315095843, 316.2277660168385, 398.10717055349795, 501.1872336272732, 630.9573444801945, 794.3282347242831, 1000.000000000002, 1258.9254117941698, 1584.8931924611168, 1995.2623149688839, 2511.8864315095857, 3162.2776601683863, 3981.0717055349814, 5011.872336272734, 6309.5734448019475, 7943.2823472428345, 10000.000000000025, 12589.254117941706, 15848.931924611177, 19952.62314968885, 25118.86431509587, 31622.776601683883, 39810.71705534984, 50118.72336272738, 63095.734448019524, 79432.82347242841, 100000.00000000033, 125892.54117941715, 158489.3192461119, 199526.23149688868, 251188.64315095893, 316227.76601683913, 398107.1705534988, 501187.2336272742, 630957.3444801958, 794328.2347242847, 1000000.0000000041, 1258925.4117941724, 1584893.19246112, 1995262.314968888, 2511886.4315095907, 3162277.660168393, 3981071.70553499, 5011872.336272745, 6309573.444801961, 7943282.347242852, 10000000.000000047, 12589254.117941732, 15848931.92461121, 19952623.149688892, 25118864.315095924, 31622776.60168395, 39810717.05534992, 50118723.36272748, 63095734.448019646, 79432823.47242856, 100000000.00000052, 125892541.17941739, 158489319.2461122, 199526231.49688905, 251188643.1509594, 316227766.0168397, 398107170.55349946, 501187233.6272751, 630957344.4801968, 794328234.7242861, 1000000000.0], :y=>[(42314.643466677924-68.15492337569961i), (42314.57926137654-85.80183478891013i), (42314.47750324623-108.01785043692549i), (42314.31622848203-135.98589856150946i), (42314.06062772256-171.19506924853846i), (42313.6555341472-215.51975978989836i), (42313.0135199737-271.3191856981906i), (42311.9960359941-341.562404118204i), (42310.38353279878-429.98520326035543i), (42307.82813917917-541.2866059414273i), (42303.77874544934-681.3742420792488i), (42297.36247645497-857.669247075418i), (42287.19736120586-1079.4821257410626i), (42271.09674339964-1358.4700618931306i), (42245.60408244406-1709.1811133086665i), (42205.26386023123-2149.676890494826i), (42141.48648654119-2702.19340954697i), (42040.80003993906-3393.732210510611i), (41882.20458197532-4256.338522225105i), (41633.28416472909-5326.566401503241i), (41244.776082951656-6643.175087737415i), (40643.66812881126-8241.376646647801i), (39726.05572460712-10141.040094124875i), (38353.677335401684-12325.77846068009i), (36362.747842455174-14711.755862013018i), (33598.54123723607-17113.111416223353i), (29985.84079265175-19227.63907768657i), (25619.7784161476-20681.73463065157i), (20816.064438284946-21155.006645628786i), (16047.253446542707-20531.46458654985i), (11772.635741933198-18962.707073942725i), (8277.778009844442-16786.190647520554i), (5629.116772023719-14371.339554185382i), (3734.870869944649-12004.997982351113i), (2435.641669886192-9857.04334624706i), (1569.8810380321568-7999.7082992329i), (1004.0127730422979-6442.644525964655i), (638.8153021971746-5162.815096699967i), (405.05036910281444-4123.9725704325065i), (256.20055224951295-3287.422369532788i), (161.73741296127596-2617.1573098515178i), (101.91656180381253-2081.832114308595i), (64.08471681702302-1655.1400045488738i), (40.17952566157685-1315.4682266964282i), (25.08244624412923-1045.2866189589047i), (15.551283718171064-830.4876873337693i), (9.53531590014093-659.7734911896646i), (5.7386163249178-524.123557394749i), (3.342710289235015-416.3494786177778i), (1.8308563213385156-330.72966442321393i), (0.8768856297181031-262.7134569445533i), (0.27494910293721375-208.68321111935552i), (-0.10485531442766671-165.76385786457888i), (-0.34449815215088364-131.6709071073151i), (-0.4957022820482919-104.58934725331522i), (-0.5911035392857613-83.07726834422678i), (-0.651293676722041-65.98921501046638i), (-0.6892645054794038-52.41525692879364i), (-0.713211945607453-41.63256687621115i), (-0.7283050254397345-33.066945189254014i), (-0.7378015832175047-26.26225042499872i), (-0.7437514631050308-20.856112706806766i), (-0.7474389816768239-16.560638656345322i), (-0.7496601776452329-13.147081595633075i), (-0.7508947167998004-10.433661434577264i), (-0.7514096334858548-8.275886349124514i), (-0.7513175005288262-6.558861914994211i), (-0.7506021143128458-5.191180074830354i), (-0.7491186839276791-4.100066298332662i), (-0.746572601295634-3.2275339414089403i), (-0.7424837398070853-2.5273549057231097i), (-0.7361616758905736-1.9627070627337226i), (-0.7267775995363619-1.5043850803434882i), (-0.7137592700178327-1.1293588030906434i), (-0.6977957049300983-0.8188470476657322i), (-0.6811144798959505-0.5535478790124622i), (-0.6585508644749609-0.3064210093074453i), (-0.5942434376345241-0.056238314111896615i), (-0.4350186824431357+0.15879552228850066i), (-0.2092650605700311+0.2410137831162829i), (-0.046373628720782475+0.18718444664716316i), (0.013721181168668092+0.10742185713530125i), (0.0228150176718462+0.055353895709326605i), (0.017846757812038316+0.02801792944198879i), (0.011354492655056357+0.014439211575945366i), (0.00623127122291292+0.007703293023168101i), (0.0026797103145492084+0.004300516283213244i), (0.00033780033039651004+0.0025321491448027796i), (-0.0011723618389138523+0.0015786497759320253i), (-0.0021358710690470976+0.0010407759808022336i), (-0.0027473878895544193+0.0007211401305005363i)], :name=>\"V(out1)/(V(n001) - V(vin))\"}"
      ]
     },
     "execution_count": 35,
     "metadata": {},
     "output_type": "execute_result"
    }
   ],
   "source": [
    "r[0]"
   ]
  },
  {
   "cell_type": "code",
   "execution_count": 9,
   "metadata": {
    "scrolled": true
   },
   "outputs": [
    {
     "name": "stdout",
     "output_type": "stream",
     "text": [
      "wine '/home/anagix/.wine/drive_c/Program Files/LTC/LTspiceXVII/XVIIx86.exe' -netlist 'amp2_tb.tmp'\n",
      "* Z:\\home\\anagix\\work\\2in1_OpAmp\\amp2_tb.tmp\n",
      "V3 N001 0 2.5\n",
      "XX1 Vin 0 OUT1 N001 NC_01 N003 opamp3ureiauto\n",
      "V1 N002 0 AC 1 0\n",
      "V2 0 N003 2.5\n",
      "R1 OUT1 Vin 100k\n",
      "R2 Vin N002 1k\n",
      "\n",
      "* block symbol definitions\n",
      ".subckt opamp3ureiauto Vinm Vinp Vout VDD Vbias gnd\n",
      "M1 N010 N010 gnd gnd nch l=1u w=16u ad=3.5e-10 as=3.5e-10 pd=64e-6 ps=64e-6\n",
      "M2 N008 N008 N010 gnd nch l=1u w=16u ad=3.5e-10 as=3.5e-10 pd=64e-6 ps=64e-6\n",
      "M3 N011 N010 gnd gnd nch l=1u w=16u ad=3.5e-10 as=3.5e-10 pd=64e-6 ps=64e-6\n",
      "M4 N007 N008 N011 gnd nch l=1u w=16u ad=3.5e-10 as=3.5e-10 pd=64e-6 ps=64e-6\n",
      "M5 N001 Vbias gnd gnd nch l=1u w=34u ad=7e-10 as=7e-10 pd=114e-6 ps=114e-6\n",
      "M6 N006 Vbias gnd gnd nch l=1u w=16u ad=3.5e-10 as=3.5e-10 pd=64e-6 ps=64e-6\n",
      "M10 Vout N009 gnd gnd nch l=1u w=100u ad=2.1e-9 as=2.1e-9 pd=314e-6 ps=314e-6\n",
      "M11 N009 N010 gnd gnd nch l=1u w=16u ad=3.5e-10 as=3.5e-10 pd=64e-6 ps=64e-6\n",
      "M12 VDD N007 N009 gnd nch l=1u w=16u ad=3.5e-10 as=3.5e-10 pd=64e-6 ps=64e-6\n",
      "M13 N002 N001 VDD VDD pch l=1u w=50u ad=1.05e-9 as=1.05e-9 pd=164e-6 ps=164e-6\n",
      "M14 N003 N003 N002 N002 pch l=1u w=38u ad=5.25e-10 as=5.25e-10 pd=89e-6 ps=89e-6\n",
      "M15 N006 N006 N003 N003 pch l=1u w=38u ad=5.25e-10 as=5.25e-10 pd=89e-6 ps=89e-6\n",
      "M16 N007 N006 N005 N005 pch l=1u w=19u ad=5.25e-10 as=5.25e-10 pd=89e-6 ps=89e-6\n",
      "M17 N008 N006 N004 N004 pch l=1u w=19u ad=5.25e-10 as=5.25e-10 pd=89e-6 ps=89e-6\n",
      "M18 N004 Vinm N002 N002 pch l=1u w=25u ad=5.25e-10 as=5.25e-10 pd=89e-6 ps=89e-6\n",
      "M20 Vout N001 VDD VDD pch l=1u w=50u ad=1.05e-9 as=1.05e-9 pd=164e-6 ps=164e-6\n",
      "M21 N005 Vinp N002 N002 pch l=1u w=25u ad=5.25e-10 as=5.25e-10 pd=89e-6 ps=89e-6\n",
      "M24 N001 N001 VDD VDD pch l=1u w=50u ad=1.05e-9 as=1.05e-9 pd=164e-6 ps=164e-6\n",
      "M7 Vbias Vbias gnd gnd nch l=1u w=34u ad=7e-10 as=7e-10 pd=114e-6 ps=114e-6\n",
      "R1 VDD Vbias 40k\n",
      "C1 Vout N007 1.0e-12\n",
      ".inc ./models/OR1_mos\n",
      ".ends opamp3ureiauto\n",
      "\n",
      ".model NMOS NMOS\n",
      ".model PMOS PMOS\n",
      ".lib C:\\users\\anagix\\My Documents\\LTspiceXVII\\lib\\cmp\\standard.mos\n",
      ".include models/OR1_mos\n",
      ";tran 0 40u 0\n",
      ".backanno\n",
      ".end\n",
      "\n",
      "analysis directives in netlist: {:ac=>\"oct 10 1 100Meg\"}\n",
      "analysis set: {:ac=>\"dec 10 1 1G\"}\n",
      "CWD: /home/anagix/work/2in1_OpAmp\n",
      "wine '/home/anagix/.wine/drive_c/Program Files/LTC/LTspiceXVII/XVIIx86.exe' -b -Run 'amp2_tb.net'\n",
      "execute sim_log() to show simulation log\n",
      "wine '/home/anagix/.wine/drive_c/Program Files/LTC/LTspiceXVII/XVIIx86.exe' -netlist 'amp2_tb.tmp'\n",
      "* Z:\\home\\anagix\\work\\2in1_OpAmp\\amp2_tb.tmp\n",
      "V3 N001 0 2.5\n",
      "XX1 Vin 0 OUT1 N001 NC_01 N003 opamp3ureiauto\n",
      "V1 N002 0 AC 1 0\n",
      "V2 0 N003 2.5\n",
      "R1 OUT1 Vin 100k\n",
      "R2 Vin N002 1k\n",
      "\n",
      "* block symbol definitions\n",
      ".subckt opamp3ureiauto Vinm Vinp Vout VDD Vbias gnd\n",
      "M1 N010 N010 gnd gnd nch l=1u w=16u ad=3.5e-10 as=3.5e-10 pd=64e-6 ps=64e-6\n",
      "M2 N008 N008 N010 gnd nch l=1u w=16u ad=3.5e-10 as=3.5e-10 pd=64e-6 ps=64e-6\n",
      "M3 N011 N010 gnd gnd nch l=1u w=16u ad=3.5e-10 as=3.5e-10 pd=64e-6 ps=64e-6\n",
      "M4 N007 N008 N011 gnd nch l=1u w=16u ad=3.5e-10 as=3.5e-10 pd=64e-6 ps=64e-6\n",
      "M5 N001 Vbias gnd gnd nch l=1u w=34u ad=7e-10 as=7e-10 pd=114e-6 ps=114e-6\n",
      "M6 N006 Vbias gnd gnd nch l=1u w=16u ad=3.5e-10 as=3.5e-10 pd=64e-6 ps=64e-6\n",
      "M10 Vout N009 gnd gnd nch l=1u w=100u ad=2.1e-9 as=2.1e-9 pd=314e-6 ps=314e-6\n",
      "M11 N009 N010 gnd gnd nch l=1u w=16u ad=3.5e-10 as=3.5e-10 pd=64e-6 ps=64e-6\n",
      "M12 VDD N007 N009 gnd nch l=1u w=16u ad=3.5e-10 as=3.5e-10 pd=64e-6 ps=64e-6\n",
      "M13 N002 N001 VDD VDD pch l=1u w=50u ad=1.05e-9 as=1.05e-9 pd=164e-6 ps=164e-6\n",
      "M14 N003 N003 N002 N002 pch l=1u w=38u ad=5.25e-10 as=5.25e-10 pd=89e-6 ps=89e-6\n",
      "M15 N006 N006 N003 N003 pch l=1u w=38u ad=5.25e-10 as=5.25e-10 pd=89e-6 ps=89e-6\n",
      "M16 N007 N006 N005 N005 pch l=1u w=19u ad=5.25e-10 as=5.25e-10 pd=89e-6 ps=89e-6\n",
      "M17 N008 N006 N004 N004 pch l=1u w=19u ad=5.25e-10 as=5.25e-10 pd=89e-6 ps=89e-6\n",
      "M18 N004 Vinm N002 N002 pch l=1u w=25u ad=5.25e-10 as=5.25e-10 pd=89e-6 ps=89e-6\n",
      "M20 Vout N001 VDD VDD pch l=1u w=50u ad=1.05e-9 as=1.05e-9 pd=164e-6 ps=164e-6\n",
      "M21 N005 Vinp N002 N002 pch l=1u w=25u ad=5.25e-10 as=5.25e-10 pd=89e-6 ps=89e-6\n",
      "M24 N001 N001 VDD VDD pch l=1u w=50u ad=1.05e-9 as=1.05e-9 pd=164e-6 ps=164e-6\n",
      "M7 Vbias Vbias gnd gnd nch l=1u w=34u ad=7e-10 as=7e-10 pd=114e-6 ps=114e-6\n",
      "R1 VDD Vbias 40k\n",
      "C1 Vout N007 2.0e-12\n",
      ".inc ./models/OR1_mos\n",
      ".ends opamp3ureiauto\n",
      "\n",
      ".model NMOS NMOS\n",
      ".model PMOS PMOS\n",
      ".lib C:\\users\\anagix\\My Documents\\LTspiceXVII\\lib\\cmp\\standard.mos\n",
      ".include models/OR1_mos\n",
      ";tran 0 40u 0\n",
      ".backanno\n",
      ".end\n",
      "\n",
      "analysis directives in netlist: {:ac=>\"oct 10 1 100Meg\"}\n",
      "analysis set: {:ac=>\"dec 10 1 1G\"}\n",
      "CWD: /home/anagix/work/2in1_OpAmp\n",
      "wine '/home/anagix/.wine/drive_c/Program Files/LTC/LTspiceXVII/XVIIx86.exe' -b -Run 'amp2_tb.net'\n",
      "execute sim_log() to show simulation log\n",
      "wine '/home/anagix/.wine/drive_c/Program Files/LTC/LTspiceXVII/XVIIx86.exe' -netlist 'amp2_tb.tmp'\n",
      "* Z:\\home\\anagix\\work\\2in1_OpAmp\\amp2_tb.tmp\n",
      "V3 N001 0 2.5\n",
      "XX1 Vin 0 OUT1 N001 NC_01 N003 opamp3ureiauto\n",
      "V1 N002 0 AC 1 0\n",
      "V2 0 N003 2.5\n",
      "R1 OUT1 Vin 100k\n",
      "R2 Vin N002 1k\n",
      "\n",
      "* block symbol definitions\n",
      ".subckt opamp3ureiauto Vinm Vinp Vout VDD Vbias gnd\n",
      "M1 N010 N010 gnd gnd nch l=1u w=16u ad=3.5e-10 as=3.5e-10 pd=64e-6 ps=64e-6\n",
      "M2 N008 N008 N010 gnd nch l=1u w=16u ad=3.5e-10 as=3.5e-10 pd=64e-6 ps=64e-6\n",
      "M3 N011 N010 gnd gnd nch l=1u w=16u ad=3.5e-10 as=3.5e-10 pd=64e-6 ps=64e-6\n",
      "M4 N007 N008 N011 gnd nch l=1u w=16u ad=3.5e-10 as=3.5e-10 pd=64e-6 ps=64e-6\n",
      "M5 N001 Vbias gnd gnd nch l=1u w=34u ad=7e-10 as=7e-10 pd=114e-6 ps=114e-6\n",
      "M6 N006 Vbias gnd gnd nch l=1u w=16u ad=3.5e-10 as=3.5e-10 pd=64e-6 ps=64e-6\n",
      "M10 Vout N009 gnd gnd nch l=1u w=100u ad=2.1e-9 as=2.1e-9 pd=314e-6 ps=314e-6\n",
      "M11 N009 N010 gnd gnd nch l=1u w=16u ad=3.5e-10 as=3.5e-10 pd=64e-6 ps=64e-6\n",
      "M12 VDD N007 N009 gnd nch l=1u w=16u ad=3.5e-10 as=3.5e-10 pd=64e-6 ps=64e-6\n",
      "M13 N002 N001 VDD VDD pch l=1u w=50u ad=1.05e-9 as=1.05e-9 pd=164e-6 ps=164e-6\n",
      "M14 N003 N003 N002 N002 pch l=1u w=38u ad=5.25e-10 as=5.25e-10 pd=89e-6 ps=89e-6\n",
      "M15 N006 N006 N003 N003 pch l=1u w=38u ad=5.25e-10 as=5.25e-10 pd=89e-6 ps=89e-6\n",
      "M16 N007 N006 N005 N005 pch l=1u w=19u ad=5.25e-10 as=5.25e-10 pd=89e-6 ps=89e-6\n",
      "M17 N008 N006 N004 N004 pch l=1u w=19u ad=5.25e-10 as=5.25e-10 pd=89e-6 ps=89e-6\n",
      "M18 N004 Vinm N002 N002 pch l=1u w=25u ad=5.25e-10 as=5.25e-10 pd=89e-6 ps=89e-6\n",
      "M20 Vout N001 VDD VDD pch l=1u w=50u ad=1.05e-9 as=1.05e-9 pd=164e-6 ps=164e-6\n",
      "M21 N005 Vinp N002 N002 pch l=1u w=25u ad=5.25e-10 as=5.25e-10 pd=89e-6 ps=89e-6\n",
      "M24 N001 N001 VDD VDD pch l=1u w=50u ad=1.05e-9 as=1.05e-9 pd=164e-6 ps=164e-6\n",
      "M7 Vbias Vbias gnd gnd nch l=1u w=34u ad=7e-10 as=7e-10 pd=114e-6 ps=114e-6\n",
      "R1 VDD Vbias 40k\n",
      "C1 Vout N007 3.0e-12\n",
      ".inc ./models/OR1_mos\n",
      ".ends opamp3ureiauto\n",
      "\n",
      ".model NMOS NMOS\n",
      ".model PMOS PMOS\n",
      ".lib C:\\users\\anagix\\My Documents\\LTspiceXVII\\lib\\cmp\\standard.mos\n",
      ".include models/OR1_mos\n",
      ";tran 0 40u 0\n",
      ".backanno\n",
      ".end\n",
      "\n",
      "analysis directives in netlist: {:ac=>\"oct 10 1 100Meg\"}\n",
      "analysis set: {:ac=>\"dec 10 1 1G\"}\n",
      "CWD: /home/anagix/work/2in1_OpAmp\n",
      "wine '/home/anagix/.wine/drive_c/Program Files/LTC/LTspiceXVII/XVIIx86.exe' -b -Run 'amp2_tb.net'\n",
      "execute sim_log() to show simulation log\n",
      "wine '/home/anagix/.wine/drive_c/Program Files/LTC/LTspiceXVII/XVIIx86.exe' -netlist 'amp2_tb.tmp'\n",
      "* Z:\\home\\anagix\\work\\2in1_OpAmp\\amp2_tb.tmp\n",
      "V3 N001 0 2.5\n",
      "XX1 Vin 0 OUT1 N001 NC_01 N003 opamp3ureiauto\n",
      "V1 N002 0 AC 1 0\n",
      "V2 0 N003 2.5\n",
      "R1 OUT1 Vin 100k\n",
      "R2 Vin N002 1k\n",
      "\n",
      "* block symbol definitions\n",
      ".subckt opamp3ureiauto Vinm Vinp Vout VDD Vbias gnd\n",
      "M1 N010 N010 gnd gnd nch l=1u w=16u ad=3.5e-10 as=3.5e-10 pd=64e-6 ps=64e-6\n",
      "M2 N008 N008 N010 gnd nch l=1u w=16u ad=3.5e-10 as=3.5e-10 pd=64e-6 ps=64e-6\n",
      "M3 N011 N010 gnd gnd nch l=1u w=16u ad=3.5e-10 as=3.5e-10 pd=64e-6 ps=64e-6\n",
      "M4 N007 N008 N011 gnd nch l=1u w=16u ad=3.5e-10 as=3.5e-10 pd=64e-6 ps=64e-6\n",
      "M5 N001 Vbias gnd gnd nch l=1u w=34u ad=7e-10 as=7e-10 pd=114e-6 ps=114e-6\n",
      "M6 N006 Vbias gnd gnd nch l=1u w=16u ad=3.5e-10 as=3.5e-10 pd=64e-6 ps=64e-6\n",
      "M10 Vout N009 gnd gnd nch l=1u w=100u ad=2.1e-9 as=2.1e-9 pd=314e-6 ps=314e-6\n",
      "M11 N009 N010 gnd gnd nch l=1u w=16u ad=3.5e-10 as=3.5e-10 pd=64e-6 ps=64e-6\n",
      "M12 VDD N007 N009 gnd nch l=1u w=16u ad=3.5e-10 as=3.5e-10 pd=64e-6 ps=64e-6\n",
      "M13 N002 N001 VDD VDD pch l=1u w=50u ad=1.05e-9 as=1.05e-9 pd=164e-6 ps=164e-6\n",
      "M14 N003 N003 N002 N002 pch l=1u w=38u ad=5.25e-10 as=5.25e-10 pd=89e-6 ps=89e-6\n",
      "M15 N006 N006 N003 N003 pch l=1u w=38u ad=5.25e-10 as=5.25e-10 pd=89e-6 ps=89e-6\n",
      "M16 N007 N006 N005 N005 pch l=1u w=19u ad=5.25e-10 as=5.25e-10 pd=89e-6 ps=89e-6\n",
      "M17 N008 N006 N004 N004 pch l=1u w=19u ad=5.25e-10 as=5.25e-10 pd=89e-6 ps=89e-6\n",
      "M18 N004 Vinm N002 N002 pch l=1u w=25u ad=5.25e-10 as=5.25e-10 pd=89e-6 ps=89e-6\n",
      "M20 Vout N001 VDD VDD pch l=1u w=50u ad=1.05e-9 as=1.05e-9 pd=164e-6 ps=164e-6\n",
      "M21 N005 Vinp N002 N002 pch l=1u w=25u ad=5.25e-10 as=5.25e-10 pd=89e-6 ps=89e-6\n",
      "M24 N001 N001 VDD VDD pch l=1u w=50u ad=1.05e-9 as=1.05e-9 pd=164e-6 ps=164e-6\n",
      "M7 Vbias Vbias gnd gnd nch l=1u w=34u ad=7e-10 as=7e-10 pd=114e-6 ps=114e-6\n",
      "R1 VDD Vbias 40k\n",
      "C1 Vout N007 4.0e-12\n",
      ".inc ./models/OR1_mos\n",
      ".ends opamp3ureiauto\n",
      "\n",
      ".model NMOS NMOS\n",
      ".model PMOS PMOS\n",
      ".lib C:\\users\\anagix\\My Documents\\LTspiceXVII\\lib\\cmp\\standard.mos\n",
      ".include models/OR1_mos\n",
      ";tran 0 40u 0\n",
      ".backanno\n",
      ".end\n",
      "\n"
     ]
    },
    {
     "name": "stdout",
     "output_type": "stream",
     "text": [
      "analysis directives in netlist: {:ac=>\"oct 10 1 100Meg\"}\n",
      "analysis set: {:ac=>\"dec 10 1 1G\"}\n",
      "CWD: /home/anagix/work/2in1_OpAmp\n",
      "wine '/home/anagix/.wine/drive_c/Program Files/LTC/LTspiceXVII/XVIIx86.exe' -b -Run 'amp2_tb.net'\n",
      "execute sim_log() to show simulation log\n",
      "wine '/home/anagix/.wine/drive_c/Program Files/LTC/LTspiceXVII/XVIIx86.exe' -netlist 'amp2_tb.tmp'\n",
      "* Z:\\home\\anagix\\work\\2in1_OpAmp\\amp2_tb.tmp\n",
      "V3 N001 0 2.5\n",
      "XX1 Vin 0 OUT1 N001 NC_01 N003 opamp3ureiauto\n",
      "V1 N002 0 AC 1 0\n",
      "V2 0 N003 2.5\n",
      "R1 OUT1 Vin 100k\n",
      "R2 Vin N002 1k\n",
      "\n",
      "* block symbol definitions\n",
      ".subckt opamp3ureiauto Vinm Vinp Vout VDD Vbias gnd\n",
      "M1 N010 N010 gnd gnd nch l=1u w=16u ad=3.5e-10 as=3.5e-10 pd=64e-6 ps=64e-6\n",
      "M2 N008 N008 N010 gnd nch l=1u w=16u ad=3.5e-10 as=3.5e-10 pd=64e-6 ps=64e-6\n",
      "M3 N011 N010 gnd gnd nch l=1u w=16u ad=3.5e-10 as=3.5e-10 pd=64e-6 ps=64e-6\n",
      "M4 N007 N008 N011 gnd nch l=1u w=16u ad=3.5e-10 as=3.5e-10 pd=64e-6 ps=64e-6\n",
      "M5 N001 Vbias gnd gnd nch l=1u w=34u ad=7e-10 as=7e-10 pd=114e-6 ps=114e-6\n",
      "M6 N006 Vbias gnd gnd nch l=1u w=16u ad=3.5e-10 as=3.5e-10 pd=64e-6 ps=64e-6\n",
      "M10 Vout N009 gnd gnd nch l=1u w=100u ad=2.1e-9 as=2.1e-9 pd=314e-6 ps=314e-6\n",
      "M11 N009 N010 gnd gnd nch l=1u w=16u ad=3.5e-10 as=3.5e-10 pd=64e-6 ps=64e-6\n",
      "M12 VDD N007 N009 gnd nch l=1u w=16u ad=3.5e-10 as=3.5e-10 pd=64e-6 ps=64e-6\n",
      "M13 N002 N001 VDD VDD pch l=1u w=50u ad=1.05e-9 as=1.05e-9 pd=164e-6 ps=164e-6\n",
      "M14 N003 N003 N002 N002 pch l=1u w=38u ad=5.25e-10 as=5.25e-10 pd=89e-6 ps=89e-6\n",
      "M15 N006 N006 N003 N003 pch l=1u w=38u ad=5.25e-10 as=5.25e-10 pd=89e-6 ps=89e-6\n",
      "M16 N007 N006 N005 N005 pch l=1u w=19u ad=5.25e-10 as=5.25e-10 pd=89e-6 ps=89e-6\n",
      "M17 N008 N006 N004 N004 pch l=1u w=19u ad=5.25e-10 as=5.25e-10 pd=89e-6 ps=89e-6\n",
      "M18 N004 Vinm N002 N002 pch l=1u w=25u ad=5.25e-10 as=5.25e-10 pd=89e-6 ps=89e-6\n",
      "M20 Vout N001 VDD VDD pch l=1u w=50u ad=1.05e-9 as=1.05e-9 pd=164e-6 ps=164e-6\n",
      "M21 N005 Vinp N002 N002 pch l=1u w=25u ad=5.25e-10 as=5.25e-10 pd=89e-6 ps=89e-6\n",
      "M24 N001 N001 VDD VDD pch l=1u w=50u ad=1.05e-9 as=1.05e-9 pd=164e-6 ps=164e-6\n",
      "M7 Vbias Vbias gnd gnd nch l=1u w=34u ad=7e-10 as=7e-10 pd=114e-6 ps=114e-6\n",
      "R1 VDD Vbias 40k\n",
      "C1 Vout N007 5.0e-12\n",
      ".inc ./models/OR1_mos\n",
      ".ends opamp3ureiauto\n",
      "\n",
      ".model NMOS NMOS\n",
      ".model PMOS PMOS\n",
      ".lib C:\\users\\anagix\\My Documents\\LTspiceXVII\\lib\\cmp\\standard.mos\n",
      ".include models/OR1_mos\n",
      ";tran 0 40u 0\n",
      ".backanno\n",
      ".end\n",
      "\n",
      "analysis directives in netlist: {:ac=>\"oct 10 1 100Meg\"}\n",
      "analysis set: {:ac=>\"dec 10 1 1G\"}\n",
      "CWD: /home/anagix/work/2in1_OpAmp\n",
      "wine '/home/anagix/.wine/drive_c/Program Files/LTC/LTspiceXVII/XVIIx86.exe' -b -Run 'amp2_tb.net'\n",
      "execute sim_log() to show simulation log\n",
      "wine '/home/anagix/.wine/drive_c/Program Files/LTC/LTspiceXVII/XVIIx86.exe' -netlist 'amp2_tb.tmp'\n",
      "* Z:\\home\\anagix\\work\\2in1_OpAmp\\amp2_tb.tmp\n",
      "V3 N001 0 2.5\n",
      "XX1 Vin 0 OUT1 N001 NC_01 N003 opamp3ureiauto\n",
      "V1 N002 0 AC 1 0\n",
      "V2 0 N003 2.5\n",
      "R1 OUT1 Vin 100k\n",
      "R2 Vin N002 1k\n",
      "\n",
      "* block symbol definitions\n",
      ".subckt opamp3ureiauto Vinm Vinp Vout VDD Vbias gnd\n",
      "M1 N010 N010 gnd gnd nch l=1u w=16u ad=3.5e-10 as=3.5e-10 pd=64e-6 ps=64e-6\n",
      "M2 N008 N008 N010 gnd nch l=1u w=16u ad=3.5e-10 as=3.5e-10 pd=64e-6 ps=64e-6\n",
      "M3 N011 N010 gnd gnd nch l=1u w=16u ad=3.5e-10 as=3.5e-10 pd=64e-6 ps=64e-6\n",
      "M4 N007 N008 N011 gnd nch l=1u w=16u ad=3.5e-10 as=3.5e-10 pd=64e-6 ps=64e-6\n",
      "M5 N001 Vbias gnd gnd nch l=1u w=34u ad=7e-10 as=7e-10 pd=114e-6 ps=114e-6\n",
      "M6 N006 Vbias gnd gnd nch l=1u w=16u ad=3.5e-10 as=3.5e-10 pd=64e-6 ps=64e-6\n",
      "M10 Vout N009 gnd gnd nch l=1u w=100u ad=2.1e-9 as=2.1e-9 pd=314e-6 ps=314e-6\n",
      "M11 N009 N010 gnd gnd nch l=1u w=16u ad=3.5e-10 as=3.5e-10 pd=64e-6 ps=64e-6\n",
      "M12 VDD N007 N009 gnd nch l=1u w=16u ad=3.5e-10 as=3.5e-10 pd=64e-6 ps=64e-6\n",
      "M13 N002 N001 VDD VDD pch l=1u w=50u ad=1.05e-9 as=1.05e-9 pd=164e-6 ps=164e-6\n",
      "M14 N003 N003 N002 N002 pch l=1u w=38u ad=5.25e-10 as=5.25e-10 pd=89e-6 ps=89e-6\n",
      "M15 N006 N006 N003 N003 pch l=1u w=38u ad=5.25e-10 as=5.25e-10 pd=89e-6 ps=89e-6\n",
      "M16 N007 N006 N005 N005 pch l=1u w=19u ad=5.25e-10 as=5.25e-10 pd=89e-6 ps=89e-6\n",
      "M17 N008 N006 N004 N004 pch l=1u w=19u ad=5.25e-10 as=5.25e-10 pd=89e-6 ps=89e-6\n",
      "M18 N004 Vinm N002 N002 pch l=1u w=25u ad=5.25e-10 as=5.25e-10 pd=89e-6 ps=89e-6\n",
      "M20 Vout N001 VDD VDD pch l=1u w=50u ad=1.05e-9 as=1.05e-9 pd=164e-6 ps=164e-6\n",
      "M21 N005 Vinp N002 N002 pch l=1u w=25u ad=5.25e-10 as=5.25e-10 pd=89e-6 ps=89e-6\n",
      "M24 N001 N001 VDD VDD pch l=1u w=50u ad=1.05e-9 as=1.05e-9 pd=164e-6 ps=164e-6\n",
      "M7 Vbias Vbias gnd gnd nch l=1u w=34u ad=7e-10 as=7e-10 pd=114e-6 ps=114e-6\n",
      "R1 VDD Vbias 40k\n",
      "C1 Vout N007 5.9999999999999995e-12\n",
      ".inc ./models/OR1_mos\n",
      ".ends opamp3ureiauto\n",
      "\n",
      ".model NMOS NMOS\n",
      ".model PMOS PMOS\n",
      ".lib C:\\users\\anagix\\My Documents\\LTspiceXVII\\lib\\cmp\\standard.mos\n",
      ".include models/OR1_mos\n",
      ";tran 0 40u 0\n",
      ".backanno\n",
      ".end\n",
      "\n",
      "analysis directives in netlist: {:ac=>\"oct 10 1 100Meg\"}\n",
      "analysis set: {:ac=>\"dec 10 1 1G\"}\n",
      "CWD: /home/anagix/work/2in1_OpAmp\n",
      "wine '/home/anagix/.wine/drive_c/Program Files/LTC/LTspiceXVII/XVIIx86.exe' -b -Run 'amp2_tb.net'\n",
      "execute sim_log() to show simulation log\n",
      "wine '/home/anagix/.wine/drive_c/Program Files/LTC/LTspiceXVII/XVIIx86.exe' -netlist 'amp2_tb.tmp'\n",
      "* Z:\\home\\anagix\\work\\2in1_OpAmp\\amp2_tb.tmp\n",
      "V3 N001 0 2.5\n",
      "XX1 Vin 0 OUT1 N001 NC_01 N003 opamp3ureiauto\n",
      "V1 N002 0 AC 1 0\n",
      "V2 0 N003 2.5\n",
      "R1 OUT1 Vin 100k\n",
      "R2 Vin N002 1k\n",
      "\n",
      "* block symbol definitions\n",
      ".subckt opamp3ureiauto Vinm Vinp Vout VDD Vbias gnd\n",
      "M1 N010 N010 gnd gnd nch l=1u w=16u ad=3.5e-10 as=3.5e-10 pd=64e-6 ps=64e-6\n",
      "M2 N008 N008 N010 gnd nch l=1u w=16u ad=3.5e-10 as=3.5e-10 pd=64e-6 ps=64e-6\n",
      "M3 N011 N010 gnd gnd nch l=1u w=16u ad=3.5e-10 as=3.5e-10 pd=64e-6 ps=64e-6\n",
      "M4 N007 N008 N011 gnd nch l=1u w=16u ad=3.5e-10 as=3.5e-10 pd=64e-6 ps=64e-6\n",
      "M5 N001 Vbias gnd gnd nch l=1u w=34u ad=7e-10 as=7e-10 pd=114e-6 ps=114e-6\n",
      "M6 N006 Vbias gnd gnd nch l=1u w=16u ad=3.5e-10 as=3.5e-10 pd=64e-6 ps=64e-6\n",
      "M10 Vout N009 gnd gnd nch l=1u w=100u ad=2.1e-9 as=2.1e-9 pd=314e-6 ps=314e-6\n",
      "M11 N009 N010 gnd gnd nch l=1u w=16u ad=3.5e-10 as=3.5e-10 pd=64e-6 ps=64e-6\n",
      "M12 VDD N007 N009 gnd nch l=1u w=16u ad=3.5e-10 as=3.5e-10 pd=64e-6 ps=64e-6\n",
      "M13 N002 N001 VDD VDD pch l=1u w=50u ad=1.05e-9 as=1.05e-9 pd=164e-6 ps=164e-6\n",
      "M14 N003 N003 N002 N002 pch l=1u w=38u ad=5.25e-10 as=5.25e-10 pd=89e-6 ps=89e-6\n",
      "M15 N006 N006 N003 N003 pch l=1u w=38u ad=5.25e-10 as=5.25e-10 pd=89e-6 ps=89e-6\n",
      "M16 N007 N006 N005 N005 pch l=1u w=19u ad=5.25e-10 as=5.25e-10 pd=89e-6 ps=89e-6\n",
      "M17 N008 N006 N004 N004 pch l=1u w=19u ad=5.25e-10 as=5.25e-10 pd=89e-6 ps=89e-6\n",
      "M18 N004 Vinm N002 N002 pch l=1u w=25u ad=5.25e-10 as=5.25e-10 pd=89e-6 ps=89e-6\n",
      "M20 Vout N001 VDD VDD pch l=1u w=50u ad=1.05e-9 as=1.05e-9 pd=164e-6 ps=164e-6\n",
      "M21 N005 Vinp N002 N002 pch l=1u w=25u ad=5.25e-10 as=5.25e-10 pd=89e-6 ps=89e-6\n",
      "M24 N001 N001 VDD VDD pch l=1u w=50u ad=1.05e-9 as=1.05e-9 pd=164e-6 ps=164e-6\n",
      "M7 Vbias Vbias gnd gnd nch l=1u w=34u ad=7e-10 as=7e-10 pd=114e-6 ps=114e-6\n",
      "R1 VDD Vbias 40k\n",
      "C1 Vout N007 7.0e-12\n",
      ".inc ./models/OR1_mos\n",
      ".ends opamp3ureiauto\n",
      "\n",
      ".model NMOS NMOS\n",
      ".model PMOS PMOS\n",
      ".lib C:\\users\\anagix\\My Documents\\LTspiceXVII\\lib\\cmp\\standard.mos\n",
      ".include models/OR1_mos\n",
      ";tran 0 40u 0\n",
      ".backanno\n",
      ".end\n",
      "\n",
      "analysis directives in netlist: {:ac=>\"oct 10 1 100Meg\"}\n",
      "analysis set: {:ac=>\"dec 10 1 1G\"}\n",
      "CWD: /home/anagix/work/2in1_OpAmp\n",
      "wine '/home/anagix/.wine/drive_c/Program Files/LTC/LTspiceXVII/XVIIx86.exe' -b -Run 'amp2_tb.net'\n",
      "execute sim_log() to show simulation log\n",
      "wine '/home/anagix/.wine/drive_c/Program Files/LTC/LTspiceXVII/XVIIx86.exe' -netlist 'amp2_tb.tmp'\n",
      "* Z:\\home\\anagix\\work\\2in1_OpAmp\\amp2_tb.tmp\n",
      "V3 N001 0 2.5\n",
      "XX1 Vin 0 OUT1 N001 NC_01 N003 opamp3ureiauto\n",
      "V1 N002 0 AC 1 0\n",
      "V2 0 N003 2.5\n",
      "R1 OUT1 Vin 100k\n",
      "R2 Vin N002 1k\n",
      "\n",
      "* block symbol definitions\n",
      ".subckt opamp3ureiauto Vinm Vinp Vout VDD Vbias gnd\n",
      "M1 N010 N010 gnd gnd nch l=1u w=16u ad=3.5e-10 as=3.5e-10 pd=64e-6 ps=64e-6\n",
      "M2 N008 N008 N010 gnd nch l=1u w=16u ad=3.5e-10 as=3.5e-10 pd=64e-6 ps=64e-6\n",
      "M3 N011 N010 gnd gnd nch l=1u w=16u ad=3.5e-10 as=3.5e-10 pd=64e-6 ps=64e-6\n",
      "M4 N007 N008 N011 gnd nch l=1u w=16u ad=3.5e-10 as=3.5e-10 pd=64e-6 ps=64e-6\n",
      "M5 N001 Vbias gnd gnd nch l=1u w=34u ad=7e-10 as=7e-10 pd=114e-6 ps=114e-6\n",
      "M6 N006 Vbias gnd gnd nch l=1u w=16u ad=3.5e-10 as=3.5e-10 pd=64e-6 ps=64e-6\n",
      "M10 Vout N009 gnd gnd nch l=1u w=100u ad=2.1e-9 as=2.1e-9 pd=314e-6 ps=314e-6\n",
      "M11 N009 N010 gnd gnd nch l=1u w=16u ad=3.5e-10 as=3.5e-10 pd=64e-6 ps=64e-6\n",
      "M12 VDD N007 N009 gnd nch l=1u w=16u ad=3.5e-10 as=3.5e-10 pd=64e-6 ps=64e-6\n",
      "M13 N002 N001 VDD VDD pch l=1u w=50u ad=1.05e-9 as=1.05e-9 pd=164e-6 ps=164e-6\n",
      "M14 N003 N003 N002 N002 pch l=1u w=38u ad=5.25e-10 as=5.25e-10 pd=89e-6 ps=89e-6\n",
      "M15 N006 N006 N003 N003 pch l=1u w=38u ad=5.25e-10 as=5.25e-10 pd=89e-6 ps=89e-6\n",
      "M16 N007 N006 N005 N005 pch l=1u w=19u ad=5.25e-10 as=5.25e-10 pd=89e-6 ps=89e-6\n",
      "M17 N008 N006 N004 N004 pch l=1u w=19u ad=5.25e-10 as=5.25e-10 pd=89e-6 ps=89e-6\n",
      "M18 N004 Vinm N002 N002 pch l=1u w=25u ad=5.25e-10 as=5.25e-10 pd=89e-6 ps=89e-6\n",
      "M20 Vout N001 VDD VDD pch l=1u w=50u ad=1.05e-9 as=1.05e-9 pd=164e-6 ps=164e-6\n",
      "M21 N005 Vinp N002 N002 pch l=1u w=25u ad=5.25e-10 as=5.25e-10 pd=89e-6 ps=89e-6\n",
      "M24 N001 N001 VDD VDD pch l=1u w=50u ad=1.05e-9 as=1.05e-9 pd=164e-6 ps=164e-6\n",
      "M7 Vbias Vbias gnd gnd nch l=1u w=34u ad=7e-10 as=7e-10 pd=114e-6 ps=114e-6\n",
      "R1 VDD Vbias 40k\n",
      "C1 Vout N007 8.0e-12\n",
      ".inc ./models/OR1_mos\n",
      ".ends opamp3ureiauto\n",
      "\n",
      ".model NMOS NMOS\n",
      ".model PMOS PMOS\n",
      ".lib C:\\users\\anagix\\My Documents\\LTspiceXVII\\lib\\cmp\\standard.mos\n",
      ".include models/OR1_mos\n",
      ";tran 0 40u 0\n",
      ".backanno\n",
      ".end\n",
      "\n"
     ]
    },
    {
     "name": "stdout",
     "output_type": "stream",
     "text": [
      "analysis directives in netlist: {:ac=>\"oct 10 1 100Meg\"}\n",
      "analysis set: {:ac=>\"dec 10 1 1G\"}\n",
      "CWD: /home/anagix/work/2in1_OpAmp\n",
      "wine '/home/anagix/.wine/drive_c/Program Files/LTC/LTspiceXVII/XVIIx86.exe' -b -Run 'amp2_tb.net'\n",
      "execute sim_log() to show simulation log\n",
      "wine '/home/anagix/.wine/drive_c/Program Files/LTC/LTspiceXVII/XVIIx86.exe' -netlist 'amp2_tb.tmp'\n",
      "* Z:\\home\\anagix\\work\\2in1_OpAmp\\amp2_tb.tmp\n",
      "V3 N001 0 2.5\n",
      "XX1 Vin 0 OUT1 N001 NC_01 N003 opamp3ureiauto\n",
      "V1 N002 0 AC 1 0\n",
      "V2 0 N003 2.5\n",
      "R1 OUT1 Vin 100k\n",
      "R2 Vin N002 1k\n",
      "\n",
      "* block symbol definitions\n",
      ".subckt opamp3ureiauto Vinm Vinp Vout VDD Vbias gnd\n",
      "M1 N010 N010 gnd gnd nch l=1u w=16u ad=3.5e-10 as=3.5e-10 pd=64e-6 ps=64e-6\n",
      "M2 N008 N008 N010 gnd nch l=1u w=16u ad=3.5e-10 as=3.5e-10 pd=64e-6 ps=64e-6\n",
      "M3 N011 N010 gnd gnd nch l=1u w=16u ad=3.5e-10 as=3.5e-10 pd=64e-6 ps=64e-6\n",
      "M4 N007 N008 N011 gnd nch l=1u w=16u ad=3.5e-10 as=3.5e-10 pd=64e-6 ps=64e-6\n",
      "M5 N001 Vbias gnd gnd nch l=1u w=34u ad=7e-10 as=7e-10 pd=114e-6 ps=114e-6\n",
      "M6 N006 Vbias gnd gnd nch l=1u w=16u ad=3.5e-10 as=3.5e-10 pd=64e-6 ps=64e-6\n",
      "M10 Vout N009 gnd gnd nch l=1u w=100u ad=2.1e-9 as=2.1e-9 pd=314e-6 ps=314e-6\n",
      "M11 N009 N010 gnd gnd nch l=1u w=16u ad=3.5e-10 as=3.5e-10 pd=64e-6 ps=64e-6\n",
      "M12 VDD N007 N009 gnd nch l=1u w=16u ad=3.5e-10 as=3.5e-10 pd=64e-6 ps=64e-6\n",
      "M13 N002 N001 VDD VDD pch l=1u w=50u ad=1.05e-9 as=1.05e-9 pd=164e-6 ps=164e-6\n",
      "M14 N003 N003 N002 N002 pch l=1u w=38u ad=5.25e-10 as=5.25e-10 pd=89e-6 ps=89e-6\n",
      "M15 N006 N006 N003 N003 pch l=1u w=38u ad=5.25e-10 as=5.25e-10 pd=89e-6 ps=89e-6\n",
      "M16 N007 N006 N005 N005 pch l=1u w=19u ad=5.25e-10 as=5.25e-10 pd=89e-6 ps=89e-6\n",
      "M17 N008 N006 N004 N004 pch l=1u w=19u ad=5.25e-10 as=5.25e-10 pd=89e-6 ps=89e-6\n",
      "M18 N004 Vinm N002 N002 pch l=1u w=25u ad=5.25e-10 as=5.25e-10 pd=89e-6 ps=89e-6\n",
      "M20 Vout N001 VDD VDD pch l=1u w=50u ad=1.05e-9 as=1.05e-9 pd=164e-6 ps=164e-6\n",
      "M21 N005 Vinp N002 N002 pch l=1u w=25u ad=5.25e-10 as=5.25e-10 pd=89e-6 ps=89e-6\n",
      "M24 N001 N001 VDD VDD pch l=1u w=50u ad=1.05e-9 as=1.05e-9 pd=164e-6 ps=164e-6\n",
      "M7 Vbias Vbias gnd gnd nch l=1u w=34u ad=7e-10 as=7e-10 pd=114e-6 ps=114e-6\n",
      "R1 VDD Vbias 40k\n",
      "C1 Vout N007 9.0e-12\n",
      ".inc ./models/OR1_mos\n",
      ".ends opamp3ureiauto\n",
      "\n",
      ".model NMOS NMOS\n",
      ".model PMOS PMOS\n",
      ".lib C:\\users\\anagix\\My Documents\\LTspiceXVII\\lib\\cmp\\standard.mos\n",
      ".include models/OR1_mos\n",
      ";tran 0 40u 0\n",
      ".backanno\n",
      ".end\n",
      "\n",
      "analysis directives in netlist: {:ac=>\"oct 10 1 100Meg\"}\n",
      "analysis set: {:ac=>\"dec 10 1 1G\"}\n",
      "CWD: /home/anagix/work/2in1_OpAmp\n",
      "wine '/home/anagix/.wine/drive_c/Program Files/LTC/LTspiceXVII/XVIIx86.exe' -b -Run 'amp2_tb.net'\n",
      "execute sim_log() to show simulation log\n",
      "wine '/home/anagix/.wine/drive_c/Program Files/LTC/LTspiceXVII/XVIIx86.exe' -netlist 'amp2_tb.tmp'\n",
      "* Z:\\home\\anagix\\work\\2in1_OpAmp\\amp2_tb.tmp\n",
      "V3 N001 0 2.5\n",
      "XX1 Vin 0 OUT1 N001 NC_01 N003 opamp3ureiauto\n",
      "V1 N002 0 AC 1 0\n",
      "V2 0 N003 2.5\n",
      "R1 OUT1 Vin 100k\n",
      "R2 Vin N002 1k\n",
      "\n",
      "* block symbol definitions\n",
      ".subckt opamp3ureiauto Vinm Vinp Vout VDD Vbias gnd\n",
      "M1 N010 N010 gnd gnd nch l=1u w=16u ad=3.5e-10 as=3.5e-10 pd=64e-6 ps=64e-6\n",
      "M2 N008 N008 N010 gnd nch l=1u w=16u ad=3.5e-10 as=3.5e-10 pd=64e-6 ps=64e-6\n",
      "M3 N011 N010 gnd gnd nch l=1u w=16u ad=3.5e-10 as=3.5e-10 pd=64e-6 ps=64e-6\n",
      "M4 N007 N008 N011 gnd nch l=1u w=16u ad=3.5e-10 as=3.5e-10 pd=64e-6 ps=64e-6\n",
      "M5 N001 Vbias gnd gnd nch l=1u w=34u ad=7e-10 as=7e-10 pd=114e-6 ps=114e-6\n",
      "M6 N006 Vbias gnd gnd nch l=1u w=16u ad=3.5e-10 as=3.5e-10 pd=64e-6 ps=64e-6\n",
      "M10 Vout N009 gnd gnd nch l=1u w=100u ad=2.1e-9 as=2.1e-9 pd=314e-6 ps=314e-6\n",
      "M11 N009 N010 gnd gnd nch l=1u w=16u ad=3.5e-10 as=3.5e-10 pd=64e-6 ps=64e-6\n",
      "M12 VDD N007 N009 gnd nch l=1u w=16u ad=3.5e-10 as=3.5e-10 pd=64e-6 ps=64e-6\n",
      "M13 N002 N001 VDD VDD pch l=1u w=50u ad=1.05e-9 as=1.05e-9 pd=164e-6 ps=164e-6\n",
      "M14 N003 N003 N002 N002 pch l=1u w=38u ad=5.25e-10 as=5.25e-10 pd=89e-6 ps=89e-6\n",
      "M15 N006 N006 N003 N003 pch l=1u w=38u ad=5.25e-10 as=5.25e-10 pd=89e-6 ps=89e-6\n",
      "M16 N007 N006 N005 N005 pch l=1u w=19u ad=5.25e-10 as=5.25e-10 pd=89e-6 ps=89e-6\n",
      "M17 N008 N006 N004 N004 pch l=1u w=19u ad=5.25e-10 as=5.25e-10 pd=89e-6 ps=89e-6\n",
      "M18 N004 Vinm N002 N002 pch l=1u w=25u ad=5.25e-10 as=5.25e-10 pd=89e-6 ps=89e-6\n",
      "M20 Vout N001 VDD VDD pch l=1u w=50u ad=1.05e-9 as=1.05e-9 pd=164e-6 ps=164e-6\n",
      "M21 N005 Vinp N002 N002 pch l=1u w=25u ad=5.25e-10 as=5.25e-10 pd=89e-6 ps=89e-6\n",
      "M24 N001 N001 VDD VDD pch l=1u w=50u ad=1.05e-9 as=1.05e-9 pd=164e-6 ps=164e-6\n",
      "M7 Vbias Vbias gnd gnd nch l=1u w=34u ad=7e-10 as=7e-10 pd=114e-6 ps=114e-6\n",
      "R1 VDD Vbias 40k\n",
      "C1 Vout N007 1.0e-11\n",
      ".inc ./models/OR1_mos\n",
      ".ends opamp3ureiauto\n",
      "\n",
      ".model NMOS NMOS\n",
      ".model PMOS PMOS\n",
      ".lib C:\\users\\anagix\\My Documents\\LTspiceXVII\\lib\\cmp\\standard.mos\n",
      ".include models/OR1_mos\n",
      ";tran 0 40u 0\n",
      ".backanno\n",
      ".end\n",
      "\n",
      "analysis directives in netlist: {:ac=>\"oct 10 1 100Meg\"}\n",
      "analysis set: {:ac=>\"dec 10 1 1G\"}\n",
      "CWD: /home/anagix/work/2in1_OpAmp\n",
      "wine '/home/anagix/.wine/drive_c/Program Files/LTC/LTspiceXVII/XVIIx86.exe' -b -Run 'amp2_tb.net'\n",
      "execute sim_log() to show simulation log\n"
     ]
    },
    {
     "data": {
      "text/plain": [
       "1.0e-12"
      ]
     },
     "execution_count": 9,
     "metadata": {},
     "output_type": "execute_result"
    }
   ],
   "source": [
    "pm_trace = {x: [], y: []}\n",
    "1e-12.step(10e-12, 1e-12){|c|\n",
    "  dut.set C1: c\n",
    "  ckt.simulate ac: 'dec 10 1 1G'\n",
    "  v, r = ckt.get_traces 'frequency', \n",
    "  'V(out1)/(V(n001) - V(vin))', 'V(out1)/(V(n001) - V(vin))'\n",
    "  x = r[0][:x] # frequency\n",
    "  y = r[0][:y].db # magnitude\n",
    "  z = r[1][:y].phs # phase\n",
    "  pm_trace[:x] << c\n",
    "  pm_trace[:y] << z.where(y, 0)\n",
    "}"
   ]
  },
  {
   "cell_type": "code",
   "execution_count": 12,
   "metadata": {},
   "outputs": [
    {
     "data": {
      "text/html": [
       "\n",
       "  <script>\n",
       "  requirejs.config({paths: { 'plotly': ['https://cdn.plot.ly/plotly-latest.min'] }})\n",
       "  </script>\n",
       "\n",
       "\n",
       "<div id=\"f183107d-2057-431a-910b-630849ea0977\" style=\"height: 100%; width: 100%;\"></div>\n",
       "\n",
       "<script>\n",
       " require(['plotly'], function(Plotly) { \n",
       "Plotly.newPlot(\n",
       "  'f183107d-2057-431a-910b-630849ea0977',\n",
       "  [{\"x\":[1.0e-12,2.0e-12,3.0e-12,4.0e-12,5.0e-12,5.9999999999999995e-12,7.0e-12,8.0e-12,9.0e-12,1.0e-11],\"y\":[-134.19359951633052,-108.0805732925532,-99.51067882832727,-95.25648819552096,-92.72909589397112,-91.05705890312292,-89.86570789776376,-88.98349104427719,-88.2978752393323,-87.7511150026829]}],\n",
       "  {\"title\":\"phase margin\",\"xaxis\":{\"title\":\"capacitance[F]\",\"type\":\"log\"},\"yaxis\":{\"title\":\"phase margin[deg]\"}},\n",
       "  {\"linkText\":\"Export to plot.ly\",\"showLink\":true}\n",
       ")\n",
       "\n",
       "window.addEventListener('resize', function() {\n",
       "  Plotly.Plots.resize(document.getElementById('f183107d-2057-431a-910b-630849ea0977'))\n",
       "})\n",
       " }) \n",
       "</script>"
      ],
      "text/plain": [
       "#<Plotly::Offline::HTML:0x0000000002977fa0 @id=\"f183107d-2057-431a-910b-630849ea0977\", @data=[{:x=>[1.0e-12, 2.0e-12, 3.0e-12, 4.0e-12, 5.0e-12, 5.9999999999999995e-12, 7.0e-12, 8.0e-12, 9.0e-12, 1.0e-11], :y=>[-134.19359951633052, -108.0805732925532, -99.51067882832727, -95.25648819552096, -92.72909589397112, -91.05705890312292, -89.86570789776376, -88.98349104427719, -88.2978752393323, -87.7511150026829]}], @layout={:title=>\"phase margin\", :xaxis=>{:title=>\"capacitance[F]\", :type=>\"log\"}, :yaxis=>{:title=>\"phase margin[deg]\"}}, @config={:linkText=>\"Export to plot.ly\", :showLink=>true}, @embedded=true>"
      ]
     },
     "metadata": {},
     "output_type": "display_data"
    },
    {
     "data": {
      "text/plain": [
       "[\"display_data\", \"<IDS|MSG>\", \"c2c8b177409ffc3a94f4977b75717d2e0dcbaf868f21ec7a0f14556f4c6aef6e\", \"{\\\"msg_type\\\":\\\"display_data\\\",\\\"msg_id\\\":\\\"38892ad6-df62-4384-99d3-01844420fa69\\\",\\\"username\\\":\\\"kernel\\\",\\\"session\\\":\\\"57593e16-507d-408b-a11d-9d2f52bdc959\\\",\\\"version\\\":\\\"5.0\\\"}\", \"{\\\"msg_id\\\":\\\"2816f065561a4fcb955a063264d4b600\\\",\\\"username\\\":\\\"username\\\",\\\"session\\\":\\\"0ea9a4052a7b4b038cea68465a6f129d\\\",\\\"msg_type\\\":\\\"execute_request\\\",\\\"version\\\":\\\"5.2\\\",\\\"date\\\":\\\"2021-09-24T03:20:51.758105Z\\\"}\", \"{}\", \"{\\\"data\\\":{\\\"text/html\\\":\\\"\\\\n  <script>\\\\n  requirejs.config({paths: { 'plotly': ['https://cdn.plot.ly/plotly-latest.min'] }})\\\\n  </script>\\\\n\\\\n\\\\n<div id=\\\\\\\"f183107d-2057-431a-910b-630849ea0977\\\\\\\" style=\\\\\\\"height: 100%; width: 100%;\\\\\\\"></div>\\\\n\\\\n<script>\\\\n require(['plotly'], function(Plotly) { \\\\nPlotly.newPlot(\\\\n  'f183107d-2057-431a-910b-630849ea0977',\\\\n  [{\\\\\\\"x\\\\\\\":[1.0e-12,2.0e-12,3.0e-12,4.0e-12,5.0e-12,5.9999999999999995e-12,7.0e-12,8.0e-12,9.0e-12,1.0e-11],\\\\\\\"y\\\\\\\":[-134.19359951633052,-108.0805732925532,-99.51067882832727,-95.25648819552096,-92.72909589397112,-91.05705890312292,-89.86570789776376,-88.98349104427719,-88.2978752393323,-87.7511150026829]}],\\\\n  {\\\\\\\"title\\\\\\\":\\\\\\\"phase margin\\\\\\\",\\\\\\\"xaxis\\\\\\\":{\\\\\\\"title\\\\\\\":\\\\\\\"capacitance[F]\\\\\\\",\\\\\\\"type\\\\\\\":\\\\\\\"log\\\\\\\"},\\\\\\\"yaxis\\\\\\\":{\\\\\\\"title\\\\\\\":\\\\\\\"phase margin[deg]\\\\\\\"}},\\\\n  {\\\\\\\"linkText\\\\\\\":\\\\\\\"Export to plot.ly\\\\\\\",\\\\\\\"showLink\\\\\\\":true}\\\\n)\\\\n\\\\nwindow.addEventListener('resize', function() {\\\\n  Plotly.Plots.resize(document.getElementById('f183107d-2057-431a-910b-630849ea0977'))\\\\n})\\\\n }) \\\\n</script>\\\",\\\"text/plain\\\":\\\"#<Plotly::Offline::HTML:0x0000000002977fa0 @id=\\\\\\\"f183107d-2057-431a-910b-630849ea0977\\\\\\\", @data=[{:x=>[1.0e-12, 2.0e-12, 3.0e-12, 4.0e-12, 5.0e-12, 5.9999999999999995e-12, 7.0e-12, 8.0e-12, 9.0e-12, 1.0e-11], :y=>[-134.19359951633052, -108.0805732925532, -99.51067882832727, -95.25648819552096, -92.72909589397112, -91.05705890312292, -89.86570789776376, -88.98349104427719, -88.2978752393323, -87.7511150026829]}], @layout={:title=>\\\\\\\"phase margin\\\\\\\", :xaxis=>{:title=>\\\\\\\"capacitance[F]\\\\\\\", :type=>\\\\\\\"log\\\\\\\"}, :yaxis=>{:title=>\\\\\\\"phase margin[deg]\\\\\\\"}}, @config={:linkText=>\\\\\\\"Export to plot.ly\\\\\\\", :showLink=>true}, @embedded=true>\\\"},\\\"metadata\\\":{}}\"]"
      ]
     },
     "execution_count": 12,
     "metadata": {},
     "output_type": "execute_result"
    }
   ],
   "source": [
    "require 'rbplotly'\n",
    "layout = {title: \"phase margin\", xaxis: {title: 'capacitance[F]'}, yaxis: {title: 'phase margin[deg]'}}\n",
    "layout[:xaxis][:type] = 'log'\n",
    "pl=Plotly::Plot.new data:[pm_trace], layout: layout\n",
    "pl.show"
   ]
  },
  {
   "cell_type": "code",
   "execution_count": 28,
   "metadata": {
    "scrolled": true
   },
   "outputs": [
    {
     "name": "stdout",
     "output_type": "stream",
     "text": [
      "wine '/home/yuuki/.wine/drive_c/Program Files/LTC/LTspiceXVII/XVIIx86.exe' -netlist 'amp2_tb.tmp'\n",
      "* Z:\\home\\yuuki\\work\\2in1_OpAmp\\amp2_tb.tmp\n",
      "V3 N001 0 2.5\n",
      "XX1 Vin 0 OUT1 N001 NC_01 N003 opamp3ureiauto\n",
      "V1 N002 0 AC 1 0\n",
      "V2 0 N003 2.5\n",
      "R1 OUT1 Vin 100k\n",
      "R2 Vin N002 1k\n",
      "\n",
      "* block symbol definitions\n",
      ".subckt opamp3ureiauto Vinm Vinp Vout VDD Vbias gnd\n",
      "M1 N010 N010 gnd gnd NCH l=1u w=16u ad=3.5e-10 as=3.5e-10 pd=64e-6 ps=64e-6\n",
      "M2 N008 N008 N010 gnd NCH l=1u w=16u ad=3.5e-10 as=3.5e-10 pd=64e-6 ps=64e-6\n",
      "M3 N011 N010 gnd gnd NCH l=1u w=16u ad=3.5e-10 as=3.5e-10 pd=64e-6 ps=64e-6\n",
      "M4 N007 N008 N011 gnd NCH l=1u w=16u ad=3.5e-10 as=3.5e-10 pd=64e-6 ps=64e-6\n",
      "M5 N001 Vbias gnd gnd NCH l=1u w=34u ad=7e-10 as=7e-10 pd=114e-6 ps=114e-6\n",
      "M6 N006 Vbias gnd gnd NCH l=1u w=16u ad=3.5e-10 as=3.5e-10 pd=64e-6 ps=64e-6\n",
      "M10 Vout N009 gnd gnd NCH l=1u w=100u ad=2.1e-9 as=2.1e-9 pd=314e-6 ps=314e-6\n",
      "M11 N009 N010 gnd gnd NCH l=1u w=16u ad=3.5e-10 as=3.5e-10 pd=64e-6 ps=64e-6\n",
      "M12 VDD N007 N009 gnd NCH l=1u w=16u ad=3.5e-10 as=3.5e-10 pd=64e-6 ps=64e-6\n",
      "M13 N002 N001 VDD VDD PCH l=1u w=50u ad=1.05e-9 as=1.05e-9 pd=164e-6 ps=164e-6\n",
      "M14 N003 N003 N002 N002 PCH l=1u w=38u ad=5.25e-10 as=5.25e-10 pd=89e-6 ps=89e-6\n",
      "M15 N006 N006 N003 N003 PCH l=1u w=38u ad=5.25e-10 as=5.25e-10 pd=89e-6 ps=89e-6\n",
      "M16 N007 N006 N005 N005 PCH l=1u w=19u ad=5.25e-10 as=5.25e-10 pd=89e-6 ps=89e-6\n",
      "M17 N008 N006 N004 N004 PCH l=1u w=19u ad=5.25e-10 as=5.25e-10 pd=89e-6 ps=89e-6\n",
      "M18 N004 Vinm N002 N002 PCH l=1u w=25u ad=5.25e-10 as=5.25e-10 pd=89e-6 ps=89e-6\n",
      "M20 Vout N001 VDD VDD PCH l=1u w=50u ad=1.05e-9 as=1.05e-9 pd=164e-6 ps=164e-6\n",
      "M21 N005 Vinp N002 N002 PCH l=1u w=25u ad=5.25e-10 as=5.25e-10 pd=89e-6 ps=89e-6\n",
      "M24 N001 N001 VDD VDD PCH l=1u w=50u ad=1.05e-9 as=1.05e-9 pd=164e-6 ps=164e-6\n",
      "M7 Vbias Vbias gnd gnd NCH l=1u w=34u ad=7e-10 as=7e-10 pd=114e-6 ps=114e-6\n",
      "R1 VDD Vbias 40k\n",
      "C1 Vout N007 1.0e-12\n",
      ".inc ./models/OR1_mos\n",
      ".ends opamp3ureiauto\n",
      "\n",
      ".model NMOS NMOS\n",
      ".model PMOS PMOS\n",
      ".lib C:\\users\\1159\\My Documents\\LTspiceXVII\\lib\\cmp\\standard.mos\n",
      ".include models/OR1_mos\n",
      ";tran 0 40u 0\n",
      ".backanno\n",
      ".end\n",
      "analysis directives in netlist: {:ac=>\"oct 10 1 100Meg\"}\n",
      "analysis set: {:ac=>\"dec 10 1 1G\"}\n",
      "CWD: /home/yuuki/work/2in1_OpAmp\n",
      "wine '/home/yuuki/.wine/drive_c/Program Files/LTC/LTspiceXVII/XVIIx86.exe' -b -Run 'amp2_tb.net'\n",
      "execute sim_log() to show simulation log\n"
     ]
    }
   ],
   "source": [
    "ckt.simulate ac: 'dec 10 1 1G'"
   ]
  },
  {
   "cell_type": "code",
   "execution_count": 27,
   "metadata": {},
   "outputs": [
    {
     "data": {
      "text/html": [
       "\n",
       "  <script>\n",
       "  requirejs.config({paths: { 'plotly': ['https://cdn.plot.ly/plotly-latest.min'] }})\n",
       "  </script>\n",
       "\n",
       "\n",
       "<div id=\"e04fa3d7-d2c3-4862-973a-01462b665277\" style=\"height: 100%; width: 100%;\"></div>\n",
       "\n",
       "<script>\n",
       " require(['plotly'], function(Plotly) { \n",
       "Plotly.newPlot(\n",
       "  'e04fa3d7-d2c3-4862-973a-01462b665277',\n",
       "  [{\"x\":[],\"y\":[]}],\n",
       "  {\"title\":\"phase margin\",\"yaxis\":{\"title\":\"phase margin[deg]\"},\"xaxis\":{\"title\":\"capacitance[F]\",\"type\":\"log\"}},\n",
       "  {\"linkText\":\"Export to plot.ly\",\"showLink\":true}\n",
       ")\n",
       "\n",
       "window.addEventListener('resize', function() {\n",
       "  Plotly.Plots.resize(document.getElementById('e04fa3d7-d2c3-4862-973a-01462b665277'))\n",
       "})\n",
       " }) \n",
       "</script>"
      ],
      "text/plain": [
       "#<Plotly::Offline::HTML:0x00000000035e2d58 @id=\"e04fa3d7-d2c3-4862-973a-01462b665277\", @data=[{:x=>[], :y=>[]}], @layout={:title=>\"phase margin\", :yaxis=>{:title=>\"phase margin[deg]\"}, :xaxis=>{:title=>\"capacitance[F]\", :type=>\"log\"}}, @config={:linkText=>\"Export to plot.ly\", :showLink=>true}, @embedded=true>"
      ]
     },
     "metadata": {},
     "output_type": "display_data"
    }
   ],
   "source": [
    "\n",
    "layout = {title: \"phase margin\", xaxis: {title: 'capacitance[F]'}, yaxis: {title: 'phase margin[deg]'}}\n",
    "layout[:xaxis][:type] = 'log'\n",
    "pl=Plotly::Plot.new data:[pm_trace], layout: layout\n",
    "pl.show"
   ]
  },
  {
   "cell_type": "code",
   "execution_count": 15,
   "metadata": {},
   "outputs": [
    {
     "data": {
      "text/html": [
       "\n",
       "  <script>\n",
       "  requirejs.config({paths: { 'plotly': ['https://cdn.plot.ly/plotly-latest.min'] }})\n",
       "  </script>\n",
       "\n",
       "\n",
       "<div id=\"4ac4cd66-eb2d-4140-8e7e-87134c0687c3\" style=\"height: 100%; width: 100%;\"></div>\n",
       "\n",
       "<script>\n",
       " require(['plotly'], function(Plotly) { \n",
       "Plotly.newPlot(\n",
       "  '4ac4cd66-eb2d-4140-8e7e-87134c0687c3',\n",
       "  [{\"name\":\"V(out1)/(V(n001) - V(vin))\",\"x\":[1.0,1.2589254117941673,1.5848931924611136,1.99526231496888,2.5118864315095806,3.16227766016838,3.9810717055349736,5.011872336272725,6.309573444801935,7.9432823472428185,10.000000000000005,12.58925411794168,15.848931924611145,19.95262314968881,25.118864315095824,31.622776601683825,39.81071705534977,50.11872336272729,63.0957344480194,79.43282347242825,100.00000000000014,125.89254117941691,158.4893192461116,199.52623149688827,251.18864315095843,316.2277660168385,398.10717055349795,501.1872336272732,630.9573444801945,794.3282347242831,1000.000000000002,1258.9254117941698,1584.8931924611168,1995.2623149688839,2511.8864315095857,3162.2776601683863,3981.0717055349814,5011.872336272734,6309.5734448019475,7943.2823472428345,10000.000000000025,12589.254117941706,15848.931924611177,19952.62314968885,25118.86431509587,31622.776601683883,39810.71705534984,50118.72336272738,63095.734448019524,79432.82347242841,100000.00000000033,125892.54117941715,158489.3192461119,199526.23149688868,251188.64315095893,316227.76601683913,398107.1705534988,501187.2336272742,630957.3444801958,794328.2347242847,1000000.0000000041,1258925.4117941724,1584893.19246112,1995262.314968888,2511886.4315095907,3162277.660168393,3981071.70553499,5011872.336272745,6309573.444801961,7943282.347242852,10000000.000000047,12589254.117941732,15848931.92461121,19952623.149688892,25118864.315095924,31622776.60168395,39810717.05534992,50118723.36272748,63095734.448019646,79432823.47242856,100000000.00000052,125892541.17941739,158489319.2461122,199526231.49688905,251188643.1509594,316227766.0168397,398107170.55349946,501187233.6272751,630957344.4801968,794328234.7242861,1000000000.0],\"y\":[92.52982498595085,92.52981839637941,92.52980795263623,92.52979140047046,92.52976516718446,92.52972359055333,92.52965769684671,92.52955326440919,92.52938775529513,92.52912545394264,92.52870976676536,92.52805102847955,92.52700720328002,92.52535336555943,92.52273349880987,92.51858452444449,92.51201695159187,92.50162835150108,92.48521426419794,92.45932610074384,92.41860963597902,92.35485027408006,92.25567764496904,92.102996223363,91.87149774015364,91.52814242609708,91.03411226138826,90.35072226124363,89.44898430896068,88.31905195177214,86.9738560125698,85.44437416286459,83.76982515858403,81.98847356880079,80.13231932282721,78.22559417816122,76.28549437457804,74.32371840793606,72.34801040280296,70.36340782687913,68.37315111278316,66.37930998395665,64.38320047924215,62.38565702850441,60.387207750479305,58.38818652071509,56.38880426915929,54.38919420245903,52.38944043428897,50.38959609256493,48.38969476770878,46.38975775542634,44.38979865032447,42.38982627910797,40.38984660539099,38.38986401687936,36.38988227270215,34.38990531559567,32.38993812495551,30.389987796722796,28.390065087838856,26.390186770350933,24.390379332894025,22.390684903527816,20.391170863489016,18.391945717638546,16.39318592105685,14.395182811606556,12.398428820562447,10.403786482262763,8.412846779645651,6.428751772298488,4.458189856949145,2.516147658824303,0.6349448470150155,-1.1332195434040564,-2.777091443194657,-4.481987911230338,-6.686592228014909,-9.919131557809076,-14.295909823068857,-19.30786181677027,-24.455618678629758,-29.572232803739368,-34.71835184079318,-40.080235782137265,-45.904846817638436,-51.85360360418582,-54.126744154287955,-52.48323754739041,-50.93224243479934]}],\n",
       "  {\"title\":\"20log10(V(out1)/(V(n001) - V(vin)))\",\"yaxis\":{\"title\":\"V(out1)/(V(n001) - V(vin))[dB]\",\"linewidth\":1,\"mirror\":true},\"xaxis\":{\"title\":\"frequency\",\"linewidth\":1,\"mirror\":true,\"type\":\"log\"}},\n",
       "  {\"linkText\":\"Export to plot.ly\",\"showLink\":true}\n",
       ")\n",
       "\n",
       "window.addEventListener('resize', function() {\n",
       "  Plotly.Plots.resize(document.getElementById('4ac4cd66-eb2d-4140-8e7e-87134c0687c3'))\n",
       "})\n",
       " }) \n",
       "</script>"
      ],
      "text/plain": [
       "#<Plotly::Offline::HTML:0x0000000002804f10 @id=\"4ac4cd66-eb2d-4140-8e7e-87134c0687c3\", @data=[{:name=>\"V(out1)/(V(n001) - V(vin))\", :x=>[1.0, 1.2589254117941673, 1.5848931924611136, 1.99526231496888, 2.5118864315095806, 3.16227766016838, 3.9810717055349736, 5.011872336272725, 6.309573444801935, 7.9432823472428185, 10.000000000000005, 12.58925411794168, 15.848931924611145, 19.95262314968881, 25.118864315095824, 31.622776601683825, 39.81071705534977, 50.11872336272729, 63.0957344480194, 79.43282347242825, 100.00000000000014, 125.89254117941691, 158.4893192461116, 199.52623149688827, 251.18864315095843, 316.2277660168385, 398.10717055349795, 501.1872336272732, 630.9573444801945, 794.3282347242831, 1000.000000000002, 1258.9254117941698, 1584.8931924611168, 1995.2623149688839, 2511.8864315095857, 3162.2776601683863, 3981.0717055349814, 5011.872336272734, 6309.5734448019475, 7943.2823472428345, 10000.000000000025, 12589.254117941706, 15848.931924611177, 19952.62314968885, 25118.86431509587, 31622.776601683883, 39810.71705534984, 50118.72336272738, 63095.734448019524, 79432.82347242841, 100000.00000000033, 125892.54117941715, 158489.3192461119, 199526.23149688868, 251188.64315095893, 316227.76601683913, 398107.1705534988, 501187.2336272742, 630957.3444801958, 794328.2347242847, 1000000.0000000041, 1258925.4117941724, 1584893.19246112, 1995262.314968888, 2511886.4315095907, 3162277.660168393, 3981071.70553499, 5011872.336272745, 6309573.444801961, 7943282.347242852, 10000000.000000047, 12589254.117941732, 15848931.92461121, 19952623.149688892, 25118864.315095924, 31622776.60168395, 39810717.05534992, 50118723.36272748, 63095734.448019646, 79432823.47242856, 100000000.00000052, 125892541.17941739, 158489319.2461122, 199526231.49688905, 251188643.1509594, 316227766.0168397, 398107170.55349946, 501187233.6272751, 630957344.4801968, 794328234.7242861, 1000000000.0], :y=>[92.52982498595085, 92.52981839637941, 92.52980795263623, 92.52979140047046, 92.52976516718446, 92.52972359055333, 92.52965769684671, 92.52955326440919, 92.52938775529513, 92.52912545394264, 92.52870976676536, 92.52805102847955, 92.52700720328002, 92.52535336555943, 92.52273349880987, 92.51858452444449, 92.51201695159187, 92.50162835150108, 92.48521426419794, 92.45932610074384, 92.41860963597902, 92.35485027408006, 92.25567764496904, 92.102996223363, 91.87149774015364, 91.52814242609708, 91.03411226138826, 90.35072226124363, 89.44898430896068, 88.31905195177214, 86.9738560125698, 85.44437416286459, 83.76982515858403, 81.98847356880079, 80.13231932282721, 78.22559417816122, 76.28549437457804, 74.32371840793606, 72.34801040280296, 70.36340782687913, 68.37315111278316, 66.37930998395665, 64.38320047924215, 62.38565702850441, 60.387207750479305, 58.38818652071509, 56.38880426915929, 54.38919420245903, 52.38944043428897, 50.38959609256493, 48.38969476770878, 46.38975775542634, 44.38979865032447, 42.38982627910797, 40.38984660539099, 38.38986401687936, 36.38988227270215, 34.38990531559567, 32.38993812495551, 30.389987796722796, 28.390065087838856, 26.390186770350933, 24.390379332894025, 22.390684903527816, 20.391170863489016, 18.391945717638546, 16.39318592105685, 14.395182811606556, 12.398428820562447, 10.403786482262763, 8.412846779645651, 6.428751772298488, 4.458189856949145, 2.516147658824303, 0.6349448470150155, -1.1332195434040564, -2.777091443194657, -4.481987911230338, -6.686592228014909, -9.919131557809076, -14.295909823068857, -19.30786181677027, -24.455618678629758, -29.572232803739368, -34.71835184079318, -40.080235782137265, -45.904846817638436, -51.85360360418582, -54.126744154287955, -52.48323754739041, -50.93224243479934]}], @layout={:title=>\"20log10(V(out1)/(V(n001) - V(vin)))\", :yaxis=>{:title=>\"V(out1)/(V(n001) - V(vin))[dB]\", :linewidth=>1, :mirror=>true}, :xaxis=>{:title=>\"frequency\", :linewidth=>1, :mirror=>true, :type=>\"log\"}}, @config={:linkText=>\"Export to plot.ly\", :showLink=>true}, @embedded=true>"
      ]
     },
     "metadata": {},
     "output_type": "display_data"
    },
    {
     "data": {
      "text/html": [
       "\n",
       "  <script>\n",
       "  requirejs.config({paths: { 'plotly': ['https://cdn.plot.ly/plotly-latest.min'] }})\n",
       "  </script>\n",
       "\n",
       "\n",
       "<div id=\"e79cb692-3517-4792-8dca-c5ce4aafe5c1\" style=\"height: 100%; width: 100%;\"></div>\n",
       "\n",
       "<script>\n",
       " require(['plotly'], function(Plotly) { \n",
       "Plotly.newPlot(\n",
       "  'e79cb692-3517-4792-8dca-c5ce4aafe5c1',\n",
       "  [{\"name\":\"V(out1)/(V(n001) - V(vin))\",\"x\":[1.0,1.2589254117941673,1.5848931924611136,1.99526231496888,2.5118864315095806,3.16227766016838,3.9810717055349736,5.011872336272725,6.309573444801935,7.9432823472428185,10.000000000000005,12.58925411794168,15.848931924611145,19.95262314968881,25.118864315095824,31.622776601683825,39.81071705534977,50.11872336272729,63.0957344480194,79.43282347242825,100.00000000000014,125.89254117941691,158.4893192461116,199.52623149688827,251.18864315095843,316.2277660168385,398.10717055349795,501.1872336272732,630.9573444801945,794.3282347242831,1000.000000000002,1258.9254117941698,1584.8931924611168,1995.2623149688839,2511.8864315095857,3162.2776601683863,3981.0717055349814,5011.872336272734,6309.5734448019475,7943.2823472428345,10000.000000000025,12589.254117941706,15848.931924611177,19952.62314968885,25118.86431509587,31622.776601683883,39810.71705534984,50118.72336272738,63095.734448019524,79432.82347242841,100000.00000000033,125892.54117941715,158489.3192461119,199526.23149688868,251188.64315095893,316227.76601683913,398107.1705534988,501187.2336272742,630957.3444801958,794328.2347242847,1000000.0000000041,1258925.4117941724,1584893.19246112,1995262.314968888,2511886.4315095907,3162277.660168393,3981071.70553499,5011872.336272745,6309573.444801961,7943282.347242852,10000000.000000047,12589254.117941732,15848931.92461121,19952623.149688892,25118864.315095924,31622776.60168395,39810717.05534992,50118723.36272748,63095734.448019646,79432823.47242856,100000000.00000052,125892541.17941739,158489319.2461122,199526231.49688905,251188643.1509594,316227766.0168397,398107170.55349946,501187233.6272751,630957344.4801968,794328234.7242861,1000000000.0],\"y\":[-0.09228450875867493,-0.11617925443245086,-0.14626089848944995,-0.1841313279388096,-0.2318071411177561,-0.29182696934484126,-0.36738652950721246,-0.46250853074189463,-0.582256345950871,-0.7330025528671421,-0.9227660989300405,-1.1616349557218697,-1.462294600092759,-1.840686144003175,-2.3168205690373704,-2.9157753802653557,-3.6688930474258172,-4.615178753439429,-5.80284257281407,-7.290819402956295,-9.14987930264964,-11.462537294208667,-14.320306239334132,-17.815924636019346,-22.027427326477508,-26.991605075255436,-32.668964852109866,-38.912431427571875,-45.46268859320322,-51.98905805883023,-58.1667090328482,-63.75070047666675,-68.61019464580188,-72.7185773058126,-76.1204315388273,-78.89723671217563,-81.14235140886896,-82.9464202942994,-84.39048682366854,-85.54374285130879,-86.46368178474992,-87.19730972079047,-87.78269474749662,-88.25050754359056,-88.62540804634014,-88.92723418458372,-89.17199564467154,-89.37269494344918,-89.54000404325664,-89.68282473618811,-89.80875871489845,-89.92451039075371,-90.03624291961059,-90.1499058946564,-90.27155190029798,-90.40765864397879,-90.5654737261222,-90.75340031333995,-90.9814441104532,-91.26174517244013,-91.60922236664021,-92.0423637921766,-92.58420323072342,-93.26353060132806,-94.11639284602609,-95.1879491507724,-96.53474739587757,-98.22747984140112,-100.35424109565692,-103.02422808094019,-106.37167928834702,-110.5597952288601,-115.7854712775167,-122.29304987027848,-130.4365923838831,-140.89892821883618,-155.0476347769842,-174.59371474092532,-200.0536747803957,-229.03319471971488,-256.08553293985966,-277.2790736299356,-292.39981264683433,-302.49617160140156,-308.18027637542536,-308.96974400215754,-301.92759613382987,-277.5986549886507,-233.40109832052013,-205.97923724038583,-194.70734417591757]}],\n",
       "  {\"title\":\"phase of V(out1)/(V(n001) - V(vin))\",\"yaxis\":{\"title\":\"V(out1)/(V(n001) - V(vin))[deg]\",\"linewidth\":1,\"mirror\":true},\"xaxis\":{\"title\":\"frequency\",\"linewidth\":1,\"mirror\":true,\"type\":\"log\"}},\n",
       "  {\"linkText\":\"Export to plot.ly\",\"showLink\":true}\n",
       ")\n",
       "\n",
       "window.addEventListener('resize', function() {\n",
       "  Plotly.Plots.resize(document.getElementById('e79cb692-3517-4792-8dca-c5ce4aafe5c1'))\n",
       "})\n",
       " }) \n",
       "</script>"
      ],
      "text/plain": [
       "#<Plotly::Offline::HTML:0x0000000002840ec0 @id=\"e79cb692-3517-4792-8dca-c5ce4aafe5c1\", @data=[{:name=>\"V(out1)/(V(n001) - V(vin))\", :x=>[1.0, 1.2589254117941673, 1.5848931924611136, 1.99526231496888, 2.5118864315095806, 3.16227766016838, 3.9810717055349736, 5.011872336272725, 6.309573444801935, 7.9432823472428185, 10.000000000000005, 12.58925411794168, 15.848931924611145, 19.95262314968881, 25.118864315095824, 31.622776601683825, 39.81071705534977, 50.11872336272729, 63.0957344480194, 79.43282347242825, 100.00000000000014, 125.89254117941691, 158.4893192461116, 199.52623149688827, 251.18864315095843, 316.2277660168385, 398.10717055349795, 501.1872336272732, 630.9573444801945, 794.3282347242831, 1000.000000000002, 1258.9254117941698, 1584.8931924611168, 1995.2623149688839, 2511.8864315095857, 3162.2776601683863, 3981.0717055349814, 5011.872336272734, 6309.5734448019475, 7943.2823472428345, 10000.000000000025, 12589.254117941706, 15848.931924611177, 19952.62314968885, 25118.86431509587, 31622.776601683883, 39810.71705534984, 50118.72336272738, 63095.734448019524, 79432.82347242841, 100000.00000000033, 125892.54117941715, 158489.3192461119, 199526.23149688868, 251188.64315095893, 316227.76601683913, 398107.1705534988, 501187.2336272742, 630957.3444801958, 794328.2347242847, 1000000.0000000041, 1258925.4117941724, 1584893.19246112, 1995262.314968888, 2511886.4315095907, 3162277.660168393, 3981071.70553499, 5011872.336272745, 6309573.444801961, 7943282.347242852, 10000000.000000047, 12589254.117941732, 15848931.92461121, 19952623.149688892, 25118864.315095924, 31622776.60168395, 39810717.05534992, 50118723.36272748, 63095734.448019646, 79432823.47242856, 100000000.00000052, 125892541.17941739, 158489319.2461122, 199526231.49688905, 251188643.1509594, 316227766.0168397, 398107170.55349946, 501187233.6272751, 630957344.4801968, 794328234.7242861, 1000000000.0], :y=>[-0.09228450875867493, -0.11617925443245086, -0.14626089848944995, -0.1841313279388096, -0.2318071411177561, -0.29182696934484126, -0.36738652950721246, -0.46250853074189463, -0.582256345950871, -0.7330025528671421, -0.9227660989300405, -1.1616349557218697, -1.462294600092759, -1.840686144003175, -2.3168205690373704, -2.9157753802653557, -3.6688930474258172, -4.615178753439429, -5.80284257281407, -7.290819402956295, -9.14987930264964, -11.462537294208667, -14.320306239334132, -17.815924636019346, -22.027427326477508, -26.991605075255436, -32.668964852109866, -38.912431427571875, -45.46268859320322, -51.98905805883023, -58.1667090328482, -63.75070047666675, -68.61019464580188, -72.7185773058126, -76.1204315388273, -78.89723671217563, -81.14235140886896, -82.9464202942994, -84.39048682366854, -85.54374285130879, -86.46368178474992, -87.19730972079047, -87.78269474749662, -88.25050754359056, -88.62540804634014, -88.92723418458372, -89.17199564467154, -89.37269494344918, -89.54000404325664, -89.68282473618811, -89.80875871489845, -89.92451039075371, -90.03624291961059, -90.1499058946564, -90.27155190029798, -90.40765864397879, -90.5654737261222, -90.75340031333995, -90.9814441104532, -91.26174517244013, -91.60922236664021, -92.0423637921766, -92.58420323072342, -93.26353060132806, -94.11639284602609, -95.1879491507724, -96.53474739587757, -98.22747984140112, -100.35424109565692, -103.02422808094019, -106.37167928834702, -110.5597952288601, -115.7854712775167, -122.29304987027848, -130.4365923838831, -140.89892821883618, -155.0476347769842, -174.59371474092532, -200.0536747803957, -229.03319471971488, -256.08553293985966, -277.2790736299356, -292.39981264683433, -302.49617160140156, -308.18027637542536, -308.96974400215754, -301.92759613382987, -277.5986549886507, -233.40109832052013, -205.97923724038583, -194.70734417591757]}], @layout={:title=>\"phase of V(out1)/(V(n001) - V(vin))\", :yaxis=>{:title=>\"V(out1)/(V(n001) - V(vin))[deg]\", :linewidth=>1, :mirror=>true}, :xaxis=>{:title=>\"frequency\", :linewidth=>1, :mirror=>true, :type=>\"log\"}}, @config={:linkText=>\"Export to plot.ly\", :showLink=>true}, @embedded=true>"
      ]
     },
     "metadata": {},
     "output_type": "display_data"
    }
   ],
   "source": [
    "ckt.plot 'frequency','V(out1)/(V(n001) - V(vin))'"
   ]
  },
  {
   "cell_type": "code",
   "execution_count": 18,
   "metadata": {},
   "outputs": [
    {
     "name": "stdout",
     "output_type": "stream",
     "text": [
      "Circuit: * Z:\\home\\anagix\\work\\2in1_OpAmp\\amp2_tb.tmp\n",
      "\n",
      "Direct Newton iteration failed to find .op point.  (Use \".option noopiter\" to skip.)\n",
      "Starting Gmin stepping\n",
      "Gmin = 10\n",
      "Gmin = 1.07374\n",
      "vernier = 0.5\n",
      "vernier = 0.25\n",
      "vernier = 0.125\n",
      "vernier = 0.0625\n",
      "vernier = 0.03125\n",
      "Gmin = 1.0412\n",
      "vernier = 0.015625\n",
      "vernier = 0.0078125\n",
      "Gmin = 1.0132\n",
      "vernier = 0.00390625\n",
      "vernier = 0.00195313\n",
      "Gmin = 1.00827\n",
      "vernier = 0.00260417\n",
      "vernier = 0.00130208\n",
      "Gmin = 1.00515\n",
      "vernier = 0.000651042\n",
      "vernier = 0.000868055\n",
      "vernier = 0.000434028\n",
      "Gmin = 1.00434\n",
      "vernier = 0.000578703\n",
      "vernier = 0.000434027\n",
      "Gmin = 1.00339\n",
      "Gmin = 0\n",
      "Gmin stepping failed\n",
      "\n",
      "Starting source stepping with srcstepmethod=0\n",
      "Source Step = 3.0303%\n",
      "Source Step = 33.3333%\n",
      "Source Step = 36.3755%\n",
      "Source Step = 36.4051%\n",
      "Source Step = 36.4347%\n",
      "Source Step = 36.4643%\n",
      "Source Step = 36.4938%\n",
      "vernier = 0.00146484\n",
      "Source Step = 36.5264%\n",
      "Source Step = 36.5708%\n",
      "Source Step = 36.6152%\n",
      "Source Step = 36.6596%\n",
      "Source Step = 36.704%\n",
      "vernier = 0.00219727\n",
      "Source Step = 36.7506%\n",
      "Source Step = 36.8171%\n",
      "Source Step = 36.8837%\n",
      "Source Step = 36.9503%\n",
      "Source Step = 37.0169%\n",
      "Source Step = 37.0835%\n",
      "vernier = 0.0032959\n",
      "Source Step = 37.1834%\n",
      "Source Step = 37.2832%\n",
      "Source Step = 37.3831%\n",
      "Source Step = 37.483%\n",
      "Source Step = 37.5829%\n",
      "vernier = 0.00494385\n",
      "Source Step = 37.7277%\n",
      "Source Step = 37.8775%\n",
      "Source Step = 38.0273%\n",
      "Source Step = 38.1771%\n",
      "Source Step = 38.3269%\n",
      "vernier = 0.00741577\n",
      "Source Step = 38.5367%\n",
      "Source Step = 38.7614%\n",
      "Source Step = 38.9861%\n",
      "Source Step = 39.2108%\n",
      "Source Step = 39.4356%\n",
      "vernier = 0.0111237\n",
      "Source Step = 39.7389%\n",
      "Source Step = 40.076%\n",
      "Source Step = 40.4131%\n",
      "Source Step = 40.7502%\n",
      "Source Step = 41.0872%\n",
      "vernier = 0.0166855\n",
      "Source Step = 41.5255%\n",
      "Source Step = 42.0311%\n",
      "Source Step = 42.5367%\n",
      "Source Step = 43.0423%\n",
      "Source Step = 43.5479%\n",
      "vernier = 0.0250282\n",
      "Source Step = 44.18%\n",
      "Source Step = 44.9384%\n",
      "Source Step = 45.6968%\n",
      "Source Step = 46.4553%\n",
      "Source Step = 47.2137%\n",
      "vernier = 0.0375423\n",
      "Source Step = 48.1238%\n",
      "Source Step = 49.2615%\n",
      "Source Step = 50.3991%\n",
      "Source Step = 51.5367%\n",
      "Source Step = 52.6744%\n",
      "vernier = 0.0563135\n",
      "Source Step = 53.9827%\n",
      "Source Step = 55.6892%\n",
      "Source Step = 57.3956%\n",
      "Source Step = 59.1021%\n",
      "Source Step = 60.8086%\n",
      "vernier = 0.0844703\n",
      "Source Step = 62.6857%\n",
      "Source Step = 65.2454%\n",
      "Source Step = 67.8051%\n",
      "Source Step = 70.3648%\n",
      "Source Step = 72.9245%\n",
      "vernier = 0.126705\n",
      "Source Step = 75.6122%\n",
      "Source Step = 79.4518%\n",
      "Source Step = 83.2913%\n",
      "Source Step = 87.1309%\n",
      "Source Step = 90.9704%\n",
      "Source Step = 94.81%\n",
      "vernier = 0.190058\n",
      "Source Step = 100%\n",
      "Source stepping succeeded in finding the operating point.\n",
      "\n",
      "\n",
      "Date: Wed Sep 22 21:33:18 2021\n",
      "Total elapsed time: 0.092 seconds.\n",
      "\n",
      "tnom = 27\n",
      "temp = 27\n",
      "method = trap\n",
      "totiter = 7455\n",
      "traniter = 0\n",
      "tranpoints = 0\n",
      "accept = 0\n",
      "rejected = 0\n",
      "matrix size = 20\n",
      "fillins = 23\n",
      "solver = Normal\n",
      "Matrix Compiler1:     189 opcodes\n",
      "Matrix Compiler2:     192 opcodes  0.9/[1.0]/1.1\n",
      "\n",
      "\n"
     ]
    }
   ],
   "source": [
    "puts ckt.sim_log"
   ]
  },
  {
   "cell_type": "code",
   "execution_count": 22,
   "metadata": {},
   "outputs": [
    {
     "name": "stdout",
     "output_type": "stream",
     "text": [
      "wine '/home/yuuki/.wine/drive_c/Program Files/LTC/LTspiceXVII/XVIIx86.exe' 'amp2_tb.asc'\n",
      "elements updated from amp2_tb.asc!\n"
     ]
    },
    {
     "data": {
      "text/plain": [
       "{nil=>[{:control=>\";tran 0 40u 0\", :lineno=>61}], \"V3\"=>{:value=>\"2.5\", :type=>\"voltage\", :lineno=>33}, \"X1\"=>{:value=>nil, :type=>\"Opamp3ureiauto\", :lineno=>0}, \"V1_1\"=>{:value=>\"\\\"\\\"\", :type=>\"voltage\", :lineno=>40}, \"V1_2\"=>{:value=>\"AC 1 0\", :type=>\"voltage\", :lineno=>41}, \"V2\"=>{:value=>\"2.5\", :type=>\"voltage\", :lineno=>49}, \"R1\"=>{:value=>\"100k\", :type=>\"res\", :lineno=>54}, \"R2\"=>{:value=>\"1k\", :type=>\"res\", :lineno=>59}, \"include\"=>[{:control=>\".include models/OR1_mos\", :lineno=>60}], \"ac\"=>[{:control=>\".ac oct 10 1 100Meg\", :lineno=>62}]}"
      ]
     },
     "execution_count": 22,
     "metadata": {},
     "output_type": "execute_result"
    }
   ],
   "source": [
    "ckt.open"
   ]
  },
  {
   "cell_type": "code",
   "execution_count": 25,
   "metadata": {},
   "outputs": [
    {
     "name": "stdout",
     "output_type": "stream",
     "text": [
      "Circuit: * Z:\\home\\yuuki\\work\\2in1_OpAmp\\amp2_tb.tmp\n",
      "\n",
      "Direct Newton iteration failed to find .op point.  (Use \".option noopiter\" to skip.)\n",
      "Starting Gmin stepping\n",
      "Gmin = 10\n",
      "Gmin = 1.07374\n",
      "vernier = 0.5\n",
      "vernier = 0.25\n",
      "vernier = 0.125\n",
      "vernier = 0.0625\n",
      "vernier = 0.03125\n",
      "Gmin = 1.0412\n",
      "vernier = 0.015625\n",
      "vernier = 0.0078125\n",
      "Gmin = 1.0132\n",
      "vernier = 0.00390625\n",
      "vernier = 0.00195313\n",
      "Gmin = 1.00827\n",
      "vernier = 0.00260417\n",
      "vernier = 0.00130208\n",
      "Gmin = 1.00515\n",
      "vernier = 0.000651042\n",
      "vernier = 0.000868055\n",
      "vernier = 0.000434028\n",
      "Gmin = 1.00434\n",
      "vernier = 0.000578703\n",
      "vernier = 0.000434027\n",
      "Gmin = 1.00339\n",
      "Gmin = 0\n",
      "Gmin stepping failed\n",
      "\n",
      "Starting source stepping with srcstepmethod=0\n",
      "Source Step = 3.0303%\n",
      "Source Step = 33.3333%\n",
      "Source Step = 36.3755%\n",
      "Source Step = 36.4051%\n",
      "Source Step = 36.4347%\n",
      "Source Step = 36.4643%\n",
      "Source Step = 36.4938%\n",
      "vernier = 0.00146484\n",
      "Source Step = 36.5264%\n",
      "Source Step = 36.5708%\n",
      "Source Step = 36.6152%\n",
      "Source Step = 36.6596%\n",
      "Source Step = 36.704%\n",
      "vernier = 0.00219727\n",
      "Source Step = 36.7506%\n",
      "Source Step = 36.8171%\n",
      "Source Step = 36.8837%\n",
      "Source Step = 36.9503%\n",
      "Source Step = 37.0169%\n",
      "Source Step = 37.0835%\n",
      "vernier = 0.0032959\n",
      "Source Step = 37.1834%\n",
      "Source Step = 37.2832%\n",
      "Source Step = 37.3831%\n",
      "Source Step = 37.483%\n",
      "Source Step = 37.5829%\n",
      "vernier = 0.00494385\n",
      "Source Step = 37.7277%\n",
      "Source Step = 37.8775%\n",
      "Source Step = 38.0273%\n",
      "Source Step = 38.1771%\n",
      "Source Step = 38.3269%\n",
      "vernier = 0.00741577\n",
      "Source Step = 38.5367%\n",
      "Source Step = 38.7614%\n",
      "Source Step = 38.9861%\n",
      "Source Step = 39.2108%\n",
      "Source Step = 39.4356%\n",
      "vernier = 0.0111237\n",
      "Source Step = 39.7389%\n",
      "Source Step = 40.076%\n",
      "Source Step = 40.4131%\n",
      "Source Step = 40.7502%\n",
      "Source Step = 41.0872%\n",
      "vernier = 0.0166855\n",
      "Source Step = 41.5255%\n",
      "Source Step = 42.0311%\n",
      "Source Step = 42.5367%\n",
      "Source Step = 43.0423%\n",
      "Source Step = 43.5479%\n",
      "vernier = 0.0250282\n",
      "Source Step = 44.18%\n",
      "Source Step = 44.9384%\n",
      "Source Step = 45.6968%\n",
      "Source Step = 46.4553%\n",
      "Source Step = 47.2137%\n",
      "vernier = 0.0375423\n",
      "Source Step = 48.1238%\n",
      "Source Step = 49.2615%\n",
      "Source Step = 50.3991%\n",
      "Source Step = 51.5367%\n",
      "Source Step = 52.6744%\n",
      "vernier = 0.0563135\n",
      "Source Step = 53.9827%\n",
      "Source Step = 55.6892%\n",
      "Source Step = 57.3956%\n",
      "Source Step = 59.1021%\n",
      "Source Step = 60.8086%\n",
      "vernier = 0.0844703\n",
      "Source Step = 62.6857%\n",
      "Source Step = 65.2454%\n",
      "Source Step = 67.8051%\n",
      "Source Step = 70.3648%\n",
      "Source Step = 72.9245%\n",
      "vernier = 0.126705\n",
      "Source Step = 75.6122%\n",
      "Source Step = 79.4518%\n",
      "Source Step = 83.2913%\n",
      "Source Step = 87.1309%\n",
      "Source Step = 90.9704%\n",
      "Source Step = 94.81%\n",
      "vernier = 0.190058\n",
      "Source Step = 100%\n",
      "Source stepping succeeded in finding the operating point.\n",
      "\n",
      "\n",
      "Date: Wed Sep 22 16:31:21 2021\n",
      "Total elapsed time: 0.092 seconds.\n",
      "\n",
      "tnom = 27\n",
      "temp = 27\n",
      "method = trap\n",
      "totiter = 7455\n",
      "traniter = 0\n",
      "tranpoints = 0\n",
      "accept = 0\n",
      "rejected = 0\n",
      "matrix size = 20\n",
      "fillins = 23\n",
      "solver = Normal\n",
      "Matrix Compiler1:     189 opcodes\n",
      "Matrix Compiler2:     192 opcodes  0.9/[0.9]/1.0\n",
      "\n"
     ]
    }
   ],
   "source": [
    "puts ckt.sim_log"
   ]
  },
  {
   "cell_type": "code",
   "execution_count": 16,
   "metadata": {},
   "outputs": [
    {
     "data": {
      "text/plain": [
       "#<LTspiceControl:0x00000000034f9a18 @default=[0, 0], @file=\"Opamp3ureiauto.asc\", @elements={nil=>{:value=>nil, :type=>nil, :lineno=>0}, \"M1\"=>{:value=>\"l=1u w=16u ad=3.5e-10 as=3.5e-10 pd=64e-6 ps=64e-6\", :type=>\"OR1LIB\\\\\\\\NMOS\", :lineno=>186}, \"M2\"=>{:value=>\"l=1u w=16u ad=3.5e-10 as=3.5e-10 pd=64e-6 ps=64e-6\", :type=>\"OR1LIB\\\\\\\\NMOS\", :lineno=>189}, \"M3\"=>{:value=>\"l=1u w=16u ad=3.5e-10 as=3.5e-10 pd=64e-6 ps=64e-6\", :type=>\"OR1LIB\\\\\\\\NMOS\", :lineno=>192}, \"M4\"=>{:value=>\"l=1u w=16u ad=3.5e-10 as=3.5e-10 pd=64e-6 ps=64e-6\", :type=>\"OR1LIB\\\\\\\\NMOS\", :lineno=>195}, \"M5\"=>{:value=>\"l=1u w=34u ad=7e-10 as=7e-10 pd=114e-6 ps=114e-6\", :type=>\"OR1LIB\\\\\\\\NMOS\", :lineno=>198}, \"M6\"=>{:value=>\"l=1u w=16u ad=3.5e-10 as=3.5e-10 pd=64e-6 ps=64e-6\", :type=>\"OR1LIB\\\\\\\\NMOS\", :lineno=>201}, \"M10\"=>{:value=>\"l=1u w=100u ad=2.1e-9 as=2.1e-9 pd=314e-6 ps=314e-6\", :type=>\"OR1LIB\\\\\\\\NMOS\", :lineno=>204}, \"M11\"=>{:value=>\"l=1u w=16u ad=3.5e-10 as=3.5e-10 pd=64e-6 ps=64e-6\", :type=>\"OR1LIB\\\\\\\\NMOS\", :lineno=>207}, \"M12\"=>{:value=>\"l=1u w=16u ad=3.5e-10 as=3.5e-10 pd=64e-6 ps=64e-6\", :type=>\"OR1LIB\\\\\\\\NMOS\", :lineno=>210}, \"M13\"=>{:value=>\"l=1u w=50u ad=1.05e-9 as=1.05e-9 pd=164e-6 ps=164e-6\", :type=>\"OR1LIB\\\\\\\\PMOS\", :lineno=>213}, \"M14\"=>{:value=>\"l=1u w=38u ad=5.25e-10 as=5.25e-10 pd=89e-6 ps=89e-6\", :type=>\"OR1LIB\\\\\\\\PMOS\", :lineno=>216}, \"M15\"=>{:value=>\"l=1u w=38u ad=5.25e-10 as=5.25e-10 pd=89e-6 ps=89e-6\", :type=>\"OR1LIB\\\\\\\\PMOS\", :lineno=>219}, \"M16\"=>{:value=>\"l=1u w=19u ad=5.25e-10 as=5.25e-10 pd=89e-6 ps=89e-6\", :type=>\"OR1LIB\\\\\\\\PMOS\", :lineno=>222}, \"M17\"=>{:value=>\"l=1u w=19u ad=5.25e-10 as=5.25e-10 pd=89e-6 ps=89e-6\", :type=>\"OR1LIB\\\\\\\\PMOS\", :lineno=>225}, \"M18\"=>{:value=>\"l=1u w=25u ad=5.25e-10 as=5.25e-10 pd=89e-6 ps=89e-6\", :type=>\"OR1LIB\\\\\\\\PMOS\", :lineno=>228}, \"M20\"=>{:value=>\"l=1u w=50u ad=1.05e-9 as=1.05e-9 pd=164e-6 ps=164e-6\", :type=>\"OR1LIB\\\\\\\\PMOS\", :lineno=>231}, \"M21\"=>{:value=>\"l=1u w=25u ad=5.25e-10 as=5.25e-10 pd=89e-6 ps=89e-6\", :type=>\"OR1LIB\\\\\\\\PMOS\", :lineno=>234}, \"M24\"=>{:value=>\"l=1u w=50u ad=1.05e-9 as=1.05e-9 pd=164e-6 ps=164e-6\", :type=>\"OR1LIB\\\\\\\\PMOS\", :lineno=>237}, \"M7\"=>{:value=>\"l=1u w=34u ad=7e-10 as=7e-10 pd=114e-6 ps=114e-6\", :type=>\"OR1LIB\\\\\\\\NMOS\", :lineno=>240}, \"R1\"=>{:value=>\"40k\", :type=>\"res\", :lineno=>243}, \"C1\"=>{:value=>\"1.0e-12\", :type=>\"cap\", :lineno=>248}, \"inc\"=>[{:control=>\".inc ./models/OR1_mos\", :lineno=>250}]}, @mtime=2021-09-22 16:21:23 +0900>"
      ]
     },
     "execution_count": 16,
     "metadata": {},
     "output_type": "execute_result"
    }
   ],
   "source": [
    "dut"
   ]
  },
  {
   "cell_type": "code",
   "execution_count": 58,
   "metadata": {
    "scrolled": true
   },
   "outputs": [
    {
     "data": {
      "text/plain": [
       "{:x=>[1.0, 1.2589254117941673, 1.5848931924611136, 1.99526231496888, 2.5118864315095806, 3.16227766016838, 3.9810717055349736, 5.011872336272725, 6.309573444801935, 7.9432823472428185, 10.000000000000005, 12.58925411794168, 15.848931924611145, 19.95262314968881, 25.118864315095824, 31.622776601683825, 39.81071705534977, 50.11872336272729, 63.0957344480194, 79.43282347242825, 100.00000000000014, 125.89254117941691, 158.4893192461116, 199.52623149688827, 251.18864315095843, 316.2277660168385, 398.10717055349795, 501.1872336272732, 630.9573444801945, 794.3282347242831, 1000.000000000002, 1258.9254117941698, 1584.8931924611168, 1995.2623149688839, 2511.8864315095857, 3162.2776601683863, 3981.0717055349814, 5011.872336272734, 6309.5734448019475, 7943.2823472428345, 10000.000000000025, 12589.254117941706, 15848.931924611177, 19952.62314968885, 25118.86431509587, 31622.776601683883, 39810.71705534984, 50118.72336272738, 63095.734448019524, 79432.82347242841, 100000.00000000033, 125892.54117941715, 158489.3192461119, 199526.23149688868, 251188.64315095893, 316227.76601683913, 398107.1705534988, 501187.2336272742, 630957.3444801958, 794328.2347242847, 1000000.0000000041, 1258925.4117941724, 1584893.19246112, 1995262.314968888, 2511886.4315095907, 3162277.660168393, 3981071.70553499, 5011872.336272745, 6309573.444801961, 7943282.347242852, 10000000.000000047, 12589254.117941732, 15848931.92461121, 19952623.149688892, 25118864.315095924, 31622776.60168395, 39810717.05534992, 50118723.36272748, 63095734.448019646, 79432823.47242856, 100000000.00000052, 125892541.17941739, 158489319.2461122, 199526231.49688905, 251188643.1509594, 316227766.0168397, 398107170.55349946, 501187233.6272751, 630957344.4801968, 794328234.7242861, 1000000000.0], :y=>[(42314.643466677924-68.15492337569961i), (42314.57926137654-85.80183478891013i), (42314.47750324623-108.01785043692549i), (42314.31622848203-135.98589856150946i), (42314.06062772256-171.19506924853846i), (42313.6555341472-215.51975978989836i), (42313.0135199737-271.3191856981906i), (42311.9960359941-341.562404118204i), (42310.38353279878-429.98520326035543i), (42307.82813917917-541.2866059414273i), (42303.77874544934-681.3742420792488i), (42297.36247645497-857.669247075418i), (42287.19736120586-1079.4821257410626i), (42271.09674339964-1358.4700618931306i), (42245.60408244406-1709.1811133086665i), (42205.26386023123-2149.676890494826i), (42141.48648654119-2702.19340954697i), (42040.80003993906-3393.732210510611i), (41882.20458197532-4256.338522225105i), (41633.28416472909-5326.566401503241i), (41244.776082951656-6643.175087737415i), (40643.66812881126-8241.376646647801i), (39726.05572460712-10141.040094124875i), (38353.677335401684-12325.77846068009i), (36362.747842455174-14711.755862013018i), (33598.54123723607-17113.111416223353i), (29985.84079265175-19227.63907768657i), (25619.7784161476-20681.73463065157i), (20816.064438284946-21155.006645628786i), (16047.253446542707-20531.46458654985i), (11772.635741933198-18962.707073942725i), (8277.778009844442-16786.190647520554i), (5629.116772023719-14371.339554185382i), (3734.870869944649-12004.997982351113i), (2435.641669886192-9857.04334624706i), (1569.8810380321568-7999.7082992329i), (1004.0127730422979-6442.644525964655i), (638.8153021971746-5162.815096699967i), (405.05036910281444-4123.9725704325065i), (256.20055224951295-3287.422369532788i), (161.73741296127596-2617.1573098515178i), (101.91656180381253-2081.832114308595i), (64.08471681702302-1655.1400045488738i), (40.17952566157685-1315.4682266964282i), (25.08244624412923-1045.2866189589047i), (15.551283718171064-830.4876873337693i), (9.53531590014093-659.7734911896646i), (5.7386163249178-524.123557394749i), (3.342710289235015-416.3494786177778i), (1.8308563213385156-330.72966442321393i), (0.8768856297181031-262.7134569445533i), (0.27494910293721375-208.68321111935552i), (-0.10485531442766671-165.76385786457888i), (-0.34449815215088364-131.6709071073151i), (-0.4957022820482919-104.58934725331522i), (-0.5911035392857613-83.07726834422678i), (-0.651293676722041-65.98921501046638i), (-0.6892645054794038-52.41525692879364i), (-0.713211945607453-41.63256687621115i), (-0.7283050254397345-33.066945189254014i), (-0.7378015832175047-26.26225042499872i), (-0.7437514631050308-20.856112706806766i), (-0.7474389816768239-16.560638656345322i), (-0.7496601776452329-13.147081595633075i), (-0.7508947167998004-10.433661434577264i), (-0.7514096334858548-8.275886349124514i), (-0.7513175005288262-6.558861914994211i), (-0.7506021143128458-5.191180074830354i), (-0.7491186839276791-4.100066298332662i), (-0.746572601295634-3.2275339414089403i), (-0.7424837398070853-2.5273549057231097i), (-0.7361616758905736-1.9627070627337226i), (-0.7267775995363619-1.5043850803434882i), (-0.7137592700178327-1.1293588030906434i), (-0.6977957049300983-0.8188470476657322i), (-0.6811144798959505-0.5535478790124622i), (-0.6585508644749609-0.3064210093074453i), (-0.5942434376345241-0.056238314111896615i), (-0.4350186824431357+0.15879552228850066i), (-0.2092650605700311+0.2410137831162829i), (-0.046373628720782475+0.18718444664716316i), (0.013721181168668092+0.10742185713530125i), (0.0228150176718462+0.055353895709326605i), (0.017846757812038316+0.02801792944198879i), (0.011354492655056357+0.014439211575945366i), (0.00623127122291292+0.007703293023168101i), (0.0026797103145492084+0.004300516283213244i), (0.00033780033039651004+0.0025321491448027796i), (-0.0011723618389138523+0.0015786497759320253i), (-0.0021358710690470976+0.0010407759808022336i), (-0.0027473878895544193+0.0007211401305005363i)], :name=>\"V(out1)/(V(n001) - V(vin))\"}"
      ]
     },
     "execution_count": 58,
     "metadata": {},
     "output_type": "execute_result"
    }
   ],
   "source": [
    "y=r[1]"
   ]
  },
  {
   "cell_type": "code",
   "execution_count": 33,
   "metadata": {},
   "outputs": [
    {
     "name": "stdout",
     "output_type": "stream",
     "text": [
      "elements updated from amp2_tb.asc!\n"
     ]
    },
    {
     "data": {
      "text/plain": [
       "{nil=>[{:control=>\";tran 0 40u 0\", :lineno=>59}], \"V3\"=>{:value=>\"2.5\", :type=>\"voltage\", :lineno=>31}, \"X1\"=>{:value=>nil, :type=>\"Opamp3ureiauto\", :lineno=>0}, \"V1_1\"=>{:value=>\"\\\"\\\"\", :type=>\"voltage\", :lineno=>38}, \"V1_2\"=>{:value=>\"AC 1 0\", :type=>\"voltage\", :lineno=>39}, \"V2\"=>{:value=>\"2.5\", :type=>\"voltage\", :lineno=>47}, \"R1\"=>{:value=>\"100k\", :type=>\"res\", :lineno=>52}, \"R2\"=>{:value=>\"1k\", :type=>\"res\", :lineno=>57}, \"include\"=>[{:control=>\".include models/OR1_mos\", :lineno=>58}], \"ac\"=>[{:control=>\".ac oct 10 1 100Meg\", :lineno=>60}]}"
      ]
     },
     "execution_count": 33,
     "metadata": {},
     "output_type": "execute_result"
    }
   ],
   "source": [
    "ckt.read"
   ]
  },
  {
   "cell_type": "code",
   "execution_count": 35,
   "metadata": {
    "scrolled": false
   },
   "outputs": [
    {
     "data": {
      "text/html": [
       "\n",
       "  <script>\n",
       "  requirejs.config({paths: { 'plotly': ['https://cdn.plot.ly/plotly-latest.min'] }})\n",
       "  </script>\n",
       "\n",
       "\n",
       "<div id=\"ea8f993f-5d8a-4882-908b-7a34ccf4c0ff\" style=\"height: 100%; width: 100%;\"></div>\n",
       "\n",
       "<script>\n",
       " require(['plotly'], function(Plotly) { \n",
       "Plotly.newPlot(\n",
       "  'ea8f993f-5d8a-4882-908b-7a34ccf4c0ff',\n",
       "  [{\"x\":[],\"y\":[],\"name\":\"V(out1)\"}],\n",
       "  {\"title\":\"V(out1) vs. freqency\",\"yaxis\":{\"title\":\"V(out1)\",\"linewidth\":1,\"mirror\":true},\"xaxis\":{\"title\":\"freqency\",\"linewidth\":1,\"mirror\":true}},\n",
       "  {\"linkText\":\"Export to plot.ly\",\"showLink\":true}\n",
       ")\n",
       "\n",
       "window.addEventListener('resize', function() {\n",
       "  Plotly.Plots.resize(document.getElementById('ea8f993f-5d8a-4882-908b-7a34ccf4c0ff'))\n",
       "})\n",
       " }) \n",
       "</script>"
      ],
      "text/plain": [
       "#<Plotly::Offline::HTML:0x0000000004475ac8 @id=\"ea8f993f-5d8a-4882-908b-7a34ccf4c0ff\", @data=[{:x=>[], :y=>[], :name=>\"V(out1)\"}], @layout={:title=>\"V(out1) vs. freqency\", :yaxis=>{:title=>\"V(out1)\", :linewidth=>1, :mirror=>true}, :xaxis=>{:title=>\"freqency\", :linewidth=>1, :mirror=>true}}, @config={:linkText=>\"Export to plot.ly\", :showLink=>true}, @embedded=true>"
      ]
     },
     "metadata": {},
     "output_type": "display_data"
    }
   ],
   "source": [
    "ckt.plot 'freqency', 'V(out1)'"
   ]
  },
  {
   "cell_type": "code",
   "execution_count": 38,
   "metadata": {},
   "outputs": [
    {
     "name": "stdout",
     "output_type": "stream",
     "text": [
      "wine '/home/yuuki/.wine/drive_c/Program Files/LTC/LTspiceXVII/XVIIx86.exe' -netlist 'amp2_tb.tmp'\n",
      "* Z:\\home\\yuuki\\work\\2in1_OpAmp\\amp2_tb.tmp\n",
      "V3 N002 0 2.5\n",
      "XX1 N001 0 OUT1 N002 NC_01 N004 opamp3ureiauto\n",
      "V1 N003 0 AC 1 0\n",
      "V2 0 N004 2.5\n",
      "R1 OUT1 N001 100k\n",
      "R2 N001 N003 1k\n",
      "\n",
      "* block symbol definitions\n",
      ".subckt opamp3ureiauto Vinm Vinp Vout VDD Vbias gnd\n",
      "M1 N010 N010 gnd gnd NCH l=1u w=16u ad=3.5e-10 as=3.5e-10 pd=64e-6 ps=64e-6\n",
      "M2 N008 N008 N010 gnd NCH l=1u w=16u ad=3.5e-10 as=3.5e-10 pd=64e-6 ps=64e-6\n",
      "M3 N011 N010 gnd gnd NCH l=1u w=16u ad=3.5e-10 as=3.5e-10 pd=64e-6 ps=64e-6\n",
      "M4 N007 N008 N011 gnd NCH l=1u w=16u ad=3.5e-10 as=3.5e-10 pd=64e-6 ps=64e-6\n",
      "M5 N001 Vbias gnd gnd NCH l=1u w=34u ad=7e-10 as=7e-10 pd=114e-6 ps=114e-6\n",
      "M6 N006 Vbias gnd gnd NCH l=1u w=16u ad=3.5e-10 as=3.5e-10 pd=64e-6 ps=64e-6\n",
      "M10 Vout N009 gnd gnd NCH l=1u w=100u ad=2.1e-9 as=2.1e-9 pd=314e-6 ps=314e-6\n",
      "M11 N009 N010 gnd gnd NCH l=1u w=16u ad=3.5e-10 as=3.5e-10 pd=64e-6 ps=64e-6\n",
      "M12 VDD N007 N009 gnd NCH l=1u w=16u ad=3.5e-10 as=3.5e-10 pd=64e-6 ps=64e-6\n",
      "M13 N002 N001 VDD VDD PCH l=1u w=50u ad=1.05e-9 as=1.05e-9 pd=164e-6 ps=164e-6\n",
      "M14 N003 N003 N002 N002 PCH l=1u w=38u ad=5.25e-10 as=5.25e-10 pd=89e-6 ps=89e-6\n",
      "M15 N006 N006 N003 N003 PCH l=1u w=38u ad=5.25e-10 as=5.25e-10 pd=89e-6 ps=89e-6\n",
      "M16 N007 N006 N005 N005 PCH l=1u w=19u ad=5.25e-10 as=5.25e-10 pd=89e-6 ps=89e-6\n",
      "M17 N008 N006 N004 N004 PCH l=1u w=19u ad=5.25e-10 as=5.25e-10 pd=89e-6 ps=89e-6\n",
      "M18 N004 Vinm N002 N002 PCH l=1u w=25u ad=5.25e-10 as=5.25e-10 pd=89e-6 ps=89e-6\n",
      "M20 Vout N001 VDD VDD PCH l=1u w=50u ad=1.05e-9 as=1.05e-9 pd=164e-6 ps=164e-6\n",
      "M21 N005 Vinp N002 N002 PCH l=1u w=25u ad=5.25e-10 as=5.25e-10 pd=89e-6 ps=89e-6\n",
      "M24 N001 N001 VDD VDD PCH l=1u w=50u ad=1.05e-9 as=1.05e-9 pd=164e-6 ps=164e-6\n",
      "M7 Vbias Vbias gnd gnd NCH l=1u w=34u ad=7e-10 as=7e-10 pd=114e-6 ps=114e-6\n",
      "R1 VDD Vbias 40k\n",
      "C1 Vout N007 3p\n",
      ".inc ./models/OR1_mos\n",
      ".ends opamp3ureiauto\n",
      "\n",
      ".model NMOS NMOS\n",
      ".model PMOS PMOS\n",
      ".lib C:\\users\\1159\\My Documents\\LTspiceXVII\\lib\\cmp\\standard.mos\n",
      ".include models/OR1_mos\n",
      ";tran 0 40u 0\n",
      ".backanno\n",
      ".end\n",
      "analysis directives in netlist: {:ac=>\"oct 10 1 100Meg\"}\n",
      "CWD: /home/yuuki/work/2in1_OpAmp\n",
      "wine '/home/yuuki/.wine/drive_c/Program Files/LTC/LTspiceXVII/XVIIx86.exe' -b -Run 'amp2_tb.net'\n",
      "execute sim_log() to show simulation log\n"
     ]
    }
   ],
   "source": [
    "ckt.simulate"
   ]
  },
  {
   "cell_type": "code",
   "execution_count": 39,
   "metadata": {},
   "outputs": [
    {
     "name": "stdout",
     "output_type": "stream",
     "text": [
      "cwd: ., circuit: amp2_tb.asc\n"
     ]
    },
    {
     "data": {
      "text/plain": [
       "[\"frequency\", \"V(n002)\", \"V(n004)\", \"V(nc_01)\", \"V(out1)\", \"V(n001)\", \"V(n003)\", \"I(R2)\", \"I(R1)\", \"I(V2)\", \"I(V1)\", \"I(V3)\", \"Ix(x1:VINM)\", \"Ix(x1:VINP)\", \"Ix(x1:VOUT)\", \"Ix(x1:VDD)\", \"Ix(x1:VBIAS)\", \"Ix(x1:GND)\"]"
      ]
     },
     "execution_count": 39,
     "metadata": {},
     "output_type": "execute_result"
    }
   ],
   "source": [
    "ckt.info"
   ]
  },
  {
   "cell_type": "code",
   "execution_count": 40,
   "metadata": {
    "scrolled": true
   },
   "outputs": [
    {
     "data": {
      "text/html": [
       "\n",
       "  <script>\n",
       "  requirejs.config({paths: { 'plotly': ['https://cdn.plot.ly/plotly-latest.min'] }})\n",
       "  </script>\n",
       "\n",
       "\n",
       "<div id=\"521349eb-c073-4a89-b7a8-8305737689aa\" style=\"height: 100%; width: 100%;\"></div>\n",
       "\n",
       "<script>\n",
       " require(['plotly'], function(Plotly) { \n",
       "Plotly.newPlot(\n",
       "  '521349eb-c073-4a89-b7a8-8305737689aa',\n",
       "  [{\"x\":[1.0,1.0717734625362931,1.1486983549970349,1.231144413344916,1.319507910772894,1.4142135623730947,1.5157165665103978,1.6245047927124707,1.7411011265922478,1.8660659830736144,1.9999999999999996,2.143546925072586,2.2973967099940693,2.4622888266898317,2.6390158215457875,2.828427124746189,3.0314331330207946,3.2490095854249406,3.4822022531844947,3.7321319661472274,3.9999999999999973,4.28709385014517,4.594793419988137,4.924577653379662,5.278031643091573,5.656854249492376,6.0628662660415875,6.4980191708498785,6.964404506368987,7.464263932294452,7.999999999999992,8.574187700290336,9.18958683997627,9.84915530675932,10.556063286183143,11.313708498984749,12.125732532083171,12.996038341699753,13.92880901273797,14.9285278645889,15.99999999999998,17.14837540058067,18.379173679952537,19.698310613518636,21.112126572366282,22.627416997969494,24.25146506416634,25.992076683399503,27.857618025475936,29.857055729177798,31.999999999999957,34.29675080116134,36.75834735990507,39.39662122703727,42.224253144732565,45.25483399593899,48.50293012833268,51.984153366799006,55.71523605095187,59.714111458355596,63.999999999999915,68.59350160232268,73.51669471981015,78.79324245407454,84.44850628946513,90.50966799187798,97.00586025666536,103.96830673359801,111.43047210190375,119.42822291671119,127.99999999999983,137.18700320464535,147.0333894396203,157.5864849081491,168.89701257893026,181.01933598375595,194.01172051333072,207.93661346719603,222.8609442038075,238.85644583342238,255.99999999999966,274.3740064092907,294.0667788792406,315.1729698162982,337.7940251578605,362.0386719675119,388.02344102666143,415.87322693439205,445.721888407615,477.71289166684477,511.9999999999993,548.7480128185814,588.1335577584812,630.3459396325964,675.588050315721,724.0773439350238,776.0468820533229,831.7464538687841,891.44377681523,955.4257833336895,1023.9999999999986,1097.4960256371628,1176.2671155169623,1260.6918792651927,1351.176100631442,1448.1546878700476,1552.0937641066457,1663.4929077375682,1782.88755363046,1910.851566667379,2047.9999999999973,2194.9920512743256,2352.5342310339247,2521.3837585303854,2702.352201262884,2896.309375740095,3104.1875282132914,3326.9858154751364,3565.77510726092,3821.703133334758,4095.9999999999945,4389.984102548651,4705.068462067849,5042.767517060771,5404.704402525768,5792.61875148019,6208.375056426583,6653.971630950273,7131.55021452184,7643.406266669516,8191.999999999989,8779.968205097302,9410.136924135699,10085.535034121542,10809.408805051537,11585.23750296038,12416.750112853166,13307.943261900546,14263.10042904368,15286.812533339033,16383.999999999978,17559.936410194605,18820.273848271398,20171.070068243083,21618.817610103073,23170.47500592076,24833.50022570633,26615.88652380109,28526.20085808736,30573.625066678065,32767.999999999956,35119.87282038921,37640.547696542795,40342.14013648617,43237.635220206146,46340.95001184152,49667.00045141266,53231.77304760218,57052.40171617472,61147.25013335613,65535.99999999991,70239.74564077842,75281.09539308559,80684.28027297233,86475.27044041229,92681.90002368305,99334.00090282533,106463.54609520436,114104.80343234944,122294.50026671226,131071.99999999983,140479.49128155684,150562.19078617118,161368.56054594467,172950.54088082458,185363.8000473661,198668.00180565065,212927.09219040873,228209.60686469887,244589.00053342452,262143.99999999965,280958.9825631137,301124.38157234236,322737.12109188933,345901.08176164917,370727.6000947322,397336.0036113013,425854.18438081746,456419.21372939774,489178.00106684904,524287.9999999993,561917.9651262274,602248.7631446847,645474.2421837787,691802.1635232983,741455.2001894644,794672.0072226026,851708.3687616349,912838.4274587955,978356.0021336981,1048575.9999999986,1123835.9302524547,1204497.5262893694,1290948.4843675573,1383604.3270465967,1482910.4003789288,1589344.0144452052,1703416.7375232698,1825676.854917591,1956712.0042673962,2097151.9999999972,2247671.8605049094,2408995.052578739,2581896.9687351147,2767208.6540931934,2965820.8007578575,3178688.0288904104,3406833.4750465397,3651353.709835182,3913424.0085347923,4194303.9999999944,4495343.721009819,4817990.105157478,5163793.937470229,5534417.308186387,5931641.601515715,6357376.057780821,6813666.950093079,7302707.419670364,7826848.017069585,8388607.999999989,8990687.442019638,9635980.210314956,10327587.874940459,11068834.616372773,11863283.20303143,12714752.115561642,13627333.900186159,14605414.839340728,15653696.03413917,16777215.999999978,17981374.884039275,19271960.42062991,20655175.749880917,22137669.232745547,23726566.40606286,25429504.231123284,27254667.800372317,29210829.678681456,31307392.06827834,33554431.999999955,35962749.76807855,38543920.84125982,41310351.499761835,44275338.46549109,47453132.81212572,50859008.46224657,54509335.600744635,58421659.35736291,62614784.13655668,67108863.99999991,71925499.5361571,77087841.68251964,82620702.99952367,88550676.93098219,94906265.62425144,100000000.0],\"y\":[39.979292576754816,39.97929257667005,39.97929257657268,39.97929257646084,39.97929257633237,39.97929257618479,39.97929257601526,39.97929257582053,39.97929257559684,39.97929257533989,39.979292575044724,39.97929257470568,39.97929257431621,39.97929257386883,39.97929257335493,39.979292572764614,39.97929257208651,39.979292571307575,39.97929257041282,39.97929256938501,39.97929256820437,39.97929256684818,39.979292565290315,39.97929256350079,39.97929256144518,39.9792925590839,39.979292556371504,39.979292553255775,39.97929254967674,39.97929254556552,39.97929254084296,39.97929253541816,39.97929252918671,39.97929252202864,39.97929251380619,39.97929250436108,39.97929249351148,39.979292481048574,39.979292466732446,39.97929245028754,39.979292431397305,39.97929240969812,39.9792923847723,39.97929235614005,39.97929232325024,39.97929228546976,39.979292242071395,39.97929219221976,39.97929213495527,39.97929206917565,39.9792919936147,39.97929190681798,39.97929180711471,39.97929169258575,39.97929156102651,39.97929140990464,39.9792912363112,39.97929103690471,39.97929080784682,39.97929054472841,39.979290242484744,39.979289895297974,39.97928949648513,39.979289038369515,39.979288512132925,39.979287907645904,39.979287213272755,39.97928641564759,39.97928549941707,39.97928444694481,39.97928323797198,39.979281849227284,39.979280253979084,39.97927842152083,39.97927631658,39.979273898639185,39.979271121156216,39.97926793066829,39.97926426576295,39.979260055896034,39.97925522003386,39.97924966509359,39.97924328415161,39.979235954385615,39.97922753471075,39.97921786306423,39.979206753286356,39.97919399153786,39.97917933218464,39.979162493070774,39.97914315008896,39.979120930943886,39.97909540798877,39.97906608999734,39.97903241271305,39.97899372799429,39.97894929134672,39.97889824760388,39.978839614480826,39.978772263685734,39.97869489922719,39.9786060325017,39.97850395368442,39.97838669887588,39.978252012377006,39.978097303372046,39.977919596193765,39.97771547322393,39.97748100934379,39.977211696691015,39.976902358298794,39.97654704898634,39.97613894163491,39.97567019671516,39.975131812627104,39.97451345406736,39.97380325524597,39.972987594330945,39.97205083499738,39.97097503039405,39.96973958420809,39.96832086280216,39.96669175161369,39.964821148139485,39.96267338287875,39.96020755857531,39.957376796991554,39.95412738127334,39.95039778074788,39.94611754376632,39.94120604300679,39.93557105655874,39.92910716720859,39.92169396176584,39.91319401217772,39.90345062079739,39.89228531378095,39.87949506954897,39.86484927400359,39.84808640127814,39.82891042884882,39.8069870095789,39.78193944148343,39.75334449950377,39.720728223101645,39.683561789563036,39.641257645690914,39.59316611956018,39.538572787725855,39.476696928865415,39.406691447680714,39.32764469626414,39.23858464507781,39.13848585119922,39.02627962529542,38.90086769892197,38.76113953088908,38.60599316207499,38.43435923792705,38.2452274849398,38.037674583234555,37.810892065811494,37.56421264710515,37.29713328867052,37.009333385246215,36.70068671410661,36.37126621845005,36.021341244819226,35.651367454809886,35.26197020193073,34.85392263075482,34.42812006333142,33.98555236261997,33.52727591085153,33.05438664405676,32.567995289817546,32.069205615189404,31.559096152116947,31.038705563691856,30.509021567876395,29.970973154608043,29.425425716144872,28.873178651020215,28.314964987518678,27.751452590796966,27.183246557206076,26.610892450469585,26.034880089813615,25.455647654773415,24.87358592193228,24.289042493471563,23.702325915395136,23.113709614642403,22.523435609478707,21.931717967250997,21.338745998621423,20.744687188542343,20.149689872260335,19.553885670197563,18.95739169922248,18.36031258006099,17.76274226179902,17.164765684894054,16.566460304089713,15.967897492299015,15.3691438460329,14.770262412406865,14.17131385724036,13.572357593327693,12.97345288764692,12.374659966111034,11.776041134471257,11.177661934163474,10.579592352247413,9.981908105120233,9.384692016382377,8.788035510083269,8.192040241563808,7.5968198892350545,7.002502131889465,6.409230837560544,5.817168491599079,5.226498893665935,4.637430156021513,4.050198039282134,3.4650696674645904,2.882347672828697,2.3023748345245703,1.7255392959337545,1.1522804774564692,0.5830958491265615,0.01854879678697141,-0.5407220866945688,-1.0939918215161901,-1.6404353397798186,-2.1791104324292117,-2.708936315062291,-3.2286666535568265,-3.7368559703415096,-4.231818900484387,-4.7115832186976725,-5.173840579083939,-5.615904387322043,-6.034693074462721,-6.426769576195027,-6.788482380053398,-7.11626421385386,-7.407139012439971,-7.659448400733577,-7.873721775900625,-8.053490737510097,-8.20574833071516,-8.340774155775767,-8.47125515591072,-8.610970117004564,-8.773575290406061,-8.972025642147452,-9.218858260450585,-9.527115951746133,-9.911315259759693,-10.387696481151663,-10.97310468183383,-11.682322784515865,-12.524502199871728,-13.50014294269176,-14.600159117652296,-15.50202244119792],\"name\":\"V(out1)\"}],\n",
       "  {\"title\":\"20log10(V(out1))\",\"yaxis\":{\"title\":\"V(out1)[dB]\",\"linewidth\":1,\"mirror\":true},\"xaxis\":{\"title\":\"frequency\",\"linewidth\":1,\"mirror\":true,\"type\":\"log\"}},\n",
       "  {\"linkText\":\"Export to plot.ly\",\"showLink\":true}\n",
       ")\n",
       "\n",
       "window.addEventListener('resize', function() {\n",
       "  Plotly.Plots.resize(document.getElementById('521349eb-c073-4a89-b7a8-8305737689aa'))\n",
       "})\n",
       " }) \n",
       "</script>"
      ],
      "text/plain": [
       "#<Plotly::Offline::HTML:0x00000000042d3148 @id=\"521349eb-c073-4a89-b7a8-8305737689aa\", @data=[{:x=>[1.0, 1.0717734625362931, 1.1486983549970349, 1.231144413344916, 1.319507910772894, 1.4142135623730947, 1.5157165665103978, 1.6245047927124707, 1.7411011265922478, 1.8660659830736144, 1.9999999999999996, 2.143546925072586, 2.2973967099940693, 2.4622888266898317, 2.6390158215457875, 2.828427124746189, 3.0314331330207946, 3.2490095854249406, 3.4822022531844947, 3.7321319661472274, 3.9999999999999973, 4.28709385014517, 4.594793419988137, 4.924577653379662, 5.278031643091573, 5.656854249492376, 6.0628662660415875, 6.4980191708498785, 6.964404506368987, 7.464263932294452, 7.999999999999992, 8.574187700290336, 9.18958683997627, 9.84915530675932, 10.556063286183143, 11.313708498984749, 12.125732532083171, 12.996038341699753, 13.92880901273797, 14.9285278645889, 15.99999999999998, 17.14837540058067, 18.379173679952537, 19.698310613518636, 21.112126572366282, 22.627416997969494, 24.25146506416634, 25.992076683399503, 27.857618025475936, 29.857055729177798, 31.999999999999957, 34.29675080116134, 36.75834735990507, 39.39662122703727, 42.224253144732565, 45.25483399593899, 48.50293012833268, 51.984153366799006, 55.71523605095187, 59.714111458355596, 63.999999999999915, 68.59350160232268, 73.51669471981015, 78.79324245407454, 84.44850628946513, 90.50966799187798, 97.00586025666536, 103.96830673359801, 111.43047210190375, 119.42822291671119, 127.99999999999983, 137.18700320464535, 147.0333894396203, 157.5864849081491, 168.89701257893026, 181.01933598375595, 194.01172051333072, 207.93661346719603, 222.8609442038075, 238.85644583342238, 255.99999999999966, 274.3740064092907, 294.0667788792406, 315.1729698162982, 337.7940251578605, 362.0386719675119, 388.02344102666143, 415.87322693439205, 445.721888407615, 477.71289166684477, 511.9999999999993, 548.7480128185814, 588.1335577584812, 630.3459396325964, 675.588050315721, 724.0773439350238, 776.0468820533229, 831.7464538687841, 891.44377681523, 955.4257833336895, 1023.9999999999986, 1097.4960256371628, 1176.2671155169623, 1260.6918792651927, 1351.176100631442, 1448.1546878700476, 1552.0937641066457, 1663.4929077375682, 1782.88755363046, 1910.851566667379, 2047.9999999999973, 2194.9920512743256, 2352.5342310339247, 2521.3837585303854, 2702.352201262884, 2896.309375740095, 3104.1875282132914, 3326.9858154751364, 3565.77510726092, 3821.703133334758, 4095.9999999999945, 4389.984102548651, 4705.068462067849, 5042.767517060771, 5404.704402525768, 5792.61875148019, 6208.375056426583, 6653.971630950273, 7131.55021452184, 7643.406266669516, 8191.999999999989, 8779.968205097302, 9410.136924135699, 10085.535034121542, 10809.408805051537, 11585.23750296038, 12416.750112853166, 13307.943261900546, 14263.10042904368, 15286.812533339033, 16383.999999999978, 17559.936410194605, 18820.273848271398, 20171.070068243083, 21618.817610103073, 23170.47500592076, 24833.50022570633, 26615.88652380109, 28526.20085808736, 30573.625066678065, 32767.999999999956, 35119.87282038921, 37640.547696542795, 40342.14013648617, 43237.635220206146, 46340.95001184152, 49667.00045141266, 53231.77304760218, 57052.40171617472, 61147.25013335613, 65535.99999999991, 70239.74564077842, 75281.09539308559, 80684.28027297233, 86475.27044041229, 92681.90002368305, 99334.00090282533, 106463.54609520436, 114104.80343234944, 122294.50026671226, 131071.99999999983, 140479.49128155684, 150562.19078617118, 161368.56054594467, 172950.54088082458, 185363.8000473661, 198668.00180565065, 212927.09219040873, 228209.60686469887, 244589.00053342452, 262143.99999999965, 280958.9825631137, 301124.38157234236, 322737.12109188933, 345901.08176164917, 370727.6000947322, 397336.0036113013, 425854.18438081746, 456419.21372939774, 489178.00106684904, 524287.9999999993, 561917.9651262274, 602248.7631446847, 645474.2421837787, 691802.1635232983, 741455.2001894644, 794672.0072226026, 851708.3687616349, 912838.4274587955, 978356.0021336981, 1048575.9999999986, 1123835.9302524547, 1204497.5262893694, 1290948.4843675573, 1383604.3270465967, 1482910.4003789288, 1589344.0144452052, 1703416.7375232698, 1825676.854917591, 1956712.0042673962, 2097151.9999999972, 2247671.8605049094, 2408995.052578739, 2581896.9687351147, 2767208.6540931934, 2965820.8007578575, 3178688.0288904104, 3406833.4750465397, 3651353.709835182, 3913424.0085347923, 4194303.9999999944, 4495343.721009819, 4817990.105157478, 5163793.937470229, 5534417.308186387, 5931641.601515715, 6357376.057780821, 6813666.950093079, 7302707.419670364, 7826848.017069585, 8388607.999999989, 8990687.442019638, 9635980.210314956, 10327587.874940459, 11068834.616372773, 11863283.20303143, 12714752.115561642, 13627333.900186159, 14605414.839340728, 15653696.03413917, 16777215.999999978, 17981374.884039275, 19271960.42062991, 20655175.749880917, 22137669.232745547, 23726566.40606286, 25429504.231123284, 27254667.800372317, 29210829.678681456, 31307392.06827834, 33554431.999999955, 35962749.76807855, 38543920.84125982, 41310351.499761835, 44275338.46549109, 47453132.81212572, 50859008.46224657, 54509335.600744635, 58421659.35736291, 62614784.13655668, 67108863.99999991, 71925499.5361571, 77087841.68251964, 82620702.99952367, 88550676.93098219, 94906265.62425144, 100000000.0], :y=>[39.979292576754816, 39.97929257667005, 39.97929257657268, 39.97929257646084, 39.97929257633237, 39.97929257618479, 39.97929257601526, 39.97929257582053, 39.97929257559684, 39.97929257533989, 39.979292575044724, 39.97929257470568, 39.97929257431621, 39.97929257386883, 39.97929257335493, 39.979292572764614, 39.97929257208651, 39.979292571307575, 39.97929257041282, 39.97929256938501, 39.97929256820437, 39.97929256684818, 39.979292565290315, 39.97929256350079, 39.97929256144518, 39.9792925590839, 39.979292556371504, 39.979292553255775, 39.97929254967674, 39.97929254556552, 39.97929254084296, 39.97929253541816, 39.97929252918671, 39.97929252202864, 39.97929251380619, 39.97929250436108, 39.97929249351148, 39.979292481048574, 39.979292466732446, 39.97929245028754, 39.979292431397305, 39.97929240969812, 39.9792923847723, 39.97929235614005, 39.97929232325024, 39.97929228546976, 39.979292242071395, 39.97929219221976, 39.97929213495527, 39.97929206917565, 39.9792919936147, 39.97929190681798, 39.97929180711471, 39.97929169258575, 39.97929156102651, 39.97929140990464, 39.9792912363112, 39.97929103690471, 39.97929080784682, 39.97929054472841, 39.979290242484744, 39.979289895297974, 39.97928949648513, 39.979289038369515, 39.979288512132925, 39.979287907645904, 39.979287213272755, 39.97928641564759, 39.97928549941707, 39.97928444694481, 39.97928323797198, 39.979281849227284, 39.979280253979084, 39.97927842152083, 39.97927631658, 39.979273898639185, 39.979271121156216, 39.97926793066829, 39.97926426576295, 39.979260055896034, 39.97925522003386, 39.97924966509359, 39.97924328415161, 39.979235954385615, 39.97922753471075, 39.97921786306423, 39.979206753286356, 39.97919399153786, 39.97917933218464, 39.979162493070774, 39.97914315008896, 39.979120930943886, 39.97909540798877, 39.97906608999734, 39.97903241271305, 39.97899372799429, 39.97894929134672, 39.97889824760388, 39.978839614480826, 39.978772263685734, 39.97869489922719, 39.9786060325017, 39.97850395368442, 39.97838669887588, 39.978252012377006, 39.978097303372046, 39.977919596193765, 39.97771547322393, 39.97748100934379, 39.977211696691015, 39.976902358298794, 39.97654704898634, 39.97613894163491, 39.97567019671516, 39.975131812627104, 39.97451345406736, 39.97380325524597, 39.972987594330945, 39.97205083499738, 39.97097503039405, 39.96973958420809, 39.96832086280216, 39.96669175161369, 39.964821148139485, 39.96267338287875, 39.96020755857531, 39.957376796991554, 39.95412738127334, 39.95039778074788, 39.94611754376632, 39.94120604300679, 39.93557105655874, 39.92910716720859, 39.92169396176584, 39.91319401217772, 39.90345062079739, 39.89228531378095, 39.87949506954897, 39.86484927400359, 39.84808640127814, 39.82891042884882, 39.8069870095789, 39.78193944148343, 39.75334449950377, 39.720728223101645, 39.683561789563036, 39.641257645690914, 39.59316611956018, 39.538572787725855, 39.476696928865415, 39.406691447680714, 39.32764469626414, 39.23858464507781, 39.13848585119922, 39.02627962529542, 38.90086769892197, 38.76113953088908, 38.60599316207499, 38.43435923792705, 38.2452274849398, 38.037674583234555, 37.810892065811494, 37.56421264710515, 37.29713328867052, 37.009333385246215, 36.70068671410661, 36.37126621845005, 36.021341244819226, 35.651367454809886, 35.26197020193073, 34.85392263075482, 34.42812006333142, 33.98555236261997, 33.52727591085153, 33.05438664405676, 32.567995289817546, 32.069205615189404, 31.559096152116947, 31.038705563691856, 30.509021567876395, 29.970973154608043, 29.425425716144872, 28.873178651020215, 28.314964987518678, 27.751452590796966, 27.183246557206076, 26.610892450469585, 26.034880089813615, 25.455647654773415, 24.87358592193228, 24.289042493471563, 23.702325915395136, 23.113709614642403, 22.523435609478707, 21.931717967250997, 21.338745998621423, 20.744687188542343, 20.149689872260335, 19.553885670197563, 18.95739169922248, 18.36031258006099, 17.76274226179902, 17.164765684894054, 16.566460304089713, 15.967897492299015, 15.3691438460329, 14.770262412406865, 14.17131385724036, 13.572357593327693, 12.97345288764692, 12.374659966111034, 11.776041134471257, 11.177661934163474, 10.579592352247413, 9.981908105120233, 9.384692016382377, 8.788035510083269, 8.192040241563808, 7.5968198892350545, 7.002502131889465, 6.409230837560544, 5.817168491599079, 5.226498893665935, 4.637430156021513, 4.050198039282134, 3.4650696674645904, 2.882347672828697, 2.3023748345245703, 1.7255392959337545, 1.1522804774564692, 0.5830958491265615, 0.01854879678697141, -0.5407220866945688, -1.0939918215161901, -1.6404353397798186, -2.1791104324292117, -2.708936315062291, -3.2286666535568265, -3.7368559703415096, -4.231818900484387, -4.7115832186976725, -5.173840579083939, -5.615904387322043, -6.034693074462721, -6.426769576195027, -6.788482380053398, -7.11626421385386, -7.407139012439971, -7.659448400733577, -7.873721775900625, -8.053490737510097, -8.20574833071516, -8.340774155775767, -8.47125515591072, -8.610970117004564, -8.773575290406061, -8.972025642147452, -9.218858260450585, -9.527115951746133, -9.911315259759693, -10.387696481151663, -10.97310468183383, -11.682322784515865, -12.524502199871728, -13.50014294269176, -14.600159117652296, -15.50202244119792], :name=>\"V(out1)\"}], @layout={:title=>\"20log10(V(out1))\", :yaxis=>{:title=>\"V(out1)[dB]\", :linewidth=>1, :mirror=>true}, :xaxis=>{:title=>\"frequency\", :linewidth=>1, :mirror=>true, :type=>\"log\"}}, @config={:linkText=>\"Export to plot.ly\", :showLink=>true}, @embedded=true>"
      ]
     },
     "metadata": {},
     "output_type": "display_data"
    },
    {
     "data": {
      "text/html": [
       "\n",
       "  <script>\n",
       "  requirejs.config({paths: { 'plotly': ['https://cdn.plot.ly/plotly-latest.min'] }})\n",
       "  </script>\n",
       "\n",
       "\n",
       "<div id=\"f52d21df-459d-43ce-8ee5-6d7fc4f8db1b\" style=\"height: 100%; width: 100%;\"></div>\n",
       "\n",
       "<script>\n",
       " require(['plotly'], function(Plotly) { \n",
       "Plotly.newPlot(\n",
       "  'f52d21df-459d-43ce-8ee5-6d7fc4f8db1b',\n",
       "  [{\"x\":[1.0,1.0717734625362931,1.1486983549970349,1.231144413344916,1.319507910772894,1.4142135623730947,1.5157165665103978,1.6245047927124707,1.7411011265922478,1.8660659830736144,1.9999999999999996,2.143546925072586,2.2973967099940693,2.4622888266898317,2.6390158215457875,2.828427124746189,3.0314331330207946,3.2490095854249406,3.4822022531844947,3.7321319661472274,3.9999999999999973,4.28709385014517,4.594793419988137,4.924577653379662,5.278031643091573,5.656854249492376,6.0628662660415875,6.4980191708498785,6.964404506368987,7.464263932294452,7.999999999999992,8.574187700290336,9.18958683997627,9.84915530675932,10.556063286183143,11.313708498984749,12.125732532083171,12.996038341699753,13.92880901273797,14.9285278645889,15.99999999999998,17.14837540058067,18.379173679952537,19.698310613518636,21.112126572366282,22.627416997969494,24.25146506416634,25.992076683399503,27.857618025475936,29.857055729177798,31.999999999999957,34.29675080116134,36.75834735990507,39.39662122703727,42.224253144732565,45.25483399593899,48.50293012833268,51.984153366799006,55.71523605095187,59.714111458355596,63.999999999999915,68.59350160232268,73.51669471981015,78.79324245407454,84.44850628946513,90.50966799187798,97.00586025666536,103.96830673359801,111.43047210190375,119.42822291671119,127.99999999999983,137.18700320464535,147.0333894396203,157.5864849081491,168.89701257893026,181.01933598375595,194.01172051333072,207.93661346719603,222.8609442038075,238.85644583342238,255.99999999999966,274.3740064092907,294.0667788792406,315.1729698162982,337.7940251578605,362.0386719675119,388.02344102666143,415.87322693439205,445.721888407615,477.71289166684477,511.9999999999993,548.7480128185814,588.1335577584812,630.3459396325964,675.588050315721,724.0773439350238,776.0468820533229,831.7464538687841,891.44377681523,955.4257833336895,1023.9999999999986,1097.4960256371628,1176.2671155169623,1260.6918792651927,1351.176100631442,1448.1546878700476,1552.0937641066457,1663.4929077375682,1782.88755363046,1910.851566667379,2047.9999999999973,2194.9920512743256,2352.5342310339247,2521.3837585303854,2702.352201262884,2896.309375740095,3104.1875282132914,3326.9858154751364,3565.77510726092,3821.703133334758,4095.9999999999945,4389.984102548651,4705.068462067849,5042.767517060771,5404.704402525768,5792.61875148019,6208.375056426583,6653.971630950273,7131.55021452184,7643.406266669516,8191.999999999989,8779.968205097302,9410.136924135699,10085.535034121542,10809.408805051537,11585.23750296038,12416.750112853166,13307.943261900546,14263.10042904368,15286.812533339033,16383.999999999978,17559.936410194605,18820.273848271398,20171.070068243083,21618.817610103073,23170.47500592076,24833.50022570633,26615.88652380109,28526.20085808736,30573.625066678065,32767.999999999956,35119.87282038921,37640.547696542795,40342.14013648617,43237.635220206146,46340.95001184152,49667.00045141266,53231.77304760218,57052.40171617472,61147.25013335613,65535.99999999991,70239.74564077842,75281.09539308559,80684.28027297233,86475.27044041229,92681.90002368305,99334.00090282533,106463.54609520436,114104.80343234944,122294.50026671226,131071.99999999983,140479.49128155684,150562.19078617118,161368.56054594467,172950.54088082458,185363.8000473661,198668.00180565065,212927.09219040873,228209.60686469887,244589.00053342452,262143.99999999965,280958.9825631137,301124.38157234236,322737.12109188933,345901.08176164917,370727.6000947322,397336.0036113013,425854.18438081746,456419.21372939774,489178.00106684904,524287.9999999993,561917.9651262274,602248.7631446847,645474.2421837787,691802.1635232983,741455.2001894644,794672.0072226026,851708.3687616349,912838.4274587955,978356.0021336981,1048575.9999999986,1123835.9302524547,1204497.5262893694,1290948.4843675573,1383604.3270465967,1482910.4003789288,1589344.0144452052,1703416.7375232698,1825676.854917591,1956712.0042673962,2097151.9999999972,2247671.8605049094,2408995.052578739,2581896.9687351147,2767208.6540931934,2965820.8007578575,3178688.0288904104,3406833.4750465397,3651353.709835182,3913424.0085347923,4194303.9999999944,4495343.721009819,4817990.105157478,5163793.937470229,5534417.308186387,5931641.601515715,6357376.057780821,6813666.950093079,7302707.419670364,7826848.017069585,8388607.999999989,8990687.442019638,9635980.210314956,10327587.874940459,11068834.616372773,11863283.20303143,12714752.115561642,13627333.900186159,14605414.839340728,15653696.03413917,16777215.999999978,17981374.884039275,19271960.42062991,20655175.749880917,22137669.232745547,23726566.40606286,25429504.231123284,27254667.800372317,29210829.678681456,31307392.06827834,33554431.999999955,35962749.76807855,38543920.84125982,41310351.499761835,44275338.46549109,47453132.81212572,50859008.46224657,54509335.600744635,58421659.35736291,62614784.13655668,67108863.99999991,71925499.5361571,77087841.68251964,82620702.99952367,88550676.93098219,94906265.62425144,100000000.0],\"y\":[-180.0006574491133,-180.0007046365126,-180.00075521071494,-180.0008094148029,-180.00086750930592,-180.00092977345258,-180.00099650651265,-180.00106802923548,-180.00114468539178,-180.00122684342583,-180.00131489822647,-180.00140927302502,-180.00151042142966,-180.0016188296055,-180.00173501861144,-180.00185954690468,-180.00199301302467,-180.00213605847023,-180.00228937078265,-180.00245368685057,-180.00262979645157,-180.00281854604836,-180.0030208428572,-180.0032376592084,-180.00347003721976,-180.00371909380547,-180.00398602604454,-180.00427211693452,-180.00457874155802,-180.00490737369213,-180.0052595928921,-180.00563709208313,-180.0060416856977,-180.0064753183962,-180.0069400744142,-180.00743818757974,-180.00797205205072,-180.00854423382177,-180.00915748305783,-180.00981474731265,-180.01051918569596,-180.01127418405767,-180.0120833712617,-180.01295063662783,-180.01388014862567,-180.01487637491,-180.01594410379423,-180.0170884672653,-180.01831496565,-180.01962949405197,-180.0210383706861,-180.0225483672464,-180.02416674145357,-180.02590127193858,-180.02776029562983,-180.02975274782366,-180.0318882051307,-180.03417693150476,-180.03662992757472,-180.0392589835176,-180.04207673572577,-180.0450967275412,-180.0483334743487,-180.0518025333405,-180.05552057828754,-180.05950547967672,-180.06377639059934,-180.0683538388026,-180.0732598253473,-180.0785179303445,-180.08415342627993,-180.09019339946963,-180.0966668802301,-180.10360498238785,-180.11104105279804,-180.119010831589,-180.1275526239023,-180.1367074839508,-180.14651941227817,-180.15703556716414,-180.16830649118864,-180.1803863540395,-180.19333321272495,-180.2072092904354,-180.22208127538698,-180.23802064107247,-180.25510398944743,-180.27341341868564,-180.2930369172526,-180.31406878616872,-180.33661009146348,-180.3607691489603,-180.38666204368002,-180.41441318630666,-180.44415590932505,-180.4760331056168,-180.5101979124852,-180.54681444427652,-180.58605857697032,-180.62811878832713,-180.67319705740653,-180.72150982750225,-180.7732890367815,-180.8287832211632,-180.88825869421913,-180.95200080913472,-181.02031530801298,-181.09352976404534,-181.17199512229845,-181.25608734506775,-181.34620916791624,-181.44279197263887,-181.54629778344895,-181.65722139265665,-181.77609262196887,-181.90347872525948,-182.03998693819182,-182.18626717937764,-182.34301490676373,-182.51097413157882,-182.6909405903534,-182.88376507313956,-183.090356902967,-183.31168755761868,-183.5487944197987,-183.8027846354627,-184.0748390522201,-184.3662161999623,-184.67825626385437,-185.01238498510745,-185.37011740702857,-185.7530613621693,-186.1629205703555,-186.60149718633497,-187.07069359907905,-187.5725132418121,-188.10906012212925,-188.68253672483354,-189.29523987649404,-189.94955409090244,-190.64794184016566,-191.39293011992228,-192.1870926035979,-193.0330266163767,-193.93332411408556,-194.89053583814342,-195.90712785149628,-196.98542976216524,-198.12757413409037,-199.3354268946573,-200.6105089991618,-201.95391022391357,-203.3661967398202,-204.84731505603207,-206.39649597935048,-208.01216333396133,-209.69185321052632,-211.43215030669828,-213.22864829765928,-215.07594094691152,-216.96764967979038,-218.8964915194995,-220.8543886742554,-222.83261785966945,-224.82199398424592,-226.81307956458366,-228.7964086460259,-230.762712491774,-232.703134117524,-234.60941992058162,-236.4740789881933,-238.29050379655092,-240.05304946256896,-241.75707202186544,-243.39892900296226,-244.97594761314937,-246.48636706093782,-247.92926196010887,-249.3044535288512,-250.61241459775562,-251.8541734614575,-253.03122051674353,-254.1454205533571,-255.19893258907035,-256.19413831612326,-257.1335795696331,-258.0199047362726,-258.855823676338,-259.6440705106404,-260.38737350004214,-261.08843119582974,-261.74989404237317,-262.37435065228715,-262.9643180349353,-263.52223513136494,-264.05045908528683,-264.5512637555101,-265.0268400471083,-265.4792977046643,-265.91066827032864,-266.3229089618882,-266.7179072717777,-267.09748612744465,-267.4634094872963,-267.81738827530097,-268.1610865818549,-268.4961280794266,-268.82410261936246,-269.1465729916408,-269.4650818428079,-269.78115875925005,-270.096327533757,-270.4121136433296,-270.7300519756644,-271.0516948509087,-271.3786203942579,-271.71244132380855,-272.0548142266986,-272.4074494047496,-272.77212137814973,-273.1506801415342,-273.5450632701924,-273.95730897381594,-274.38957018964845,-274.8441297943731,-275.323416992948,-275.8300249119517,-276.36672938579414,-276.9365088812913,-277.5425654719004,-278.1883467727297,-278.87756882839756,-279.61424018994535,-280.4026879598731,-281.2475876401013,-282.15400050920437,-283.12742544414397,-284.1738772014554,-285.30001090927306,-286.51332356555133,-287.8224778721301,-289.2378105316421,-290.7721018578099,-292.4416860954972,-294.2679532086258,-296.2792039055377,-298.512637602667,-301.0159659372226,-303.84781025447126,-307.0758445038829,-310.77189010634845,-315.0041092401898,-319.82793298454516,-325.2786226283545,28.6316862515843,21.91143528192332,14.583353878392543,6.678289777595977,-1.7667625894102434,-10.704045218706693,-20.064348233700883,-29.744188294720594,-39.59773727170929,-49.44082036779481,-59.07000872268909,-68.29170970670312,-74.88084666676053],\"name\":\"V(out1)\"}],\n",
       "  {\"title\":\"phase of V(out1)\",\"yaxis\":{\"title\":\"V(out1)[deg]\",\"linewidth\":1,\"mirror\":true},\"xaxis\":{\"title\":\"frequency\",\"linewidth\":1,\"mirror\":true,\"type\":\"log\"}},\n",
       "  {\"linkText\":\"Export to plot.ly\",\"showLink\":true}\n",
       ")\n",
       "\n",
       "window.addEventListener('resize', function() {\n",
       "  Plotly.Plots.resize(document.getElementById('f52d21df-459d-43ce-8ee5-6d7fc4f8db1b'))\n",
       "})\n",
       " }) \n",
       "</script>"
      ],
      "text/plain": [
       "#<Plotly::Offline::HTML:0x00000000042ac840 @id=\"f52d21df-459d-43ce-8ee5-6d7fc4f8db1b\", @data=[{:x=>[1.0, 1.0717734625362931, 1.1486983549970349, 1.231144413344916, 1.319507910772894, 1.4142135623730947, 1.5157165665103978, 1.6245047927124707, 1.7411011265922478, 1.8660659830736144, 1.9999999999999996, 2.143546925072586, 2.2973967099940693, 2.4622888266898317, 2.6390158215457875, 2.828427124746189, 3.0314331330207946, 3.2490095854249406, 3.4822022531844947, 3.7321319661472274, 3.9999999999999973, 4.28709385014517, 4.594793419988137, 4.924577653379662, 5.278031643091573, 5.656854249492376, 6.0628662660415875, 6.4980191708498785, 6.964404506368987, 7.464263932294452, 7.999999999999992, 8.574187700290336, 9.18958683997627, 9.84915530675932, 10.556063286183143, 11.313708498984749, 12.125732532083171, 12.996038341699753, 13.92880901273797, 14.9285278645889, 15.99999999999998, 17.14837540058067, 18.379173679952537, 19.698310613518636, 21.112126572366282, 22.627416997969494, 24.25146506416634, 25.992076683399503, 27.857618025475936, 29.857055729177798, 31.999999999999957, 34.29675080116134, 36.75834735990507, 39.39662122703727, 42.224253144732565, 45.25483399593899, 48.50293012833268, 51.984153366799006, 55.71523605095187, 59.714111458355596, 63.999999999999915, 68.59350160232268, 73.51669471981015, 78.79324245407454, 84.44850628946513, 90.50966799187798, 97.00586025666536, 103.96830673359801, 111.43047210190375, 119.42822291671119, 127.99999999999983, 137.18700320464535, 147.0333894396203, 157.5864849081491, 168.89701257893026, 181.01933598375595, 194.01172051333072, 207.93661346719603, 222.8609442038075, 238.85644583342238, 255.99999999999966, 274.3740064092907, 294.0667788792406, 315.1729698162982, 337.7940251578605, 362.0386719675119, 388.02344102666143, 415.87322693439205, 445.721888407615, 477.71289166684477, 511.9999999999993, 548.7480128185814, 588.1335577584812, 630.3459396325964, 675.588050315721, 724.0773439350238, 776.0468820533229, 831.7464538687841, 891.44377681523, 955.4257833336895, 1023.9999999999986, 1097.4960256371628, 1176.2671155169623, 1260.6918792651927, 1351.176100631442, 1448.1546878700476, 1552.0937641066457, 1663.4929077375682, 1782.88755363046, 1910.851566667379, 2047.9999999999973, 2194.9920512743256, 2352.5342310339247, 2521.3837585303854, 2702.352201262884, 2896.309375740095, 3104.1875282132914, 3326.9858154751364, 3565.77510726092, 3821.703133334758, 4095.9999999999945, 4389.984102548651, 4705.068462067849, 5042.767517060771, 5404.704402525768, 5792.61875148019, 6208.375056426583, 6653.971630950273, 7131.55021452184, 7643.406266669516, 8191.999999999989, 8779.968205097302, 9410.136924135699, 10085.535034121542, 10809.408805051537, 11585.23750296038, 12416.750112853166, 13307.943261900546, 14263.10042904368, 15286.812533339033, 16383.999999999978, 17559.936410194605, 18820.273848271398, 20171.070068243083, 21618.817610103073, 23170.47500592076, 24833.50022570633, 26615.88652380109, 28526.20085808736, 30573.625066678065, 32767.999999999956, 35119.87282038921, 37640.547696542795, 40342.14013648617, 43237.635220206146, 46340.95001184152, 49667.00045141266, 53231.77304760218, 57052.40171617472, 61147.25013335613, 65535.99999999991, 70239.74564077842, 75281.09539308559, 80684.28027297233, 86475.27044041229, 92681.90002368305, 99334.00090282533, 106463.54609520436, 114104.80343234944, 122294.50026671226, 131071.99999999983, 140479.49128155684, 150562.19078617118, 161368.56054594467, 172950.54088082458, 185363.8000473661, 198668.00180565065, 212927.09219040873, 228209.60686469887, 244589.00053342452, 262143.99999999965, 280958.9825631137, 301124.38157234236, 322737.12109188933, 345901.08176164917, 370727.6000947322, 397336.0036113013, 425854.18438081746, 456419.21372939774, 489178.00106684904, 524287.9999999993, 561917.9651262274, 602248.7631446847, 645474.2421837787, 691802.1635232983, 741455.2001894644, 794672.0072226026, 851708.3687616349, 912838.4274587955, 978356.0021336981, 1048575.9999999986, 1123835.9302524547, 1204497.5262893694, 1290948.4843675573, 1383604.3270465967, 1482910.4003789288, 1589344.0144452052, 1703416.7375232698, 1825676.854917591, 1956712.0042673962, 2097151.9999999972, 2247671.8605049094, 2408995.052578739, 2581896.9687351147, 2767208.6540931934, 2965820.8007578575, 3178688.0288904104, 3406833.4750465397, 3651353.709835182, 3913424.0085347923, 4194303.9999999944, 4495343.721009819, 4817990.105157478, 5163793.937470229, 5534417.308186387, 5931641.601515715, 6357376.057780821, 6813666.950093079, 7302707.419670364, 7826848.017069585, 8388607.999999989, 8990687.442019638, 9635980.210314956, 10327587.874940459, 11068834.616372773, 11863283.20303143, 12714752.115561642, 13627333.900186159, 14605414.839340728, 15653696.03413917, 16777215.999999978, 17981374.884039275, 19271960.42062991, 20655175.749880917, 22137669.232745547, 23726566.40606286, 25429504.231123284, 27254667.800372317, 29210829.678681456, 31307392.06827834, 33554431.999999955, 35962749.76807855, 38543920.84125982, 41310351.499761835, 44275338.46549109, 47453132.81212572, 50859008.46224657, 54509335.600744635, 58421659.35736291, 62614784.13655668, 67108863.99999991, 71925499.5361571, 77087841.68251964, 82620702.99952367, 88550676.93098219, 94906265.62425144, 100000000.0], :y=>[-180.0006574491133, -180.0007046365126, -180.00075521071494, -180.0008094148029, -180.00086750930592, -180.00092977345258, -180.00099650651265, -180.00106802923548, -180.00114468539178, -180.00122684342583, -180.00131489822647, -180.00140927302502, -180.00151042142966, -180.0016188296055, -180.00173501861144, -180.00185954690468, -180.00199301302467, -180.00213605847023, -180.00228937078265, -180.00245368685057, -180.00262979645157, -180.00281854604836, -180.0030208428572, -180.0032376592084, -180.00347003721976, -180.00371909380547, -180.00398602604454, -180.00427211693452, -180.00457874155802, -180.00490737369213, -180.0052595928921, -180.00563709208313, -180.0060416856977, -180.0064753183962, -180.0069400744142, -180.00743818757974, -180.00797205205072, -180.00854423382177, -180.00915748305783, -180.00981474731265, -180.01051918569596, -180.01127418405767, -180.0120833712617, -180.01295063662783, -180.01388014862567, -180.01487637491, -180.01594410379423, -180.0170884672653, -180.01831496565, -180.01962949405197, -180.0210383706861, -180.0225483672464, -180.02416674145357, -180.02590127193858, -180.02776029562983, -180.02975274782366, -180.0318882051307, -180.03417693150476, -180.03662992757472, -180.0392589835176, -180.04207673572577, -180.0450967275412, -180.0483334743487, -180.0518025333405, -180.05552057828754, -180.05950547967672, -180.06377639059934, -180.0683538388026, -180.0732598253473, -180.0785179303445, -180.08415342627993, -180.09019339946963, -180.0966668802301, -180.10360498238785, -180.11104105279804, -180.119010831589, -180.1275526239023, -180.1367074839508, -180.14651941227817, -180.15703556716414, -180.16830649118864, -180.1803863540395, -180.19333321272495, -180.2072092904354, -180.22208127538698, -180.23802064107247, -180.25510398944743, -180.27341341868564, -180.2930369172526, -180.31406878616872, -180.33661009146348, -180.3607691489603, -180.38666204368002, -180.41441318630666, -180.44415590932505, -180.4760331056168, -180.5101979124852, -180.54681444427652, -180.58605857697032, -180.62811878832713, -180.67319705740653, -180.72150982750225, -180.7732890367815, -180.8287832211632, -180.88825869421913, -180.95200080913472, -181.02031530801298, -181.09352976404534, -181.17199512229845, -181.25608734506775, -181.34620916791624, -181.44279197263887, -181.54629778344895, -181.65722139265665, -181.77609262196887, -181.90347872525948, -182.03998693819182, -182.18626717937764, -182.34301490676373, -182.51097413157882, -182.6909405903534, -182.88376507313956, -183.090356902967, -183.31168755761868, -183.5487944197987, -183.8027846354627, -184.0748390522201, -184.3662161999623, -184.67825626385437, -185.01238498510745, -185.37011740702857, -185.7530613621693, -186.1629205703555, -186.60149718633497, -187.07069359907905, -187.5725132418121, -188.10906012212925, -188.68253672483354, -189.29523987649404, -189.94955409090244, -190.64794184016566, -191.39293011992228, -192.1870926035979, -193.0330266163767, -193.93332411408556, -194.89053583814342, -195.90712785149628, -196.98542976216524, -198.12757413409037, -199.3354268946573, -200.6105089991618, -201.95391022391357, -203.3661967398202, -204.84731505603207, -206.39649597935048, -208.01216333396133, -209.69185321052632, -211.43215030669828, -213.22864829765928, -215.07594094691152, -216.96764967979038, -218.8964915194995, -220.8543886742554, -222.83261785966945, -224.82199398424592, -226.81307956458366, -228.7964086460259, -230.762712491774, -232.703134117524, -234.60941992058162, -236.4740789881933, -238.29050379655092, -240.05304946256896, -241.75707202186544, -243.39892900296226, -244.97594761314937, -246.48636706093782, -247.92926196010887, -249.3044535288512, -250.61241459775562, -251.8541734614575, -253.03122051674353, -254.1454205533571, -255.19893258907035, -256.19413831612326, -257.1335795696331, -258.0199047362726, -258.855823676338, -259.6440705106404, -260.38737350004214, -261.08843119582974, -261.74989404237317, -262.37435065228715, -262.9643180349353, -263.52223513136494, -264.05045908528683, -264.5512637555101, -265.0268400471083, -265.4792977046643, -265.91066827032864, -266.3229089618882, -266.7179072717777, -267.09748612744465, -267.4634094872963, -267.81738827530097, -268.1610865818549, -268.4961280794266, -268.82410261936246, -269.1465729916408, -269.4650818428079, -269.78115875925005, -270.096327533757, -270.4121136433296, -270.7300519756644, -271.0516948509087, -271.3786203942579, -271.71244132380855, -272.0548142266986, -272.4074494047496, -272.77212137814973, -273.1506801415342, -273.5450632701924, -273.95730897381594, -274.38957018964845, -274.8441297943731, -275.323416992948, -275.8300249119517, -276.36672938579414, -276.9365088812913, -277.5425654719004, -278.1883467727297, -278.87756882839756, -279.61424018994535, -280.4026879598731, -281.2475876401013, -282.15400050920437, -283.12742544414397, -284.1738772014554, -285.30001090927306, -286.51332356555133, -287.8224778721301, -289.2378105316421, -290.7721018578099, -292.4416860954972, -294.2679532086258, -296.2792039055377, -298.512637602667, -301.0159659372226, -303.84781025447126, -307.0758445038829, -310.77189010634845, -315.0041092401898, -319.82793298454516, -325.2786226283545, 28.6316862515843, 21.91143528192332, 14.583353878392543, 6.678289777595977, -1.7667625894102434, -10.704045218706693, -20.064348233700883, -29.744188294720594, -39.59773727170929, -49.44082036779481, -59.07000872268909, -68.29170970670312, -74.88084666676053], :name=>\"V(out1)\"}], @layout={:title=>\"phase of V(out1)\", :yaxis=>{:title=>\"V(out1)[deg]\", :linewidth=>1, :mirror=>true}, :xaxis=>{:title=>\"frequency\", :linewidth=>1, :mirror=>true, :type=>\"log\"}}, @config={:linkText=>\"Export to plot.ly\", :showLink=>true}, @embedded=true>"
      ]
     },
     "metadata": {},
     "output_type": "display_data"
    }
   ],
   "source": [
    "ckt.plot 'frequency','V(out1)'"
   ]
  },
  {
   "cell_type": "code",
   "execution_count": null,
   "metadata": {},
   "outputs": [],
   "source": [
    "ckt="
   ]
  },
  {
   "cell_type": "code",
   "execution_count": 48,
   "metadata": {},
   "outputs": [
    {
     "name": "stdout",
     "output_type": "stream",
     "text": [
      "cwd: ., circuit: amp2_tb.asc\n"
     ]
    },
    {
     "data": {
      "text/plain": [
       "[\"frequency\", \"V(n001)\", \"V(n003)\", \"V(nc_01)\", \"V(out1)\", \"V(vin)\", \"V(n002)\", \"I(R2)\", \"I(R1)\", \"I(V2)\", \"I(V1)\", \"I(V3)\", \"Ix(x1:VINM)\", \"Ix(x1:VINP)\", \"Ix(x1:VOUT)\", \"Ix(x1:VDD)\", \"Ix(x1:VBIAS)\", \"Ix(x1:GND)\"]"
      ]
     },
     "execution_count": 48,
     "metadata": {},
     "output_type": "execute_result"
    }
   ],
   "source": [
    "ckt.info"
   ]
  },
  {
   "cell_type": "code",
   "execution_count": 45,
   "metadata": {},
   "outputs": [
    {
     "name": "stdout",
     "output_type": "stream",
     "text": [
      "wine '/home/yuuki/.wine/drive_c/Program Files/LTC/LTspiceXVII/XVIIx86.exe' 'amp2_tb.asc'\n",
      "elements updated from amp2_tb.asc!\n"
     ]
    },
    {
     "data": {
      "text/plain": [
       "{nil=>[{:control=>\";tran 0 40u 0\", :lineno=>59}], \"V3\"=>{:value=>\"2.5\", :type=>\"voltage\", :lineno=>31}, \"X1\"=>{:value=>nil, :type=>\"Opamp3ureiauto\", :lineno=>0}, \"V1_1\"=>{:value=>\"\\\"\\\"\", :type=>\"voltage\", :lineno=>38}, \"V1_2\"=>{:value=>\"AC 1 0\", :type=>\"voltage\", :lineno=>39}, \"V2\"=>{:value=>\"2.5\", :type=>\"voltage\", :lineno=>47}, \"R1\"=>{:value=>\"100k\", :type=>\"res\", :lineno=>52}, \"R2\"=>{:value=>\"1k\", :type=>\"res\", :lineno=>57}, \"include\"=>[{:control=>\".include models/OR1_mos\", :lineno=>58}], \"ac\"=>[{:control=>\".ac oct 10 1 100Meg\", :lineno=>60}]}"
      ]
     },
     "execution_count": 45,
     "metadata": {},
     "output_type": "execute_result"
    }
   ],
   "source": [
    "ckt.open"
   ]
  },
  {
   "cell_type": "code",
   "execution_count": 92,
   "metadata": {},
   "outputs": [
    {
     "data": {
      "text/plain": [
       "257.67662113115733"
      ]
     },
     "execution_count": 92,
     "metadata": {},
     "output_type": "execute_result"
    }
   ],
   "source": [
    "x1=x.where(y,0.5)\n",
    "x2=x.where(y,4.5)\n",
    "sr=4*10e-6/(x2-x1)"
   ]
  },
  {
   "cell_type": "code",
   "execution_count": null,
   "metadata": {},
   "outputs": [],
   "source": [
    "x1=x.where(y,0.5){|x,|x>10e-6}\n",
    "x2=x.where(y,4.5){|x,|x>10e-6}\n",
    "sr=4*1e-6/(x2-x1)"
   ]
  },
  {
   "cell_type": "code",
   "execution_count": 90,
   "metadata": {},
   "outputs": [
    {
     "data": {
      "text/plain": [
       "25767662.11232077"
      ]
     },
     "execution_count": 90,
     "metadata": {},
     "output_type": "execute_result"
    }
   ],
   "source": [
    "x1=x.where(y,0.5){|x,|x>20e-6}\n",
    "x2=x.where(y,4.5){|x,|x>20e-6}\n",
    "sr=4/(x2-x1)"
   ]
  },
  {
   "cell_type": "code",
   "execution_count": 91,
   "metadata": {},
   "outputs": [
    {
     "data": {
      "text/plain": [
       "-36931982.57313589"
      ]
     },
     "execution_count": 91,
     "metadata": {},
     "output_type": "execute_result"
    }
   ],
   "source": [
    "x1=x.where(y,0.5){|x,|x>30e-6}\n",
    "x2=x.where(y,4.5){|x,|x>30e-6}\n",
    "sr=4/(x2-x1)"
   ]
  },
  {
   "cell_type": "code",
   "execution_count": 76,
   "metadata": {},
   "outputs": [
    {
     "data": {
      "text/plain": [
       "5.197664142363225e-06"
      ]
     },
     "execution_count": 76,
     "metadata": {},
     "output_type": "execute_result"
    }
   ],
   "source": [
    "x2=x.where(y,4.8)"
   ]
  },
  {
   "cell_type": "code",
   "execution_count": null,
   "metadata": {},
   "outputs": [],
   "source": []
  },
  {
   "cell_type": "code",
   "execution_count": 42,
   "metadata": {},
   "outputs": [
    {
     "ename": "NoMethodError",
     "evalue": "undefined method `>' for #<Array_with_interpolation:0x0000000001b27748>",
     "output_type": "error",
     "traceback": [
      "\u001b[31mNoMethodError\u001b[0m: undefined method `>' for #<Array_with_interpolation:0x0000000001b27748>",
      "(irb):in `block in <main>'",
      "/home/yuuki/work/2in1_OpAmp/postprocess.rb:90:in `block in where2'",
      "/home/yuuki/work/2in1_OpAmp/postprocess.rb:88:in `each'",
      "/home/yuuki/work/2in1_OpAmp/postprocess.rb:88:in `where2'",
      "/home/yuuki/work/2in1_OpAmp/postprocess.rb:75:in `where'",
      "(irb):in `<main>'"
     ]
    }
   ],
   "source": [
    "x.where(y,3.9){x>20e-06}"
   ]
  },
  {
   "cell_type": "code",
   "execution_count": 79,
   "metadata": {
    "scrolled": false
   },
   "outputs": [
    {
     "data": {
      "text/plain": [
       "[[\"time\", \"V(out1)\", \"V(n002)\"], [{:x=>[0.0, 5.0e-06, 5.000002200021984e-06, 5.0000066000659515e-06, 5.000068200681495e-06, 5.000138601384974e-06, 5.000279402791932e-06, 5.0003393884349035e-06, 5.0004008395271406e-06, 5.000440092426985e-06, 5.000486830111231e-06, 5.000566904756498e-06, 5.000604312442876e-06, 5.000643780735637e-06, 5.000710432998978e-06, 5.000778024558629e-06, 5.0008648168806975e-06, 5.001e-06, 5.001002125277782e-06, 5.001006375833345e-06, 5.00106588361123e-06, 5.001133892500242e-06, 5.001269910278266e-06, 5.001472738575058e-06, 5.001683165200966e-06, 5.001916810107861e-06, 5.002205157180952e-06, 5.002512882971896e-06, 5.002801234347327e-06, 5.003124015932547e-06, 5.003477472009029e-06, 5.003892597328879e-06, 5.004358430113677e-06, 5.004960707617718e-06, 5.005784319706712e-06, 5.007042397976157e-06, 5.008734257533207e-06, 5.01112642673023e-06, 5.0143262822134e-06, 5.018317123186879e-06, 5.023072322856169e-06, 5.028215086118598e-06, 5.036013828867274e-06, 5.043466621307671e-06, 5.0502214486521716e-06, 5.055917549476374e-06, 5.0610094389187725e-06, 5.063345183957876e-06, 5.065948805300949e-06, 5.068537635433622e-06, 5.072067497933541e-06, 5.0752744936303315e-06, 5.0785769220981016e-06, 5.082374166681189e-06, 5.08603630443569e-06, 5.09336057994469e-06, 5.101124829234941e-06, 5.10962305033112e-06, 5.118124039600313e-06, 5.12775953774767e-06, 5.133098375916954e-06, 5.1396457656930514e-06, 5.145546878151935e-06, 5.152295156689687e-06, 5.16172507125507e-06, 5.174652850714826e-06, 5.179220844115955e-06, 5.185025554329247e-06, 5.189036397316691e-06, 5.193080082218406e-06, 5.198330573799524e-06, 5.204198059150659e-06, 5.210813537372901e-06, 5.2164429857319865e-06, 5.219744759087651e-06, 5.223462336130964e-06, 5.227214296268958e-06, 5.230655602750242e-06, 5.235271988406482e-06, 5.24125302016544e-06, 5.248406595129198e-06, 5.257454844278327e-06, 5.270057714340761e-06, 5.290296669178901e-06, 5.3112045162771745e-06, 5.3473940403800326e-06, 5.386456540380033e-06, 5.464581540380033e-06, 5.7184877903800335e-06, 5.972394040380034e-06, 1.5e-05, 1.5001000000000001e-05, 1.5001006234129072e-05, 1.5001018702387216e-05, 1.5001043638903503e-05, 1.5001093511936077e-05, 1.5001193258001225e-05, 1.5001370052741335e-05, 1.5001497097481505e-05, 1.500159924100014e-05, 1.500171061174021e-05, 1.5001834275455371e-05, 1.5001919848626475e-05, 1.5001949080718085e-05, 1.5002e-05, 1.5002005091928191e-05, 1.5002015275784575e-05, 1.5002035643497343e-05, 1.5002076378922877e-05, 1.5002157849773947e-05, 1.500229072333227e-05, 1.5002423539735996e-05, 1.5002594890521897e-05, 1.5002779872196996e-05, 1.5003036772711133e-05, 1.5003346313027067e-05, 1.5003805779757016e-05, 1.5004299055881152e-05, 1.500476629315511e-05, 1.5005291347967647e-05, 1.5006035012113114e-05, 1.5007522340404049e-05, 1.5009085847200045e-05, 1.5009964190281952e-05, 1.5010680684620696e-05, 1.5011482137541392e-05, 1.5012186035854518e-05, 1.5013035403086309e-05, 1.5013944010969396e-05, 1.5014485366799714e-05, 1.5014870678839813e-05, 1.5015370552536713e-05, 1.5015903628119184e-05, 1.5016556350036917e-05, 1.5017242164002693e-05, 1.5018123930352137e-05, 1.5019099832166796e-05, 1.502034049775808e-05, 1.502176039974458e-05, 1.5023611911702974e-05, 1.502591326181488e-05, 1.5028728757486964e-05, 1.5030658724566767e-05, 1.5032910912366523e-05, 1.503544642894187e-05, 1.5037239335361886e-05, 1.5039138039041002e-05, 1.504110408644017e-05, 1.5043608559538355e-05, 1.5047115294096712e-05, 1.5052555651283178e-05, 1.5058406288550321e-05, 1.506176675739049e-05, 1.5064600790245968e-05, 1.5067954668050284e-05, 1.5069512704674491e-05, 1.507077105754801e-05, 1.5071970747735448e-05, 1.5073174890224245e-05, 1.5074557019601029e-05, 1.5075581263835613e-05, 1.5076446489803376e-05, 1.5077438957194637e-05, 1.5078371488768004e-05, 1.5079345891088187e-05, 1.508044527132267e-05, 1.508157086184194e-05, 1.5082716090423453e-05, 1.5084003617072438e-05, 1.5085184084338236e-05, 1.5086871093451177e-05, 1.5088831028843168e-05, 1.5091562590258115e-05, 1.5094255123280388e-05, 1.5097816967366749e-05, 1.5104012688257473e-05, 1.5110267990873419e-05, 1.5118029756239293e-05, 1.5128551705599745e-05, 1.5139632198611709e-05, 1.5149039059642592e-05, 1.5160161291224534e-05, 1.5167980857063203e-05, 1.5174982257862108e-05, 1.5182723503230408e-05, 1.5191013342214843e-05, 1.5199996192717205e-05, 1.521076339010484e-05, 1.522231876339628e-05, 1.5238700128480994e-05, 1.5254012343758263e-05, 1.5279542150776974e-05, 1.5342353493098064e-05, 2.4999000000000002e-05, 2.5e-05, 2.5000002200021985e-05, 2.5000006600065954e-05, 2.5000068200681496e-05, 2.5000138601384975e-05, 2.5000279402791933e-05, 2.5000339388434868e-05, 2.5000400839527075e-05, 2.5000440092426922e-05, 2.500048683011116e-05, 2.500056690475637e-05, 2.5000604312442763e-05, 2.5000643780735594e-05, 2.5000710432998886e-05, 2.5000778024558486e-05, 2.50008648168808e-05, 2.5001e-05, 2.500100212527778e-05, 2.5001006375833343e-05, 2.5001065883611233e-05, 2.5001133892500247e-05, 2.5001269910278274e-05, 2.5001472738575e-05, 2.500168316520095e-05, 2.5001916810107802e-05, 2.5002205157180925e-05, 2.5002512882971843e-05, 2.5002801234347298e-05, 2.500312401593248e-05, 2.5003477472008984e-05, 2.5003892597328804e-05, 2.500435843011362e-05, 2.5004960707617605e-05, 2.5005784319706572e-05, 2.50070423979759e-05, 2.500873425753293e-05, 2.501112642672975e-05, 2.5014326282212967e-05, 2.5018317123186492e-05, 2.5023072322855933e-05, 2.5028215086118144e-05, 2.5036013828866592e-05, 2.504346662130707e-05, 2.5050221448651682e-05, 2.5055917549475956e-05, 2.5061009438918976e-05, 2.5063345183958203e-05, 2.5065948805301384e-05, 2.5068537635434156e-05, 2.5072067497933915e-05, 2.5075274493630807e-05, 2.5078576922098398e-05, 2.5082374166681394e-05, 2.5086036304436034e-05, 2.5093360579945312e-05, 2.5101124829235818e-05, 2.5109623050332074e-05, 2.5118124039601272e-05, 2.5127759537749063e-05, 2.513309837591816e-05, 2.5139645765693907e-05, 2.514554687815435e-05, 2.515229515669209e-05, 2.5161725071258485e-05, 2.5174652850720675e-05, 2.5179220844120888e-05, 2.5185025554332793e-05, 2.5189036397320246e-05, 2.5193080082222697e-05, 2.5198330573803264e-05, 2.5204198059157807e-05, 2.5210813537383822e-05, 2.52164429857393e-05, 2.5219744759090838e-05, 2.522346233614308e-05, 2.5227214296287994e-05, 2.5230655602767953e-05, 2.5235271988432802e-05, 2.524125302019184e-05, 2.524840659515683e-05, 2.5257454844318218e-05, 2.52700577143886e-05, 2.5290296669148103e-05, 2.5311204516305216e-05, 2.5347394040251755e-05, 2.5386456540251754e-05, 2.546458154025175e-05, 2.571848779025174e-05, 2.597239404025173e-05, 2.792551904025165e-05, 3.500000000000001e-05, 3.5001e-05, 3.500100623412907e-05, 3.500101870238721e-05, 3.50010436389035e-05, 3.5001093511936075e-05, 3.500119325800122e-05, 3.5001370052741216e-05, 3.5001497097481395e-05, 3.5001599241000055e-05, 3.5001710611740105e-05, 3.5001834275455264e-05, 3.500191984862584e-05, 3.500194908072007e-05, 3.5002e-05, 3.500200509192799e-05, 3.5002015275783976e-05, 3.500203564349595e-05, 3.5002076378919887e-05, 3.500215784976776e-05, 3.5002290723327175e-05, 3.5002423539728444e-05, 3.500259489051513e-05, 3.50027798721865e-05, 3.5003036772700306e-05, 3.5003346313009584e-05, 3.5003805779736754e-05, 3.500429905587168e-05, 3.500476629315054e-05, 3.5005291347963944e-05, 3.500603501209562e-05, 3.500752234035898e-05, 3.500908584717463e-05, 3.5009964190263895e-05, 3.501068068459524e-05, 3.5011482137517214e-05, 3.501218603581275e-05, 3.501303540304627e-05, 3.501394401093744e-05, 3.501448536679795e-05, 3.501487067883981e-05, 3.501537055253037e-05, 3.501590362811199e-05, 3.5016556350028145e-05, 3.501724216399327e-05, 3.501812393034043e-05, 3.501909983215365e-05, 3.502034049774152e-05, 3.502176039972527e-05, 3.5023611911677687e-05, 3.502591326178167e-05, 3.502872875743483e-05, 3.5030658724485374e-05, 3.503291091225835e-05, 3.503544642882777e-05, 3.503723933522351e-05, 3.503913803891978e-05, 3.504110408614853e-05, 3.504360855926719e-05, 3.504711529360427e-05, 3.5052555650628884e-05, 3.505840628887237e-05, 3.5061766757877624e-05, 3.5064600790823675e-05, 3.5067954668550696e-05, 3.5069512705031024e-05, 3.507077105786468e-05, 3.5071970748005435e-05, 3.507317489053035e-05, 3.507455701986891e-05, 3.507558126400463e-05, 3.507644649001844e-05, 3.5077438957394735e-05, 3.507837148898203e-05, 3.507934589133645e-05, 3.5080445271561365e-05, 3.508157086212661e-05, 3.508271609062316e-05, 3.5084003617259255e-05, 3.508518408454649e-05, 3.5086871093822436e-05, 3.5088831029277884e-05, 3.509156259063828e-05, 3.5094255123889936e-05, 3.509781696809167e-05, 3.5104012689005914e-05, 3.511026799185684e-05, 3.511802975717355e-05, 3.512855170757461e-05, 3.513963219973465e-05, 3.514903906090145e-05, 3.516016129216639e-05, 3.5167980857633854e-05, 3.5174982258416097e-05, 3.518272350377419e-05, 3.519101334275327e-05, 3.519999619334084e-05, 3.5210763390788744e-05, 3.5222318764171345e-05, 3.5238700129481744e-05, 3.52540123448696e-05, 3.527954215244232e-05, 3.534235349499823e-05, 3.999079099499804e-05, 4.0e-05], :y=>[0.06722676753997803, 0.06722676753997803, 0.0673743188381195, 0.06766781210899353, 0.07151152938604355, 0.07531797885894775, 0.08159886300563812, 0.08309311419725418, 0.08326484262943268, 0.0830472931265831, 0.08278726786375046, 0.08253812789916992, 0.0826500803232193, 0.08301083743572235, 0.08364313840866089, 0.08411826193332672, 0.08450768887996674, 0.08481106162071228, 0.08470109105110168, 0.08448193222284317, 0.08154479414224625, 0.07846775650978088, 0.0730045884847641, 0.066133052110672, 0.0604289248585701, 0.05562310293316841, 0.05131872370839119, 0.048155277967453, 0.04627154767513275, 0.045090675354003906, 0.0445784255862236, 0.04471570998430252, 0.0455503836274147, 0.04740714281797409, 0.0510379821062088, 0.05871864780783653, 0.07369828969240189, 0.10566048324108124, 0.16721458733081818, 0.2665255069732666, 0.4042000472545624, 0.5668564438819885, 0.8284451961517334, 1.0909885168075562, 1.3419370651245117, 1.564504623413086, 1.7672827243804932, 1.853721261024475, 1.9344377517700195, 1.998836636543274, 2.0745162963867188, 2.142995834350586, 2.217359781265259, 2.305401563644409, 2.3893942832946777, 2.554372787475586, 2.7291970252990723, 2.9221816062927246, 3.1160542964935303, 3.3357038497924805, 3.456968307495117, 3.604487180709839, 3.7362418174743652, 3.8852670192718506, 4.089517593383789, 4.363340854644775, 4.457627296447754, 4.5739898681640625, 4.651585578918457, 4.725059986114502, 4.810451030731201, 4.889719486236572, 4.959812641143799, 5.006065845489502, 5.0220723152160645, 5.021691799163818, 5.009197235107422, 5.001280784606934, 5.001191139221191, 5.0026960372924805, 5.001320838928223, 5.000421047210693, 5.000518798828125, 5.000056743621826, 5.000004291534424, 4.9999613761901855, 4.999962329864502, 4.999979496002197, 4.999996185302734, 4.999995708465576, 4.999997615814209, 4.999997615814209, 4.9996657371521, 4.999031066894531, 4.99794864654541, 4.996843338012695, 4.999570369720459, 5.015407085418701, 5.033314228057861, 5.050765514373779, 5.070379257202148, 5.091617107391357, 5.105046272277832, 5.109310150146484, 5.1165008544921875, 5.117551803588867, 5.119634628295898, 5.123709678649902, 5.131501197814941, 5.145804405212402, 5.1661696434021, 5.182407379150391, 5.196644306182861, 5.202911853790283, 5.196081638336182, 5.166086196899414, 5.0902605056762695, 4.985044956207275, 4.874883651733398, 4.753211498260498, 4.600815296173096, 4.352305889129639, 4.145082950592041, 4.050607681274414, 3.982518434524536, 3.910470724105835, 3.8504416942596436, 3.7829554080963135, 3.7163798809051514, 3.6798696517944336, 3.655825614929199, 3.626664876937866, 3.5977320671081543, 3.565138578414917, 3.533989906311035, 3.497922420501709, 3.462064266204834, 3.420548677444458, 3.3748245239257812, 3.3116250038146973, 3.2204647064208984, 3.0907187461853027, 2.9925272464752197, 2.87382435798645, 2.7417635917663574, 2.650904655456543, 2.557443618774414, 2.462725877761841, 2.343327045440674, 2.175624132156372, 1.912960410118103, 1.6288772821426392, 1.4658443927764893, 1.328109622001648, 1.1633145809173584, 1.085345983505249, 1.0219571590423584, 0.9638843536376953, 0.9135727286338806, 0.8722816705703735, 0.858474612236023, 0.8623496294021606, 0.8806102275848389, 0.9043077230453491, 0.9277575016021729, 0.9443846344947815, 0.9476032257080078, 0.9384431838989258, 0.9200140833854675, 0.9008926749229431, 0.8744189739227295, 0.8455377221107483, 0.8064286112785339, 0.7680947184562683, 0.7184950113296509, 0.6356152892112732, 0.5559430122375488, 0.46311429142951965, 0.3476009666919708, 0.24188901484012604, 0.1740548461675644, 0.12247109413146973, 0.10119332373142242, 0.09023737162351608, 0.08257204294204712, 0.07729543000459671, 0.07370014488697052, 0.07107832282781601, 0.06946325302124023, 0.06825700402259827, 0.06772186607122421, 0.06738124042749405, 0.06723405420780182, 0.06722676753997803, 0.06722676753997803, 0.0673743188381195, 0.06766781210899353, 0.07151152938604355, 0.07531797885894775, 0.08159886300563812, 0.08309311419725418, 0.08326484262943268, 0.0830472931265831, 0.08278726786375046, 0.08253812789916992, 0.0826500803232193, 0.08301083743572235, 0.08364313840866089, 0.08411826193332672, 0.08450768887996674, 0.08481106162071228, 0.08470109105110168, 0.08448193222284317, 0.08154479414224625, 0.07846775650978088, 0.0730045884847641, 0.066133052110672, 0.0604289248585701, 0.05562310293316841, 0.05131872370839119, 0.048155277967453, 0.04627154767513275, 0.045090675354003906, 0.0445784255862236, 0.04471570998430252, 0.0455503836274147, 0.04740714281797409, 0.0510379821062088, 0.05871864780783653, 0.07369828969240189, 0.10566048324108124, 0.16721458733081818, 0.2665255069732666, 0.4042000472545624, 0.5668564438819885, 0.8284451961517334, 1.0909885168075562, 1.3419370651245117, 1.564504623413086, 1.7672827243804932, 1.853721261024475, 1.9344377517700195, 1.998836636543274, 2.0745162963867188, 2.142995834350586, 2.217359781265259, 2.305401563644409, 2.3893942832946777, 2.554372787475586, 2.7291970252990723, 2.9221816062927246, 3.1160542964935303, 3.3357038497924805, 3.456968307495117, 3.604487180709839, 3.7362418174743652, 3.8852670192718506, 4.089517593383789, 4.363340854644775, 4.457627296447754, 4.5739898681640625, 4.651585578918457, 4.725059986114502, 4.810451030731201, 4.889719486236572, 4.959812641143799, 5.006065845489502, 5.0220723152160645, 5.021691799163818, 5.009197235107422, 5.001280784606934, 5.001191139221191, 5.0026960372924805, 5.001320838928223, 5.000421047210693, 5.000518798828125, 5.000056743621826, 5.000004291534424, 4.9999613761901855, 4.999962329864502, 4.999979496002197, 4.999996185302734, 4.999995708465576, 4.999997615814209, 4.999997615814209, 4.999997615814209, 4.9996657371521, 4.999031066894531, 4.99794864654541, 4.996843338012695, 4.999570369720459, 5.015407085418701, 5.033314228057861, 5.050765514373779, 5.070379257202148, 5.091617107391357, 5.105046272277832, 5.109310150146484, 5.1165008544921875, 5.117551803588867, 5.119634628295898, 5.123709678649902, 5.131501197814941, 5.145804405212402, 5.1661696434021, 5.182407379150391, 5.196644306182861, 5.202911853790283, 5.196081638336182, 5.166086196899414, 5.0902605056762695, 4.985044956207275, 4.874883651733398, 4.753211498260498, 4.600815296173096, 4.352305889129639, 4.145082950592041, 4.050607681274414, 3.982518434524536, 3.910470724105835, 3.8504416942596436, 3.7829554080963135, 3.7163798809051514, 3.6798696517944336, 3.655825614929199, 3.626664876937866, 3.5977320671081543, 3.565138578414917, 3.533989906311035, 3.497922420501709, 3.462064266204834, 3.420548677444458, 3.3748245239257812, 3.3116250038146973, 3.2204647064208984, 3.0907187461853027, 2.9925272464752197, 2.87382435798645, 2.7417635917663574, 2.650904655456543, 2.557443618774414, 2.462725877761841, 2.343327045440674, 2.175624132156372, 1.912960410118103, 1.6288772821426392, 1.4658442735671997, 1.3281095027923584, 1.1633145809173584, 1.0853458642959595, 1.0219571590423584, 0.9638843536376953, 0.9135727286338806, 0.8722816705703735, 0.858474612236023, 0.8623496294021606, 0.8806102275848389, 0.9043077230453491, 0.9277575016021729, 0.9443846344947815, 0.9476032257080078, 0.9384431838989258, 0.9200140833854675, 0.9008926749229431, 0.8744189739227295, 0.8455377221107483, 0.8064286112785339, 0.7680947184562683, 0.7184950113296509, 0.6356152892112732, 0.5559430122375488, 0.46311429142951965, 0.34760093688964844, 0.24188901484012604, 0.1740548461675644, 0.12247109413146973, 0.10119332373142242, 0.09023736417293549, 0.08257203549146652, 0.07729543000459671, 0.07370014488697052, 0.07107832282781601, 0.06946325302124023, 0.06825700402259827, 0.06772186607122421, 0.06738124042749405, 0.06723405420780182, 0.06722676753997803, 0.06722676753997803], :name=>\"V(out1)\"}, {:x=>[0.0, 5.0e-06, 5.000002200021984e-06, 5.0000066000659515e-06, 5.000068200681495e-06, 5.000138601384974e-06, 5.000279402791932e-06, 5.0003393884349035e-06, 5.0004008395271406e-06, 5.000440092426985e-06, 5.000486830111231e-06, 5.000566904756498e-06, 5.000604312442876e-06, 5.000643780735637e-06, 5.000710432998978e-06, 5.000778024558629e-06, 5.0008648168806975e-06, 5.001e-06, 5.001002125277782e-06, 5.001006375833345e-06, 5.00106588361123e-06, 5.001133892500242e-06, 5.001269910278266e-06, 5.001472738575058e-06, 5.001683165200966e-06, 5.001916810107861e-06, 5.002205157180952e-06, 5.002512882971896e-06, 5.002801234347327e-06, 5.003124015932547e-06, 5.003477472009029e-06, 5.003892597328879e-06, 5.004358430113677e-06, 5.004960707617718e-06, 5.005784319706712e-06, 5.007042397976157e-06, 5.008734257533207e-06, 5.01112642673023e-06, 5.0143262822134e-06, 5.018317123186879e-06, 5.023072322856169e-06, 5.028215086118598e-06, 5.036013828867274e-06, 5.043466621307671e-06, 5.0502214486521716e-06, 5.055917549476374e-06, 5.0610094389187725e-06, 5.063345183957876e-06, 5.065948805300949e-06, 5.068537635433622e-06, 5.072067497933541e-06, 5.0752744936303315e-06, 5.0785769220981016e-06, 5.082374166681189e-06, 5.08603630443569e-06, 5.09336057994469e-06, 5.101124829234941e-06, 5.10962305033112e-06, 5.118124039600313e-06, 5.12775953774767e-06, 5.133098375916954e-06, 5.1396457656930514e-06, 5.145546878151935e-06, 5.152295156689687e-06, 5.16172507125507e-06, 5.174652850714826e-06, 5.179220844115955e-06, 5.185025554329247e-06, 5.189036397316691e-06, 5.193080082218406e-06, 5.198330573799524e-06, 5.204198059150659e-06, 5.210813537372901e-06, 5.2164429857319865e-06, 5.219744759087651e-06, 5.223462336130964e-06, 5.227214296268958e-06, 5.230655602750242e-06, 5.235271988406482e-06, 5.24125302016544e-06, 5.248406595129198e-06, 5.257454844278327e-06, 5.270057714340761e-06, 5.290296669178901e-06, 5.3112045162771745e-06, 5.3473940403800326e-06, 5.386456540380033e-06, 5.464581540380033e-06, 5.7184877903800335e-06, 5.972394040380034e-06, 1.5e-05, 1.5001000000000001e-05, 1.5001006234129072e-05, 1.5001018702387216e-05, 1.5001043638903503e-05, 1.5001093511936077e-05, 1.5001193258001225e-05, 1.5001370052741335e-05, 1.5001497097481505e-05, 1.500159924100014e-05, 1.500171061174021e-05, 1.5001834275455371e-05, 1.5001919848626475e-05, 1.5001949080718085e-05, 1.5002e-05, 1.5002005091928191e-05, 1.5002015275784575e-05, 1.5002035643497343e-05, 1.5002076378922877e-05, 1.5002157849773947e-05, 1.500229072333227e-05, 1.5002423539735996e-05, 1.5002594890521897e-05, 1.5002779872196996e-05, 1.5003036772711133e-05, 1.5003346313027067e-05, 1.5003805779757016e-05, 1.5004299055881152e-05, 1.500476629315511e-05, 1.5005291347967647e-05, 1.5006035012113114e-05, 1.5007522340404049e-05, 1.5009085847200045e-05, 1.5009964190281952e-05, 1.5010680684620696e-05, 1.5011482137541392e-05, 1.5012186035854518e-05, 1.5013035403086309e-05, 1.5013944010969396e-05, 1.5014485366799714e-05, 1.5014870678839813e-05, 1.5015370552536713e-05, 1.5015903628119184e-05, 1.5016556350036917e-05, 1.5017242164002693e-05, 1.5018123930352137e-05, 1.5019099832166796e-05, 1.502034049775808e-05, 1.502176039974458e-05, 1.5023611911702974e-05, 1.502591326181488e-05, 1.5028728757486964e-05, 1.5030658724566767e-05, 1.5032910912366523e-05, 1.503544642894187e-05, 1.5037239335361886e-05, 1.5039138039041002e-05, 1.504110408644017e-05, 1.5043608559538355e-05, 1.5047115294096712e-05, 1.5052555651283178e-05, 1.5058406288550321e-05, 1.506176675739049e-05, 1.5064600790245968e-05, 1.5067954668050284e-05, 1.5069512704674491e-05, 1.507077105754801e-05, 1.5071970747735448e-05, 1.5073174890224245e-05, 1.5074557019601029e-05, 1.5075581263835613e-05, 1.5076446489803376e-05, 1.5077438957194637e-05, 1.5078371488768004e-05, 1.5079345891088187e-05, 1.508044527132267e-05, 1.508157086184194e-05, 1.5082716090423453e-05, 1.5084003617072438e-05, 1.5085184084338236e-05, 1.5086871093451177e-05, 1.5088831028843168e-05, 1.5091562590258115e-05, 1.5094255123280388e-05, 1.5097816967366749e-05, 1.5104012688257473e-05, 1.5110267990873419e-05, 1.5118029756239293e-05, 1.5128551705599745e-05, 1.5139632198611709e-05, 1.5149039059642592e-05, 1.5160161291224534e-05, 1.5167980857063203e-05, 1.5174982257862108e-05, 1.5182723503230408e-05, 1.5191013342214843e-05, 1.5199996192717205e-05, 1.521076339010484e-05, 1.522231876339628e-05, 1.5238700128480994e-05, 1.5254012343758263e-05, 1.5279542150776974e-05, 1.5342353493098064e-05, 2.4999000000000002e-05, 2.5e-05, 2.5000002200021985e-05, 2.5000006600065954e-05, 2.5000068200681496e-05, 2.5000138601384975e-05, 2.5000279402791933e-05, 2.5000339388434868e-05, 2.5000400839527075e-05, 2.5000440092426922e-05, 2.500048683011116e-05, 2.500056690475637e-05, 2.5000604312442763e-05, 2.5000643780735594e-05, 2.5000710432998886e-05, 2.5000778024558486e-05, 2.50008648168808e-05, 2.5001e-05, 2.500100212527778e-05, 2.5001006375833343e-05, 2.5001065883611233e-05, 2.5001133892500247e-05, 2.5001269910278274e-05, 2.5001472738575e-05, 2.500168316520095e-05, 2.5001916810107802e-05, 2.5002205157180925e-05, 2.5002512882971843e-05, 2.5002801234347298e-05, 2.500312401593248e-05, 2.5003477472008984e-05, 2.5003892597328804e-05, 2.500435843011362e-05, 2.5004960707617605e-05, 2.5005784319706572e-05, 2.50070423979759e-05, 2.500873425753293e-05, 2.501112642672975e-05, 2.5014326282212967e-05, 2.5018317123186492e-05, 2.5023072322855933e-05, 2.5028215086118144e-05, 2.5036013828866592e-05, 2.504346662130707e-05, 2.5050221448651682e-05, 2.5055917549475956e-05, 2.5061009438918976e-05, 2.5063345183958203e-05, 2.5065948805301384e-05, 2.5068537635434156e-05, 2.5072067497933915e-05, 2.5075274493630807e-05, 2.5078576922098398e-05, 2.5082374166681394e-05, 2.5086036304436034e-05, 2.5093360579945312e-05, 2.5101124829235818e-05, 2.5109623050332074e-05, 2.5118124039601272e-05, 2.5127759537749063e-05, 2.513309837591816e-05, 2.5139645765693907e-05, 2.514554687815435e-05, 2.515229515669209e-05, 2.5161725071258485e-05, 2.5174652850720675e-05, 2.5179220844120888e-05, 2.5185025554332793e-05, 2.5189036397320246e-05, 2.5193080082222697e-05, 2.5198330573803264e-05, 2.5204198059157807e-05, 2.5210813537383822e-05, 2.52164429857393e-05, 2.5219744759090838e-05, 2.522346233614308e-05, 2.5227214296287994e-05, 2.5230655602767953e-05, 2.5235271988432802e-05, 2.524125302019184e-05, 2.524840659515683e-05, 2.5257454844318218e-05, 2.52700577143886e-05, 2.5290296669148103e-05, 2.5311204516305216e-05, 2.5347394040251755e-05, 2.5386456540251754e-05, 2.546458154025175e-05, 2.571848779025174e-05, 2.597239404025173e-05, 2.792551904025165e-05, 3.500000000000001e-05, 3.5001e-05, 3.500100623412907e-05, 3.500101870238721e-05, 3.50010436389035e-05, 3.5001093511936075e-05, 3.500119325800122e-05, 3.5001370052741216e-05, 3.5001497097481395e-05, 3.5001599241000055e-05, 3.5001710611740105e-05, 3.5001834275455264e-05, 3.500191984862584e-05, 3.500194908072007e-05, 3.5002e-05, 3.500200509192799e-05, 3.5002015275783976e-05, 3.500203564349595e-05, 3.5002076378919887e-05, 3.500215784976776e-05, 3.5002290723327175e-05, 3.5002423539728444e-05, 3.500259489051513e-05, 3.50027798721865e-05, 3.5003036772700306e-05, 3.5003346313009584e-05, 3.5003805779736754e-05, 3.500429905587168e-05, 3.500476629315054e-05, 3.5005291347963944e-05, 3.500603501209562e-05, 3.500752234035898e-05, 3.500908584717463e-05, 3.5009964190263895e-05, 3.501068068459524e-05, 3.5011482137517214e-05, 3.501218603581275e-05, 3.501303540304627e-05, 3.501394401093744e-05, 3.501448536679795e-05, 3.501487067883981e-05, 3.501537055253037e-05, 3.501590362811199e-05, 3.5016556350028145e-05, 3.501724216399327e-05, 3.501812393034043e-05, 3.501909983215365e-05, 3.502034049774152e-05, 3.502176039972527e-05, 3.5023611911677687e-05, 3.502591326178167e-05, 3.502872875743483e-05, 3.5030658724485374e-05, 3.503291091225835e-05, 3.503544642882777e-05, 3.503723933522351e-05, 3.503913803891978e-05, 3.504110408614853e-05, 3.504360855926719e-05, 3.504711529360427e-05, 3.5052555650628884e-05, 3.505840628887237e-05, 3.5061766757877624e-05, 3.5064600790823675e-05, 3.5067954668550696e-05, 3.5069512705031024e-05, 3.507077105786468e-05, 3.5071970748005435e-05, 3.507317489053035e-05, 3.507455701986891e-05, 3.507558126400463e-05, 3.507644649001844e-05, 3.5077438957394735e-05, 3.507837148898203e-05, 3.507934589133645e-05, 3.5080445271561365e-05, 3.508157086212661e-05, 3.508271609062316e-05, 3.5084003617259255e-05, 3.508518408454649e-05, 3.5086871093822436e-05, 3.5088831029277884e-05, 3.509156259063828e-05, 3.5094255123889936e-05, 3.509781696809167e-05, 3.5104012689005914e-05, 3.511026799185684e-05, 3.511802975717355e-05, 3.512855170757461e-05, 3.513963219973465e-05, 3.514903906090145e-05, 3.516016129216639e-05, 3.5167980857633854e-05, 3.5174982258416097e-05, 3.518272350377419e-05, 3.519101334275327e-05, 3.519999619334084e-05, 3.5210763390788744e-05, 3.5222318764171345e-05, 3.5238700129481744e-05, 3.52540123448696e-05, 3.527954215244232e-05, 3.534235349499823e-05, 3.999079099499804e-05, 4.0e-05], :y=>[0.0, 0.0, 0.01100010983645916, 0.03300033137202263, 0.34100341796875, 0.6930069327354431, 1.3970139026641846, 1.6969422101974487, 2.004197597503662, 2.2004621028900146, 2.434150457382202, 2.8345236778259277, 3.021562099456787, 3.2189037799835205, 3.5521650314331055, 3.890122890472412, 4.324084281921387, 5.0, 5.0, 5.0, 5.0, 5.0, 5.0, 5.0, 5.0, 5.0, 5.0, 5.0, 5.0, 5.0, 5.0, 5.0, 5.0, 5.0, 5.0, 5.0, 5.0, 5.0, 5.0, 5.0, 5.0, 5.0, 5.0, 5.0, 5.0, 5.0, 5.0, 5.0, 5.0, 5.0, 5.0, 5.0, 5.0, 5.0, 5.0, 5.0, 5.0, 5.0, 5.0, 5.0, 5.0, 5.0, 5.0, 5.0, 5.0, 5.0, 5.0, 5.0, 5.0, 5.0, 5.0, 5.0, 5.0, 5.0, 5.0, 5.0, 5.0, 5.0, 5.0, 5.0, 5.0, 5.0, 5.0, 5.0, 5.0, 5.0, 5.0, 5.0, 5.0, 5.0, 5.0, 5.0, 4.968829154968262, 4.906487941741943, 4.781805515289307, 4.532440185546875, 4.03371000289917, 3.1497364044189453, 2.514512538909912, 2.0037949085235596, 1.4469412565231323, 0.8286226987838745, 0.4007568657398224, 0.25459641218185425, 0.0, 0.0, 0.0, 0.0, 0.0, 0.0, 0.0, 0.0, 0.0, 0.0, 0.0, 0.0, 0.0, 0.0, 0.0, 0.0, 0.0, 0.0, 0.0, 0.0, 0.0, 0.0, 0.0, 0.0, 0.0, 0.0, 0.0, 0.0, 0.0, 0.0, 0.0, 0.0, 0.0, 0.0, 0.0, 0.0, 0.0, 0.0, 0.0, 0.0, 0.0, 0.0, 0.0, 0.0, 0.0, 0.0, 0.0, 0.0, 0.0, 0.0, 0.0, 0.0, 0.0, 0.0, 0.0, 0.0, 0.0, 0.0, 0.0, 0.0, 0.0, 0.0, 0.0, 0.0, 0.0, 0.0, 0.0, 0.0, 0.0, 0.0, 0.0, 0.0, 0.0, 0.0, 0.0, 0.0, 0.0, 0.0, 0.0, 0.0, 0.0, 0.0, 0.0, 0.0, 0.0, 0.0, 0.0, 0.0, 0.0, 0.0, 0.0, 0.01100010983645916, 0.03300033137202263, 0.34100341796875, 0.6930069327354431, 1.3970139026641846, 1.6969422101974487, 2.004197597503662, 2.2004621028900146, 2.434150457382202, 2.8345236778259277, 3.021562099456787, 3.2189037799835205, 3.5521650314331055, 3.890122890472412, 4.324084281921387, 5.0, 5.0, 5.0, 5.0, 5.0, 5.0, 5.0, 5.0, 5.0, 5.0, 5.0, 5.0, 5.0, 5.0, 5.0, 5.0, 5.0, 5.0, 5.0, 5.0, 5.0, 5.0, 5.0, 5.0, 5.0, 5.0, 5.0, 5.0, 5.0, 5.0, 5.0, 5.0, 5.0, 5.0, 5.0, 5.0, 5.0, 5.0, 5.0, 5.0, 5.0, 5.0, 5.0, 5.0, 5.0, 5.0, 5.0, 5.0, 5.0, 5.0, 5.0, 5.0, 5.0, 5.0, 5.0, 5.0, 5.0, 5.0, 5.0, 5.0, 5.0, 5.0, 5.0, 5.0, 5.0, 5.0, 5.0, 5.0, 5.0, 5.0, 5.0, 5.0, 5.0, 5.0, 5.0, 5.0, 4.968829154968262, 4.906487941741943, 4.781805515289307, 4.532440185546875, 4.03371000289917, 3.1497364044189453, 2.514512538909912, 2.0037949085235596, 1.4469412565231323, 0.8286226987838745, 0.4007568657398224, 0.25459641218185425, 0.0, 0.0, 0.0, 0.0, 0.0, 0.0, 0.0, 0.0, 0.0, 0.0, 0.0, 0.0, 0.0, 0.0, 0.0, 0.0, 0.0, 0.0, 0.0, 0.0, 0.0, 0.0, 0.0, 0.0, 0.0, 0.0, 0.0, 0.0, 0.0, 0.0, 0.0, 0.0, 0.0, 0.0, 0.0, 0.0, 0.0, 0.0, 0.0, 0.0, 0.0, 0.0, 0.0, 0.0, 0.0, 0.0, 0.0, 0.0, 0.0, 0.0, 0.0, 0.0, 0.0, 0.0, 0.0, 0.0, 0.0, 0.0, 0.0, 0.0, 0.0, 0.0, 0.0, 0.0, 0.0, 0.0, 0.0, 0.0, 0.0, 0.0, 0.0, 0.0, 0.0, 0.0, 0.0, 0.0, 0.0, 0.0, 0.0, 0.0, 0.0, 0.0, 0.0, 0.0, 0.0, 0.0, 0.0, 0.0, 0.0, 0.0, 0.0], :name=>\"V(n002)\"}]]"
      ]
     },
     "execution_count": 79,
     "metadata": {},
     "output_type": "execute_result"
    }
   ],
   "source": [
    "r=ckt.get_traces  'time', 'V(out1)','V(n002)'"
   ]
  },
  {
   "cell_type": "code",
   "execution_count": null,
   "metadata": {},
   "outputs": [],
   "source": [
    "r=ckt.get_traces  'time', 'V(out1)','V(n002)'\n",
    "x=r[1][0][:x]\n",
    "y=r[1][0][:y]"
   ]
  },
  {
   "cell_type": "code",
   "execution_count": 36,
   "metadata": {},
   "outputs": [
    {
     "ename": "SyntaxError",
     "evalue": "(eval):1: syntax error, unexpected end-of-input, expecting ')'\ndb(V(#1/vout))\n              ^",
     "output_type": "error",
     "traceback": [
      "\u001b[31mSyntaxError\u001b[0m: (eval):1: syntax error, unexpected end-of-input, expecting ')'\ndb(V(#1/vout))\n              ^",
      "/home/yuuki/work/2in1_OpAmp/ltspctl.rb:858:in `eval'",
      "/home/yuuki/work/2in1_OpAmp/ltspctl.rb:858:in `block (3 levels) in get_traces0'",
      "/home/yuuki/work/2in1_OpAmp/ltspctl.rb:854:in `each_with_index'",
      "/home/yuuki/work/2in1_OpAmp/ltspctl.rb:854:in `block (2 levels) in get_traces0'",
      "/home/yuuki/work/2in1_OpAmp/ltspctl.rb:836:in `map'",
      "/home/yuuki/work/2in1_OpAmp/ltspctl.rb:836:in `with_index'",
      "/home/yuuki/work/2in1_OpAmp/ltspctl.rb:836:in `block in get_traces0'",
      "/home/yuuki/work/2in1_OpAmp/ltspctl.rb:835:in `times'",
      "/home/yuuki/work/2in1_OpAmp/ltspctl.rb:835:in `get_traces0'",
      "/home/yuuki/work/2in1_OpAmp/ltspctl.rb:522:in `plot0'",
      "/home/yuuki/work/2in1_OpAmp/ltspctl.rb:506:in `plot'",
      "(irb):in `<main>'"
     ]
    }
   ],
   "source": [
    "ckt.plot 'frequency', 'db(V(#1/vout))'"
   ]
  }
 ],
 "metadata": {
  "kernelspec": {
   "display_name": "Ruby 2.6.3",
   "language": "ruby",
   "name": "ruby"
  },
  "language_info": {
   "file_extension": ".rb",
   "mimetype": "application/x-ruby",
   "name": "ruby",
   "version": "2.6.3"
  }
 },
 "nbformat": 4,
 "nbformat_minor": 2
}
